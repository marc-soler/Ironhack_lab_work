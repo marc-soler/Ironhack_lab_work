{
 "cells": [
  {
   "cell_type": "code",
   "execution_count": 2,
   "id": "dd885f7a",
   "metadata": {},
   "outputs": [
    {
     "name": "stdout",
     "output_type": "stream",
     "text": [
      "Write the title of a song you like to find similar ones: eaisy no me\n",
      "Getting the data...\n",
      "Do you mean Easy On Me by Adele? Type yes/no: yes\n",
      "Nice choice! Try listening to Cigarettes by Juice WRLD\n"
     ]
    }
   ],
   "source": [
    "from fun import *\n",
    "recommender()"
   ]
  },
  {
   "cell_type": "code",
   "execution_count": null,
   "id": "513569c1",
   "metadata": {},
   "outputs": [],
   "source": [
    "# hot100 with Levenshtein > x\n",
    "# if yes in hot100 (need confirmation, if not search in spotify), bad taste random recommendation from spotify\n",
    "# if not in hot100 (confirm in spotify), nice choice\n",
    "# Check genre, if not, random recom, if it has:\n",
    "# Ask want the same genre\n",
    "# If yes, recomm based on genre, if not, random recomm."
   ]
  },
  {
   "cell_type": "code",
   "execution_count": null,
   "id": "07a1b204",
   "metadata": {},
   "outputs": [],
   "source": [
    "# Getting the genres from a song, an artist or an album\n",
    "result_ex = sp.search(\"DjRum\")\n",
    "track_ex = result_ex['tracks']['items'][0]\n",
    "artist_ex = sp.artist(track_ex[\"artists\"][0][\"external_urls\"][\"spotify\"])\n",
    "print(\"artist genres:\" + str(artist_ex[\"genres\"]))"
   ]
  }
 ],
 "metadata": {
  "kernelspec": {
   "display_name": "Python 3 (ipykernel)",
   "language": "python",
   "name": "python3"
  },
  "language_info": {
   "codemirror_mode": {
    "name": "ipython",
    "version": 3
   },
   "file_extension": ".py",
   "mimetype": "text/x-python",
   "name": "python",
   "nbconvert_exporter": "python",
   "pygments_lexer": "ipython3",
   "version": "3.9.7"
  },
  "toc": {
   "base_numbering": 1,
   "nav_menu": {},
   "number_sections": true,
   "sideBar": true,
   "skip_h1_title": false,
   "title_cell": "Table of Contents",
   "title_sidebar": "Contents",
   "toc_cell": false,
   "toc_position": {},
   "toc_section_display": true,
   "toc_window_display": false
  }
 },
 "nbformat": 4,
 "nbformat_minor": 5
}
