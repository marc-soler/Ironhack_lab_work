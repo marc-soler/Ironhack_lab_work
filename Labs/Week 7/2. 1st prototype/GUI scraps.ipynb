{
 "cells": [
  {
   "cell_type": "code",
   "execution_count": 1,
   "id": "ca738958",
   "metadata": {},
   "outputs": [],
   "source": [
    "import pandas as pd\n",
    "from fun import *\n",
    "import tkinter\n",
    "import numpy as np"
   ]
  },
  {
   "cell_type": "code",
   "execution_count": null,
   "id": "ebc33260",
   "metadata": {},
   "outputs": [],
   "source": [
    "def button_clicked():\n",
    "    df = top100()\n",
    "    best_match = ()\n",
    "\n",
    "# Creating the window\n",
    "window = tkinter.Tk()\n",
    "window.title('Song Recommender')\n",
    "window.minsize(width=500, height=300)\n",
    "window.config(padx=20, pady=20)\n",
    "\n",
    "# Creating labels\n",
    "welcome = tkinter.Label(text='Welcome to the Song Recommender!', font=('Arial', 24, 'bold'))\n",
    "welcome.pack() #or place(x, y) or grid(column, row)\n",
    "prompt1 = tkinter.Label(text='Write the title of a song you like to find similar ones: ', font=('Arial'))\n",
    "prompt1.pack() #or place(x, y) or grid(column, row)\n",
    "\n",
    "# Entry field & getting the input\n",
    "song_input = tkinter.Entry()\n",
    "song_input.pack()\n",
    "\n",
    "# Enter button\n",
    "#recommendation_label.config(text=song_input.get())\n",
    "button = tkinter.Button(text='Enter', command=button_clicked)\n",
    "button.pack()\n",
    "\n",
    "\n",
    "# Recommendation label\n",
    "recommendation_label = tkinter.Label(text='', font=('Arial'))\n",
    "recommendation_label.pack()\n",
    "\n",
    "\n",
    "# this always at the end to keep window running\n",
    "window.mainloop()"
   ]
  }
 ],
 "metadata": {
  "kernelspec": {
   "display_name": "Python 3 (ipykernel)",
   "language": "python",
   "name": "python3"
  },
  "language_info": {
   "codemirror_mode": {
    "name": "ipython",
    "version": 3
   },
   "file_extension": ".py",
   "mimetype": "text/x-python",
   "name": "python",
   "nbconvert_exporter": "python",
   "pygments_lexer": "ipython3",
   "version": "3.9.7"
  },
  "toc": {
   "base_numbering": 1,
   "nav_menu": {},
   "number_sections": true,
   "sideBar": true,
   "skip_h1_title": false,
   "title_cell": "Table of Contents",
   "title_sidebar": "Contents",
   "toc_cell": false,
   "toc_position": {},
   "toc_section_display": true,
   "toc_window_display": false
  }
 },
 "nbformat": 4,
 "nbformat_minor": 5
}
