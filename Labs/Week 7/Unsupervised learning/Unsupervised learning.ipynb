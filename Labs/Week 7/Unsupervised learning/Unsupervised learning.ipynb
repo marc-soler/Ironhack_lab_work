{
 "cells": [
  {
   "cell_type": "markdown",
   "id": "8c7ef9ec",
   "metadata": {},
   "source": [
    "# Imports"
   ]
  },
  {
   "cell_type": "code",
   "execution_count": 16,
   "id": "f590a208",
   "metadata": {},
   "outputs": [],
   "source": [
    "import spotipy\n",
    "from spotipy.oauth2 import SpotifyClientCredentials\n",
    "import getpass\n",
    "import pandas as pd\n",
    "import numpy as np\n",
    "import matplotlib.pyplot as plt\n",
    "import plotly\n",
    "import plotly.graph_objs as go\n",
    "from sklearn.cluster import KMeans\n",
    "from sklearn.preprocessing import StandardScaler\n",
    "from sklearn.metrics import silhouette_score"
   ]
  },
  {
   "cell_type": "markdown",
   "id": "20b8dfa3",
   "metadata": {},
   "source": [
    "# Putting the data together\n",
    "I am training my K-Means model on data I found on Kaggle. It contains 41106 songs with the features already extracted, but the complete dataset is divided in different files according to the decade. I chose to use this data to fit the model onto because of its variability. Btw, it appears that the dataset mentioned in the lab description (160k songs) is now private and, thus, unavailable."
   ]
  },
  {
   "cell_type": "code",
   "execution_count": 3,
   "id": "ad07a306",
   "metadata": {},
   "outputs": [],
   "source": [
    "df1 = pd.read_csv('data/00s.csv')\n",
    "df2 = pd.read_csv('data/10s.csv')\n",
    "df3 = pd.read_csv('data/60s.csv')\n",
    "df4 = pd.read_csv('data/70s.csv')\n",
    "df5 = pd.read_csv('data/80s.csv')\n",
    "df6 = pd.read_csv('data/90s.csv')"
   ]
  },
  {
   "cell_type": "code",
   "execution_count": 14,
   "id": "626d6328",
   "metadata": {},
   "outputs": [],
   "source": [
    "df = pd.concat([df1, df2, df3, df4, df5, df6], axis=0)\n",
    "df.reset_index(drop=True, inplace=True)"
   ]
  },
  {
   "cell_type": "code",
   "execution_count": 15,
   "id": "adbff897",
   "metadata": {},
   "outputs": [
    {
     "name": "stdout",
     "output_type": "stream",
     "text": [
      "<class 'pandas.core.frame.DataFrame'>\n",
      "RangeIndex: 41106 entries, 0 to 41105\n",
      "Data columns (total 19 columns):\n",
      " #   Column            Non-Null Count  Dtype  \n",
      "---  ------            --------------  -----  \n",
      " 0   track             41106 non-null  object \n",
      " 1   artist            41106 non-null  object \n",
      " 2   uri               41106 non-null  object \n",
      " 3   danceability      41106 non-null  float64\n",
      " 4   energy            41106 non-null  float64\n",
      " 5   key               41106 non-null  int64  \n",
      " 6   loudness          41106 non-null  float64\n",
      " 7   mode              41106 non-null  int64  \n",
      " 8   speechiness       41106 non-null  float64\n",
      " 9   acousticness      41106 non-null  float64\n",
      " 10  instrumentalness  41106 non-null  float64\n",
      " 11  liveness          41106 non-null  float64\n",
      " 12  valence           41106 non-null  float64\n",
      " 13  tempo             41106 non-null  float64\n",
      " 14  duration_ms       41106 non-null  int64  \n",
      " 15  time_signature    41106 non-null  int64  \n",
      " 16  chorus_hit        41106 non-null  float64\n",
      " 17  sections          41106 non-null  int64  \n",
      " 18  target            41106 non-null  int64  \n",
      "dtypes: float64(10), int64(6), object(3)\n",
      "memory usage: 6.0+ MB\n"
     ]
    }
   ],
   "source": [
    "df.info()"
   ]
  },
  {
   "cell_type": "markdown",
   "id": "055484bd",
   "metadata": {},
   "source": [
    "There are some features in this dataset that we have to drop, since they were presumably added by the author of the dataset, and are not present in the default results of Spotify's audio_features request."
   ]
  },
  {
   "cell_type": "code",
   "execution_count": 29,
   "id": "234129b8",
   "metadata": {},
   "outputs": [],
   "source": [
    "df.drop(['track', 'artist', 'chorus_hit', 'sections', 'target'], axis=1, inplace=True)"
   ]
  },
  {
   "cell_type": "code",
   "execution_count": 30,
   "id": "f88d7869",
   "metadata": {},
   "outputs": [
    {
     "name": "stdout",
     "output_type": "stream",
     "text": [
      "<class 'pandas.core.frame.DataFrame'>\n",
      "RangeIndex: 41106 entries, 0 to 41105\n",
      "Data columns (total 14 columns):\n",
      " #   Column            Non-Null Count  Dtype  \n",
      "---  ------            --------------  -----  \n",
      " 0   uri               41106 non-null  object \n",
      " 1   danceability      41106 non-null  float64\n",
      " 2   energy            41106 non-null  float64\n",
      " 3   key               41106 non-null  int64  \n",
      " 4   loudness          41106 non-null  float64\n",
      " 5   mode              41106 non-null  int64  \n",
      " 6   speechiness       41106 non-null  float64\n",
      " 7   acousticness      41106 non-null  float64\n",
      " 8   instrumentalness  41106 non-null  float64\n",
      " 9   liveness          41106 non-null  float64\n",
      " 10  valence           41106 non-null  float64\n",
      " 11  tempo             41106 non-null  float64\n",
      " 12  duration_ms       41106 non-null  int64  \n",
      " 13  time_signature    41106 non-null  int64  \n",
      "dtypes: float64(9), int64(4), object(1)\n",
      "memory usage: 4.4+ MB\n"
     ]
    }
   ],
   "source": [
    "df.info()"
   ]
  },
  {
   "cell_type": "markdown",
   "id": "7534db62",
   "metadata": {},
   "source": [
    "Finally, we'll use the URI of each song as the index of the dataframe, and drop that column. This way we'll only have numerical features and we'll be able to identify the songs later."
   ]
  },
  {
   "cell_type": "code",
   "execution_count": 31,
   "id": "fd6d7304",
   "metadata": {},
   "outputs": [],
   "source": [
    "df.index = df.iloc[:,0]\n",
    "df = df.iloc[:, 1:]\n",
    "df.index.name = None"
   ]
  },
  {
   "cell_type": "markdown",
   "id": "dbbf5498",
   "metadata": {},
   "source": [
    "# Connecting to Spotify's API"
   ]
  },
  {
   "cell_type": "code",
   "execution_count": 17,
   "id": "f00fb3cc",
   "metadata": {},
   "outputs": [
    {
     "name": "stdout",
     "output_type": "stream",
     "text": [
      "client_id?········\n",
      "client_secret?········\n"
     ]
    }
   ],
   "source": [
    "client_id = str(getpass.getpass('client_id?'))\n",
    "client_secret = str(getpass.getpass('client_secret?'))"
   ]
  },
  {
   "cell_type": "code",
   "execution_count": 18,
   "id": "8778c2b3",
   "metadata": {},
   "outputs": [],
   "source": [
    "client_credentials_manager = SpotifyClientCredentials(client_id, client_secret)\n",
    "sp = spotipy.Spotify(client_credentials_manager = client_credentials_manager)"
   ]
  },
  {
   "cell_type": "markdown",
   "id": "e3cf3f07",
   "metadata": {},
   "source": [
    "# Scaling the data"
   ]
  },
  {
   "cell_type": "code",
   "execution_count": 39,
   "id": "883bc17b",
   "metadata": {},
   "outputs": [
    {
     "data": {
      "text/plain": [
       "StandardScaler()"
      ]
     },
     "execution_count": 39,
     "metadata": {},
     "output_type": "execute_result"
    }
   ],
   "source": [
    "scaler = StandardScaler()\n",
    "scaler.fit(df)"
   ]
  },
  {
   "cell_type": "code",
   "execution_count": 43,
   "id": "50bd4867",
   "metadata": {},
   "outputs": [],
   "source": [
    "df_scaled = pd.DataFrame(scaler.transform(df), columns=list(df.columns))"
   ]
  },
  {
   "cell_type": "code",
   "execution_count": 48,
   "id": "23a0c038",
   "metadata": {},
   "outputs": [
    {
     "data": {
      "text/html": [
       "<div>\n",
       "<style scoped>\n",
       "    .dataframe tbody tr th:only-of-type {\n",
       "        vertical-align: middle;\n",
       "    }\n",
       "\n",
       "    .dataframe tbody tr th {\n",
       "        vertical-align: top;\n",
       "    }\n",
       "\n",
       "    .dataframe thead th {\n",
       "        text-align: right;\n",
       "    }\n",
       "</style>\n",
       "<table border=\"1\" class=\"dataframe\">\n",
       "  <thead>\n",
       "    <tr style=\"text-align: right;\">\n",
       "      <th></th>\n",
       "      <th>danceability</th>\n",
       "      <th>energy</th>\n",
       "      <th>key</th>\n",
       "      <th>loudness</th>\n",
       "      <th>mode</th>\n",
       "      <th>speechiness</th>\n",
       "      <th>acousticness</th>\n",
       "      <th>instrumentalness</th>\n",
       "      <th>liveness</th>\n",
       "      <th>valence</th>\n",
       "      <th>tempo</th>\n",
       "      <th>duration_ms</th>\n",
       "      <th>time_signature</th>\n",
       "    </tr>\n",
       "  </thead>\n",
       "  <tbody>\n",
       "    <tr>\n",
       "      <th>0</th>\n",
       "      <td>0.215416</td>\n",
       "      <td>-0.429668</td>\n",
       "      <td>-0.343315</td>\n",
       "      <td>0.555679</td>\n",
       "      <td>0.665030</td>\n",
       "      <td>-0.511673</td>\n",
       "      <td>0.011220</td>\n",
       "      <td>-0.508740</td>\n",
       "      <td>-0.245926</td>\n",
       "      <td>-0.039055</td>\n",
       "      <td>0.471597</td>\n",
       "      <td>-0.320853</td>\n",
       "      <td>0.251285</td>\n",
       "    </tr>\n",
       "    <tr>\n",
       "      <th>1</th>\n",
       "      <td>0.924004</td>\n",
       "      <td>1.086412</td>\n",
       "      <td>1.354030</td>\n",
       "      <td>0.893245</td>\n",
       "      <td>-1.503691</td>\n",
       "      <td>1.277886</td>\n",
       "      <td>-1.020031</td>\n",
       "      <td>-0.508740</td>\n",
       "      <td>-0.309525</td>\n",
       "      <td>0.544503</td>\n",
       "      <td>-0.905554</td>\n",
       "      <td>0.064804</td>\n",
       "      <td>0.251285</td>\n",
       "    </tr>\n",
       "    <tr>\n",
       "      <th>2</th>\n",
       "      <td>-2.124046</td>\n",
       "      <td>1.015160</td>\n",
       "      <td>1.071139</td>\n",
       "      <td>1.357892</td>\n",
       "      <td>0.665030</td>\n",
       "      <td>-0.297994</td>\n",
       "      <td>-1.074290</td>\n",
       "      <td>-0.493684</td>\n",
       "      <td>-0.159199</td>\n",
       "      <td>-0.906910</td>\n",
       "      <td>-1.112575</td>\n",
       "      <td>0.874330</td>\n",
       "      <td>0.251285</td>\n",
       "    </tr>\n",
       "    <tr>\n",
       "      <th>3</th>\n",
       "      <td>-1.977830</td>\n",
       "      <td>1.640592</td>\n",
       "      <td>-0.343315</td>\n",
       "      <td>1.219326</td>\n",
       "      <td>0.665030</td>\n",
       "      <td>1.080465</td>\n",
       "      <td>-1.074596</td>\n",
       "      <td>-0.250443</td>\n",
       "      <td>-0.055127</td>\n",
       "      <td>-0.783465</td>\n",
       "      <td>1.000112</td>\n",
       "      <td>0.174751</td>\n",
       "      <td>0.251285</td>\n",
       "    </tr>\n",
       "    <tr>\n",
       "      <th>4</th>\n",
       "      <td>0.507849</td>\n",
       "      <td>0.730153</td>\n",
       "      <td>-0.909096</td>\n",
       "      <td>1.104859</td>\n",
       "      <td>0.665030</td>\n",
       "      <td>-0.527931</td>\n",
       "      <td>-0.003533</td>\n",
       "      <td>-0.508740</td>\n",
       "      <td>-0.442506</td>\n",
       "      <td>0.331280</td>\n",
       "      <td>-0.248819</td>\n",
       "      <td>-0.345625</td>\n",
       "      <td>0.251285</td>\n",
       "    </tr>\n",
       "  </tbody>\n",
       "</table>\n",
       "</div>"
      ],
      "text/plain": [
       "   danceability    energy       key  loudness      mode  speechiness  \\\n",
       "0      0.215416 -0.429668 -0.343315  0.555679  0.665030    -0.511673   \n",
       "1      0.924004  1.086412  1.354030  0.893245 -1.503691     1.277886   \n",
       "2     -2.124046  1.015160  1.071139  1.357892  0.665030    -0.297994   \n",
       "3     -1.977830  1.640592 -0.343315  1.219326  0.665030     1.080465   \n",
       "4      0.507849  0.730153 -0.909096  1.104859  0.665030    -0.527931   \n",
       "\n",
       "   acousticness  instrumentalness  liveness   valence     tempo  duration_ms  \\\n",
       "0      0.011220         -0.508740 -0.245926 -0.039055  0.471597    -0.320853   \n",
       "1     -1.020031         -0.508740 -0.309525  0.544503 -0.905554     0.064804   \n",
       "2     -1.074290         -0.493684 -0.159199 -0.906910 -1.112575     0.874330   \n",
       "3     -1.074596         -0.250443 -0.055127 -0.783465  1.000112     0.174751   \n",
       "4     -0.003533         -0.508740 -0.442506  0.331280 -0.248819    -0.345625   \n",
       "\n",
       "   time_signature  \n",
       "0        0.251285  \n",
       "1        0.251285  \n",
       "2        0.251285  \n",
       "3        0.251285  \n",
       "4        0.251285  "
      ]
     },
     "execution_count": 48,
     "metadata": {},
     "output_type": "execute_result"
    }
   ],
   "source": [
    "df_scaled.head()"
   ]
  },
  {
   "cell_type": "code",
   "execution_count": 86,
   "id": "4abea783",
   "metadata": {},
   "outputs": [
    {
     "data": {
      "text/html": [
       "<div>\n",
       "<style scoped>\n",
       "    .dataframe tbody tr th:only-of-type {\n",
       "        vertical-align: middle;\n",
       "    }\n",
       "\n",
       "    .dataframe tbody tr th {\n",
       "        vertical-align: top;\n",
       "    }\n",
       "\n",
       "    .dataframe thead th {\n",
       "        text-align: right;\n",
       "    }\n",
       "</style>\n",
       "<table border=\"1\" class=\"dataframe\">\n",
       "  <thead>\n",
       "    <tr style=\"text-align: right;\">\n",
       "      <th></th>\n",
       "      <th>danceability</th>\n",
       "      <th>energy</th>\n",
       "      <th>key</th>\n",
       "      <th>loudness</th>\n",
       "      <th>mode</th>\n",
       "      <th>speechiness</th>\n",
       "      <th>acousticness</th>\n",
       "      <th>instrumentalness</th>\n",
       "      <th>liveness</th>\n",
       "      <th>valence</th>\n",
       "      <th>tempo</th>\n",
       "      <th>duration_ms</th>\n",
       "      <th>time_signature</th>\n",
       "    </tr>\n",
       "  </thead>\n",
       "  <tbody>\n",
       "    <tr>\n",
       "      <th>0</th>\n",
       "      <td>0.215416</td>\n",
       "      <td>-0.429668</td>\n",
       "      <td>-0.343315</td>\n",
       "      <td>0.555679</td>\n",
       "      <td>0.665030</td>\n",
       "      <td>-0.511673</td>\n",
       "      <td>0.011220</td>\n",
       "      <td>-0.508740</td>\n",
       "      <td>-0.245926</td>\n",
       "      <td>-0.039055</td>\n",
       "      <td>0.471597</td>\n",
       "      <td>-0.320853</td>\n",
       "      <td>0.251285</td>\n",
       "    </tr>\n",
       "    <tr>\n",
       "      <th>1</th>\n",
       "      <td>0.924004</td>\n",
       "      <td>1.086412</td>\n",
       "      <td>1.354030</td>\n",
       "      <td>0.893245</td>\n",
       "      <td>-1.503691</td>\n",
       "      <td>1.277886</td>\n",
       "      <td>-1.020031</td>\n",
       "      <td>-0.508740</td>\n",
       "      <td>-0.309525</td>\n",
       "      <td>0.544503</td>\n",
       "      <td>-0.905554</td>\n",
       "      <td>0.064804</td>\n",
       "      <td>0.251285</td>\n",
       "    </tr>\n",
       "    <tr>\n",
       "      <th>2</th>\n",
       "      <td>-2.124046</td>\n",
       "      <td>1.015160</td>\n",
       "      <td>1.071139</td>\n",
       "      <td>1.357892</td>\n",
       "      <td>0.665030</td>\n",
       "      <td>-0.297994</td>\n",
       "      <td>-1.074290</td>\n",
       "      <td>-0.493684</td>\n",
       "      <td>-0.159199</td>\n",
       "      <td>-0.906910</td>\n",
       "      <td>-1.112575</td>\n",
       "      <td>0.874330</td>\n",
       "      <td>0.251285</td>\n",
       "    </tr>\n",
       "    <tr>\n",
       "      <th>3</th>\n",
       "      <td>-1.977830</td>\n",
       "      <td>1.640592</td>\n",
       "      <td>-0.343315</td>\n",
       "      <td>1.219326</td>\n",
       "      <td>0.665030</td>\n",
       "      <td>1.080465</td>\n",
       "      <td>-1.074596</td>\n",
       "      <td>-0.250443</td>\n",
       "      <td>-0.055127</td>\n",
       "      <td>-0.783465</td>\n",
       "      <td>1.000112</td>\n",
       "      <td>0.174751</td>\n",
       "      <td>0.251285</td>\n",
       "    </tr>\n",
       "    <tr>\n",
       "      <th>4</th>\n",
       "      <td>0.507849</td>\n",
       "      <td>0.730153</td>\n",
       "      <td>-0.909096</td>\n",
       "      <td>1.104859</td>\n",
       "      <td>0.665030</td>\n",
       "      <td>-0.527931</td>\n",
       "      <td>-0.003533</td>\n",
       "      <td>-0.508740</td>\n",
       "      <td>-0.442506</td>\n",
       "      <td>0.331280</td>\n",
       "      <td>-0.248819</td>\n",
       "      <td>-0.345625</td>\n",
       "      <td>0.251285</td>\n",
       "    </tr>\n",
       "  </tbody>\n",
       "</table>\n",
       "</div>"
      ],
      "text/plain": [
       "   danceability    energy       key  loudness      mode  speechiness  \\\n",
       "0      0.215416 -0.429668 -0.343315  0.555679  0.665030    -0.511673   \n",
       "1      0.924004  1.086412  1.354030  0.893245 -1.503691     1.277886   \n",
       "2     -2.124046  1.015160  1.071139  1.357892  0.665030    -0.297994   \n",
       "3     -1.977830  1.640592 -0.343315  1.219326  0.665030     1.080465   \n",
       "4      0.507849  0.730153 -0.909096  1.104859  0.665030    -0.527931   \n",
       "\n",
       "   acousticness  instrumentalness  liveness   valence     tempo  duration_ms  \\\n",
       "0      0.011220         -0.508740 -0.245926 -0.039055  0.471597    -0.320853   \n",
       "1     -1.020031         -0.508740 -0.309525  0.544503 -0.905554     0.064804   \n",
       "2     -1.074290         -0.493684 -0.159199 -0.906910 -1.112575     0.874330   \n",
       "3     -1.074596         -0.250443 -0.055127 -0.783465  1.000112     0.174751   \n",
       "4     -0.003533         -0.508740 -0.442506  0.331280 -0.248819    -0.345625   \n",
       "\n",
       "   time_signature  \n",
       "0        0.251285  \n",
       "1        0.251285  \n",
       "2        0.251285  \n",
       "3        0.251285  \n",
       "4        0.251285  "
      ]
     },
     "execution_count": 86,
     "metadata": {},
     "output_type": "execute_result"
    }
   ],
   "source": [
    "df_scaled.head()"
   ]
  },
  {
   "cell_type": "markdown",
   "id": "b0a8eba0",
   "metadata": {},
   "source": [
    "# Choosing the best K for the model\n",
    "We're going to use 2 different metrics to check the different elbows formed:\n",
    "- inertia\n",
    "- silhouette score"
   ]
  },
  {
   "cell_type": "code",
   "execution_count": null,
   "id": "7e110944",
   "metadata": {},
   "outputs": [],
   "source": [
    "K = range(200, 1101, 10)\n",
    "inertia = []\n",
    "sil = []\n",
    "for k in K:\n",
    "    model = KMeans(n_clusters=k, random_state=42)\n",
    "    model.fit(df_scaled.iloc[:, :-1])\n",
    "    inertia.append(model.inertia_)\n",
    "    sil.append(silhouette_score(df_scaled, model.predict(df_scaled.iloc[:, :-1])))"
   ]
  },
  {
   "cell_type": "code",
   "execution_count": null,
   "id": "1720c397",
   "metadata": {},
   "outputs": [],
   "source": [
    "fig, ax1 = plt.subplots(figsize=(15,10))\n",
    "\n",
    "color = 'tab:red'\n",
    "ax1.set_xlabel('k = n_clusters')\n",
    "ax1.set_ylabel('inertia', color=color)\n",
    "ax1.plot(K, inertia, color=color)\n",
    "ax1.tick_params(axis='y', labelcolor=color)\n",
    "plt.locator_params(axis=\"x\", nbins=50)\n",
    "\n",
    "ax2 = ax1.twinx()\n",
    "\n",
    "color = 'tab:blue'\n",
    "ax2.set_ylabel('silhouette', color=color)\n",
    "ax2.plot(K, sil, color=color)\n",
    "ax2.tick_params(axis='y', labelcolor=color)\n",
    "\n",
    "fig.tight_layout()\n",
    "plt.show();"
   ]
  },
  {
   "cell_type": "markdown",
   "id": "1fbfa5d4",
   "metadata": {},
   "source": [
    "Previously, many other ranges were tried (in total, approximately from 5 to 1200). By looking at the elbows formed at the plot, we'll go with k=23. There seems to be the slightest elbow for inertia values there, and the silhouette is almost the highest (very close to k=1100) with presumably a lower processing time."
   ]
  },
  {
   "cell_type": "markdown",
   "id": "b4744a98",
   "metadata": {},
   "source": [
    "# Assembling the final model with k=23"
   ]
  },
  {
   "cell_type": "code",
   "execution_count": 87,
   "id": "494f859f",
   "metadata": {},
   "outputs": [],
   "source": [
    "kmeans = KMeans(n_clusters=23, random_state=42)\n",
    "KMM = kmeans.fit(df_scaled)"
   ]
  },
  {
   "cell_type": "code",
   "execution_count": 90,
   "id": "8f088ddb",
   "metadata": {},
   "outputs": [
    {
     "name": "stdout",
     "output_type": "stream",
     "text": [
      "<class 'pandas.core.frame.DataFrame'>\n",
      "RangeIndex: 41106 entries, 0 to 41105\n",
      "Data columns (total 14 columns):\n",
      " #   Column            Non-Null Count  Dtype  \n",
      "---  ------            --------------  -----  \n",
      " 0   danceability      41106 non-null  float64\n",
      " 1   energy            41106 non-null  float64\n",
      " 2   key               41106 non-null  float64\n",
      " 3   loudness          41106 non-null  float64\n",
      " 4   mode              41106 non-null  float64\n",
      " 5   speechiness       41106 non-null  float64\n",
      " 6   acousticness      41106 non-null  float64\n",
      " 7   instrumentalness  41106 non-null  float64\n",
      " 8   liveness          41106 non-null  float64\n",
      " 9   valence           41106 non-null  float64\n",
      " 10  tempo             41106 non-null  float64\n",
      " 11  duration_ms       41106 non-null  float64\n",
      " 12  time_signature    41106 non-null  float64\n",
      " 13  cluster           41106 non-null  int32  \n",
      "dtypes: float64(13), int32(1)\n",
      "memory usage: 4.2 MB\n"
     ]
    }
   ],
   "source": [
    "df_cluster.info()"
   ]
  },
  {
   "cell_type": "code",
   "execution_count": 88,
   "id": "85cec3a1",
   "metadata": {},
   "outputs": [
    {
     "data": {
      "text/plain": [
       "9     3370\n",
       "7     2923\n",
       "2     2555\n",
       "3     2466\n",
       "16    2421\n",
       "18    2361\n",
       "4     2355\n",
       "22    2232\n",
       "1     2199\n",
       "17    2129\n",
       "6     1976\n",
       "8     1883\n",
       "10    1817\n",
       "19    1710\n",
       "11    1703\n",
       "0     1658\n",
       "14    1630\n",
       "12    1539\n",
       "5      882\n",
       "13     593\n",
       "20     364\n",
       "15     227\n",
       "21     113\n",
       "Name: cluster, dtype: int64"
      ]
     },
     "execution_count": 88,
     "metadata": {},
     "output_type": "execute_result"
    }
   ],
   "source": [
    "df_cluster = df_scaled\n",
    "df_cluster['cluster'] = KMM.labels_\n",
    "df_cluster['cluster'].value_counts()"
   ]
  },
  {
   "cell_type": "markdown",
   "id": "3f836ac5",
   "metadata": {},
   "source": [
    "## Pickling the model to use it another time"
   ]
  },
  {
   "cell_type": "code",
   "execution_count": 72,
   "id": "1e481b4a",
   "metadata": {},
   "outputs": [],
   "source": [
    "import pickle\n",
    "filename = 'cm_model.sav'\n",
    "pickle.dump(KMM, open(filename, 'wb'))"
   ]
  },
  {
   "cell_type": "markdown",
   "id": "d04efb06",
   "metadata": {},
   "source": [
    "# Integrating the model to the recommender flow (see flow chart in the repo)"
   ]
  },
  {
   "cell_type": "code",
   "execution_count": 182,
   "id": "8540188e",
   "metadata": {},
   "outputs": [],
   "source": [
    "def spotify_display(song_name_id):\n",
    "    from IPython.core.display import display\n",
    "    from IPython.display import IFrame\n",
    "    display(IFrame(src=f\"https://open.spotify.com/embed/track/{song_name_id}\",\n",
    "                    width=\"320\",\n",
    "                    height=\"80\",\n",
    "                    frameborder=\"0\",\n",
    "                    allowtransparency=\"true\",\n",
    "                    allow=\"encrypted-media\",))"
   ]
  },
  {
   "cell_type": "code",
   "execution_count": null,
   "id": "65055b19",
   "metadata": {},
   "outputs": [],
   "source": [
    "from fun import *\n",
    "top100 = top100()"
   ]
  },
  {
   "cell_type": "code",
   "execution_count": 192,
   "id": "ac2fca94",
   "metadata": {},
   "outputs": [],
   "source": [
    "def recommender_clustering():\n",
    "    # Imports\n",
    "    import spotipy\n",
    "    from spotipy.oauth2 import SpotifyClientCredentials\n",
    "    import getpass\n",
    "    import pandas as pd\n",
    "    import numpy as np\n",
    "    # Main loop\n",
    "    go_again = True\n",
    "    while go_again:\n",
    "        song = input('Write the title of a song you like to find similar ones: ')\n",
    "        print('\\nGetting the data...')\n",
    "        \n",
    "        best_match = ()\n",
    "        # Getting the best match from billboard Hot100 using Levenshtein's ratio\n",
    "        for index, name in top100['song_title'].iteritems():\n",
    "            ratio = levenshtein_ratio(name, song, ratio_calc=True)\n",
    "            if len(best_match) == 0:\n",
    "                best_match = (index, ratio)\n",
    "            else:\n",
    "                if ratio > best_match[1]:\n",
    "                    best_match = (index, ratio)\n",
    "        # Match in Hot100\n",
    "        while True:\n",
    "            print(\"\\nI'm checking the Billboard Hot 100 first.\")\n",
    "            prompt = input(f'\\nIs your song {top100.iloc[best_match[0]].song_title} by {top100.iloc[best_match[0]].artists}? Type yes/no: ')\n",
    "            # Song in Hot100, recommend another one from the list.\n",
    "            if prompt.lower() == 'yes':\n",
    "                pick = top100.drop(best_match[0]).sample()\n",
    "                song_title = pick.song_title.item()\n",
    "                artist = pick.artists.item()\n",
    "                recommendation = f'{song_title} by {artist}'\n",
    "                print(f'\\nNice choice! Try listening to {recommendation}, which another HOT song.')\n",
    "                break\n",
    "            elif prompt.lower() == 'no':\n",
    "                # Song not in Hot100, search in Spotify and promp user to confirm again\n",
    "                print(\"\\nOkay, let me find a better match in Spotify...\")\n",
    "                song_sp = sp.search(song, type='track')\n",
    "                if len(song_sp['tracks']['items']) == 0:\n",
    "                    print(\"\\nSorry, I didn't catch that!\")\n",
    "                else:\n",
    "                    while True:\n",
    "                        song_name = song_sp['tracks']['items'][0]['name']\n",
    "                        artist_name = song_sp['tracks']['items'][0]['artists'][0]['name']\n",
    "                        prompt = input(f'\\nOkay, I found something! Are you referring to {song_name} by {artist_name}? Type yes/no: ')\n",
    "                        if prompt.lower() == 'yes':\n",
    "                            id_recom = song_sp['tracks']['items'][0]['id']\n",
    "                            feat = sp.audio_features(tracks=[id_recom])[0]\n",
    "                            keys_to_remove = [\"id\", \"uri\", \"track_href\", \"analysis_url\", \"type\"]\n",
    "                            for key in keys_to_remove:\n",
    "                                feat.pop(key)\n",
    "                            col_names = list(df_cluster.drop(['cluster'], axis=1).columns)\n",
    "                            new_song = pd.DataFrame(data = feat, columns=col_names, index=[0])\n",
    "                            new_song_scaled = pd.DataFrame(scaler.transform(new_song), columns=col_names)\n",
    "                            cluster = KMM.predict(new_song_scaled)[0]\n",
    "                            index = df_cluster[df_cluster.cluster == cluster].sample().index.values[0]\n",
    "                            recom = sp.track(df.iloc[index].name)\n",
    "                            song_recom = recom['name']\n",
    "                            artist_recom = recom['artists'][0]['name']\n",
    "                            print(f'\\nNice! Then try listening to {song_recom} by {artist_recom}. You can listen to it now!')\n",
    "                            spotify_display(recom['id'])\n",
    "                            break\n",
    "                        elif prompt.lower() == 'no':\n",
    "                            print(\"\\nI'm sorry, I can't seem to find the song you're looking for!\")\n",
    "                            break\n",
    "                        else:\n",
    "                            print(\"\\nSorry, I didn't catch that, you need to type either 'yes' or 'no'.\")\n",
    "                break\n",
    "            else:\n",
    "                print(\"\\nSorry, I didn't catch that, you need to type either 'yes' or 'no'.\")\n",
    "        \n",
    "        while True:\n",
    "            again = input('\\nDo you wanna use the awesome recommender again? Type yes/no: ')\n",
    "            if again.lower() == 'no':\n",
    "                go_again = False\n",
    "                print('\\nOk, thanks for using the awesome recommender!')\n",
    "                break\n",
    "            elif again.lower() == 'yes':\n",
    "                break\n",
    "            else:\n",
    "                 print(\"\\nSorry, I didn't catch that, you need to type either 'yes' or 'no'.\")\n",
    "\n",
    "        \n",
    "        \n"
   ]
  },
  {
   "cell_type": "code",
   "execution_count": 199,
   "id": "96105b71",
   "metadata": {
    "scrolled": true
   },
   "outputs": [
    {
     "name": "stdout",
     "output_type": "stream",
     "text": [
      "Write the title of a song you like to find similar ones: lou\n",
      "Getting the data...\n",
      "Do you mean All Of You by Stephanie Beatriz, Olga Merediz, John Leguizamo, Adassa, Maluma & Encanto Cast? Type yes/no: no\n",
      "Okay, let me find a better match...\n",
      "Are you referring to Loud and Heavy by Cody Jinks? Type yes/no: no\n",
      "I'm sorry, I can't seem to find the song you're looking for!\n",
      "Do you wanna use the awesome recommender again? Type yes/no: yes\n",
      "Write the title of a song you like to find similar ones: lou\n",
      "Getting the data...\n",
      "Do you mean All Of You by Stephanie Beatriz, Olga Merediz, John Leguizamo, Adassa, Maluma & Encanto Cast? Type yes/no: gfh\n",
      "Sorry, I didn't catch that, you need to type either 'yes' or 'no'.\n",
      "Do you mean All Of You by Stephanie Beatriz, Olga Merediz, John Leguizamo, Adassa, Maluma & Encanto Cast? Type yes/no: no\n",
      "Okay, let me find a better match...\n",
      "Are you referring to Loud and Heavy by Cody Jinks? Type yes/no: hc\n",
      "Sorry, I didn't catch that, you need to type either 'yes' or 'no'.\n",
      "Are you referring to Loud and Heavy by Cody Jinks? Type yes/no: yes\n",
      "Nice! Then try listening to No Fool No More by En Vogue. You can listen to it now!\n"
     ]
    },
    {
     "data": {
      "text/html": [
       "\n",
       "        <iframe\n",
       "            width=\"320\"\n",
       "            height=\"80\"\n",
       "            src=\"https://open.spotify.com/embed/track/1RhaF2Eq1Zg1zR1MIaY9I1?frameborder=0&allowtransparency=true&allow=encrypted-media\"\n",
       "            frameborder=\"0\"\n",
       "            allowfullscreen\n",
       "            \n",
       "        ></iframe>\n",
       "        "
      ],
      "text/plain": [
       "<IPython.lib.display.IFrame at 0x7f7bc964e370>"
      ]
     },
     "metadata": {},
     "output_type": "display_data"
    },
    {
     "name": "stdout",
     "output_type": "stream",
     "text": [
      "Do you wanna use the awesome recommender again? Type yes/no: yes\n",
      "Write the title of a song you like to find similar ones: loue\n",
      "Getting the data...\n",
      "Do you mean Closer by Saweetie Featuring H.E.R.? Type yes/no: no\n",
      "Okay, let me find a better match...\n",
      "Are you referring to love nwantiti (ah ah ah) by CKay? Type yes/no: yes\n",
      "Nice! Then try listening to Letter To Lucille by Tom Jones. You can listen to it now!\n"
     ]
    },
    {
     "data": {
      "text/html": [
       "\n",
       "        <iframe\n",
       "            width=\"320\"\n",
       "            height=\"80\"\n",
       "            src=\"https://open.spotify.com/embed/track/1LXepKneS4UyV2BKka2PuB?frameborder=0&allowtransparency=true&allow=encrypted-media\"\n",
       "            frameborder=\"0\"\n",
       "            allowfullscreen\n",
       "            \n",
       "        ></iframe>\n",
       "        "
      ],
      "text/plain": [
       "<IPython.lib.display.IFrame at 0x7f7a3d5ff0a0>"
      ]
     },
     "metadata": {},
     "output_type": "display_data"
    },
    {
     "name": "stdout",
     "output_type": "stream",
     "text": [
      "Do you wanna use the awesome recommender again? Type yes/no: no\n",
      "Ok, thanks for using the awesome recommender!\n"
     ]
    }
   ],
   "source": [
    "recommender_clustering()"
   ]
  },
  {
   "cell_type": "code",
   "execution_count": null,
   "id": "cb0c959e",
   "metadata": {},
   "outputs": [],
   "source": []
  }
 ],
 "metadata": {
  "kernelspec": {
   "display_name": "Python 3 (ipykernel)",
   "language": "python",
   "name": "python3"
  },
  "language_info": {
   "codemirror_mode": {
    "name": "ipython",
    "version": 3
   },
   "file_extension": ".py",
   "mimetype": "text/x-python",
   "name": "python",
   "nbconvert_exporter": "python",
   "pygments_lexer": "ipython3",
   "version": "3.9.7"
  },
  "toc": {
   "base_numbering": 1,
   "nav_menu": {},
   "number_sections": true,
   "sideBar": true,
   "skip_h1_title": false,
   "title_cell": "Table of Contents",
   "title_sidebar": "Contents",
   "toc_cell": false,
   "toc_position": {},
   "toc_section_display": true,
   "toc_window_display": false
  }
 },
 "nbformat": 4,
 "nbformat_minor": 5
}
