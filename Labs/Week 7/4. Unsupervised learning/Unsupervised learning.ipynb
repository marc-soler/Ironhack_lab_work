{
 "cells": [
  {
   "cell_type": "markdown",
   "id": "10ed0dcd",
   "metadata": {},
   "source": [
    "# Imports"
   ]
  },
  {
   "cell_type": "code",
   "execution_count": 16,
   "id": "070dcc57",
   "metadata": {},
   "outputs": [],
   "source": [
    "import spotipy\n",
    "from spotipy.oauth2 import SpotifyClientCredentials\n",
    "import getpass\n",
    "import pandas as pd\n",
    "import numpy as np\n",
    "import matplotlib.pyplot as plt\n",
    "import plotly\n",
    "import plotly.graph_objs as go\n",
    "from sklearn.cluster import KMeans\n",
    "from sklearn.preprocessing import StandardScaler\n",
    "from sklearn.metrics import silhouette_score"
   ]
  },
  {
   "cell_type": "markdown",
   "id": "7a567717",
   "metadata": {},
   "source": [
    "# Putting the data together\n",
    "I am training my K-Means model on data I found on Kaggle. It contains 41106 songs with the features already extracted, but the complete dataset is divided in different files according to the decade. I chose to use this data to fit the model onto because of its variability. Btw, it appears that the dataset mentioned in the lab description (160k songs) is now private and, thus, unavailable."
   ]
  },
  {
   "cell_type": "code",
   "execution_count": 3,
   "id": "26e3c81e",
   "metadata": {},
   "outputs": [],
   "source": [
    "df1 = pd.read_csv('data/00s.csv')\n",
    "df2 = pd.read_csv('data/10s.csv')\n",
    "df3 = pd.read_csv('data/60s.csv')\n",
    "df4 = pd.read_csv('data/70s.csv')\n",
    "df5 = pd.read_csv('data/80s.csv')\n",
    "df6 = pd.read_csv('data/90s.csv')"
   ]
  },
  {
   "cell_type": "code",
   "execution_count": 14,
   "id": "33731f51",
   "metadata": {},
   "outputs": [],
   "source": [
    "df = pd.concat([df1, df2, df3, df4, df5, df6], axis=0)\n",
    "df.reset_index(drop=True, inplace=True)"
   ]
  },
  {
   "cell_type": "code",
   "execution_count": 15,
   "id": "3f26a62e",
   "metadata": {},
   "outputs": [
    {
     "name": "stdout",
     "output_type": "stream",
     "text": [
      "<class 'pandas.core.frame.DataFrame'>\n",
      "RangeIndex: 41106 entries, 0 to 41105\n",
      "Data columns (total 19 columns):\n",
      " #   Column            Non-Null Count  Dtype  \n",
      "---  ------            --------------  -----  \n",
      " 0   track             41106 non-null  object \n",
      " 1   artist            41106 non-null  object \n",
      " 2   uri               41106 non-null  object \n",
      " 3   danceability      41106 non-null  float64\n",
      " 4   energy            41106 non-null  float64\n",
      " 5   key               41106 non-null  int64  \n",
      " 6   loudness          41106 non-null  float64\n",
      " 7   mode              41106 non-null  int64  \n",
      " 8   speechiness       41106 non-null  float64\n",
      " 9   acousticness      41106 non-null  float64\n",
      " 10  instrumentalness  41106 non-null  float64\n",
      " 11  liveness          41106 non-null  float64\n",
      " 12  valence           41106 non-null  float64\n",
      " 13  tempo             41106 non-null  float64\n",
      " 14  duration_ms       41106 non-null  int64  \n",
      " 15  time_signature    41106 non-null  int64  \n",
      " 16  chorus_hit        41106 non-null  float64\n",
      " 17  sections          41106 non-null  int64  \n",
      " 18  target            41106 non-null  int64  \n",
      "dtypes: float64(10), int64(6), object(3)\n",
      "memory usage: 6.0+ MB\n"
     ]
    }
   ],
   "source": [
    "df.info()"
   ]
  },
  {
   "cell_type": "markdown",
   "id": "b4e5e410",
   "metadata": {},
   "source": [
    "There are some features in this dataset that we have to drop, since they were presumably added by the author of the dataset, and are not present in the default results of Spotify's audio_features request."
   ]
  },
  {
   "cell_type": "code",
   "execution_count": 29,
   "id": "6dccd3dd",
   "metadata": {},
   "outputs": [],
   "source": [
    "df.drop(['track', 'artist', 'chorus_hit', 'sections', 'target'], axis=1, inplace=True)"
   ]
  },
  {
   "cell_type": "code",
   "execution_count": 30,
   "id": "ae373cab",
   "metadata": {},
   "outputs": [
    {
     "name": "stdout",
     "output_type": "stream",
     "text": [
      "<class 'pandas.core.frame.DataFrame'>\n",
      "RangeIndex: 41106 entries, 0 to 41105\n",
      "Data columns (total 14 columns):\n",
      " #   Column            Non-Null Count  Dtype  \n",
      "---  ------            --------------  -----  \n",
      " 0   uri               41106 non-null  object \n",
      " 1   danceability      41106 non-null  float64\n",
      " 2   energy            41106 non-null  float64\n",
      " 3   key               41106 non-null  int64  \n",
      " 4   loudness          41106 non-null  float64\n",
      " 5   mode              41106 non-null  int64  \n",
      " 6   speechiness       41106 non-null  float64\n",
      " 7   acousticness      41106 non-null  float64\n",
      " 8   instrumentalness  41106 non-null  float64\n",
      " 9   liveness          41106 non-null  float64\n",
      " 10  valence           41106 non-null  float64\n",
      " 11  tempo             41106 non-null  float64\n",
      " 12  duration_ms       41106 non-null  int64  \n",
      " 13  time_signature    41106 non-null  int64  \n",
      "dtypes: float64(9), int64(4), object(1)\n",
      "memory usage: 4.4+ MB\n"
     ]
    }
   ],
   "source": [
    "df.info()"
   ]
  },
  {
   "cell_type": "markdown",
   "id": "b3958216",
   "metadata": {},
   "source": [
    "Finally, we'll use the URI of each song as the index of the dataframe, and drop that column. This way we'll only have numerical features and we'll be able to identify the songs later."
   ]
  },
  {
   "cell_type": "code",
   "execution_count": 31,
   "id": "c4e2f856",
   "metadata": {},
   "outputs": [],
   "source": [
    "df.index = df.iloc[:,0]\n",
    "df = df.iloc[:, 1:]\n",
    "df.index.name = None"
   ]
  },
  {
   "cell_type": "markdown",
   "id": "aacfde36",
   "metadata": {},
   "source": [
    "# Connecting to Spotify's API"
   ]
  },
  {
   "cell_type": "code",
   "execution_count": 17,
   "id": "f00fb3cc",
   "metadata": {},
   "outputs": [
    {
     "name": "stdout",
     "output_type": "stream",
     "text": [
      "client_id?········\n",
      "client_secret?········\n"
     ]
    }
   ],
   "source": [
    "client_id = str(getpass.getpass('client_id?'))\n",
    "client_secret = str(getpass.getpass('client_secret?'))"
   ]
  },
  {
   "cell_type": "code",
   "execution_count": 18,
   "id": "8778c2b3",
   "metadata": {},
   "outputs": [],
   "source": [
    "client_credentials_manager = SpotifyClientCredentials(client_id, client_secret)\n",
    "sp = spotipy.Spotify(client_credentials_manager = client_credentials_manager)"
   ]
  },
  {
   "cell_type": "markdown",
   "id": "88a6a36b",
   "metadata": {},
   "source": [
    "# Scaling the data"
   ]
  },
  {
   "cell_type": "code",
   "execution_count": 39,
   "id": "291fe2d1",
   "metadata": {},
   "outputs": [
    {
     "data": {
      "text/plain": [
       "StandardScaler()"
      ]
     },
     "execution_count": 39,
     "metadata": {},
     "output_type": "execute_result"
    }
   ],
   "source": [
    "scaler = StandardScaler()\n",
    "scaler.fit(df)"
   ]
  },
  {
   "cell_type": "code",
   "execution_count": 43,
   "id": "1ff7f306",
   "metadata": {},
   "outputs": [],
   "source": [
    "df_scaled = pd.DataFrame(scaler.transform(df), columns=list(df.columns))"
   ]
  },
  {
   "cell_type": "code",
   "execution_count": 48,
   "id": "85141ea3",
   "metadata": {},
   "outputs": [
    {
     "data": {
      "text/html": [
       "<div>\n",
       "<style scoped>\n",
       "    .dataframe tbody tr th:only-of-type {\n",
       "        vertical-align: middle;\n",
       "    }\n",
       "\n",
       "    .dataframe tbody tr th {\n",
       "        vertical-align: top;\n",
       "    }\n",
       "\n",
       "    .dataframe thead th {\n",
       "        text-align: right;\n",
       "    }\n",
       "</style>\n",
       "<table border=\"1\" class=\"dataframe\">\n",
       "  <thead>\n",
       "    <tr style=\"text-align: right;\">\n",
       "      <th></th>\n",
       "      <th>danceability</th>\n",
       "      <th>energy</th>\n",
       "      <th>key</th>\n",
       "      <th>loudness</th>\n",
       "      <th>mode</th>\n",
       "      <th>speechiness</th>\n",
       "      <th>acousticness</th>\n",
       "      <th>instrumentalness</th>\n",
       "      <th>liveness</th>\n",
       "      <th>valence</th>\n",
       "      <th>tempo</th>\n",
       "      <th>duration_ms</th>\n",
       "      <th>time_signature</th>\n",
       "    </tr>\n",
       "  </thead>\n",
       "  <tbody>\n",
       "    <tr>\n",
       "      <th>0</th>\n",
       "      <td>0.215416</td>\n",
       "      <td>-0.429668</td>\n",
       "      <td>-0.343315</td>\n",
       "      <td>0.555679</td>\n",
       "      <td>0.665030</td>\n",
       "      <td>-0.511673</td>\n",
       "      <td>0.011220</td>\n",
       "      <td>-0.508740</td>\n",
       "      <td>-0.245926</td>\n",
       "      <td>-0.039055</td>\n",
       "      <td>0.471597</td>\n",
       "      <td>-0.320853</td>\n",
       "      <td>0.251285</td>\n",
       "    </tr>\n",
       "    <tr>\n",
       "      <th>1</th>\n",
       "      <td>0.924004</td>\n",
       "      <td>1.086412</td>\n",
       "      <td>1.354030</td>\n",
       "      <td>0.893245</td>\n",
       "      <td>-1.503691</td>\n",
       "      <td>1.277886</td>\n",
       "      <td>-1.020031</td>\n",
       "      <td>-0.508740</td>\n",
       "      <td>-0.309525</td>\n",
       "      <td>0.544503</td>\n",
       "      <td>-0.905554</td>\n",
       "      <td>0.064804</td>\n",
       "      <td>0.251285</td>\n",
       "    </tr>\n",
       "    <tr>\n",
       "      <th>2</th>\n",
       "      <td>-2.124046</td>\n",
       "      <td>1.015160</td>\n",
       "      <td>1.071139</td>\n",
       "      <td>1.357892</td>\n",
       "      <td>0.665030</td>\n",
       "      <td>-0.297994</td>\n",
       "      <td>-1.074290</td>\n",
       "      <td>-0.493684</td>\n",
       "      <td>-0.159199</td>\n",
       "      <td>-0.906910</td>\n",
       "      <td>-1.112575</td>\n",
       "      <td>0.874330</td>\n",
       "      <td>0.251285</td>\n",
       "    </tr>\n",
       "    <tr>\n",
       "      <th>3</th>\n",
       "      <td>-1.977830</td>\n",
       "      <td>1.640592</td>\n",
       "      <td>-0.343315</td>\n",
       "      <td>1.219326</td>\n",
       "      <td>0.665030</td>\n",
       "      <td>1.080465</td>\n",
       "      <td>-1.074596</td>\n",
       "      <td>-0.250443</td>\n",
       "      <td>-0.055127</td>\n",
       "      <td>-0.783465</td>\n",
       "      <td>1.000112</td>\n",
       "      <td>0.174751</td>\n",
       "      <td>0.251285</td>\n",
       "    </tr>\n",
       "    <tr>\n",
       "      <th>4</th>\n",
       "      <td>0.507849</td>\n",
       "      <td>0.730153</td>\n",
       "      <td>-0.909096</td>\n",
       "      <td>1.104859</td>\n",
       "      <td>0.665030</td>\n",
       "      <td>-0.527931</td>\n",
       "      <td>-0.003533</td>\n",
       "      <td>-0.508740</td>\n",
       "      <td>-0.442506</td>\n",
       "      <td>0.331280</td>\n",
       "      <td>-0.248819</td>\n",
       "      <td>-0.345625</td>\n",
       "      <td>0.251285</td>\n",
       "    </tr>\n",
       "  </tbody>\n",
       "</table>\n",
       "</div>"
      ],
      "text/plain": [
       "   danceability    energy       key  loudness      mode  speechiness  \\\n",
       "0      0.215416 -0.429668 -0.343315  0.555679  0.665030    -0.511673   \n",
       "1      0.924004  1.086412  1.354030  0.893245 -1.503691     1.277886   \n",
       "2     -2.124046  1.015160  1.071139  1.357892  0.665030    -0.297994   \n",
       "3     -1.977830  1.640592 -0.343315  1.219326  0.665030     1.080465   \n",
       "4      0.507849  0.730153 -0.909096  1.104859  0.665030    -0.527931   \n",
       "\n",
       "   acousticness  instrumentalness  liveness   valence     tempo  duration_ms  \\\n",
       "0      0.011220         -0.508740 -0.245926 -0.039055  0.471597    -0.320853   \n",
       "1     -1.020031         -0.508740 -0.309525  0.544503 -0.905554     0.064804   \n",
       "2     -1.074290         -0.493684 -0.159199 -0.906910 -1.112575     0.874330   \n",
       "3     -1.074596         -0.250443 -0.055127 -0.783465  1.000112     0.174751   \n",
       "4     -0.003533         -0.508740 -0.442506  0.331280 -0.248819    -0.345625   \n",
       "\n",
       "   time_signature  \n",
       "0        0.251285  \n",
       "1        0.251285  \n",
       "2        0.251285  \n",
       "3        0.251285  \n",
       "4        0.251285  "
      ]
     },
     "execution_count": 48,
     "metadata": {},
     "output_type": "execute_result"
    }
   ],
   "source": [
    "df_scaled.head()"
   ]
  },
  {
   "cell_type": "code",
   "execution_count": 86,
   "id": "56565cc1",
   "metadata": {},
   "outputs": [
    {
     "data": {
      "text/html": [
       "<div>\n",
       "<style scoped>\n",
       "    .dataframe tbody tr th:only-of-type {\n",
       "        vertical-align: middle;\n",
       "    }\n",
       "\n",
       "    .dataframe tbody tr th {\n",
       "        vertical-align: top;\n",
       "    }\n",
       "\n",
       "    .dataframe thead th {\n",
       "        text-align: right;\n",
       "    }\n",
       "</style>\n",
       "<table border=\"1\" class=\"dataframe\">\n",
       "  <thead>\n",
       "    <tr style=\"text-align: right;\">\n",
       "      <th></th>\n",
       "      <th>danceability</th>\n",
       "      <th>energy</th>\n",
       "      <th>key</th>\n",
       "      <th>loudness</th>\n",
       "      <th>mode</th>\n",
       "      <th>speechiness</th>\n",
       "      <th>acousticness</th>\n",
       "      <th>instrumentalness</th>\n",
       "      <th>liveness</th>\n",
       "      <th>valence</th>\n",
       "      <th>tempo</th>\n",
       "      <th>duration_ms</th>\n",
       "      <th>time_signature</th>\n",
       "    </tr>\n",
       "  </thead>\n",
       "  <tbody>\n",
       "    <tr>\n",
       "      <th>0</th>\n",
       "      <td>0.215416</td>\n",
       "      <td>-0.429668</td>\n",
       "      <td>-0.343315</td>\n",
       "      <td>0.555679</td>\n",
       "      <td>0.665030</td>\n",
       "      <td>-0.511673</td>\n",
       "      <td>0.011220</td>\n",
       "      <td>-0.508740</td>\n",
       "      <td>-0.245926</td>\n",
       "      <td>-0.039055</td>\n",
       "      <td>0.471597</td>\n",
       "      <td>-0.320853</td>\n",
       "      <td>0.251285</td>\n",
       "    </tr>\n",
       "    <tr>\n",
       "      <th>1</th>\n",
       "      <td>0.924004</td>\n",
       "      <td>1.086412</td>\n",
       "      <td>1.354030</td>\n",
       "      <td>0.893245</td>\n",
       "      <td>-1.503691</td>\n",
       "      <td>1.277886</td>\n",
       "      <td>-1.020031</td>\n",
       "      <td>-0.508740</td>\n",
       "      <td>-0.309525</td>\n",
       "      <td>0.544503</td>\n",
       "      <td>-0.905554</td>\n",
       "      <td>0.064804</td>\n",
       "      <td>0.251285</td>\n",
       "    </tr>\n",
       "    <tr>\n",
       "      <th>2</th>\n",
       "      <td>-2.124046</td>\n",
       "      <td>1.015160</td>\n",
       "      <td>1.071139</td>\n",
       "      <td>1.357892</td>\n",
       "      <td>0.665030</td>\n",
       "      <td>-0.297994</td>\n",
       "      <td>-1.074290</td>\n",
       "      <td>-0.493684</td>\n",
       "      <td>-0.159199</td>\n",
       "      <td>-0.906910</td>\n",
       "      <td>-1.112575</td>\n",
       "      <td>0.874330</td>\n",
       "      <td>0.251285</td>\n",
       "    </tr>\n",
       "    <tr>\n",
       "      <th>3</th>\n",
       "      <td>-1.977830</td>\n",
       "      <td>1.640592</td>\n",
       "      <td>-0.343315</td>\n",
       "      <td>1.219326</td>\n",
       "      <td>0.665030</td>\n",
       "      <td>1.080465</td>\n",
       "      <td>-1.074596</td>\n",
       "      <td>-0.250443</td>\n",
       "      <td>-0.055127</td>\n",
       "      <td>-0.783465</td>\n",
       "      <td>1.000112</td>\n",
       "      <td>0.174751</td>\n",
       "      <td>0.251285</td>\n",
       "    </tr>\n",
       "    <tr>\n",
       "      <th>4</th>\n",
       "      <td>0.507849</td>\n",
       "      <td>0.730153</td>\n",
       "      <td>-0.909096</td>\n",
       "      <td>1.104859</td>\n",
       "      <td>0.665030</td>\n",
       "      <td>-0.527931</td>\n",
       "      <td>-0.003533</td>\n",
       "      <td>-0.508740</td>\n",
       "      <td>-0.442506</td>\n",
       "      <td>0.331280</td>\n",
       "      <td>-0.248819</td>\n",
       "      <td>-0.345625</td>\n",
       "      <td>0.251285</td>\n",
       "    </tr>\n",
       "  </tbody>\n",
       "</table>\n",
       "</div>"
      ],
      "text/plain": [
       "   danceability    energy       key  loudness      mode  speechiness  \\\n",
       "0      0.215416 -0.429668 -0.343315  0.555679  0.665030    -0.511673   \n",
       "1      0.924004  1.086412  1.354030  0.893245 -1.503691     1.277886   \n",
       "2     -2.124046  1.015160  1.071139  1.357892  0.665030    -0.297994   \n",
       "3     -1.977830  1.640592 -0.343315  1.219326  0.665030     1.080465   \n",
       "4      0.507849  0.730153 -0.909096  1.104859  0.665030    -0.527931   \n",
       "\n",
       "   acousticness  instrumentalness  liveness   valence     tempo  duration_ms  \\\n",
       "0      0.011220         -0.508740 -0.245926 -0.039055  0.471597    -0.320853   \n",
       "1     -1.020031         -0.508740 -0.309525  0.544503 -0.905554     0.064804   \n",
       "2     -1.074290         -0.493684 -0.159199 -0.906910 -1.112575     0.874330   \n",
       "3     -1.074596         -0.250443 -0.055127 -0.783465  1.000112     0.174751   \n",
       "4     -0.003533         -0.508740 -0.442506  0.331280 -0.248819    -0.345625   \n",
       "\n",
       "   time_signature  \n",
       "0        0.251285  \n",
       "1        0.251285  \n",
       "2        0.251285  \n",
       "3        0.251285  \n",
       "4        0.251285  "
      ]
     },
     "execution_count": 86,
     "metadata": {},
     "output_type": "execute_result"
    }
   ],
   "source": [
    "df_scaled.head()"
   ]
  },
  {
   "cell_type": "markdown",
   "id": "bf62ff77",
   "metadata": {},
   "source": [
    "# Choosing the best K for the model\n",
    "We're going to use 2 different metrics to check the different elbows formed:\n",
    "- inertia\n",
    "- silhouette score"
   ]
  },
  {
   "cell_type": "code",
   "execution_count": 232,
   "id": "7eab4c5d",
   "metadata": {},
   "outputs": [
    {
     "ename": "KeyboardInterrupt",
     "evalue": "",
     "output_type": "error",
     "traceback": [
      "\u001b[0;31m---------------------------------------------------------------------------\u001b[0m",
      "\u001b[0;31mKeyboardInterrupt\u001b[0m                         Traceback (most recent call last)",
      "\u001b[0;32m<__array_function__ internals>\u001b[0m in \u001b[0;36mwhere\u001b[0;34m(*args, **kwargs)\u001b[0m\n",
      "\u001b[0;31mKeyboardInterrupt\u001b[0m: "
     ]
    },
    {
     "name": "stderr",
     "output_type": "stream",
     "text": [
      "Exception ignored in: 'sklearn.cluster._k_means_common._relocate_empty_clusters_dense'\n",
      "Traceback (most recent call last):\n",
      "  File \"<__array_function__ internals>\", line 2, in where\n",
      "KeyboardInterrupt: \n"
     ]
    },
    {
     "ename": "KeyboardInterrupt",
     "evalue": "",
     "output_type": "error",
     "traceback": [
      "\u001b[0;31m---------------------------------------------------------------------------\u001b[0m",
      "\u001b[0;31mKeyboardInterrupt\u001b[0m                         Traceback (most recent call last)",
      "\u001b[0;32m<__array_function__ internals>\u001b[0m in \u001b[0;36mwhere\u001b[0;34m(*args, **kwargs)\u001b[0m\n",
      "\u001b[0;31mKeyboardInterrupt\u001b[0m: "
     ]
    },
    {
     "name": "stderr",
     "output_type": "stream",
     "text": [
      "Exception ignored in: 'sklearn.cluster._k_means_common._relocate_empty_clusters_dense'\n",
      "Traceback (most recent call last):\n",
      "  File \"<__array_function__ internals>\", line 2, in where\n",
      "KeyboardInterrupt: \n"
     ]
    },
    {
     "ename": "KeyboardInterrupt",
     "evalue": "",
     "output_type": "error",
     "traceback": [
      "\u001b[0;31m---------------------------------------------------------------------------\u001b[0m",
      "\u001b[0;31mKeyboardInterrupt\u001b[0m                         Traceback (most recent call last)",
      "\u001b[0;32m/var/folders/yw/kfrh__c16y32fwr4ddxqhybm0000gp/T/ipykernel_27793/3622633033.py\u001b[0m in \u001b[0;36m<module>\u001b[0;34m\u001b[0m\n\u001b[1;32m      4\u001b[0m \u001b[0;32mfor\u001b[0m \u001b[0mk\u001b[0m \u001b[0;32min\u001b[0m \u001b[0mK\u001b[0m\u001b[0;34m:\u001b[0m\u001b[0;34m\u001b[0m\u001b[0;34m\u001b[0m\u001b[0m\n\u001b[1;32m      5\u001b[0m     \u001b[0mmodel\u001b[0m \u001b[0;34m=\u001b[0m \u001b[0mKMeans\u001b[0m\u001b[0;34m(\u001b[0m\u001b[0mn_clusters\u001b[0m\u001b[0;34m=\u001b[0m\u001b[0mk\u001b[0m\u001b[0;34m,\u001b[0m \u001b[0mrandom_state\u001b[0m\u001b[0;34m=\u001b[0m\u001b[0;36m42\u001b[0m\u001b[0;34m)\u001b[0m\u001b[0;34m\u001b[0m\u001b[0;34m\u001b[0m\u001b[0m\n\u001b[0;32m----> 6\u001b[0;31m     \u001b[0mmodel\u001b[0m\u001b[0;34m.\u001b[0m\u001b[0mfit\u001b[0m\u001b[0;34m(\u001b[0m\u001b[0mdf_scaled\u001b[0m\u001b[0;34m.\u001b[0m\u001b[0miloc\u001b[0m\u001b[0;34m[\u001b[0m\u001b[0;34m:\u001b[0m\u001b[0;34m,\u001b[0m \u001b[0;34m:\u001b[0m\u001b[0;34m-\u001b[0m\u001b[0;36m1\u001b[0m\u001b[0;34m]\u001b[0m\u001b[0;34m)\u001b[0m\u001b[0;34m\u001b[0m\u001b[0;34m\u001b[0m\u001b[0m\n\u001b[0m\u001b[1;32m      7\u001b[0m     \u001b[0minertia\u001b[0m\u001b[0;34m.\u001b[0m\u001b[0mappend\u001b[0m\u001b[0;34m(\u001b[0m\u001b[0mmodel\u001b[0m\u001b[0;34m.\u001b[0m\u001b[0minertia_\u001b[0m\u001b[0;34m)\u001b[0m\u001b[0;34m\u001b[0m\u001b[0;34m\u001b[0m\u001b[0m\n\u001b[1;32m      8\u001b[0m     \u001b[0msil\u001b[0m\u001b[0;34m.\u001b[0m\u001b[0mappend\u001b[0m\u001b[0;34m(\u001b[0m\u001b[0msilhouette_score\u001b[0m\u001b[0;34m(\u001b[0m\u001b[0mdf_scaled\u001b[0m\u001b[0;34m,\u001b[0m \u001b[0mmodel\u001b[0m\u001b[0;34m.\u001b[0m\u001b[0mpredict\u001b[0m\u001b[0;34m(\u001b[0m\u001b[0mdf_scaled\u001b[0m\u001b[0;34m.\u001b[0m\u001b[0miloc\u001b[0m\u001b[0;34m[\u001b[0m\u001b[0;34m:\u001b[0m\u001b[0;34m,\u001b[0m \u001b[0;34m:\u001b[0m\u001b[0;34m-\u001b[0m\u001b[0;36m1\u001b[0m\u001b[0;34m]\u001b[0m\u001b[0;34m)\u001b[0m\u001b[0;34m)\u001b[0m\u001b[0;34m)\u001b[0m\u001b[0;34m\u001b[0m\u001b[0;34m\u001b[0m\u001b[0m\n",
      "\u001b[0;32m/Applications/anaconda3/envs/bootcamp/lib/python3.9/site-packages/sklearn/cluster/_kmeans.py\u001b[0m in \u001b[0;36mfit\u001b[0;34m(self, X, y, sample_weight)\u001b[0m\n\u001b[1;32m   1177\u001b[0m         \u001b[0;32mfor\u001b[0m \u001b[0mi\u001b[0m \u001b[0;32min\u001b[0m \u001b[0mrange\u001b[0m\u001b[0;34m(\u001b[0m\u001b[0mself\u001b[0m\u001b[0;34m.\u001b[0m\u001b[0m_n_init\u001b[0m\u001b[0;34m)\u001b[0m\u001b[0;34m:\u001b[0m\u001b[0;34m\u001b[0m\u001b[0;34m\u001b[0m\u001b[0m\n\u001b[1;32m   1178\u001b[0m             \u001b[0;31m# Initialize centers\u001b[0m\u001b[0;34m\u001b[0m\u001b[0;34m\u001b[0m\u001b[0m\n\u001b[0;32m-> 1179\u001b[0;31m             centers_init = self._init_centroids(\n\u001b[0m\u001b[1;32m   1180\u001b[0m                 \u001b[0mX\u001b[0m\u001b[0;34m,\u001b[0m \u001b[0mx_squared_norms\u001b[0m\u001b[0;34m=\u001b[0m\u001b[0mx_squared_norms\u001b[0m\u001b[0;34m,\u001b[0m \u001b[0minit\u001b[0m\u001b[0;34m=\u001b[0m\u001b[0minit\u001b[0m\u001b[0;34m,\u001b[0m \u001b[0mrandom_state\u001b[0m\u001b[0;34m=\u001b[0m\u001b[0mrandom_state\u001b[0m\u001b[0;34m\u001b[0m\u001b[0;34m\u001b[0m\u001b[0m\n\u001b[1;32m   1181\u001b[0m             )\n",
      "\u001b[0;32m/Applications/anaconda3/envs/bootcamp/lib/python3.9/site-packages/sklearn/cluster/_kmeans.py\u001b[0m in \u001b[0;36m_init_centroids\u001b[0;34m(self, X, x_squared_norms, init, random_state, init_size)\u001b[0m\n\u001b[1;32m   1088\u001b[0m \u001b[0;34m\u001b[0m\u001b[0m\n\u001b[1;32m   1089\u001b[0m         \u001b[0;32mif\u001b[0m \u001b[0misinstance\u001b[0m\u001b[0;34m(\u001b[0m\u001b[0minit\u001b[0m\u001b[0;34m,\u001b[0m \u001b[0mstr\u001b[0m\u001b[0;34m)\u001b[0m \u001b[0;32mand\u001b[0m \u001b[0minit\u001b[0m \u001b[0;34m==\u001b[0m \u001b[0;34m\"k-means++\"\u001b[0m\u001b[0;34m:\u001b[0m\u001b[0;34m\u001b[0m\u001b[0;34m\u001b[0m\u001b[0m\n\u001b[0;32m-> 1090\u001b[0;31m             centers, _ = _kmeans_plusplus(\n\u001b[0m\u001b[1;32m   1091\u001b[0m                 \u001b[0mX\u001b[0m\u001b[0;34m,\u001b[0m\u001b[0;34m\u001b[0m\u001b[0;34m\u001b[0m\u001b[0m\n\u001b[1;32m   1092\u001b[0m                 \u001b[0mn_clusters\u001b[0m\u001b[0;34m,\u001b[0m\u001b[0;34m\u001b[0m\u001b[0;34m\u001b[0m\u001b[0m\n",
      "\u001b[0;32m/Applications/anaconda3/envs/bootcamp/lib/python3.9/site-packages/sklearn/cluster/_kmeans.py\u001b[0m in \u001b[0;36m_kmeans_plusplus\u001b[0;34m(X, n_clusters, x_squared_norms, random_state, n_local_trials)\u001b[0m\n\u001b[1;32m    216\u001b[0m \u001b[0;34m\u001b[0m\u001b[0m\n\u001b[1;32m    217\u001b[0m         \u001b[0;31m# Compute distances to center candidates\u001b[0m\u001b[0;34m\u001b[0m\u001b[0;34m\u001b[0m\u001b[0m\n\u001b[0;32m--> 218\u001b[0;31m         distance_to_candidates = _euclidean_distances(\n\u001b[0m\u001b[1;32m    219\u001b[0m             \u001b[0mX\u001b[0m\u001b[0;34m[\u001b[0m\u001b[0mcandidate_ids\u001b[0m\u001b[0;34m]\u001b[0m\u001b[0;34m,\u001b[0m \u001b[0mX\u001b[0m\u001b[0;34m,\u001b[0m \u001b[0mY_norm_squared\u001b[0m\u001b[0;34m=\u001b[0m\u001b[0mx_squared_norms\u001b[0m\u001b[0;34m,\u001b[0m \u001b[0msquared\u001b[0m\u001b[0;34m=\u001b[0m\u001b[0;32mTrue\u001b[0m\u001b[0;34m\u001b[0m\u001b[0;34m\u001b[0m\u001b[0m\n\u001b[1;32m    220\u001b[0m         )\n",
      "\u001b[0;32m/Applications/anaconda3/envs/bootcamp/lib/python3.9/site-packages/sklearn/metrics/pairwise.py\u001b[0m in \u001b[0;36m_euclidean_distances\u001b[0;34m(X, Y, X_norm_squared, Y_norm_squared, squared)\u001b[0m\n\u001b[1;32m    369\u001b[0m     \u001b[0;32melse\u001b[0m\u001b[0;34m:\u001b[0m\u001b[0;34m\u001b[0m\u001b[0;34m\u001b[0m\u001b[0m\n\u001b[1;32m    370\u001b[0m         \u001b[0;31m# if dtype is already float64, no need to chunk and upcast\u001b[0m\u001b[0;34m\u001b[0m\u001b[0;34m\u001b[0m\u001b[0m\n\u001b[0;32m--> 371\u001b[0;31m         \u001b[0mdistances\u001b[0m \u001b[0;34m=\u001b[0m \u001b[0;34m-\u001b[0m\u001b[0;36m2\u001b[0m \u001b[0;34m*\u001b[0m \u001b[0msafe_sparse_dot\u001b[0m\u001b[0;34m(\u001b[0m\u001b[0mX\u001b[0m\u001b[0;34m,\u001b[0m \u001b[0mY\u001b[0m\u001b[0;34m.\u001b[0m\u001b[0mT\u001b[0m\u001b[0;34m,\u001b[0m \u001b[0mdense_output\u001b[0m\u001b[0;34m=\u001b[0m\u001b[0;32mTrue\u001b[0m\u001b[0;34m)\u001b[0m\u001b[0;34m\u001b[0m\u001b[0;34m\u001b[0m\u001b[0m\n\u001b[0m\u001b[1;32m    372\u001b[0m         \u001b[0mdistances\u001b[0m \u001b[0;34m+=\u001b[0m \u001b[0mXX\u001b[0m\u001b[0;34m\u001b[0m\u001b[0;34m\u001b[0m\u001b[0m\n\u001b[1;32m    373\u001b[0m         \u001b[0mdistances\u001b[0m \u001b[0;34m+=\u001b[0m \u001b[0mYY\u001b[0m\u001b[0;34m\u001b[0m\u001b[0;34m\u001b[0m\u001b[0m\n",
      "\u001b[0;31mKeyboardInterrupt\u001b[0m: "
     ]
    }
   ],
   "source": [
    "K = range(200, 1101, 10)\n",
    "inertia = []\n",
    "sil = []\n",
    "for k in K:\n",
    "    model = KMeans(n_clusters=k, random_state=42)\n",
    "    model.fit(df_scaled.iloc[:, :-1])\n",
    "    inertia.append(model.inertia_)\n",
    "    sil.append(silhouette_score(df_scaled, model.predict(df_scaled.iloc[:, :-1])))"
   ]
  },
  {
   "cell_type": "code",
   "execution_count": 233,
   "id": "65952757",
   "metadata": {},
   "outputs": [
    {
     "ename": "ValueError",
     "evalue": "x and y must have same first dimension, but have shapes (91,) and (90,)",
     "output_type": "error",
     "traceback": [
      "\u001b[0;31m---------------------------------------------------------------------------\u001b[0m",
      "\u001b[0;31mValueError\u001b[0m                                Traceback (most recent call last)",
      "\u001b[0;32m/var/folders/yw/kfrh__c16y32fwr4ddxqhybm0000gp/T/ipykernel_27793/3346219231.py\u001b[0m in \u001b[0;36m<module>\u001b[0;34m\u001b[0m\n\u001b[1;32m      4\u001b[0m \u001b[0max1\u001b[0m\u001b[0;34m.\u001b[0m\u001b[0mset_xlabel\u001b[0m\u001b[0;34m(\u001b[0m\u001b[0;34m'k = n_clusters'\u001b[0m\u001b[0;34m)\u001b[0m\u001b[0;34m\u001b[0m\u001b[0;34m\u001b[0m\u001b[0m\n\u001b[1;32m      5\u001b[0m \u001b[0max1\u001b[0m\u001b[0;34m.\u001b[0m\u001b[0mset_ylabel\u001b[0m\u001b[0;34m(\u001b[0m\u001b[0;34m'inertia'\u001b[0m\u001b[0;34m,\u001b[0m \u001b[0mcolor\u001b[0m\u001b[0;34m=\u001b[0m\u001b[0mcolor\u001b[0m\u001b[0;34m)\u001b[0m\u001b[0;34m\u001b[0m\u001b[0;34m\u001b[0m\u001b[0m\n\u001b[0;32m----> 6\u001b[0;31m \u001b[0max1\u001b[0m\u001b[0;34m.\u001b[0m\u001b[0mplot\u001b[0m\u001b[0;34m(\u001b[0m\u001b[0mK\u001b[0m\u001b[0;34m,\u001b[0m \u001b[0minertia\u001b[0m\u001b[0;34m,\u001b[0m \u001b[0mcolor\u001b[0m\u001b[0;34m=\u001b[0m\u001b[0mcolor\u001b[0m\u001b[0;34m)\u001b[0m\u001b[0;34m\u001b[0m\u001b[0;34m\u001b[0m\u001b[0m\n\u001b[0m\u001b[1;32m      7\u001b[0m \u001b[0max1\u001b[0m\u001b[0;34m.\u001b[0m\u001b[0mtick_params\u001b[0m\u001b[0;34m(\u001b[0m\u001b[0maxis\u001b[0m\u001b[0;34m=\u001b[0m\u001b[0;34m'y'\u001b[0m\u001b[0;34m,\u001b[0m \u001b[0mlabelcolor\u001b[0m\u001b[0;34m=\u001b[0m\u001b[0mcolor\u001b[0m\u001b[0;34m)\u001b[0m\u001b[0;34m\u001b[0m\u001b[0;34m\u001b[0m\u001b[0m\n\u001b[1;32m      8\u001b[0m \u001b[0mplt\u001b[0m\u001b[0;34m.\u001b[0m\u001b[0mlocator_params\u001b[0m\u001b[0;34m(\u001b[0m\u001b[0maxis\u001b[0m\u001b[0;34m=\u001b[0m\u001b[0;34m\"x\"\u001b[0m\u001b[0;34m,\u001b[0m \u001b[0mnbins\u001b[0m\u001b[0;34m=\u001b[0m\u001b[0;36m50\u001b[0m\u001b[0;34m)\u001b[0m\u001b[0;34m\u001b[0m\u001b[0;34m\u001b[0m\u001b[0m\n",
      "\u001b[0;32m/Applications/anaconda3/envs/bootcamp/lib/python3.9/site-packages/matplotlib/axes/_axes.py\u001b[0m in \u001b[0;36mplot\u001b[0;34m(self, scalex, scaley, data, *args, **kwargs)\u001b[0m\n\u001b[1;32m   1630\u001b[0m         \"\"\"\n\u001b[1;32m   1631\u001b[0m         \u001b[0mkwargs\u001b[0m \u001b[0;34m=\u001b[0m \u001b[0mcbook\u001b[0m\u001b[0;34m.\u001b[0m\u001b[0mnormalize_kwargs\u001b[0m\u001b[0;34m(\u001b[0m\u001b[0mkwargs\u001b[0m\u001b[0;34m,\u001b[0m \u001b[0mmlines\u001b[0m\u001b[0;34m.\u001b[0m\u001b[0mLine2D\u001b[0m\u001b[0;34m)\u001b[0m\u001b[0;34m\u001b[0m\u001b[0;34m\u001b[0m\u001b[0m\n\u001b[0;32m-> 1632\u001b[0;31m         \u001b[0mlines\u001b[0m \u001b[0;34m=\u001b[0m \u001b[0;34m[\u001b[0m\u001b[0;34m*\u001b[0m\u001b[0mself\u001b[0m\u001b[0;34m.\u001b[0m\u001b[0m_get_lines\u001b[0m\u001b[0;34m(\u001b[0m\u001b[0;34m*\u001b[0m\u001b[0margs\u001b[0m\u001b[0;34m,\u001b[0m \u001b[0mdata\u001b[0m\u001b[0;34m=\u001b[0m\u001b[0mdata\u001b[0m\u001b[0;34m,\u001b[0m \u001b[0;34m**\u001b[0m\u001b[0mkwargs\u001b[0m\u001b[0;34m)\u001b[0m\u001b[0;34m]\u001b[0m\u001b[0;34m\u001b[0m\u001b[0;34m\u001b[0m\u001b[0m\n\u001b[0m\u001b[1;32m   1633\u001b[0m         \u001b[0;32mfor\u001b[0m \u001b[0mline\u001b[0m \u001b[0;32min\u001b[0m \u001b[0mlines\u001b[0m\u001b[0;34m:\u001b[0m\u001b[0;34m\u001b[0m\u001b[0;34m\u001b[0m\u001b[0m\n\u001b[1;32m   1634\u001b[0m             \u001b[0mself\u001b[0m\u001b[0;34m.\u001b[0m\u001b[0madd_line\u001b[0m\u001b[0;34m(\u001b[0m\u001b[0mline\u001b[0m\u001b[0;34m)\u001b[0m\u001b[0;34m\u001b[0m\u001b[0;34m\u001b[0m\u001b[0m\n",
      "\u001b[0;32m/Applications/anaconda3/envs/bootcamp/lib/python3.9/site-packages/matplotlib/axes/_base.py\u001b[0m in \u001b[0;36m__call__\u001b[0;34m(self, data, *args, **kwargs)\u001b[0m\n\u001b[1;32m    310\u001b[0m                 \u001b[0mthis\u001b[0m \u001b[0;34m+=\u001b[0m \u001b[0margs\u001b[0m\u001b[0;34m[\u001b[0m\u001b[0;36m0\u001b[0m\u001b[0;34m]\u001b[0m\u001b[0;34m,\u001b[0m\u001b[0;34m\u001b[0m\u001b[0;34m\u001b[0m\u001b[0m\n\u001b[1;32m    311\u001b[0m                 \u001b[0margs\u001b[0m \u001b[0;34m=\u001b[0m \u001b[0margs\u001b[0m\u001b[0;34m[\u001b[0m\u001b[0;36m1\u001b[0m\u001b[0;34m:\u001b[0m\u001b[0;34m]\u001b[0m\u001b[0;34m\u001b[0m\u001b[0;34m\u001b[0m\u001b[0m\n\u001b[0;32m--> 312\u001b[0;31m             \u001b[0;32myield\u001b[0m \u001b[0;32mfrom\u001b[0m \u001b[0mself\u001b[0m\u001b[0;34m.\u001b[0m\u001b[0m_plot_args\u001b[0m\u001b[0;34m(\u001b[0m\u001b[0mthis\u001b[0m\u001b[0;34m,\u001b[0m \u001b[0mkwargs\u001b[0m\u001b[0;34m)\u001b[0m\u001b[0;34m\u001b[0m\u001b[0;34m\u001b[0m\u001b[0m\n\u001b[0m\u001b[1;32m    313\u001b[0m \u001b[0;34m\u001b[0m\u001b[0m\n\u001b[1;32m    314\u001b[0m     \u001b[0;32mdef\u001b[0m \u001b[0mget_next_color\u001b[0m\u001b[0;34m(\u001b[0m\u001b[0mself\u001b[0m\u001b[0;34m)\u001b[0m\u001b[0;34m:\u001b[0m\u001b[0;34m\u001b[0m\u001b[0;34m\u001b[0m\u001b[0m\n",
      "\u001b[0;32m/Applications/anaconda3/envs/bootcamp/lib/python3.9/site-packages/matplotlib/axes/_base.py\u001b[0m in \u001b[0;36m_plot_args\u001b[0;34m(self, tup, kwargs, return_kwargs)\u001b[0m\n\u001b[1;32m    496\u001b[0m \u001b[0;34m\u001b[0m\u001b[0m\n\u001b[1;32m    497\u001b[0m         \u001b[0;32mif\u001b[0m \u001b[0mx\u001b[0m\u001b[0;34m.\u001b[0m\u001b[0mshape\u001b[0m\u001b[0;34m[\u001b[0m\u001b[0;36m0\u001b[0m\u001b[0;34m]\u001b[0m \u001b[0;34m!=\u001b[0m \u001b[0my\u001b[0m\u001b[0;34m.\u001b[0m\u001b[0mshape\u001b[0m\u001b[0;34m[\u001b[0m\u001b[0;36m0\u001b[0m\u001b[0;34m]\u001b[0m\u001b[0;34m:\u001b[0m\u001b[0;34m\u001b[0m\u001b[0;34m\u001b[0m\u001b[0m\n\u001b[0;32m--> 498\u001b[0;31m             raise ValueError(f\"x and y must have same first dimension, but \"\n\u001b[0m\u001b[1;32m    499\u001b[0m                              f\"have shapes {x.shape} and {y.shape}\")\n\u001b[1;32m    500\u001b[0m         \u001b[0;32mif\u001b[0m \u001b[0mx\u001b[0m\u001b[0;34m.\u001b[0m\u001b[0mndim\u001b[0m \u001b[0;34m>\u001b[0m \u001b[0;36m2\u001b[0m \u001b[0;32mor\u001b[0m \u001b[0my\u001b[0m\u001b[0;34m.\u001b[0m\u001b[0mndim\u001b[0m \u001b[0;34m>\u001b[0m \u001b[0;36m2\u001b[0m\u001b[0;34m:\u001b[0m\u001b[0;34m\u001b[0m\u001b[0;34m\u001b[0m\u001b[0m\n",
      "\u001b[0;31mValueError\u001b[0m: x and y must have same first dimension, but have shapes (91,) and (90,)"
     ]
    },
    {
     "data": {
      "image/png": "[encoded data removed]",
      "text/plain": [
       "<Figure size 1080x720 with 1 Axes>"
      ]
     },
     "metadata": {
      "needs_background": "light"
     },
     "output_type": "display_data"
    }
   ],
   "source": [
    "fig, ax1 = plt.subplots(figsize=(15,10))\n",
    "\n",
    "color = 'tab:red'\n",
    "ax1.set_xlabel('k = n_clusters')\n",
    "ax1.set_ylabel('inertia', color=color)\n",
    "ax1.plot(K, inertia, color=color)\n",
    "ax1.tick_params(axis='y', labelcolor=color)\n",
    "plt.locator_params(axis=\"x\", nbins=50)\n",
    "\n",
    "ax2 = ax1.twinx()\n",
    "\n",
    "color = 'tab:blue'\n",
    "ax2.set_ylabel('silhouette', color=color)\n",
    "ax2.plot(K, sil, color=color)\n",
    "ax2.tick_params(axis='y', labelcolor=color)\n",
    "\n",
    "fig.tight_layout()\n",
    "plt.show();"
   ]
  },
  {
   "cell_type": "markdown",
   "id": "5d0ef7bb",
   "metadata": {},
   "source": [
    "Previously, many other ranges were tried (in total, approximately from 5 to 1200). By looking at the elbows formed at the plot, we'll go with k=23. There seems to be the slightest elbow for inertia values there, and the silhouette is almost the highest (very close to k=1100) with presumably a lower processing time."
   ]
  },
  {
   "cell_type": "markdown",
   "id": "eae43822",
   "metadata": {},
   "source": [
    "# Assembling the final model with k=950"
   ]
  },
  {
   "cell_type": "code",
   "execution_count": 239,
   "id": "eb291a6e",
   "metadata": {},
   "outputs": [],
   "source": [
    "kmeans = KMeans(n_clusters=950, random_state=42)\n",
    "KMM = kmeans.fit(df_scaled)"
   ]
  },
  {
   "cell_type": "code",
   "execution_count": 241,
   "id": "d350333c",
   "metadata": {},
   "outputs": [
    {
     "data": {
      "text/plain": [
       "120    138\n",
       "359    136\n",
       "107    132\n",
       "274    130\n",
       "439    125\n",
       "      ... \n",
       "723      2\n",
       "149      2\n",
       "314      2\n",
       "884      2\n",
       "671      1\n",
       "Name: cluster, Length: 950, dtype: int64"
      ]
     },
     "execution_count": 241,
     "metadata": {},
     "output_type": "execute_result"
    }
   ],
   "source": [
    "df_cluster = df_scaled\n",
    "df_cluster['cluster'] = KMM.labels_\n",
    "df_cluster['cluster'].value_counts()"
   ]
  },
  {
   "cell_type": "markdown",
   "id": "e2b6161b",
   "metadata": {},
   "source": [
    "## Pickling the model to use it another time"
   ]
  },
  {
   "cell_type": "code",
   "execution_count": 242,
   "id": "a552c061",
   "metadata": {},
   "outputs": [],
   "source": [
    "import pickle\n",
    "filename = 'cm_model.sav'\n",
    "pickle.dump(KMM, open(filename, 'wb'))"
   ]
  },
  {
   "cell_type": "markdown",
   "id": "2b12620c",
   "metadata": {},
   "source": [
    "# Integrating the model to the recommender flow (see flow chart in the repo)"
   ]
  },
  {
   "cell_type": "code",
   "execution_count": 243,
   "id": "7c09c1b6",
   "metadata": {},
   "outputs": [],
   "source": [
    "def spotify_display(song_name_id):\n",
    "    from IPython.core.display import display\n",
    "    from IPython.display import IFrame\n",
    "    display(IFrame(src=f\"https://open.spotify.com/embed/track/{song_name_id}\",\n",
    "                    width=\"320\",\n",
    "                    height=\"80\",\n",
    "                    frameborder=\"0\",\n",
    "                    allowtransparency=\"true\",\n",
    "                    allow=\"encrypted-media\",))"
   ]
  },
  {
   "cell_type": "code",
   "execution_count": 244,
   "id": "7c92c380",
   "metadata": {},
   "outputs": [],
   "source": [
    "from fun import *\n",
    "top100 = top100()"
   ]
  },
  {
   "cell_type": "code",
   "execution_count": 253,
   "id": "c2606afc",
   "metadata": {},
   "outputs": [],
   "source": [
    "song_sp = sp.search('Forever Young', type='track')"
   ]
  },
  {
   "cell_type": "code",
   "execution_count": 256,
   "id": "d7b460d1",
   "metadata": {},
   "outputs": [
    {
     "data": {
      "text/plain": [
       "'spotify:track:4S1VYqwfkLit9mKVY3MXoo'"
      ]
     },
     "execution_count": 256,
     "metadata": {},
     "output_type": "execute_result"
    }
   ],
   "source": [
    "song_sp['tracks']['items'][0]['uri']"
   ]
  },
  {
   "cell_type": "code",
   "execution_count": null,
   "id": "163f3e6c",
   "metadata": {},
   "outputs": [],
   "source": [
    "def recommender_clustering():\n",
    "    # Imports\n",
    "    import spotipy\n",
    "    from spotipy.oauth2 import SpotifyClientCredentials\n",
    "    import getpass\n",
    "    import pandas as pd\n",
    "    import numpy as np\n",
    "    from fuzzywuzzy import fuzz\n",
    "    # Main loop\n",
    "    go_again = True\n",
    "    while go_again:\n",
    "        song = input('Write the title of a song you like to find similar ones: ')\n",
    "        best_match = ()\n",
    "        # Getting the best match from billboard Hot100 using Levenshtein's ratio\n",
    "        for index, name in top100['song_title'].iteritems():\n",
    "            ratio = fuzz.partial_ratio(name.lower(), song.lower())\n",
    "            if len(best_match) == 0:\n",
    "                best_match = (index, ratio)\n",
    "            else:\n",
    "                if ratio > best_match[1]:\n",
    "                    best_match = (index, ratio)\n",
    "        # Match in Hot100\n",
    "        while True:\n",
    "            print(\"\\nI'm checking the Billboard Hot 100 first.\")\n",
    "            prompt = input(f'\\nIs your song {top100.iloc[best_match[0]].song_title} by {top100.iloc[best_match[0]].artists}? Type yes/no: ')\n",
    "            # Song in Hot100, recommend another one from the list.\n",
    "            if prompt.lower() == 'yes':\n",
    "                pick = top100.drop(best_match[0]).sample()\n",
    "                song_title = pick.song_title.item()\n",
    "                artist = pick.artists.item()\n",
    "                recommendation = f'{song_title} by {artist}'\n",
    "                print(f'\\nNice choice! Try listening to {recommendation}, which another HOT song.')\n",
    "                break\n",
    "            elif prompt.lower() == 'no':\n",
    "                # Song not in Hot100, search in Spotify and promp user to confirm again\n",
    "                print(\"\\nOkay, let me find a better match in Spotify...\")\n",
    "                song_sp = sp.search(song, type='track')\n",
    "                if len(song_sp['tracks']['items']) == 0:\n",
    "                    print(\"\\nSorry, I didn't catch that!\")\n",
    "                else:\n",
    "                    while True:\n",
    "                        song_name = song_sp['tracks']['items'][0]['name']\n",
    "                        artist_name = song_sp['tracks']['items'][0]['artists'][0]['name']\n",
    "                        prompt = input(f'\\nOkay, I found something! Are you referring to {song_name} by {artist_name}? Type yes/no: ')\n",
    "                        if prompt.lower() == 'yes':\n",
    "                            id_recom = song_sp['tracks']['items'][0]['id']\n",
    "                            uri = song_sp['tracks']['items'][0]['uri']\n",
    "                            feat = sp.audio_features(tracks=[id_recom])[0]\n",
    "                            keys_to_remove = [\"id\", \"uri\", \"track_href\", \"analysis_url\", \"type\"]\n",
    "                            for key in keys_to_remove:\n",
    "                                feat.pop(key)\n",
    "                            col_names = list(df_cluster.drop(['cluster'], axis=1).columns)\n",
    "                            new_song = pd.DataFrame(data = feat, columns=col_names, index=[0])\n",
    "                            new_song_scaled = pd.DataFrame(scaler.transform(new_song), columns=col_names)\n",
    "                            cluster = KMM.predict(new_song_scaled)[0]\n",
    "                            print(f\"\\nThe predicted cluster for the song {song_name} is {cluster}\")\n",
    "                            index = df_cluster[df_cluster.cluster == cluster].sample().index.values[0]\n",
    "                            while uri == df.iloc[index].name:\n",
    "                                index = df_cluster[df_cluster.cluster == cluster].sample().index.values[0]\n",
    "                            recom = sp.track(df.iloc[index].name)\n",
    "                            song_recom = recom['name']\n",
    "                            artist_recom = recom['artists'][0]['name']\n",
    "                            print(f'\\nNice! Then try listening to {song_recom} by {artist_recom}. You can listen to it now!')\n",
    "                            spotify_display(recom['id'])\n",
    "                            recom_cluster = round(df_cluster.iloc[index].cluster.item())\n",
    "                            print(f'\\nThe cluster of the recommended song is {recom_cluster}')\n",
    "                            break\n",
    "                        elif prompt.lower() == 'no':\n",
    "                            print(\"\\nI'm sorry, I can't seem to find the song you're looking for!\")\n",
    "                            break\n",
    "                        else:\n",
    "                            print(\"\\nSorry, I didn't catch that, you need to type either 'yes' or 'no'.\")\n",
    "                break\n",
    "            else:\n",
    "                print(\"\\nSorry, I didn't catch that, you need to type either 'yes' or 'no'.\")\n",
    "        \n",
    "        while True:\n",
    "            again = input('\\nDo you wanna use the awesome recommender again? Type yes/no: ')\n",
    "            if again.lower() == 'no':\n",
    "                go_again = False\n",
    "                print('\\nOk, thanks for using the awesome recommender!')\n",
    "                break\n",
    "            elif again.lower() == 'yes':\n",
    "                break\n",
    "            else:\n",
    "                 print(\"\\nSorry, I didn't catch that, you need to type either 'yes' or 'no'.\")\n",
    "\n",
    "\n"
   ]
  },
  {
   "cell_type": "code",
   "execution_count": 267,
   "id": "1c776e5e",
   "metadata": {
    "scrolled": false
   },
   "outputs": [
    {
     "name": "stdout",
     "output_type": "stream",
     "text": [
      "Write the title of a song you like to find similar ones: tame pixies\n",
      "\n",
      "I'm checking the Billboard Hot 100 first.\n",
      "\n",
      "Is your song Surface Pressure by Jessica Darrow? Type yes/no: no\n",
      "\n",
      "Okay, let me find a better match in Spotify...\n",
      "\n",
      "Okay, I found something! Are you referring to Tame by Pixies? Type yes/no: yes\n"
     ]
    },
    {
     "data": {
      "text/html": [
       "\n",
       "        <iframe\n",
       "            width=\"320\"\n",
       "            height=\"80\"\n",
       "            src=\"https://open.spotify.com/embed/track/5pT6ORhZsIq14smtQp3POM?frameborder=0&allowtransparency=true&allow=encrypted-media\"\n",
       "            frameborder=\"0\"\n",
       "            allowfullscreen\n",
       "            \n",
       "        ></iframe>\n",
       "        "
      ],
      "text/plain": [
       "<IPython.lib.display.IFrame at 0x7f7a3d6aa0a0>"
      ]
     },
     "metadata": {},
     "output_type": "display_data"
    },
    {
     "name": "stdout",
     "output_type": "stream",
     "text": [
      "\n",
      "The predicted cluster for the song Tame is 307\n",
      "\n",
      "Nice! Then try listening to Cattle In The Cane by Norman Blake. You can listen to it now!\n"
     ]
    },
    {
     "data": {
      "text/html": [
       "\n",
       "        <iframe\n",
       "            width=\"320\"\n",
       "            height=\"80\"\n",
       "            src=\"https://open.spotify.com/embed/track/2Wuf6ERV0Yo8vNXOpq6SlB?frameborder=0&allowtransparency=true&allow=encrypted-media\"\n",
       "            frameborder=\"0\"\n",
       "            allowfullscreen\n",
       "            \n",
       "        ></iframe>\n",
       "        "
      ],
      "text/plain": [
       "<IPython.lib.display.IFrame at 0x7f7a40aa4dc0>"
      ]
     },
     "metadata": {},
     "output_type": "display_data"
    },
    {
     "name": "stdout",
     "output_type": "stream",
     "text": [
      "\n",
      "The cluster of the recommended song is 307\n",
      "\n",
      "Do you wanna use the awesome recommender again? Type yes/no: no\n",
      "\n",
      "Ok, thanks for using the awesome recommender!\n"
     ]
    }
   ],
   "source": [
    "recommender_clustering()"
   ]
  }
 ],
 "metadata": {
  "kernelspec": {
   "display_name": "Python 3 (ipykernel)",
   "language": "python",
   "name": "python3"
  },
  "language_info": {
   "codemirror_mode": {
    "name": "ipython",
    "version": 3
   },
   "file_extension": ".py",
   "mimetype": "text/x-python",
   "name": "python",
   "nbconvert_exporter": "python",
   "pygments_lexer": "ipython3",
   "version": "3.9.7"
  },
  "toc": {
   "base_numbering": 1,
   "nav_menu": {},
   "number_sections": true,
   "sideBar": true,
   "skip_h1_title": false,
   "title_cell": "Table of Contents",
   "title_sidebar": "Contents",
   "toc_cell": false,
   "toc_position": {},
   "toc_section_display": true,
   "toc_window_display": false
  }
 },
 "nbformat": 4,
 "nbformat_minor": 5
}
