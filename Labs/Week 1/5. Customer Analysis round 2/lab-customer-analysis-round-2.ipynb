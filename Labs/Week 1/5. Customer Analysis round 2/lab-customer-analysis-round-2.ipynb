{
 "cells": [
  {
   "cell_type": "code",
   "execution_count": 4,
   "id": "64b14cdd",
   "metadata": {},
   "outputs": [],
   "source": [
    "import pandas as pd\n",
    "import numpy as np"
   ]
  },
  {
   "cell_type": "code",
   "execution_count": 5,
   "id": "fef87d8f",
   "metadata": {},
   "outputs": [],
   "source": [
    "df = pd.read_csv('marketing_customer_analysis.csv')"
   ]
  },
  {
   "cell_type": "markdown",
   "id": "9bdca360",
   "metadata": {},
   "source": [
    "# Show the dataframe shape"
   ]
  },
  {
   "cell_type": "code",
   "execution_count": 6,
   "id": "38c4415b",
   "metadata": {},
   "outputs": [
    {
     "data": {
      "text/plain": [
       "(10910, 26)"
      ]
     },
     "execution_count": 6,
     "metadata": {},
     "output_type": "execute_result"
    }
   ],
   "source": [
    "df.shape"
   ]
  },
  {
   "cell_type": "markdown",
   "id": "f0586f9f",
   "metadata": {},
   "source": [
    "# Standardize header names"
   ]
  },
  {
   "cell_type": "code",
   "execution_count": 12,
   "id": "9cf6d429",
   "metadata": {},
   "outputs": [
    {
     "data": {
      "text/plain": [
       "Index(['unnamed_0', 'customer', 'state', 'customer_lifetime_value', 'response',\n",
       "       'coverage', 'education', 'effective_to_date', 'employmentstatus',\n",
       "       'gender', 'income', 'location_code', 'marital_status',\n",
       "       'monthly_premium_auto', 'months_since_last_claim',\n",
       "       'months_since_policy_inception', 'number_of_open_complaints',\n",
       "       'number_of_policies', 'policy_type', 'policy', 'renew_offer_type',\n",
       "       'sales_channel', 'total_claim_amount', 'vehicle_class', 'vehicle_size',\n",
       "       'vehicle_type'],\n",
       "      dtype='object')"
      ]
     },
     "execution_count": 12,
     "metadata": {},
     "output_type": "execute_result"
    }
   ],
   "source": [
    "cols = []\n",
    "for i in list(df.columns):\n",
    "    cols.append(i.lower().replace(' ', '_').replace(':', ''))\n",
    "df.columns = cols\n",
    "df.columns"
   ]
  },
  {
   "cell_type": "markdown",
   "id": "8c20c9e9",
   "metadata": {},
   "source": [
    "# Which columns are numerical?"
   ]
  },
  {
   "cell_type": "code",
   "execution_count": 18,
   "id": "a29fa662",
   "metadata": {},
   "outputs": [
    {
     "name": "stdout",
     "output_type": "stream",
     "text": [
      "The columns ['unnamed_0', 'customer_lifetime_value', 'income', 'monthly_premium_auto', 'months_since_last_claim', 'months_since_policy_inception', 'number_of_open_complaints', 'number_of_policies', 'total_claim_amount'] are numerical.\n"
     ]
    }
   ],
   "source": [
    "num_cols = list(df.select_dtypes([np.number]).columns)\n",
    "print(f'The columns {num_cols} are numerical.')"
   ]
  },
  {
   "cell_type": "markdown",
   "id": "afba31d4",
   "metadata": {},
   "source": [
    "# Which columns are categorical?"
   ]
  },
  {
   "cell_type": "code",
   "execution_count": 22,
   "id": "1d6f5a24",
   "metadata": {},
   "outputs": [
    {
     "name": "stdout",
     "output_type": "stream",
     "text": [
      "The columns ['customer', 'state', 'response', 'coverage', 'education', 'effective_to_date', 'employmentstatus', 'gender', 'location_code', 'marital_status', 'policy_type', 'policy', 'renew_offer_type', 'sales_channel', 'vehicle_class', 'vehicle_size', 'vehicle_type'] are categorical.\n"
     ]
    }
   ],
   "source": [
    "cat_cols = list(df.select_dtypes(exclude=['number','bool_']).columns)\n",
    "print(f'The columns {cat_cols} are categorical.')"
   ]
  },
  {
   "cell_type": "markdown",
   "id": "4b255177",
   "metadata": {},
   "source": [
    "# Check and deal with NaN values"
   ]
  },
  {
   "cell_type": "markdown",
   "id": "22912a01",
   "metadata": {},
   "source": [
    "First, we will remove all rows in which all values are NaN."
   ]
  },
  {
   "cell_type": "code",
   "execution_count": 27,
   "id": "8448f035",
   "metadata": {},
   "outputs": [],
   "source": [
    "df = df.dropna(how='all')\n",
    "df.reset_index(drop=True, inplace=True)"
   ]
  },
  {
   "cell_type": "markdown",
   "id": "aabe7174",
   "metadata": {},
   "source": [
    "Then, we'll deal with NaN values in numerical columns. We'll be replacing them by the median of their own column, because, although the mean and median are not very different, the former might be influed by outliers."
   ]
  },
  {
   "cell_type": "code",
   "execution_count": 28,
   "id": "4ce57538",
   "metadata": {},
   "outputs": [],
   "source": [
    "med_months = df['months_since_last_claim'].median()\n",
    "med_num = df['number_of_open_complaints'].median()\n",
    "df['months_since_last_claim'] = df['months_since_last_claim'].fillna(med_months)\n",
    "df['number_of_open_complaints'] = df['number_of_open_complaints'].fillna(med_num)"
   ]
  },
  {
   "cell_type": "markdown",
   "id": "d665fde5",
   "metadata": {},
   "source": [
    "Finally, we'll adress the NaN values in categorical columns. In this case, we'll replace them by the string 'Unknown'. Since these are the only NULLS pending, we can just apply the function fillna() to the whole DataFrame."
   ]
  },
  {
   "cell_type": "code",
   "execution_count": 29,
   "id": "38bac1ba",
   "metadata": {},
   "outputs": [],
   "source": [
    "df = df.fillna('Unknown')"
   ]
  },
  {
   "cell_type": "code",
   "execution_count": 30,
   "id": "fa8d8cf2",
   "metadata": {
    "collapsed": true
   },
   "outputs": [
    {
     "data": {
      "text/html": [
       "<div>\n",
       "<style scoped>\n",
       "    .dataframe tbody tr th:only-of-type {\n",
       "        vertical-align: middle;\n",
       "    }\n",
       "\n",
       "    .dataframe tbody tr th {\n",
       "        vertical-align: top;\n",
       "    }\n",
       "\n",
       "    .dataframe thead th {\n",
       "        text-align: right;\n",
       "    }\n",
       "</style>\n",
       "<table border=\"1\" class=\"dataframe\">\n",
       "  <thead>\n",
       "    <tr style=\"text-align: right;\">\n",
       "      <th></th>\n",
       "      <th>prop_nulls</th>\n",
       "    </tr>\n",
       "    <tr>\n",
       "      <th>header</th>\n",
       "      <th></th>\n",
       "    </tr>\n",
       "  </thead>\n",
       "  <tbody>\n",
       "    <tr>\n",
       "      <th>unnamed_0</th>\n",
       "      <td>0.0</td>\n",
       "    </tr>\n",
       "    <tr>\n",
       "      <th>customer</th>\n",
       "      <td>0.0</td>\n",
       "    </tr>\n",
       "    <tr>\n",
       "      <th>state</th>\n",
       "      <td>0.0</td>\n",
       "    </tr>\n",
       "    <tr>\n",
       "      <th>customer_lifetime_value</th>\n",
       "      <td>0.0</td>\n",
       "    </tr>\n",
       "    <tr>\n",
       "      <th>response</th>\n",
       "      <td>0.0</td>\n",
       "    </tr>\n",
       "    <tr>\n",
       "      <th>coverage</th>\n",
       "      <td>0.0</td>\n",
       "    </tr>\n",
       "    <tr>\n",
       "      <th>education</th>\n",
       "      <td>0.0</td>\n",
       "    </tr>\n",
       "    <tr>\n",
       "      <th>effective_to_date</th>\n",
       "      <td>0.0</td>\n",
       "    </tr>\n",
       "    <tr>\n",
       "      <th>employmentstatus</th>\n",
       "      <td>0.0</td>\n",
       "    </tr>\n",
       "    <tr>\n",
       "      <th>gender</th>\n",
       "      <td>0.0</td>\n",
       "    </tr>\n",
       "    <tr>\n",
       "      <th>income</th>\n",
       "      <td>0.0</td>\n",
       "    </tr>\n",
       "    <tr>\n",
       "      <th>location_code</th>\n",
       "      <td>0.0</td>\n",
       "    </tr>\n",
       "    <tr>\n",
       "      <th>marital_status</th>\n",
       "      <td>0.0</td>\n",
       "    </tr>\n",
       "    <tr>\n",
       "      <th>monthly_premium_auto</th>\n",
       "      <td>0.0</td>\n",
       "    </tr>\n",
       "    <tr>\n",
       "      <th>months_since_last_claim</th>\n",
       "      <td>0.0</td>\n",
       "    </tr>\n",
       "    <tr>\n",
       "      <th>months_since_policy_inception</th>\n",
       "      <td>0.0</td>\n",
       "    </tr>\n",
       "    <tr>\n",
       "      <th>number_of_open_complaints</th>\n",
       "      <td>0.0</td>\n",
       "    </tr>\n",
       "    <tr>\n",
       "      <th>number_of_policies</th>\n",
       "      <td>0.0</td>\n",
       "    </tr>\n",
       "    <tr>\n",
       "      <th>policy_type</th>\n",
       "      <td>0.0</td>\n",
       "    </tr>\n",
       "    <tr>\n",
       "      <th>policy</th>\n",
       "      <td>0.0</td>\n",
       "    </tr>\n",
       "    <tr>\n",
       "      <th>renew_offer_type</th>\n",
       "      <td>0.0</td>\n",
       "    </tr>\n",
       "    <tr>\n",
       "      <th>sales_channel</th>\n",
       "      <td>0.0</td>\n",
       "    </tr>\n",
       "    <tr>\n",
       "      <th>total_claim_amount</th>\n",
       "      <td>0.0</td>\n",
       "    </tr>\n",
       "    <tr>\n",
       "      <th>vehicle_class</th>\n",
       "      <td>0.0</td>\n",
       "    </tr>\n",
       "    <tr>\n",
       "      <th>vehicle_size</th>\n",
       "      <td>0.0</td>\n",
       "    </tr>\n",
       "    <tr>\n",
       "      <th>vehicle_type</th>\n",
       "      <td>0.0</td>\n",
       "    </tr>\n",
       "  </tbody>\n",
       "</table>\n",
       "</div>"
      ],
      "text/plain": [
       "                               prop_nulls\n",
       "header                                   \n",
       "unnamed_0                             0.0\n",
       "customer                              0.0\n",
       "state                                 0.0\n",
       "customer_lifetime_value               0.0\n",
       "response                              0.0\n",
       "coverage                              0.0\n",
       "education                             0.0\n",
       "effective_to_date                     0.0\n",
       "employmentstatus                      0.0\n",
       "gender                                0.0\n",
       "income                                0.0\n",
       "location_code                         0.0\n",
       "marital_status                        0.0\n",
       "monthly_premium_auto                  0.0\n",
       "months_since_last_claim               0.0\n",
       "months_since_policy_inception         0.0\n",
       "number_of_open_complaints             0.0\n",
       "number_of_policies                    0.0\n",
       "policy_type                           0.0\n",
       "policy                                0.0\n",
       "renew_offer_type                      0.0\n",
       "sales_channel                         0.0\n",
       "total_claim_amount                    0.0\n",
       "vehicle_class                         0.0\n",
       "vehicle_size                          0.0\n",
       "vehicle_type                          0.0"
      ]
     },
     "execution_count": 30,
     "metadata": {},
     "output_type": "execute_result"
    }
   ],
   "source": [
    "#snapshot table for handling nulls\n",
    "nulls_df = pd.DataFrame(round(df.isna().sum()/len(df), 4) * 100)\n",
    "nulls_df = nulls_df.rename(columns={'index':'header', 0: 'prop_nulls'})\n",
    "nulls_df.index.name = 'header'\n",
    "nulls_df"
   ]
  },
  {
   "cell_type": "markdown",
   "id": "c3a1d2d6",
   "metadata": {},
   "source": [
    "# Datetime format - Extract the months from the dataset and store in a separate column"
   ]
  },
  {
   "cell_type": "markdown",
   "id": "9319b029",
   "metadata": {},
   "source": [
    "First, we will import the necessary modules and convert the column effective_to_date to datetime type."
   ]
  },
  {
   "cell_type": "code",
   "execution_count": 33,
   "id": "a7ce3d67",
   "metadata": {},
   "outputs": [],
   "source": [
    "from datetime import date"
   ]
  },
  {
   "cell_type": "code",
   "execution_count": 36,
   "id": "6dfc4499",
   "metadata": {},
   "outputs": [],
   "source": [
    "df['effective_to_date'] = pd.to_datetime(df['effective_to_date'], errors='coerce')"
   ]
  },
  {
   "cell_type": "markdown",
   "id": "d197fad9",
   "metadata": {},
   "source": [
    "Then, we will create a new column in our dataframe with the value of the month for each row, which we will have extracted from the effective_to_date column."
   ]
  },
  {
   "cell_type": "code",
   "execution_count": 37,
   "id": "1c963b2d",
   "metadata": {},
   "outputs": [],
   "source": [
    "df['month'] = df['effective_to_date'].dt.strftime('%m')"
   ]
  },
  {
   "cell_type": "markdown",
   "id": "04fdb4bb",
   "metadata": {},
   "source": [
    "## Filter the data to show only the information for the first quarter"
   ]
  },
  {
   "cell_type": "markdown",
   "id": "21a7dac4",
   "metadata": {},
   "source": [
    "Once we have extracted the month for each row and stored it in a new column, we will filter the dataframe and create a new one with only the results from the frist quarter (months 01, 02 and 03)."
   ]
  },
  {
   "cell_type": "code",
   "execution_count": 54,
   "id": "f279b07c",
   "metadata": {},
   "outputs": [
    {
     "data": {
      "text/html": [
       "<div>\n",
       "<style scoped>\n",
       "    .dataframe tbody tr th:only-of-type {\n",
       "        vertical-align: middle;\n",
       "    }\n",
       "\n",
       "    .dataframe tbody tr th {\n",
       "        vertical-align: top;\n",
       "    }\n",
       "\n",
       "    .dataframe thead th {\n",
       "        text-align: right;\n",
       "    }\n",
       "</style>\n",
       "<table border=\"1\" class=\"dataframe\">\n",
       "  <thead>\n",
       "    <tr style=\"text-align: right;\">\n",
       "      <th></th>\n",
       "      <th>unnamed_0</th>\n",
       "      <th>customer</th>\n",
       "      <th>state</th>\n",
       "      <th>customer_lifetime_value</th>\n",
       "      <th>response</th>\n",
       "      <th>coverage</th>\n",
       "      <th>education</th>\n",
       "      <th>effective_to_date</th>\n",
       "      <th>employmentstatus</th>\n",
       "      <th>gender</th>\n",
       "      <th>...</th>\n",
       "      <th>number_of_policies</th>\n",
       "      <th>policy_type</th>\n",
       "      <th>policy</th>\n",
       "      <th>renew_offer_type</th>\n",
       "      <th>sales_channel</th>\n",
       "      <th>total_claim_amount</th>\n",
       "      <th>vehicle_class</th>\n",
       "      <th>vehicle_size</th>\n",
       "      <th>vehicle_type</th>\n",
       "      <th>month</th>\n",
       "    </tr>\n",
       "  </thead>\n",
       "  <tbody>\n",
       "    <tr>\n",
       "      <th>0</th>\n",
       "      <td>0</td>\n",
       "      <td>DK49336</td>\n",
       "      <td>Arizona</td>\n",
       "      <td>4809.216960</td>\n",
       "      <td>No</td>\n",
       "      <td>Basic</td>\n",
       "      <td>College</td>\n",
       "      <td>2011-02-18</td>\n",
       "      <td>Employed</td>\n",
       "      <td>M</td>\n",
       "      <td>...</td>\n",
       "      <td>9</td>\n",
       "      <td>Corporate Auto</td>\n",
       "      <td>Corporate L3</td>\n",
       "      <td>Offer3</td>\n",
       "      <td>Agent</td>\n",
       "      <td>292.800000</td>\n",
       "      <td>Four-Door Car</td>\n",
       "      <td>Medsize</td>\n",
       "      <td>Unknown</td>\n",
       "      <td>02</td>\n",
       "    </tr>\n",
       "    <tr>\n",
       "      <th>1</th>\n",
       "      <td>1</td>\n",
       "      <td>KX64629</td>\n",
       "      <td>California</td>\n",
       "      <td>2228.525238</td>\n",
       "      <td>No</td>\n",
       "      <td>Basic</td>\n",
       "      <td>College</td>\n",
       "      <td>2011-01-18</td>\n",
       "      <td>Unemployed</td>\n",
       "      <td>F</td>\n",
       "      <td>...</td>\n",
       "      <td>1</td>\n",
       "      <td>Personal Auto</td>\n",
       "      <td>Personal L3</td>\n",
       "      <td>Offer4</td>\n",
       "      <td>Call Center</td>\n",
       "      <td>744.924331</td>\n",
       "      <td>Four-Door Car</td>\n",
       "      <td>Medsize</td>\n",
       "      <td>Unknown</td>\n",
       "      <td>01</td>\n",
       "    </tr>\n",
       "    <tr>\n",
       "      <th>2</th>\n",
       "      <td>2</td>\n",
       "      <td>LZ68649</td>\n",
       "      <td>Washington</td>\n",
       "      <td>14947.917300</td>\n",
       "      <td>No</td>\n",
       "      <td>Basic</td>\n",
       "      <td>Bachelor</td>\n",
       "      <td>2011-02-10</td>\n",
       "      <td>Employed</td>\n",
       "      <td>M</td>\n",
       "      <td>...</td>\n",
       "      <td>2</td>\n",
       "      <td>Personal Auto</td>\n",
       "      <td>Personal L3</td>\n",
       "      <td>Offer3</td>\n",
       "      <td>Call Center</td>\n",
       "      <td>480.000000</td>\n",
       "      <td>SUV</td>\n",
       "      <td>Medsize</td>\n",
       "      <td>A</td>\n",
       "      <td>02</td>\n",
       "    </tr>\n",
       "    <tr>\n",
       "      <th>3</th>\n",
       "      <td>3</td>\n",
       "      <td>XL78013</td>\n",
       "      <td>Oregon</td>\n",
       "      <td>22332.439460</td>\n",
       "      <td>Yes</td>\n",
       "      <td>Extended</td>\n",
       "      <td>College</td>\n",
       "      <td>2011-01-11</td>\n",
       "      <td>Employed</td>\n",
       "      <td>M</td>\n",
       "      <td>...</td>\n",
       "      <td>2</td>\n",
       "      <td>Corporate Auto</td>\n",
       "      <td>Corporate L3</td>\n",
       "      <td>Offer2</td>\n",
       "      <td>Branch</td>\n",
       "      <td>484.013411</td>\n",
       "      <td>Four-Door Car</td>\n",
       "      <td>Medsize</td>\n",
       "      <td>A</td>\n",
       "      <td>01</td>\n",
       "    </tr>\n",
       "    <tr>\n",
       "      <th>4</th>\n",
       "      <td>4</td>\n",
       "      <td>QA50777</td>\n",
       "      <td>Oregon</td>\n",
       "      <td>9025.067525</td>\n",
       "      <td>No</td>\n",
       "      <td>Premium</td>\n",
       "      <td>Bachelor</td>\n",
       "      <td>2011-01-17</td>\n",
       "      <td>Medical Leave</td>\n",
       "      <td>F</td>\n",
       "      <td>...</td>\n",
       "      <td>7</td>\n",
       "      <td>Personal Auto</td>\n",
       "      <td>Personal L2</td>\n",
       "      <td>Offer1</td>\n",
       "      <td>Branch</td>\n",
       "      <td>707.925645</td>\n",
       "      <td>Four-Door Car</td>\n",
       "      <td>Medsize</td>\n",
       "      <td>Unknown</td>\n",
       "      <td>01</td>\n",
       "    </tr>\n",
       "  </tbody>\n",
       "</table>\n",
       "<p>5 rows × 27 columns</p>\n",
       "</div>"
      ],
      "text/plain": [
       "   unnamed_0 customer       state  customer_lifetime_value response  coverage  \\\n",
       "0          0  DK49336     Arizona              4809.216960       No     Basic   \n",
       "1          1  KX64629  California              2228.525238       No     Basic   \n",
       "2          2  LZ68649  Washington             14947.917300       No     Basic   \n",
       "3          3  XL78013      Oregon             22332.439460      Yes  Extended   \n",
       "4          4  QA50777      Oregon              9025.067525       No   Premium   \n",
       "\n",
       "  education effective_to_date employmentstatus gender  ...  \\\n",
       "0   College        2011-02-18         Employed      M  ...   \n",
       "1   College        2011-01-18       Unemployed      F  ...   \n",
       "2  Bachelor        2011-02-10         Employed      M  ...   \n",
       "3   College        2011-01-11         Employed      M  ...   \n",
       "4  Bachelor        2011-01-17    Medical Leave      F  ...   \n",
       "\n",
       "   number_of_policies     policy_type        policy  renew_offer_type  \\\n",
       "0                   9  Corporate Auto  Corporate L3            Offer3   \n",
       "1                   1   Personal Auto   Personal L3            Offer4   \n",
       "2                   2   Personal Auto   Personal L3            Offer3   \n",
       "3                   2  Corporate Auto  Corporate L3            Offer2   \n",
       "4                   7   Personal Auto   Personal L2            Offer1   \n",
       "\n",
       "   sales_channel  total_claim_amount  vehicle_class  vehicle_size  \\\n",
       "0          Agent          292.800000  Four-Door Car       Medsize   \n",
       "1    Call Center          744.924331  Four-Door Car       Medsize   \n",
       "2    Call Center          480.000000            SUV       Medsize   \n",
       "3         Branch          484.013411  Four-Door Car       Medsize   \n",
       "4         Branch          707.925645  Four-Door Car       Medsize   \n",
       "\n",
       "  vehicle_type month  \n",
       "0      Unknown    02  \n",
       "1      Unknown    01  \n",
       "2            A    02  \n",
       "3            A    01  \n",
       "4      Unknown    01  \n",
       "\n",
       "[5 rows x 27 columns]"
      ]
     },
     "execution_count": 54,
     "metadata": {},
     "output_type": "execute_result"
    }
   ],
   "source": [
    "months = ['01', '02', '03']\n",
    "first_quarter = df[df.month.isin(months)]\n",
    "first_quarter.head()"
   ]
  },
  {
   "cell_type": "markdown",
   "id": "8da21a59",
   "metadata": {},
   "source": [
    "# BONUS: Put all the previously mentioned data transformations into a function"
   ]
  },
  {
   "cell_type": "code",
   "execution_count": null,
   "id": "cdbb39aa",
   "metadata": {},
   "outputs": [],
   "source": []
  }
 ],
 "metadata": {
  "kernelspec": {
   "display_name": "Python 3 (ipykernel)",
   "language": "python",
   "name": "python3"
  },
  "language_info": {
   "codemirror_mode": {
    "name": "ipython",
    "version": 3
   },
   "file_extension": ".py",
   "mimetype": "text/x-python",
   "name": "python",
   "nbconvert_exporter": "python",
   "pygments_lexer": "ipython3",
   "version": "3.9.7"
  },
  "toc": {
   "base_numbering": 1,
   "nav_menu": {},
   "number_sections": true,
   "sideBar": true,
   "skip_h1_title": false,
   "title_cell": "Table of Contents",
   "title_sidebar": "Contents",
   "toc_cell": false,
   "toc_position": {},
   "toc_section_display": true,
   "toc_window_display": false
  }
 },
 "nbformat": 4,
 "nbformat_minor": 5
}
