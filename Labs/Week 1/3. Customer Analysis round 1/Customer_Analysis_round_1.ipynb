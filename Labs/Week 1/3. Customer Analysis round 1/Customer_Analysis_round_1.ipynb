{
 "cells": [
  {
   "cell_type": "markdown",
   "id": "2b5901c5",
   "metadata": {
    "toc": true
   },
   "source": [
    "<h1>Table of Contents<span class=\"tocSkip\"></span></h1>\n",
    "<div class=\"toc\"><ul class=\"toc-item\"><li><span><a href=\"#Read-the-three-files-into-python-as-dataframes\" data-toc-modified-id=\"Read-the-three-files-into-python-as-dataframes-1\"><span class=\"toc-item-num\">1&nbsp;&nbsp;</span>Read the three files into python as dataframes</a></span></li><li><span><a href=\"#Show-the-DataFrame's-shape\" data-toc-modified-id=\"Show-the-DataFrame's-shape-2\"><span class=\"toc-item-num\">2&nbsp;&nbsp;</span>Show the DataFrame's shape</a></span></li><li><span><a href=\"#Standardize-header-names\" data-toc-modified-id=\"Standardize-header-names-3\"><span class=\"toc-item-num\">3&nbsp;&nbsp;</span>Standardize header names</a></span><ul class=\"toc-item\"><li><span><a href=\"#Renaming-headers-to-lowercase\" data-toc-modified-id=\"Renaming-headers-to-lowercase-3.1\"><span class=\"toc-item-num\">3.1&nbsp;&nbsp;</span>Renaming headers to lowercase</a></span></li><li><span><a href=\"#Fixing-name-discrepancies-between-files\" data-toc-modified-id=\"Fixing-name-discrepancies-between-files-3.2\"><span class=\"toc-item-num\">3.2&nbsp;&nbsp;</span>Fixing name discrepancies between files</a></span></li></ul></li><li><span><a href=\"#Concatenate-the-three-dataframes-(automatically-rearranges-columns)\" data-toc-modified-id=\"Concatenate-the-three-dataframes-(automatically-rearranges-columns)-4\"><span class=\"toc-item-num\">4&nbsp;&nbsp;</span>Concatenate the three dataframes (automatically rearranges columns)</a></span></li><li><span><a href=\"#Which-columns-are-numerical?\" data-toc-modified-id=\"Which-columns-are-numerical?-5\"><span class=\"toc-item-num\">5&nbsp;&nbsp;</span>Which columns are numerical?</a></span></li><li><span><a href=\"#Which-columns-are-categorical?\" data-toc-modified-id=\"Which-columns-are-categorical?-6\"><span class=\"toc-item-num\">6&nbsp;&nbsp;</span>Which columns are categorical?</a></span></li><li><span><a href=\"#Understand-the-meaning-of-all-columns\" data-toc-modified-id=\"Understand-the-meaning-of-all-columns-7\"><span class=\"toc-item-num\">7&nbsp;&nbsp;</span>Understand the meaning of all columns</a></span></li><li><span><a href=\"#Perform-the-following-data-cleaning-operations\" data-toc-modified-id=\"Perform-the-following-data-cleaning-operations-8\"><span class=\"toc-item-num\">8&nbsp;&nbsp;</span>Perform the following data cleaning operations</a></span><ul class=\"toc-item\"><li><span><a href=\"#Delete-the-column-education-and-the-number-of-open-complaints-from-the-dataframe\" data-toc-modified-id=\"Delete-the-column-education-and-the-number-of-open-complaints-from-the-dataframe-8.1\"><span class=\"toc-item-num\">8.1&nbsp;&nbsp;</span>Delete the column education and the number of open complaints from the dataframe</a></span></li><li><span><a href=\"#Correct-the-values-in-the-column-customer-lifetime-value.-They-are-given-as-a-percent,-so-multiply-them-by-100-and-change-dtype-to-numerical-type\" data-toc-modified-id=\"Correct-the-values-in-the-column-customer-lifetime-value.-They-are-given-as-a-percent,-so-multiply-them-by-100-and-change-dtype-to-numerical-type-8.2\"><span class=\"toc-item-num\">8.2&nbsp;&nbsp;</span>Correct the values in the column customer lifetime value. They are given as a percent, so multiply them by 100 and change dtype to numerical type</a></span></li><li><span><a href=\"#Check-for-duplicate-rows-in-the-data-and-remove-if-any\" data-toc-modified-id=\"Check-for-duplicate-rows-in-the-data-and-remove-if-any-8.3\"><span class=\"toc-item-num\">8.3&nbsp;&nbsp;</span>Check for duplicate rows in the data and remove if any</a></span></li><li><span><a href=\"#Filter-out-the-data-for-customers-who-have-an-income-of-0-or-less\" data-toc-modified-id=\"Filter-out-the-data-for-customers-who-have-an-income-of-0-or-less-8.4\"><span class=\"toc-item-num\">8.4&nbsp;&nbsp;</span>Filter out the data for customers who have an income of 0 or less</a></span></li></ul></li></ul></div>"
   ]
  },
  {
   "cell_type": "code",
   "execution_count": 1,
   "id": "a27a2724",
   "metadata": {},
   "outputs": [],
   "source": [
    "import pandas as pd\n",
    "import numpy as np"
   ]
  },
  {
   "cell_type": "markdown",
   "id": "da0920e7",
   "metadata": {},
   "source": [
    "# Read the three files into python as dataframes"
   ]
  },
  {
   "cell_type": "code",
   "execution_count": 2,
   "id": "bcabe95e",
   "metadata": {},
   "outputs": [],
   "source": [
    "file1 = pd.read_csv('file1.csv')\n",
    "file2 = pd.read_csv('file2.csv')\n",
    "file3 = pd.read_csv('file3.csv')"
   ]
  },
  {
   "cell_type": "markdown",
   "id": "15e7e06d",
   "metadata": {},
   "source": [
    "# Show the DataFrame's shape"
   ]
  },
  {
   "cell_type": "code",
   "execution_count": 5,
   "id": "a3448bb8",
   "metadata": {},
   "outputs": [
    {
     "name": "stdout",
     "output_type": "stream",
     "text": [
      "<class 'pandas.core.frame.DataFrame'>\n",
      "RangeIndex: 4008 entries, 0 to 4007\n",
      "Data columns (total 11 columns):\n",
      " #   Column                     Non-Null Count  Dtype  \n",
      "---  ------                     --------------  -----  \n",
      " 0   Customer                   1071 non-null   object \n",
      " 1   ST                         1071 non-null   object \n",
      " 2   GENDER                     954 non-null    object \n",
      " 3   Education                  1071 non-null   object \n",
      " 4   Customer Lifetime Value    1068 non-null   object \n",
      " 5   Income                     1071 non-null   float64\n",
      " 6   Monthly Premium Auto       1071 non-null   float64\n",
      " 7   Number of Open Complaints  1071 non-null   object \n",
      " 8   Policy Type                1071 non-null   object \n",
      " 9   Vehicle Class              1071 non-null   object \n",
      " 10  Total Claim Amount         1071 non-null   float64\n",
      "dtypes: float64(3), object(8)\n",
      "memory usage: 344.6+ KB\n"
     ]
    }
   ],
   "source": [
    "file1.info()\n",
    "# 4008 x 11"
   ]
  },
  {
   "cell_type": "code",
   "execution_count": 6,
   "id": "f14789c1",
   "metadata": {
    "scrolled": true
   },
   "outputs": [
    {
     "name": "stdout",
     "output_type": "stream",
     "text": [
      "<class 'pandas.core.frame.DataFrame'>\n",
      "RangeIndex: 996 entries, 0 to 995\n",
      "Data columns (total 11 columns):\n",
      " #   Column                     Non-Null Count  Dtype  \n",
      "---  ------                     --------------  -----  \n",
      " 0   Customer                   996 non-null    object \n",
      " 1   ST                         996 non-null    object \n",
      " 2   GENDER                     991 non-null    object \n",
      " 3   Education                  996 non-null    object \n",
      " 4   Customer Lifetime Value    992 non-null    object \n",
      " 5   Income                     996 non-null    int64  \n",
      " 6   Monthly Premium Auto       996 non-null    int64  \n",
      " 7   Number of Open Complaints  996 non-null    object \n",
      " 8   Total Claim Amount         996 non-null    float64\n",
      " 9   Policy Type                996 non-null    object \n",
      " 10  Vehicle Class              996 non-null    object \n",
      "dtypes: float64(1), int64(2), object(8)\n",
      "memory usage: 85.7+ KB\n"
     ]
    }
   ],
   "source": [
    "file2.info()\n",
    "# 996 x 11"
   ]
  },
  {
   "cell_type": "code",
   "execution_count": 7,
   "id": "e3b6af2a",
   "metadata": {},
   "outputs": [
    {
     "name": "stdout",
     "output_type": "stream",
     "text": [
      "<class 'pandas.core.frame.DataFrame'>\n",
      "RangeIndex: 7070 entries, 0 to 7069\n",
      "Data columns (total 11 columns):\n",
      " #   Column                     Non-Null Count  Dtype  \n",
      "---  ------                     --------------  -----  \n",
      " 0   Customer                   7070 non-null   object \n",
      " 1   State                      7070 non-null   object \n",
      " 2   Customer Lifetime Value    7070 non-null   float64\n",
      " 3   Education                  7070 non-null   object \n",
      " 4   Gender                     7070 non-null   object \n",
      " 5   Income                     7070 non-null   int64  \n",
      " 6   Monthly Premium Auto       7070 non-null   int64  \n",
      " 7   Number of Open Complaints  7070 non-null   int64  \n",
      " 8   Policy Type                7070 non-null   object \n",
      " 9   Total Claim Amount         7070 non-null   float64\n",
      " 10  Vehicle Class              7070 non-null   object \n",
      "dtypes: float64(2), int64(3), object(6)\n",
      "memory usage: 607.7+ KB\n"
     ]
    }
   ],
   "source": [
    "file3.info()\n",
    "# 7070 x 11"
   ]
  },
  {
   "cell_type": "markdown",
   "id": "d238b54d",
   "metadata": {},
   "source": [
    "# Standardize header names"
   ]
  },
  {
   "cell_type": "markdown",
   "id": "f9c0413d",
   "metadata": {},
   "source": [
    "## Renaming headers to lowercase"
   ]
  },
  {
   "cell_type": "code",
   "execution_count": 12,
   "id": "23e072fa",
   "metadata": {},
   "outputs": [],
   "source": [
    "cols = []\n",
    "# file 1\n",
    "for i in range(len(file1.columns)):\n",
    "    cols.append(file1.columns[i].lower())\n",
    "file1.columns = cols\n",
    "# file 2\n",
    "cols = []\n",
    "for i in range(len(file2.columns)):\n",
    "    cols.append(file2.columns[i].lower())\n",
    "file2.columns = cols\n",
    "# file 3\n",
    "cols = []\n",
    "for i in range(len(file3.columns)):\n",
    "    cols.append(file3.columns[i].lower())\n",
    "file3.columns = cols"
   ]
  },
  {
   "cell_type": "markdown",
   "id": "1059d982",
   "metadata": {},
   "source": [
    "## Fixing name discrepancies between files"
   ]
  },
  {
   "cell_type": "code",
   "execution_count": 19,
   "id": "fc4a3c68",
   "metadata": {},
   "outputs": [],
   "source": [
    "file3 = file3.rename(columns={'state': 'st'})"
   ]
  },
  {
   "cell_type": "markdown",
   "id": "f1a4afa4",
   "metadata": {},
   "source": [
    "# Concatenate the three dataframes (automatically rearranges columns)"
   ]
  },
  {
   "cell_type": "code",
   "execution_count": 34,
   "id": "93d9b1e8",
   "metadata": {},
   "outputs": [],
   "source": [
    "data = pd.concat([file1, file2, file3], axis=0, ignore_index=True)\n",
    "# Also, I'm changing the column st back to state\n",
    "data = data.rename(columns={'st': 'state'})"
   ]
  },
  {
   "cell_type": "markdown",
   "id": "475cc997",
   "metadata": {},
   "source": [
    "# Which columns are numerical?"
   ]
  },
  {
   "cell_type": "code",
   "execution_count": 35,
   "id": "994aea94",
   "metadata": {},
   "outputs": [
    {
     "name": "stdout",
     "output_type": "stream",
     "text": [
      "<class 'pandas.core.frame.DataFrame'>\n",
      "RangeIndex: 12074 entries, 0 to 12073\n",
      "Data columns (total 11 columns):\n",
      " #   Column                     Non-Null Count  Dtype  \n",
      "---  ------                     --------------  -----  \n",
      " 0   customer                   9137 non-null   object \n",
      " 1   state                      9137 non-null   object \n",
      " 2   gender                     9015 non-null   object \n",
      " 3   education                  9137 non-null   object \n",
      " 4   customer lifetime value    9130 non-null   object \n",
      " 5   income                     9137 non-null   float64\n",
      " 6   monthly premium auto       9137 non-null   float64\n",
      " 7   number of open complaints  9137 non-null   object \n",
      " 8   policy type                9137 non-null   object \n",
      " 9   vehicle class              9137 non-null   object \n",
      " 10  total claim amount         9137 non-null   float64\n",
      "dtypes: float64(3), object(8)\n",
      "memory usage: 1.0+ MB\n"
     ]
    }
   ],
   "source": [
    "data.info()\n",
    "# Only income, monthly premium auto and total claim amount are numerical. We'll have to fix that."
   ]
  },
  {
   "cell_type": "markdown",
   "id": "9e2f3765",
   "metadata": {},
   "source": [
    "# Which columns are categorical?"
   ]
  },
  {
   "cell_type": "code",
   "execution_count": 36,
   "id": "97ac81cb",
   "metadata": {},
   "outputs": [
    {
     "data": {
      "text/html": [
       "<div>\n",
       "<style scoped>\n",
       "    .dataframe tbody tr th:only-of-type {\n",
       "        vertical-align: middle;\n",
       "    }\n",
       "\n",
       "    .dataframe tbody tr th {\n",
       "        vertical-align: top;\n",
       "    }\n",
       "\n",
       "    .dataframe thead th {\n",
       "        text-align: right;\n",
       "    }\n",
       "</style>\n",
       "<table border=\"1\" class=\"dataframe\">\n",
       "  <thead>\n",
       "    <tr style=\"text-align: right;\">\n",
       "      <th></th>\n",
       "      <th>customer</th>\n",
       "      <th>state</th>\n",
       "      <th>gender</th>\n",
       "      <th>education</th>\n",
       "      <th>customer lifetime value</th>\n",
       "      <th>income</th>\n",
       "      <th>monthly premium auto</th>\n",
       "      <th>number of open complaints</th>\n",
       "      <th>policy type</th>\n",
       "      <th>vehicle class</th>\n",
       "      <th>total claim amount</th>\n",
       "    </tr>\n",
       "  </thead>\n",
       "  <tbody>\n",
       "    <tr>\n",
       "      <th>0</th>\n",
       "      <td>RB50392</td>\n",
       "      <td>Washington</td>\n",
       "      <td>NaN</td>\n",
       "      <td>Master</td>\n",
       "      <td>NaN</td>\n",
       "      <td>0.0</td>\n",
       "      <td>1000.0</td>\n",
       "      <td>1/0/00</td>\n",
       "      <td>Personal Auto</td>\n",
       "      <td>Four-Door Car</td>\n",
       "      <td>2.704934</td>\n",
       "    </tr>\n",
       "    <tr>\n",
       "      <th>1</th>\n",
       "      <td>QZ44356</td>\n",
       "      <td>Arizona</td>\n",
       "      <td>F</td>\n",
       "      <td>Bachelor</td>\n",
       "      <td>697953.59%</td>\n",
       "      <td>0.0</td>\n",
       "      <td>94.0</td>\n",
       "      <td>1/0/00</td>\n",
       "      <td>Personal Auto</td>\n",
       "      <td>Four-Door Car</td>\n",
       "      <td>1131.464935</td>\n",
       "    </tr>\n",
       "    <tr>\n",
       "      <th>2</th>\n",
       "      <td>AI49188</td>\n",
       "      <td>Nevada</td>\n",
       "      <td>F</td>\n",
       "      <td>Bachelor</td>\n",
       "      <td>1288743.17%</td>\n",
       "      <td>48767.0</td>\n",
       "      <td>108.0</td>\n",
       "      <td>1/0/00</td>\n",
       "      <td>Personal Auto</td>\n",
       "      <td>Two-Door Car</td>\n",
       "      <td>566.472247</td>\n",
       "    </tr>\n",
       "    <tr>\n",
       "      <th>3</th>\n",
       "      <td>WW63253</td>\n",
       "      <td>California</td>\n",
       "      <td>M</td>\n",
       "      <td>Bachelor</td>\n",
       "      <td>764586.18%</td>\n",
       "      <td>0.0</td>\n",
       "      <td>106.0</td>\n",
       "      <td>1/0/00</td>\n",
       "      <td>Corporate Auto</td>\n",
       "      <td>SUV</td>\n",
       "      <td>529.881344</td>\n",
       "    </tr>\n",
       "    <tr>\n",
       "      <th>4</th>\n",
       "      <td>GA49547</td>\n",
       "      <td>Washington</td>\n",
       "      <td>M</td>\n",
       "      <td>High School or Below</td>\n",
       "      <td>536307.65%</td>\n",
       "      <td>36357.0</td>\n",
       "      <td>68.0</td>\n",
       "      <td>1/0/00</td>\n",
       "      <td>Personal Auto</td>\n",
       "      <td>Four-Door Car</td>\n",
       "      <td>17.269323</td>\n",
       "    </tr>\n",
       "  </tbody>\n",
       "</table>\n",
       "</div>"
      ],
      "text/plain": [
       "  customer       state gender             education customer lifetime value  \\\n",
       "0  RB50392  Washington    NaN                Master                     NaN   \n",
       "1  QZ44356     Arizona      F              Bachelor              697953.59%   \n",
       "2  AI49188      Nevada      F              Bachelor             1288743.17%   \n",
       "3  WW63253  California      M              Bachelor              764586.18%   \n",
       "4  GA49547  Washington      M  High School or Below              536307.65%   \n",
       "\n",
       "    income  monthly premium auto number of open complaints     policy type  \\\n",
       "0      0.0                1000.0                    1/0/00   Personal Auto   \n",
       "1      0.0                  94.0                    1/0/00   Personal Auto   \n",
       "2  48767.0                 108.0                    1/0/00   Personal Auto   \n",
       "3      0.0                 106.0                    1/0/00  Corporate Auto   \n",
       "4  36357.0                  68.0                    1/0/00   Personal Auto   \n",
       "\n",
       "   vehicle class  total claim amount  \n",
       "0  Four-Door Car            2.704934  \n",
       "1  Four-Door Car         1131.464935  \n",
       "2   Two-Door Car          566.472247  \n",
       "3            SUV          529.881344  \n",
       "4  Four-Door Car           17.269323  "
      ]
     },
     "execution_count": 36,
     "metadata": {},
     "output_type": "execute_result"
    }
   ],
   "source": [
    "data.head()\n",
    "# The following columns are categorical: state, gender, education, policy type and vehicle class."
   ]
  },
  {
   "cell_type": "markdown",
   "id": "d5371dca",
   "metadata": {},
   "source": [
    "# Understand the meaning of all columns"
   ]
  },
  {
   "cell_type": "markdown",
   "id": "be5228b7",
   "metadata": {},
   "source": [
    "- **customer:** an ID number for every subject.  \n",
    "- **state:** the State of the US in which the customer lives.  \n",
    "- **gender:** the customer's gender.  \n",
    "- **education:** the customer's education level.  \n",
    "- **customer lifetime value:** the total income the company has received from each customer.  \n",
    "- **income:** the customer's yearly income.  \n",
    "- **monthly premium auto:** the price of each customer's insurance policy.  \n",
    "- **number of open complaints:** each customer's total open complaints.  \n",
    "- **policy type:** the kind of policy each customer has selected.  \n",
    "- **vehicle class:** the type of vehicle of every customer.  \n",
    "- **total claim amount:** the total amount each customer has claimed to the insurance company."
   ]
  },
  {
   "cell_type": "markdown",
   "id": "74276847",
   "metadata": {},
   "source": [
    "# Perform the following data cleaning operations"
   ]
  },
  {
   "cell_type": "markdown",
   "id": "376aaa67",
   "metadata": {},
   "source": [
    "## Delete the column education and the number of open complaints from the dataframe"
   ]
  },
  {
   "cell_type": "code",
   "execution_count": 37,
   "id": "e1e7f67c",
   "metadata": {},
   "outputs": [
    {
     "data": {
      "text/html": [
       "<div>\n",
       "<style scoped>\n",
       "    .dataframe tbody tr th:only-of-type {\n",
       "        vertical-align: middle;\n",
       "    }\n",
       "\n",
       "    .dataframe tbody tr th {\n",
       "        vertical-align: top;\n",
       "    }\n",
       "\n",
       "    .dataframe thead th {\n",
       "        text-align: right;\n",
       "    }\n",
       "</style>\n",
       "<table border=\"1\" class=\"dataframe\">\n",
       "  <thead>\n",
       "    <tr style=\"text-align: right;\">\n",
       "      <th></th>\n",
       "      <th>customer</th>\n",
       "      <th>state</th>\n",
       "      <th>gender</th>\n",
       "      <th>customer lifetime value</th>\n",
       "      <th>income</th>\n",
       "      <th>monthly premium auto</th>\n",
       "      <th>policy type</th>\n",
       "      <th>vehicle class</th>\n",
       "      <th>total claim amount</th>\n",
       "    </tr>\n",
       "  </thead>\n",
       "  <tbody>\n",
       "    <tr>\n",
       "      <th>0</th>\n",
       "      <td>RB50392</td>\n",
       "      <td>Washington</td>\n",
       "      <td>NaN</td>\n",
       "      <td>NaN</td>\n",
       "      <td>0.0</td>\n",
       "      <td>1000.0</td>\n",
       "      <td>Personal Auto</td>\n",
       "      <td>Four-Door Car</td>\n",
       "      <td>2.704934</td>\n",
       "    </tr>\n",
       "    <tr>\n",
       "      <th>1</th>\n",
       "      <td>QZ44356</td>\n",
       "      <td>Arizona</td>\n",
       "      <td>F</td>\n",
       "      <td>697953.59%</td>\n",
       "      <td>0.0</td>\n",
       "      <td>94.0</td>\n",
       "      <td>Personal Auto</td>\n",
       "      <td>Four-Door Car</td>\n",
       "      <td>1131.464935</td>\n",
       "    </tr>\n",
       "    <tr>\n",
       "      <th>2</th>\n",
       "      <td>AI49188</td>\n",
       "      <td>Nevada</td>\n",
       "      <td>F</td>\n",
       "      <td>1288743.17%</td>\n",
       "      <td>48767.0</td>\n",
       "      <td>108.0</td>\n",
       "      <td>Personal Auto</td>\n",
       "      <td>Two-Door Car</td>\n",
       "      <td>566.472247</td>\n",
       "    </tr>\n",
       "    <tr>\n",
       "      <th>3</th>\n",
       "      <td>WW63253</td>\n",
       "      <td>California</td>\n",
       "      <td>M</td>\n",
       "      <td>764586.18%</td>\n",
       "      <td>0.0</td>\n",
       "      <td>106.0</td>\n",
       "      <td>Corporate Auto</td>\n",
       "      <td>SUV</td>\n",
       "      <td>529.881344</td>\n",
       "    </tr>\n",
       "    <tr>\n",
       "      <th>4</th>\n",
       "      <td>GA49547</td>\n",
       "      <td>Washington</td>\n",
       "      <td>M</td>\n",
       "      <td>536307.65%</td>\n",
       "      <td>36357.0</td>\n",
       "      <td>68.0</td>\n",
       "      <td>Personal Auto</td>\n",
       "      <td>Four-Door Car</td>\n",
       "      <td>17.269323</td>\n",
       "    </tr>\n",
       "  </tbody>\n",
       "</table>\n",
       "</div>"
      ],
      "text/plain": [
       "  customer       state gender customer lifetime value   income  \\\n",
       "0  RB50392  Washington    NaN                     NaN      0.0   \n",
       "1  QZ44356     Arizona      F              697953.59%      0.0   \n",
       "2  AI49188      Nevada      F             1288743.17%  48767.0   \n",
       "3  WW63253  California      M              764586.18%      0.0   \n",
       "4  GA49547  Washington      M              536307.65%  36357.0   \n",
       "\n",
       "   monthly premium auto     policy type  vehicle class  total claim amount  \n",
       "0                1000.0   Personal Auto  Four-Door Car            2.704934  \n",
       "1                  94.0   Personal Auto  Four-Door Car         1131.464935  \n",
       "2                 108.0   Personal Auto   Two-Door Car          566.472247  \n",
       "3                 106.0  Corporate Auto            SUV          529.881344  \n",
       "4                  68.0   Personal Auto  Four-Door Car           17.269323  "
      ]
     },
     "execution_count": 37,
     "metadata": {},
     "output_type": "execute_result"
    }
   ],
   "source": [
    "data.drop(['education', 'number of open complaints'], axis = 1, inplace=True)\n",
    "data.head()"
   ]
  },
  {
   "cell_type": "markdown",
   "id": "edebbf37",
   "metadata": {},
   "source": [
    "## Correct the values in the column customer lifetime value. They are given as a percent, so multiply them by 100 and change dtype to numerical type"
   ]
  },
  {
   "cell_type": "code",
   "execution_count": 45,
   "id": "2dd49c28",
   "metadata": {
    "scrolled": false
   },
   "outputs": [
    {
     "name": "stdout",
     "output_type": "stream",
     "text": [
      "<class 'pandas.core.frame.DataFrame'>\n",
      "RangeIndex: 12074 entries, 0 to 12073\n",
      "Data columns (total 9 columns):\n",
      " #   Column                   Non-Null Count  Dtype  \n",
      "---  ------                   --------------  -----  \n",
      " 0   customer                 9137 non-null   object \n",
      " 1   state                    9137 non-null   object \n",
      " 2   gender                   9015 non-null   object \n",
      " 3   customer lifetime value  7070 non-null   float64\n",
      " 4   income                   9137 non-null   float64\n",
      " 5   monthly premium auto     9137 non-null   float64\n",
      " 6   policy type              9137 non-null   object \n",
      " 7   vehicle class            9137 non-null   object \n",
      " 8   total claim amount       9137 non-null   float64\n",
      "dtypes: float64(4), object(5)\n",
      "memory usage: 849.1+ KB\n"
     ]
    }
   ],
   "source": [
    "data['customer lifetime value'] = pd.to_numeric(data['customer lifetime value'], errors='coerce')\n",
    "data.info()"
   ]
  },
  {
   "cell_type": "code",
   "execution_count": 52,
   "id": "4f27cf69",
   "metadata": {},
   "outputs": [],
   "source": [
    "data['customer lifetime value'] = data['customer lifetime value'].mul(100).round(2)"
   ]
  },
  {
   "cell_type": "markdown",
   "id": "c3840a50",
   "metadata": {},
   "source": [
    "## Check for duplicate rows in the data and remove if any"
   ]
  },
  {
   "cell_type": "code",
   "execution_count": 54,
   "id": "a5f70929",
   "metadata": {},
   "outputs": [
    {
     "name": "stdout",
     "output_type": "stream",
     "text": [
      "<class 'pandas.core.frame.DataFrame'>\n",
      "Int64Index: 9135 entries, 0 to 12073\n",
      "Data columns (total 9 columns):\n",
      " #   Column                   Non-Null Count  Dtype  \n",
      "---  ------                   --------------  -----  \n",
      " 0   customer                 9134 non-null   object \n",
      " 1   state                    9134 non-null   object \n",
      " 2   gender                   9012 non-null   object \n",
      " 3   customer lifetime value  7070 non-null   float64\n",
      " 4   income                   9134 non-null   float64\n",
      " 5   monthly premium auto     9134 non-null   float64\n",
      " 6   policy type              9134 non-null   object \n",
      " 7   vehicle class            9134 non-null   object \n",
      " 8   total claim amount       9134 non-null   float64\n",
      "dtypes: float64(4), object(5)\n",
      "memory usage: 713.7+ KB\n"
     ]
    }
   ],
   "source": [
    "data = data.drop_duplicates()\n",
    "data.info()\n",
    "# A total of 2939 entries have been removed."
   ]
  },
  {
   "cell_type": "markdown",
   "id": "a2348cd1",
   "metadata": {},
   "source": [
    "## Filter out the data for customers who have an income of 0 or less"
   ]
  },
  {
   "cell_type": "code",
   "execution_count": 61,
   "id": "fc81beb3",
   "metadata": {},
   "outputs": [
    {
     "data": {
      "text/html": [
       "<div>\n",
       "<style scoped>\n",
       "    .dataframe tbody tr th:only-of-type {\n",
       "        vertical-align: middle;\n",
       "    }\n",
       "\n",
       "    .dataframe tbody tr th {\n",
       "        vertical-align: top;\n",
       "    }\n",
       "\n",
       "    .dataframe thead th {\n",
       "        text-align: right;\n",
       "    }\n",
       "</style>\n",
       "<table border=\"1\" class=\"dataframe\">\n",
       "  <thead>\n",
       "    <tr style=\"text-align: right;\">\n",
       "      <th></th>\n",
       "      <th>customer</th>\n",
       "      <th>state</th>\n",
       "      <th>gender</th>\n",
       "      <th>customer lifetime value</th>\n",
       "      <th>income</th>\n",
       "      <th>monthly premium auto</th>\n",
       "      <th>policy type</th>\n",
       "      <th>vehicle class</th>\n",
       "      <th>total claim amount</th>\n",
       "    </tr>\n",
       "  </thead>\n",
       "  <tbody>\n",
       "    <tr>\n",
       "      <th>0</th>\n",
       "      <td>RB50392</td>\n",
       "      <td>Washington</td>\n",
       "      <td>NaN</td>\n",
       "      <td>NaN</td>\n",
       "      <td>0.0</td>\n",
       "      <td>1000.0</td>\n",
       "      <td>Personal Auto</td>\n",
       "      <td>Four-Door Car</td>\n",
       "      <td>2.704934</td>\n",
       "    </tr>\n",
       "    <tr>\n",
       "      <th>1</th>\n",
       "      <td>QZ44356</td>\n",
       "      <td>Arizona</td>\n",
       "      <td>F</td>\n",
       "      <td>NaN</td>\n",
       "      <td>0.0</td>\n",
       "      <td>94.0</td>\n",
       "      <td>Personal Auto</td>\n",
       "      <td>Four-Door Car</td>\n",
       "      <td>1131.464935</td>\n",
       "    </tr>\n",
       "    <tr>\n",
       "      <th>3</th>\n",
       "      <td>WW63253</td>\n",
       "      <td>California</td>\n",
       "      <td>M</td>\n",
       "      <td>NaN</td>\n",
       "      <td>0.0</td>\n",
       "      <td>106.0</td>\n",
       "      <td>Corporate Auto</td>\n",
       "      <td>SUV</td>\n",
       "      <td>529.881344</td>\n",
       "    </tr>\n",
       "    <tr>\n",
       "      <th>7</th>\n",
       "      <td>CF85061</td>\n",
       "      <td>Arizona</td>\n",
       "      <td>M</td>\n",
       "      <td>NaN</td>\n",
       "      <td>0.0</td>\n",
       "      <td>101.0</td>\n",
       "      <td>Corporate Auto</td>\n",
       "      <td>Four-Door Car</td>\n",
       "      <td>363.029680</td>\n",
       "    </tr>\n",
       "    <tr>\n",
       "      <th>10</th>\n",
       "      <td>SX51350</td>\n",
       "      <td>California</td>\n",
       "      <td>M</td>\n",
       "      <td>NaN</td>\n",
       "      <td>0.0</td>\n",
       "      <td>67.0</td>\n",
       "      <td>Personal Auto</td>\n",
       "      <td>Four-Door Car</td>\n",
       "      <td>482.400000</td>\n",
       "    </tr>\n",
       "    <tr>\n",
       "      <th>...</th>\n",
       "      <td>...</td>\n",
       "      <td>...</td>\n",
       "      <td>...</td>\n",
       "      <td>...</td>\n",
       "      <td>...</td>\n",
       "      <td>...</td>\n",
       "      <td>...</td>\n",
       "      <td>...</td>\n",
       "      <td>...</td>\n",
       "    </tr>\n",
       "    <tr>\n",
       "      <th>12063</th>\n",
       "      <td>WZ45103</td>\n",
       "      <td>California</td>\n",
       "      <td>F</td>\n",
       "      <td>567805.02</td>\n",
       "      <td>0.0</td>\n",
       "      <td>76.0</td>\n",
       "      <td>Personal Auto</td>\n",
       "      <td>Four-Door Car</td>\n",
       "      <td>364.800000</td>\n",
       "    </tr>\n",
       "    <tr>\n",
       "      <th>12065</th>\n",
       "      <td>RX91025</td>\n",
       "      <td>California</td>\n",
       "      <td>M</td>\n",
       "      <td>1987226.20</td>\n",
       "      <td>0.0</td>\n",
       "      <td>185.0</td>\n",
       "      <td>Personal Auto</td>\n",
       "      <td>SUV</td>\n",
       "      <td>1950.725547</td>\n",
       "    </tr>\n",
       "    <tr>\n",
       "      <th>12066</th>\n",
       "      <td>AC13887</td>\n",
       "      <td>California</td>\n",
       "      <td>M</td>\n",
       "      <td>462899.53</td>\n",
       "      <td>0.0</td>\n",
       "      <td>67.0</td>\n",
       "      <td>Corporate Auto</td>\n",
       "      <td>Two-Door Car</td>\n",
       "      <td>482.400000</td>\n",
       "    </tr>\n",
       "    <tr>\n",
       "      <th>12071</th>\n",
       "      <td>TD14365</td>\n",
       "      <td>California</td>\n",
       "      <td>M</td>\n",
       "      <td>816389.04</td>\n",
       "      <td>0.0</td>\n",
       "      <td>85.0</td>\n",
       "      <td>Corporate Auto</td>\n",
       "      <td>Four-Door Car</td>\n",
       "      <td>790.784983</td>\n",
       "    </tr>\n",
       "    <tr>\n",
       "      <th>12073</th>\n",
       "      <td>Y167826</td>\n",
       "      <td>California</td>\n",
       "      <td>M</td>\n",
       "      <td>261183.69</td>\n",
       "      <td>0.0</td>\n",
       "      <td>77.0</td>\n",
       "      <td>Corporate Auto</td>\n",
       "      <td>Two-Door Car</td>\n",
       "      <td>369.600000</td>\n",
       "    </tr>\n",
       "  </tbody>\n",
       "</table>\n",
       "<p>2294 rows × 9 columns</p>\n",
       "</div>"
      ],
      "text/plain": [
       "      customer       state gender  customer lifetime value  income  \\\n",
       "0      RB50392  Washington    NaN                      NaN     0.0   \n",
       "1      QZ44356     Arizona      F                      NaN     0.0   \n",
       "3      WW63253  California      M                      NaN     0.0   \n",
       "7      CF85061     Arizona      M                      NaN     0.0   \n",
       "10     SX51350  California      M                      NaN     0.0   \n",
       "...        ...         ...    ...                      ...     ...   \n",
       "12063  WZ45103  California      F                567805.02     0.0   \n",
       "12065  RX91025  California      M               1987226.20     0.0   \n",
       "12066  AC13887  California      M                462899.53     0.0   \n",
       "12071  TD14365  California      M                816389.04     0.0   \n",
       "12073  Y167826  California      M                261183.69     0.0   \n",
       "\n",
       "       monthly premium auto     policy type  vehicle class  total claim amount  \n",
       "0                    1000.0   Personal Auto  Four-Door Car            2.704934  \n",
       "1                      94.0   Personal Auto  Four-Door Car         1131.464935  \n",
       "3                     106.0  Corporate Auto            SUV          529.881344  \n",
       "7                     101.0  Corporate Auto  Four-Door Car          363.029680  \n",
       "10                     67.0   Personal Auto  Four-Door Car          482.400000  \n",
       "...                     ...             ...            ...                 ...  \n",
       "12063                  76.0   Personal Auto  Four-Door Car          364.800000  \n",
       "12065                 185.0   Personal Auto            SUV         1950.725547  \n",
       "12066                  67.0  Corporate Auto   Two-Door Car          482.400000  \n",
       "12071                  85.0  Corporate Auto  Four-Door Car          790.784983  \n",
       "12073                  77.0  Corporate Auto   Two-Door Car          369.600000  \n",
       "\n",
       "[2294 rows x 9 columns]"
      ]
     },
     "execution_count": 61,
     "metadata": {},
     "output_type": "execute_result"
    }
   ],
   "source": [
    "customers_no_income = data[data['income'] <= 0]\n",
    "customers_no_income"
   ]
  },
  {
   "cell_type": "code",
   "execution_count": null,
   "id": "f29363a3",
   "metadata": {},
   "outputs": [],
   "source": []
  }
 ],
 "metadata": {
  "kernelspec": {
   "display_name": "Python 3 (ipykernel)",
   "language": "python",
   "name": "python3"
  },
  "language_info": {
   "codemirror_mode": {
    "name": "ipython",
    "version": 3
   },
   "file_extension": ".py",
   "mimetype": "text/x-python",
   "name": "python",
   "nbconvert_exporter": "python",
   "pygments_lexer": "ipython3",
   "version": "3.9.7"
  },
  "toc": {
   "base_numbering": 1,
   "nav_menu": {},
   "number_sections": true,
   "sideBar": true,
   "skip_h1_title": false,
   "title_cell": "Table of Contents",
   "title_sidebar": "Contents",
   "toc_cell": true,
   "toc_position": {
    "height": "calc(100% - 180px)",
    "left": "10px",
    "top": "150px",
    "width": "256px"
   },
   "toc_section_display": true,
   "toc_window_display": false
  }
 },
 "nbformat": 4,
 "nbformat_minor": 5
}
