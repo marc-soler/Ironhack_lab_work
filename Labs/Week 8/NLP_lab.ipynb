{
 "cells": [
  {
   "cell_type": "code",
   "execution_count": 2,
   "id": "76041a14",
   "metadata": {},
   "outputs": [],
   "source": [
    "import pandas as pd\n",
    "import numpy as np\n",
    "import nltk\n",
    "from nltk.tokenize import word_tokenize\n",
    "import docx2txt\n",
    "from textblob import TextBlob\n",
    "import matplotlib.pyplot as plt\n",
    "import seaborn as sns"
   ]
  },
  {
   "cell_type": "code",
   "execution_count": 4,
   "id": "3edcb07d",
   "metadata": {},
   "outputs": [],
   "source": [
    "df = pd.read_csv('women_ecommerce.csv')"
   ]
  },
  {
   "cell_type": "markdown",
   "id": "487244aa",
   "metadata": {},
   "source": [
    "## Selecting the relevant columns"
   ]
  },
  {
   "cell_type": "code",
   "execution_count": 6,
   "id": "ea32dbaf",
   "metadata": {},
   "outputs": [],
   "source": [
    "df = df[['Title', 'Review Text', 'Rating', 'Division Name', 'Department Name']]"
   ]
  },
  {
   "cell_type": "code",
   "execution_count": 8,
   "id": "ec2f05c1",
   "metadata": {},
   "outputs": [
    {
     "data": {
      "text/html": [
       "<div>\n",
       "<style scoped>\n",
       "    .dataframe tbody tr th:only-of-type {\n",
       "        vertical-align: middle;\n",
       "    }\n",
       "\n",
       "    .dataframe tbody tr th {\n",
       "        vertical-align: top;\n",
       "    }\n",
       "\n",
       "    .dataframe thead th {\n",
       "        text-align: right;\n",
       "    }\n",
       "</style>\n",
       "<table border=\"1\" class=\"dataframe\">\n",
       "  <thead>\n",
       "    <tr style=\"text-align: right;\">\n",
       "      <th></th>\n",
       "      <th>Title</th>\n",
       "      <th>Review Text</th>\n",
       "      <th>Rating</th>\n",
       "      <th>Division Name</th>\n",
       "      <th>Department Name</th>\n",
       "    </tr>\n",
       "  </thead>\n",
       "  <tbody>\n",
       "    <tr>\n",
       "      <th>0</th>\n",
       "      <td>NaN</td>\n",
       "      <td>Absolutely wonderful - silky and sexy and comf...</td>\n",
       "      <td>4</td>\n",
       "      <td>Initmates</td>\n",
       "      <td>Intimate</td>\n",
       "    </tr>\n",
       "    <tr>\n",
       "      <th>1</th>\n",
       "      <td>NaN</td>\n",
       "      <td>Love this dress!  it's sooo pretty.  i happene...</td>\n",
       "      <td>5</td>\n",
       "      <td>General</td>\n",
       "      <td>Dresses</td>\n",
       "    </tr>\n",
       "    <tr>\n",
       "      <th>2</th>\n",
       "      <td>Some major design flaws</td>\n",
       "      <td>I had such high hopes for this dress and reall...</td>\n",
       "      <td>3</td>\n",
       "      <td>General</td>\n",
       "      <td>Dresses</td>\n",
       "    </tr>\n",
       "    <tr>\n",
       "      <th>3</th>\n",
       "      <td>My favorite buy!</td>\n",
       "      <td>I love, love, love this jumpsuit. it's fun, fl...</td>\n",
       "      <td>5</td>\n",
       "      <td>General Petite</td>\n",
       "      <td>Bottoms</td>\n",
       "    </tr>\n",
       "    <tr>\n",
       "      <th>4</th>\n",
       "      <td>Flattering shirt</td>\n",
       "      <td>This shirt is very flattering to all due to th...</td>\n",
       "      <td>5</td>\n",
       "      <td>General</td>\n",
       "      <td>Tops</td>\n",
       "    </tr>\n",
       "    <tr>\n",
       "      <th>5</th>\n",
       "      <td>Not for the very petite</td>\n",
       "      <td>I love tracy reese dresses, but this one is no...</td>\n",
       "      <td>2</td>\n",
       "      <td>General</td>\n",
       "      <td>Dresses</td>\n",
       "    </tr>\n",
       "    <tr>\n",
       "      <th>6</th>\n",
       "      <td>Cagrcoal shimmer fun</td>\n",
       "      <td>I aded this in my basket at hte last mintue to...</td>\n",
       "      <td>5</td>\n",
       "      <td>General Petite</td>\n",
       "      <td>Tops</td>\n",
       "    </tr>\n",
       "    <tr>\n",
       "      <th>7</th>\n",
       "      <td>Shimmer, surprisingly goes with lots</td>\n",
       "      <td>I ordered this in carbon for store pick up, an...</td>\n",
       "      <td>4</td>\n",
       "      <td>General Petite</td>\n",
       "      <td>Tops</td>\n",
       "    </tr>\n",
       "    <tr>\n",
       "      <th>8</th>\n",
       "      <td>Flattering</td>\n",
       "      <td>I love this dress. i usually get an xs but it ...</td>\n",
       "      <td>5</td>\n",
       "      <td>General</td>\n",
       "      <td>Dresses</td>\n",
       "    </tr>\n",
       "    <tr>\n",
       "      <th>9</th>\n",
       "      <td>Such a fun dress!</td>\n",
       "      <td>I'm 5\"5' and 125 lbs. i ordered the s petite t...</td>\n",
       "      <td>5</td>\n",
       "      <td>General</td>\n",
       "      <td>Dresses</td>\n",
       "    </tr>\n",
       "  </tbody>\n",
       "</table>\n",
       "</div>"
      ],
      "text/plain": [
       "                                  Title  \\\n",
       "0                                   NaN   \n",
       "1                                   NaN   \n",
       "2               Some major design flaws   \n",
       "3                      My favorite buy!   \n",
       "4                      Flattering shirt   \n",
       "5               Not for the very petite   \n",
       "6                  Cagrcoal shimmer fun   \n",
       "7  Shimmer, surprisingly goes with lots   \n",
       "8                            Flattering   \n",
       "9                     Such a fun dress!   \n",
       "\n",
       "                                         Review Text  Rating   Division Name  \\\n",
       "0  Absolutely wonderful - silky and sexy and comf...       4       Initmates   \n",
       "1  Love this dress!  it's sooo pretty.  i happene...       5         General   \n",
       "2  I had such high hopes for this dress and reall...       3         General   \n",
       "3  I love, love, love this jumpsuit. it's fun, fl...       5  General Petite   \n",
       "4  This shirt is very flattering to all due to th...       5         General   \n",
       "5  I love tracy reese dresses, but this one is no...       2         General   \n",
       "6  I aded this in my basket at hte last mintue to...       5  General Petite   \n",
       "7  I ordered this in carbon for store pick up, an...       4  General Petite   \n",
       "8  I love this dress. i usually get an xs but it ...       5         General   \n",
       "9  I'm 5\"5' and 125 lbs. i ordered the s petite t...       5         General   \n",
       "\n",
       "  Department Name  \n",
       "0        Intimate  \n",
       "1         Dresses  \n",
       "2         Dresses  \n",
       "3         Bottoms  \n",
       "4            Tops  \n",
       "5         Dresses  \n",
       "6            Tops  \n",
       "7            Tops  \n",
       "8         Dresses  \n",
       "9         Dresses  "
      ]
     },
     "execution_count": 8,
     "metadata": {},
     "output_type": "execute_result"
    }
   ],
   "source": [
    "df.head(10)"
   ]
  },
  {
   "cell_type": "markdown",
   "id": "7561d874",
   "metadata": {},
   "source": [
    "## Standardizing header names"
   ]
  },
  {
   "cell_type": "code",
   "execution_count": 26,
   "id": "7bd7df4f",
   "metadata": {},
   "outputs": [],
   "source": [
    "df.columns = df.columns.str.lower()\n",
    "df.columns = df.columns.str.replace(' ','_')"
   ]
  },
  {
   "cell_type": "markdown",
   "id": "afbdccd5",
   "metadata": {},
   "source": [
    "## Exploring the data at hand and assessing data cleaning steps"
   ]
  },
  {
   "cell_type": "code",
   "execution_count": 28,
   "id": "bef746db",
   "metadata": {},
   "outputs": [
    {
     "name": "stdout",
     "output_type": "stream",
     "text": [
      "<class 'pandas.core.frame.DataFrame'>\n",
      "RangeIndex: 23486 entries, 0 to 23485\n",
      "Data columns (total 5 columns):\n",
      " #   Column           Non-Null Count  Dtype \n",
      "---  ------           --------------  ----- \n",
      " 0   title            19676 non-null  object\n",
      " 1   review_text      22641 non-null  object\n",
      " 2   rating           23486 non-null  int64 \n",
      " 3   division_name    23472 non-null  object\n",
      " 4   department_name  23472 non-null  object\n",
      "dtypes: int64(1), object(4)\n",
      "memory usage: 917.5+ KB\n"
     ]
    }
   ],
   "source": [
    "df.info()"
   ]
  },
  {
   "cell_type": "code",
   "execution_count": 29,
   "id": "a1efbcbe",
   "metadata": {},
   "outputs": [
    {
     "data": {
      "text/html": [
       "<div>\n",
       "<style scoped>\n",
       "    .dataframe tbody tr th:only-of-type {\n",
       "        vertical-align: middle;\n",
       "    }\n",
       "\n",
       "    .dataframe tbody tr th {\n",
       "        vertical-align: top;\n",
       "    }\n",
       "\n",
       "    .dataframe thead th {\n",
       "        text-align: right;\n",
       "    }\n",
       "</style>\n",
       "<table border=\"1\" class=\"dataframe\">\n",
       "  <thead>\n",
       "    <tr style=\"text-align: right;\">\n",
       "      <th></th>\n",
       "      <th>rating</th>\n",
       "    </tr>\n",
       "  </thead>\n",
       "  <tbody>\n",
       "    <tr>\n",
       "      <th>count</th>\n",
       "      <td>23486.000000</td>\n",
       "    </tr>\n",
       "    <tr>\n",
       "      <th>mean</th>\n",
       "      <td>4.196032</td>\n",
       "    </tr>\n",
       "    <tr>\n",
       "      <th>std</th>\n",
       "      <td>1.110031</td>\n",
       "    </tr>\n",
       "    <tr>\n",
       "      <th>min</th>\n",
       "      <td>1.000000</td>\n",
       "    </tr>\n",
       "    <tr>\n",
       "      <th>25%</th>\n",
       "      <td>4.000000</td>\n",
       "    </tr>\n",
       "    <tr>\n",
       "      <th>50%</th>\n",
       "      <td>5.000000</td>\n",
       "    </tr>\n",
       "    <tr>\n",
       "      <th>75%</th>\n",
       "      <td>5.000000</td>\n",
       "    </tr>\n",
       "    <tr>\n",
       "      <th>max</th>\n",
       "      <td>5.000000</td>\n",
       "    </tr>\n",
       "  </tbody>\n",
       "</table>\n",
       "</div>"
      ],
      "text/plain": [
       "             rating\n",
       "count  23486.000000\n",
       "mean       4.196032\n",
       "std        1.110031\n",
       "min        1.000000\n",
       "25%        4.000000\n",
       "50%        5.000000\n",
       "75%        5.000000\n",
       "max        5.000000"
      ]
     },
     "execution_count": 29,
     "metadata": {},
     "output_type": "execute_result"
    }
   ],
   "source": [
    "df.describe()"
   ]
  },
  {
   "cell_type": "markdown",
   "id": "362dee09",
   "metadata": {},
   "source": [
    "Some nulls have to be dropped, but only the ones in the subset of review text, department name and division name. If a review doesn't have a title, it's still valuable data."
   ]
  },
  {
   "cell_type": "markdown",
   "id": "4056e794",
   "metadata": {},
   "source": [
    "## Grouping & plotting the data"
   ]
  },
  {
   "cell_type": "code",
   "execution_count": 79,
   "id": "8c433e06",
   "metadata": {},
   "outputs": [],
   "source": [
    "aggregation = ['division_name', 'department_name']\n",
    "df_by_dept = df.groupby(aggregation).agg('mean')"
   ]
  },
  {
   "cell_type": "code",
   "execution_count": 40,
   "id": "5dd9c48b",
   "metadata": {},
   "outputs": [
    {
     "data": {
      "image/png": "[encoded data removed]",
      "text/plain": [
       "<Figure size 720x432 with 1 Axes>"
      ]
     },
     "metadata": {},
     "output_type": "display_data"
    }
   ],
   "source": [
    "df_by_dept.sort_values('rating', ascending=False).plot(kind='barh', \n",
    "                                                       title='Average Rating by Division name and Department name', \n",
    "                                                       ylabel='Average rating', \n",
    "                                                       xlabel='Division and Department name', \n",
    "                                                       figsize=(10, 6));"
   ]
  },
  {
   "cell_type": "markdown",
   "id": "d38d41cc",
   "metadata": {},
   "source": [
    "## Sample checks for polarity and subjectivity + sentences"
   ]
  },
  {
   "cell_type": "code",
   "execution_count": 53,
   "id": "14800637",
   "metadata": {},
   "outputs": [
    {
     "data": {
      "text/plain": [
       "\"Just got this dress in an xl. i've never ordered from retailer before so i expected their clothes to run small. i was wrong. it's a beautiful high quality dress but i think it's just too big. i may end up exchanging it for a l. definitely size down in this dress!\""
      ]
     },
     "execution_count": 53,
     "metadata": {},
     "output_type": "execute_result"
    }
   ],
   "source": [
    "sample.iloc[0].review_text"
   ]
  },
  {
   "cell_type": "code",
   "execution_count": 59,
   "id": "11a59994",
   "metadata": {},
   "outputs": [
    {
     "name": "stdout",
     "output_type": "stream",
     "text": [
      "\n",
      "[Sentence(\"I tried this shirt on in store, and loved it!\"), Sentence(\"it has a flattering fit and is very comfortable.\"), Sentence(\"i read some other reviews about the quality not being good, i don't feel that way at all.\"), Sentence(\"the knit and the silky/satiny materials both feel like quality to me.\"), Sentence(\"the one concern i have is that it may wrinkle easily.\"), Sentence(\"i'm 5'4'' and 125lbs and the xs fits well.\"), Sentence(\"i plan to pair it with skinny jeans.\")]\n",
      "\n",
      "Sentiment(polarity=0.46722222222222226, subjectivity=0.6680555555555556)\n",
      "\n",
      "[Sentence(\"This is a nice, easy, go to shirt that i will be grabbing for this fall.\"), Sentence(\"comfy, but still styled to add a little fun in the everyday white tee.\")]\n",
      "\n",
      "Sentiment(polarity=0.15763888888888888, subjectivity=0.5222222222222223)\n",
      "\n",
      "[Sentence(\"I bought this dress for a fall wedding and upon receiving it was very impressed with the quality of lace and the color.\"), Sentence(\"however upon trying it on the seam up the back was slit so high that my undies were visible.\"), Sentence(\"i would like to assume that the dress that i received was defective... it didn't really make sense given that the length of the dress was appropriate, i did not have time for a return so i had the seam completed.\"), Sentence(\"after that alteration (on my own dime) i was very happy with the dress and\")]\n",
      "\n",
      "Sentiment(polarity=0.4942857142857143, subjectivity=0.6057142857142858)\n"
     ]
    }
   ],
   "source": [
    "sample = df.sample(3)\n",
    "for i in range(3):\n",
    "    print(f'\\n{TextBlob(sample.iloc[i].review_text).sentences}')\n",
    "    print(f'\\n{TextBlob(sample.iloc[i].review_text).sentiment}')"
   ]
  },
  {
   "cell_type": "markdown",
   "id": "d630f5ff",
   "metadata": {},
   "source": [
    "## Dropping nulls in the review text"
   ]
  },
  {
   "cell_type": "code",
   "execution_count": 61,
   "id": "1237cdda",
   "metadata": {},
   "outputs": [],
   "source": [
    "df.dropna(subset=['review_text'], inplace=True)"
   ]
  },
  {
   "cell_type": "code",
   "execution_count": 63,
   "id": "f118a007",
   "metadata": {},
   "outputs": [
    {
     "name": "stdout",
     "output_type": "stream",
     "text": [
      "<class 'pandas.core.frame.DataFrame'>\n",
      "Int64Index: 22641 entries, 0 to 23485\n",
      "Data columns (total 5 columns):\n",
      " #   Column           Non-Null Count  Dtype \n",
      "---  ------           --------------  ----- \n",
      " 0   title            19675 non-null  object\n",
      " 1   review_text      22641 non-null  object\n",
      " 2   rating           22641 non-null  int64 \n",
      " 3   division_name    22628 non-null  object\n",
      " 4   department_name  22628 non-null  object\n",
      "dtypes: int64(1), object(4)\n",
      "memory usage: 1.0+ MB\n"
     ]
    }
   ],
   "source": [
    "df.info()"
   ]
  },
  {
   "cell_type": "markdown",
   "id": "73fb52b2",
   "metadata": {},
   "source": [
    "## Sentiment analysis for each row"
   ]
  },
  {
   "cell_type": "code",
   "execution_count": 65,
   "id": "15cc104b",
   "metadata": {},
   "outputs": [],
   "source": [
    "df['sentiment_score'] = df['review_text'].apply(lambda x:TextBlob(x).sentiment.polarity)\n",
    "df['subjectivity_score'] = df['review_text'].apply(lambda x:TextBlob(x).sentiment.subjectivity)"
   ]
  },
  {
   "cell_type": "markdown",
   "id": "a8e6c821",
   "metadata": {},
   "source": [
    "## Min review polarity by division and department"
   ]
  },
  {
   "cell_type": "code",
   "execution_count": 80,
   "id": "e1fbc1bd",
   "metadata": {},
   "outputs": [
    {
     "data": {
      "text/html": [
       "<div>\n",
       "<style scoped>\n",
       "    .dataframe tbody tr th:only-of-type {\n",
       "        vertical-align: middle;\n",
       "    }\n",
       "\n",
       "    .dataframe tbody tr th {\n",
       "        vertical-align: top;\n",
       "    }\n",
       "\n",
       "    .dataframe thead th {\n",
       "        text-align: right;\n",
       "    }\n",
       "</style>\n",
       "<table border=\"1\" class=\"dataframe\">\n",
       "  <thead>\n",
       "    <tr style=\"text-align: right;\">\n",
       "      <th></th>\n",
       "      <th></th>\n",
       "      <th>sentiment_score</th>\n",
       "    </tr>\n",
       "    <tr>\n",
       "      <th>division_name</th>\n",
       "      <th>department_name</th>\n",
       "      <th></th>\n",
       "    </tr>\n",
       "  </thead>\n",
       "  <tbody>\n",
       "    <tr>\n",
       "      <th rowspan=\"3\" valign=\"top\">General</th>\n",
       "      <th>Tops</th>\n",
       "      <td>-0.975000</td>\n",
       "    </tr>\n",
       "    <tr>\n",
       "      <th>Dresses</th>\n",
       "      <td>-0.916667</td>\n",
       "    </tr>\n",
       "    <tr>\n",
       "      <th>Jackets</th>\n",
       "      <td>-0.750000</td>\n",
       "    </tr>\n",
       "    <tr>\n",
       "      <th rowspan=\"3\" valign=\"top\">General Petite</th>\n",
       "      <th>Tops</th>\n",
       "      <td>-0.700000</td>\n",
       "    </tr>\n",
       "    <tr>\n",
       "      <th>Intimate</th>\n",
       "      <td>-0.575000</td>\n",
       "    </tr>\n",
       "    <tr>\n",
       "      <th>Jackets</th>\n",
       "      <td>-0.562500</td>\n",
       "    </tr>\n",
       "    <tr>\n",
       "      <th>General</th>\n",
       "      <th>Bottoms</th>\n",
       "      <td>-0.533333</td>\n",
       "    </tr>\n",
       "    <tr>\n",
       "      <th>General Petite</th>\n",
       "      <th>Dresses</th>\n",
       "      <td>-0.400000</td>\n",
       "    </tr>\n",
       "    <tr>\n",
       "      <th>Initmates</th>\n",
       "      <th>Intimate</th>\n",
       "      <td>-0.392333</td>\n",
       "    </tr>\n",
       "    <tr>\n",
       "      <th>General</th>\n",
       "      <th>Trend</th>\n",
       "      <td>-0.270833</td>\n",
       "    </tr>\n",
       "    <tr>\n",
       "      <th rowspan=\"2\" valign=\"top\">General Petite</th>\n",
       "      <th>Bottoms</th>\n",
       "      <td>-0.257778</td>\n",
       "    </tr>\n",
       "    <tr>\n",
       "      <th>Trend</th>\n",
       "      <td>-0.083333</td>\n",
       "    </tr>\n",
       "  </tbody>\n",
       "</table>\n",
       "</div>"
      ],
      "text/plain": [
       "                                sentiment_score\n",
       "division_name  department_name                 \n",
       "General        Tops                   -0.975000\n",
       "               Dresses                -0.916667\n",
       "               Jackets                -0.750000\n",
       "General Petite Tops                   -0.700000\n",
       "               Intimate               -0.575000\n",
       "               Jackets                -0.562500\n",
       "General        Bottoms                -0.533333\n",
       "General Petite Dresses                -0.400000\n",
       "Initmates      Intimate               -0.392333\n",
       "General        Trend                  -0.270833\n",
       "General Petite Bottoms                -0.257778\n",
       "               Trend                  -0.083333"
      ]
     },
     "execution_count": 80,
     "metadata": {},
     "output_type": "execute_result"
    }
   ],
   "source": [
    "min_polarity = df.groupby(aggregation).agg({'sentiment_score': 'min'}).sort_values('sentiment_score')\n",
    "min_polarity"
   ]
  },
  {
   "cell_type": "code",
   "execution_count": 74,
   "id": "a63a7357",
   "metadata": {},
   "outputs": [
    {
     "data": {
      "image/png": "[encoded data removed]",
      "text/plain": [
       "<Figure size 720x432 with 1 Axes>"
      ]
     },
     "metadata": {},
     "output_type": "display_data"
    }
   ],
   "source": [
    "min_polarity.plot(kind='barh',\n",
    "                  title='Average Rating by Division name and Department name',\n",
    "                  ylabel='Average rating', \n",
    "                  xlabel='Division and Department name', \n",
    "                  figsize=(10, 6));"
   ]
  },
  {
   "cell_type": "markdown",
   "id": "179b5e37",
   "metadata": {},
   "source": [
    "## Average review polarity by division and department"
   ]
  },
  {
   "cell_type": "code",
   "execution_count": 77,
   "id": "14be5e0f",
   "metadata": {},
   "outputs": [
    {
     "data": {
      "text/html": [
       "<div>\n",
       "<style scoped>\n",
       "    .dataframe tbody tr th:only-of-type {\n",
       "        vertical-align: middle;\n",
       "    }\n",
       "\n",
       "    .dataframe tbody tr th {\n",
       "        vertical-align: top;\n",
       "    }\n",
       "\n",
       "    .dataframe thead th {\n",
       "        text-align: right;\n",
       "    }\n",
       "</style>\n",
       "<table border=\"1\" class=\"dataframe\">\n",
       "  <thead>\n",
       "    <tr style=\"text-align: right;\">\n",
       "      <th></th>\n",
       "      <th></th>\n",
       "      <th>sentiment_score</th>\n",
       "    </tr>\n",
       "    <tr>\n",
       "      <th>division_name</th>\n",
       "      <th>department_name</th>\n",
       "      <th></th>\n",
       "    </tr>\n",
       "  </thead>\n",
       "  <tbody>\n",
       "    <tr>\n",
       "      <th>General Petite</th>\n",
       "      <th>Trend</th>\n",
       "      <td>0.195925</td>\n",
       "    </tr>\n",
       "    <tr>\n",
       "      <th rowspan=\"2\" valign=\"top\">General</th>\n",
       "      <th>Trend</th>\n",
       "      <td>0.203986</td>\n",
       "    </tr>\n",
       "    <tr>\n",
       "      <th>Jackets</th>\n",
       "      <td>0.237141</td>\n",
       "    </tr>\n",
       "    <tr>\n",
       "      <th rowspan=\"2\" valign=\"top\">General Petite</th>\n",
       "      <th>Intimate</th>\n",
       "      <td>0.239517</td>\n",
       "    </tr>\n",
       "    <tr>\n",
       "      <th>Jackets</th>\n",
       "      <td>0.241773</td>\n",
       "    </tr>\n",
       "    <tr>\n",
       "      <th rowspan=\"2\" valign=\"top\">General</th>\n",
       "      <th>Bottoms</th>\n",
       "      <td>0.245849</td>\n",
       "    </tr>\n",
       "    <tr>\n",
       "      <th>Tops</th>\n",
       "      <td>0.247025</td>\n",
       "    </tr>\n",
       "    <tr>\n",
       "      <th>General Petite</th>\n",
       "      <th>Dresses</th>\n",
       "      <td>0.248380</td>\n",
       "    </tr>\n",
       "    <tr>\n",
       "      <th>General</th>\n",
       "      <th>Dresses</th>\n",
       "      <td>0.251091</td>\n",
       "    </tr>\n",
       "    <tr>\n",
       "      <th>General Petite</th>\n",
       "      <th>Tops</th>\n",
       "      <td>0.256835</td>\n",
       "    </tr>\n",
       "    <tr>\n",
       "      <th>Initmates</th>\n",
       "      <th>Intimate</th>\n",
       "      <td>0.256979</td>\n",
       "    </tr>\n",
       "    <tr>\n",
       "      <th>General Petite</th>\n",
       "      <th>Bottoms</th>\n",
       "      <td>0.259258</td>\n",
       "    </tr>\n",
       "  </tbody>\n",
       "</table>\n",
       "</div>"
      ],
      "text/plain": [
       "                                sentiment_score\n",
       "division_name  department_name                 \n",
       "General Petite Trend                   0.195925\n",
       "General        Trend                   0.203986\n",
       "               Jackets                 0.237141\n",
       "General Petite Intimate                0.239517\n",
       "               Jackets                 0.241773\n",
       "General        Bottoms                 0.245849\n",
       "               Tops                    0.247025\n",
       "General Petite Dresses                 0.248380\n",
       "General        Dresses                 0.251091\n",
       "General Petite Tops                    0.256835\n",
       "Initmates      Intimate                0.256979\n",
       "General Petite Bottoms                 0.259258"
      ]
     },
     "execution_count": 77,
     "metadata": {},
     "output_type": "execute_result"
    }
   ],
   "source": [
    "avg_polarity = df.groupby(aggregation).agg({'sentiment_score': 'mean'}).sort_values('sentiment_score')\n",
    "avg_polarity"
   ]
  },
  {
   "cell_type": "code",
   "execution_count": 76,
   "id": "547df48b",
   "metadata": {},
   "outputs": [
    {
     "data": {
      "image/png": "[encoded data removed]",
      "text/plain": [
       "<Figure size 720x432 with 1 Axes>"
      ]
     },
     "metadata": {},
     "output_type": "display_data"
    }
   ],
   "source": [
    "avg_polarity.plot(kind='barh',\n",
    "                  title='Average Rating by Division name and Department name',\n",
    "                  ylabel='Average rating', \n",
    "                  xlabel='Division and Department name', \n",
    "                  figsize=(10, 6));"
   ]
  },
  {
   "cell_type": "code",
   "execution_count": null,
   "id": "1da563b8",
   "metadata": {},
   "outputs": [],
   "source": []
  }
 ],
 "metadata": {
  "kernelspec": {
   "display_name": "Python 3 (ipykernel)",
   "language": "python",
   "name": "python3"
  },
  "language_info": {
   "codemirror_mode": {
    "name": "ipython",
    "version": 3
   },
   "file_extension": ".py",
   "mimetype": "text/x-python",
   "name": "python",
   "nbconvert_exporter": "python",
   "pygments_lexer": "ipython3",
   "version": "3.9.7"
  },
  "toc": {
   "base_numbering": 1,
   "nav_menu": {},
   "number_sections": true,
   "sideBar": true,
   "skip_h1_title": false,
   "title_cell": "Table of Contents",
   "title_sidebar": "Contents",
   "toc_cell": false,
   "toc_position": {},
   "toc_section_display": true,
   "toc_window_display": false
  }
 },
 "nbformat": 4,
 "nbformat_minor": 5
}
