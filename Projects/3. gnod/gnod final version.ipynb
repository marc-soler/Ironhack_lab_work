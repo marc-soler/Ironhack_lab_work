{
 "cells": [
  {
   "cell_type": "code",
   "execution_count": 1,
   "id": "dd885f7a",
   "metadata": {},
   "outputs": [],
   "source": [
    "from fun import *"
   ]
  },
  {
   "cell_type": "code",
   "execution_count": 2,
   "id": "513569c1",
   "metadata": {
    "scrolled": false
   },
   "outputs": [
    {
     "name": "stdout",
     "output_type": "stream",
     "text": [
      "client_id?········\n",
      "client_secret?········\n",
      "\n",
      "Getting the data...\n",
      "Tell me a song you really like and I'll tell you some similar ones! You can tell me the title and the artist, or only the title!: tame pixies\n",
      "\n",
      "Okay, I was looking in the Billboard Hot 100 list and I found something!\n",
      "Do you mean Sacrifice by The Weeknd? Type yes/no: yes\n",
      "\n",
      "Hmm... I'm sorry to break it to you darling, but your taste in music kinda sucks :(\n",
      "\n",
      "However, don't worry! I'm here to assist you. I'm getting you some random recommendation from Spotify to diversify your repertoire a bit\n",
      "\n",
      "The songs I chose for you are the following, you can even have a brief taste of them now. Enjoy!\n",
      "\n",
      " - Tous les mêmes by Stromae\n"
     ]
    },
    {
     "data": {
      "text/html": [
       "\n",
       "        <iframe\n",
       "            width=\"320\"\n",
       "            height=\"80\"\n",
       "            src=\"https://open.spotify.com/embed/track/1GC1MIaRMW3kfVK9VyD5Ii?frameborder=0&allowtransparency=true&allow=encrypted-media\"\n",
       "            frameborder=\"0\"\n",
       "            allowfullscreen\n",
       "            \n",
       "        ></iframe>\n",
       "        "
      ],
      "text/plain": [
       "<IPython.lib.display.IFrame at 0x7fada1550910>"
      ]
     },
     "metadata": {},
     "output_type": "display_data"
    },
    {
     "name": "stdout",
     "output_type": "stream",
     "text": [
      "\n",
      " - Chloroformd - Original Mix by Pleasurekraft\n"
     ]
    },
    {
     "data": {
      "text/html": [
       "\n",
       "        <iframe\n",
       "            width=\"320\"\n",
       "            height=\"80\"\n",
       "            src=\"https://open.spotify.com/embed/track/3pTa9TVqe4KtwySMEemEoU?frameborder=0&allowtransparency=true&allow=encrypted-media\"\n",
       "            frameborder=\"0\"\n",
       "            allowfullscreen\n",
       "            \n",
       "        ></iframe>\n",
       "        "
      ],
      "text/plain": [
       "<IPython.lib.display.IFrame at 0x7fada317b850>"
      ]
     },
     "metadata": {},
     "output_type": "display_data"
    },
    {
     "name": "stdout",
     "output_type": "stream",
     "text": [
      "\n",
      " - Not Coming Down by Ferry Corsten\n"
     ]
    },
    {
     "data": {
      "text/html": [
       "\n",
       "        <iframe\n",
       "            width=\"320\"\n",
       "            height=\"80\"\n",
       "            src=\"https://open.spotify.com/embed/track/0pdIK84cUPqRuKZ261ZG2O?frameborder=0&allowtransparency=true&allow=encrypted-media\"\n",
       "            frameborder=\"0\"\n",
       "            allowfullscreen\n",
       "            \n",
       "        ></iframe>\n",
       "        "
      ],
      "text/plain": [
       "<IPython.lib.display.IFrame at 0x7fada317bdc0>"
      ]
     },
     "metadata": {},
     "output_type": "display_data"
    },
    {
     "name": "stdout",
     "output_type": "stream",
     "text": [
      "\n",
      "Do you wanna use the awesome recommender again? Type yes/no: yes\n",
      "Tell me a song you really like and I'll tell you some similar ones! You can tell me the title and the artist, or only the title!: tame pixies\n",
      "\n",
      "Okay, I was looking in the Billboard Hot 100 list and I found something!\n",
      "Do you mean Sacrifice by The Weeknd? Type yes/no: no\n",
      "\n",
      "Nice! Your song is not a basic, mainstream one. Let's look if I can find it in Spotify!\n",
      "\n",
      "I got a match! Are you referring to the song Tame by Pixies? Type yes/no: yes\n",
      "\n",
      "According to Spotify, your song has the genres: ['alternative rock', 'boston rock', 'modern rock', 'permanent wave', 'rock']\n",
      "\n",
      "Do you want me to recommend songs from the same genre(s)? Type yes/no: no\n",
      "\n",
      "I like people who venture into the unknown like yourself! I'm going to do my best to find some fresh tunes for ya. Enjoy them!\n",
      "\n",
      " - There Goes My Gun by Pixies, a nice club song\n"
     ]
    },
    {
     "data": {
      "text/html": [
       "\n",
       "        <iframe\n",
       "            width=\"320\"\n",
       "            height=\"80\"\n",
       "            src=\"https://open.spotify.com/embed/track/7GbTJsrNPXCoOWJ5vu2vSe?frameborder=0&allowtransparency=true&allow=encrypted-media\"\n",
       "            frameborder=\"0\"\n",
       "            allowfullscreen\n",
       "            \n",
       "        ></iframe>\n",
       "        "
      ],
      "text/plain": [
       "<IPython.lib.display.IFrame at 0x7fada1550160>"
      ]
     },
     "metadata": {},
     "output_type": "display_data"
    },
    {
     "name": "stdout",
     "output_type": "stream",
     "text": [
      "\n",
      " - Birthday by The Sugarcubes, a nice tango song\n"
     ]
    },
    {
     "data": {
      "text/html": [
       "\n",
       "        <iframe\n",
       "            width=\"320\"\n",
       "            height=\"80\"\n",
       "            src=\"https://open.spotify.com/embed/track/60BmSp4whSDDysRNgkKdqd?frameborder=0&allowtransparency=true&allow=encrypted-media\"\n",
       "            frameborder=\"0\"\n",
       "            allowfullscreen\n",
       "            \n",
       "        ></iframe>\n",
       "        "
      ],
      "text/plain": [
       "<IPython.lib.display.IFrame at 0x7fada1550160>"
      ]
     },
     "metadata": {},
     "output_type": "display_data"
    },
    {
     "name": "stdout",
     "output_type": "stream",
     "text": [
      "\n",
      " - Deora Ar Mo Chroí by Enya, a nice new-age song\n"
     ]
    },
    {
     "data": {
      "text/html": [
       "\n",
       "        <iframe\n",
       "            width=\"320\"\n",
       "            height=\"80\"\n",
       "            src=\"https://open.spotify.com/embed/track/0jVDUBHY2SziMS3MwhKBpJ?frameborder=0&allowtransparency=true&allow=encrypted-media\"\n",
       "            frameborder=\"0\"\n",
       "            allowfullscreen\n",
       "            \n",
       "        ></iframe>\n",
       "        "
      ],
      "text/plain": [
       "<IPython.lib.display.IFrame at 0x7fada317beb0>"
      ]
     },
     "metadata": {},
     "output_type": "display_data"
    },
    {
     "name": "stdout",
     "output_type": "stream",
     "text": [
      "\n",
      "Do you wanna use the awesome recommender again? Type yes/no: yes\n",
      "Tell me a song you really like and I'll tell you some similar ones! You can tell me the title and the artist, or only the title!: pixies tame\n",
      "\n",
      "Okay, I was looking in the Billboard Hot 100 list and I found something!\n",
      "Do you mean Fingers Crossed by Lauren Spencer-Smith? Type yes/no: no\n",
      "\n",
      "Nice! Your song is not a basic, mainstream one. Let's look if I can find it in Spotify!\n",
      "\n",
      "I got a match! Are you referring to the song Tame by Pixies? Type yes/no: yes\n",
      "\n",
      "According to Spotify, your song has the genres: ['alternative rock', 'boston rock', 'modern rock', 'permanent wave', 'rock']\n",
      "\n",
      "Do you want me to recommend songs from the same genre(s)? Type yes/no: kfjdbdg\n",
      "\n",
      "Sorry, I didn't catch that, you need to type either 'yes' or 'no'.\n",
      "\n",
      "Do you want me to recommend songs from the same genre(s)? Type yes/no: yes\n",
      "\n",
      "If it works, why change it I guess! Here are your fresh recommendations, ejoy :)\n",
      "\n",
      " - Nightclubbing by Iggy Pop\n"
     ]
    },
    {
     "data": {
      "text/html": [
       "\n",
       "        <iframe\n",
       "            width=\"320\"\n",
       "            height=\"80\"\n",
       "            src=\"https://open.spotify.com/embed/track/17G8acTUbdbbd6DCmAi5Nb?frameborder=0&allowtransparency=true&allow=encrypted-media\"\n",
       "            frameborder=\"0\"\n",
       "            allowfullscreen\n",
       "            \n",
       "        ></iframe>\n",
       "        "
      ],
      "text/plain": [
       "<IPython.lib.display.IFrame at 0x7fada317b940>"
      ]
     },
     "metadata": {},
     "output_type": "display_data"
    },
    {
     "name": "stdout",
     "output_type": "stream",
     "text": [
      "\n",
      " - Venus In Furs by The Velvet Underground\n"
     ]
    },
    {
     "data": {
      "text/html": [
       "\n",
       "        <iframe\n",
       "            width=\"320\"\n",
       "            height=\"80\"\n",
       "            src=\"https://open.spotify.com/embed/track/29engDqjmMr3VLqMm0c0WE?frameborder=0&allowtransparency=true&allow=encrypted-media\"\n",
       "            frameborder=\"0\"\n",
       "            allowfullscreen\n",
       "            \n",
       "        ></iframe>\n",
       "        "
      ],
      "text/plain": [
       "<IPython.lib.display.IFrame at 0x7fada317bfa0>"
      ]
     },
     "metadata": {},
     "output_type": "display_data"
    },
    {
     "name": "stdout",
     "output_type": "stream",
     "text": [
      "\n",
      " - Caribou by Pixies\n"
     ]
    },
    {
     "data": {
      "text/html": [
       "\n",
       "        <iframe\n",
       "            width=\"320\"\n",
       "            height=\"80\"\n",
       "            src=\"https://open.spotify.com/embed/track/0zClrkFd5UQuUFys243KjP?frameborder=0&allowtransparency=true&allow=encrypted-media\"\n",
       "            frameborder=\"0\"\n",
       "            allowfullscreen\n",
       "            \n",
       "        ></iframe>\n",
       "        "
      ],
      "text/plain": [
       "<IPython.lib.display.IFrame at 0x7fada317bbb0>"
      ]
     },
     "metadata": {},
     "output_type": "display_data"
    },
    {
     "name": "stdout",
     "output_type": "stream",
     "text": [
      "\n",
      "Do you wanna use the awesome recommender again? Type yes/no: yes\n",
      "Tell me a song you really like and I'll tell you some similar ones! You can tell me the title and the artist, or only the title!: nightclubbing\n",
      "\n",
      "Okay, I was looking in the Billboard Hot 100 list and I found something!\n",
      "Do you mean Levitating by Dua Lipa? Type yes/no: no\n",
      "\n",
      "Nice! Your song is not a basic, mainstream one. Let's look if I can find it in Spotify!\n",
      "\n",
      "I got a match! Are you referring to the song Nightclubbing by Iggy Pop? Type yes/no: yes\n",
      "\n",
      "According to Spotify, your song has the genres: ['alternative rock', 'classic rock', 'glam rock', 'new wave', 'permanent wave', 'post-punk', 'protopunk', 'punk', 'rock']\n",
      "\n",
      "Do you want me to recommend songs from the same genre(s)? Type yes/no: yes\n",
      "\n",
      "If it works, why change it I guess! Here are your fresh recommendations, ejoy :)\n",
      "\n",
      " - Here Comes Your Man by Pixies\n"
     ]
    },
    {
     "data": {
      "text/html": [
       "\n",
       "        <iframe\n",
       "            width=\"320\"\n",
       "            height=\"80\"\n",
       "            src=\"https://open.spotify.com/embed/track/4IvZLDtwBHmBmwgDIUbuwa?frameborder=0&allowtransparency=true&allow=encrypted-media\"\n",
       "            frameborder=\"0\"\n",
       "            allowfullscreen\n",
       "            \n",
       "        ></iframe>\n",
       "        "
      ],
      "text/plain": [
       "<IPython.lib.display.IFrame at 0x7fada317bc10>"
      ]
     },
     "metadata": {},
     "output_type": "display_data"
    },
    {
     "name": "stdout",
     "output_type": "stream",
     "text": [
      "\n",
      " - Sex Beat by The Gun Club\n"
     ]
    },
    {
     "data": {
      "text/html": [
       "\n",
       "        <iframe\n",
       "            width=\"320\"\n",
       "            height=\"80\"\n",
       "            src=\"https://open.spotify.com/embed/track/4H3J2qzrhGbmV0hES5nixl?frameborder=0&allowtransparency=true&allow=encrypted-media\"\n",
       "            frameborder=\"0\"\n",
       "            allowfullscreen\n",
       "            \n",
       "        ></iframe>\n",
       "        "
      ],
      "text/plain": [
       "<IPython.lib.display.IFrame at 0x7fada1550160>"
      ]
     },
     "metadata": {},
     "output_type": "display_data"
    },
    {
     "name": "stdout",
     "output_type": "stream",
     "text": [
      "\n",
      " - Heroes - 2017 Remaster by David Bowie\n"
     ]
    },
    {
     "data": {
      "text/html": [
       "\n",
       "        <iframe\n",
       "            width=\"320\"\n",
       "            height=\"80\"\n",
       "            src=\"https://open.spotify.com/embed/track/7Jh1bpe76CNTCgdgAdBw4Z?frameborder=0&allowtransparency=true&allow=encrypted-media\"\n",
       "            frameborder=\"0\"\n",
       "            allowfullscreen\n",
       "            \n",
       "        ></iframe>\n",
       "        "
      ],
      "text/plain": [
       "<IPython.lib.display.IFrame at 0x7fada317beb0>"
      ]
     },
     "metadata": {},
     "output_type": "display_data"
    },
    {
     "name": "stdout",
     "output_type": "stream",
     "text": [
      "\n",
      "Do you wanna use the awesome recommender again? Type yes/no: no\n",
      "\n",
      "Ok, thanks for using the awesome recommender!\n"
     ]
    }
   ],
   "source": [
    "recommender()"
   ]
  },
  {
   "cell_type": "code",
   "execution_count": null,
   "id": "91c4a129",
   "metadata": {},
   "outputs": [],
   "source": []
  }
 ],
 "metadata": {
  "kernelspec": {
   "display_name": "Python 3 (ipykernel)",
   "language": "python",
   "name": "python3"
  },
  "language_info": {
   "codemirror_mode": {
    "name": "ipython",
    "version": 3
   },
   "file_extension": ".py",
   "mimetype": "text/x-python",
   "name": "python",
   "nbconvert_exporter": "python",
   "pygments_lexer": "ipython3",
   "version": "3.9.7"
  },
  "toc": {
   "base_numbering": 1,
   "nav_menu": {},
   "number_sections": true,
   "sideBar": true,
   "skip_h1_title": false,
   "title_cell": "Table of Contents",
   "title_sidebar": "Contents",
   "toc_cell": false,
   "toc_position": {},
   "toc_section_display": true,
   "toc_window_display": false
  }
 },
 "nbformat": 4,
 "nbformat_minor": 5
}
