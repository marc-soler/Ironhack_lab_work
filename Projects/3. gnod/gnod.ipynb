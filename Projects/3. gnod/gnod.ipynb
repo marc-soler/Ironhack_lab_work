{
 "cells": [
  {
   "cell_type": "code",
   "execution_count": 1,
   "id": "dd885f7a",
   "metadata": {},
   "outputs": [],
   "source": [
    "from fun import *"
   ]
  },
  {
   "cell_type": "code",
   "execution_count": 4,
   "id": "513569c1",
   "metadata": {
    "scrolled": false
   },
   "outputs": [
    {
     "name": "stdout",
     "output_type": "stream",
     "text": [
      "client_id?········\n",
      "client_secret?········\n",
      "\n",
      "Getting the data...\n",
      "\n",
      "Tell me a song you really like and I'll tell you some similar ones! You can tell me the title and the artist, or only the title!: cualquier dia\n",
      "\n",
      "Okay, I was looking in the Billboard Hot 100 list and I found something!\n",
      "\n",
      "Do you mean Buy Dirt by Jordan Davis Featuring Luke Bryan? Type yes/no: no\n",
      "\n",
      "Nice! Your song is not a basic, mainstream one. Let's look if I can find it in Spotify!\n",
      "\n",
      "I got a match! Are you referring to the song Cualquier Dia by María Martha Serra Lima? Type yes/no: no\n",
      "\n",
      "I'm sorry, but I can't seem to find the song you're looking for!\n",
      "\n",
      "Do you wanna use the awesome recommender again? Type yes/no: yes\n",
      "\n",
      "Tell me a song you really like and I'll tell you some similar ones! You can tell me the title and the artist, or only the title!: kualkier dia\n",
      "\n",
      "Okay, I was looking in the Billboard Hot 100 list and I found something!\n",
      "\n",
      "Do you mean Knife Talk by Drake Featuring 21 Savage & Project Pat? Type yes/no: no\n",
      "\n",
      "Nice! Your song is not a basic, mainstream one. Let's look if I can find it in Spotify!\n",
      "\n",
      "I got a match! Are you referring to the song Kualkier Día by Piperrak? Type yes/no: yes\n",
      "\n",
      "According to Spotify, your song has the genres: ['spanish punk']\n",
      "\n",
      "Do you want me to recommend songs from the same genre(s)? Type yes/no: yes\n",
      "\n",
      "If it works, why change it I guess! Here are your fresh recommendations, enjoy :)\n",
      "\n",
      " - Aquí huele como que han fumao by Koma\n"
     ]
    },
    {
     "data": {
      "text/html": [
       "\n",
       "        <iframe\n",
       "            width=\"320\"\n",
       "            height=\"80\"\n",
       "            src=\"https://open.spotify.com/embed/track/4cHZm42AfcXxrQHaqgksDa?frameborder=0&allowtransparency=true&allow=encrypted-media\"\n",
       "            frameborder=\"0\"\n",
       "            allowfullscreen\n",
       "            \n",
       "        ></iframe>\n",
       "        "
      ],
      "text/plain": [
       "<IPython.lib.display.IFrame at 0x7fde5eabe3a0>"
      ]
     },
     "metadata": {},
     "output_type": "display_data"
    },
    {
     "name": "stdout",
     "output_type": "stream",
     "text": [
      "\n",
      " - Vicio by Reincidentes\n"
     ]
    },
    {
     "data": {
      "text/html": [
       "\n",
       "        <iframe\n",
       "            width=\"320\"\n",
       "            height=\"80\"\n",
       "            src=\"https://open.spotify.com/embed/track/7c9sDyogsPK8XUAubCK69Y?frameborder=0&allowtransparency=true&allow=encrypted-media\"\n",
       "            frameborder=\"0\"\n",
       "            allowfullscreen\n",
       "            \n",
       "        ></iframe>\n",
       "        "
      ],
      "text/plain": [
       "<IPython.lib.display.IFrame at 0x7fde5eabe3a0>"
      ]
     },
     "metadata": {},
     "output_type": "display_data"
    },
    {
     "name": "stdout",
     "output_type": "stream",
     "text": [
      "\n",
      " - El Espiritu del Oi! by Non Servium\n"
     ]
    },
    {
     "data": {
      "text/html": [
       "\n",
       "        <iframe\n",
       "            width=\"320\"\n",
       "            height=\"80\"\n",
       "            src=\"https://open.spotify.com/embed/track/1tef2YV1xTcWBqr6K376ab?frameborder=0&allowtransparency=true&allow=encrypted-media\"\n",
       "            frameborder=\"0\"\n",
       "            allowfullscreen\n",
       "            \n",
       "        ></iframe>\n",
       "        "
      ],
      "text/plain": [
       "<IPython.lib.display.IFrame at 0x7fde5eabe340>"
      ]
     },
     "metadata": {},
     "output_type": "display_data"
    },
    {
     "name": "stdout",
     "output_type": "stream",
     "text": [
      "\n",
      "Do you wanna use the awesome recommender again? Type yes/no: yes\n",
      "\n",
      "Tell me a song you really like and I'll tell you some similar ones! You can tell me the title and the artist, or only the title!: love\n",
      "\n",
      "Okay, I was looking in the Billboard Hot 100 list and I found something!\n",
      "\n",
      "Do you mean Love Nwantiti (Ah Ah Ah) by CKay? Type yes/no: yes\n",
      "\n",
      "Hmm... I'm sorry to break it to you darling, but your taste in music kinda sucks :(\n",
      "\n",
      "However, don't worry! I'm here to assist you. I'm getting you some random recommendation from Spotify to diversify your repertoire a bit\n",
      "\n",
      "The songs I chose for you are the following, you can even have a brief taste of them now. Enjoy!\n",
      "\n",
      " - Closing Time by Semisonic\n"
     ]
    },
    {
     "data": {
      "text/html": [
       "\n",
       "        <iframe\n",
       "            width=\"320\"\n",
       "            height=\"80\"\n",
       "            src=\"https://open.spotify.com/embed/track/087OBLtoeS3Q6j0k6tMNAI?frameborder=0&allowtransparency=true&allow=encrypted-media\"\n",
       "            frameborder=\"0\"\n",
       "            allowfullscreen\n",
       "            \n",
       "        ></iframe>\n",
       "        "
      ],
      "text/plain": [
       "<IPython.lib.display.IFrame at 0x7fde5edace80>"
      ]
     },
     "metadata": {},
     "output_type": "display_data"
    },
    {
     "name": "stdout",
     "output_type": "stream",
     "text": [
      "\n",
      " - Drop Dead Cynical by Amaranthe\n"
     ]
    },
    {
     "data": {
      "text/html": [
       "\n",
       "        <iframe\n",
       "            width=\"320\"\n",
       "            height=\"80\"\n",
       "            src=\"https://open.spotify.com/embed/track/32b8wStVMtiyTHE8rWrgvf?frameborder=0&allowtransparency=true&allow=encrypted-media\"\n",
       "            frameborder=\"0\"\n",
       "            allowfullscreen\n",
       "            \n",
       "        ></iframe>\n",
       "        "
      ],
      "text/plain": [
       "<IPython.lib.display.IFrame at 0x7fde5f0c6d90>"
      ]
     },
     "metadata": {},
     "output_type": "display_data"
    },
    {
     "name": "stdout",
     "output_type": "stream",
     "text": [
      "\n",
      " - Prutataaa - Original Mix by Afrojack\n"
     ]
    },
    {
     "data": {
      "text/html": [
       "\n",
       "        <iframe\n",
       "            width=\"320\"\n",
       "            height=\"80\"\n",
       "            src=\"https://open.spotify.com/embed/track/3oKlFN0SzQFmLBQ7XlMt2b?frameborder=0&allowtransparency=true&allow=encrypted-media\"\n",
       "            frameborder=\"0\"\n",
       "            allowfullscreen\n",
       "            \n",
       "        ></iframe>\n",
       "        "
      ],
      "text/plain": [
       "<IPython.lib.display.IFrame at 0x7fde5f0c6d90>"
      ]
     },
     "metadata": {},
     "output_type": "display_data"
    },
    {
     "name": "stdout",
     "output_type": "stream",
     "text": [
      "\n",
      "Do you wanna use the awesome recommender again? Type yes/no: yes\n",
      "\n",
      "Tell me a song you really like and I'll tell you some similar ones! You can tell me the title and the artist, or only the title!: himno de españa\n",
      "\n",
      "Okay, I was looking in the Billboard Hot 100 list and I found something!\n",
      "\n",
      "Do you mean Stay by The Kid LAROI & Justin Bieber? Type yes/no: no\n",
      "\n",
      "Nice! Your song is not a basic, mainstream one. Let's look if I can find it in Spotify!\n",
      "\n",
      "I got a match! Are you referring to the song Himno de España by Legión Española? Type yes/no: yes\n",
      "\n",
      "According to Spotify, your song has the genres: ['banda militar']\n",
      "\n",
      "Do you want me to recommend songs from the same genre(s)? Type yes/no: no\n",
      "\n",
      "I like people who venture into the unknown like yourself! I'm going to do my best to find some fresh tunes for ya. Enjoy them!\n",
      "\n",
      " - Como Si Fueras a Morir Mañana by Leiva, a nice german song\n"
     ]
    },
    {
     "data": {
      "text/html": [
       "\n",
       "        <iframe\n",
       "            width=\"320\"\n",
       "            height=\"80\"\n",
       "            src=\"https://open.spotify.com/embed/track/4aAfLSx9IthpC3Pw5pNk3E?frameborder=0&allowtransparency=true&allow=encrypted-media\"\n",
       "            frameborder=\"0\"\n",
       "            allowfullscreen\n",
       "            \n",
       "        ></iframe>\n",
       "        "
      ],
      "text/plain": [
       "<IPython.lib.display.IFrame at 0x7fde5eabe3a0>"
      ]
     },
     "metadata": {},
     "output_type": "display_data"
    },
    {
     "name": "stdout",
     "output_type": "stream",
     "text": [
      "\n",
      " - El Porompompero by Manolo Escobar, a nice jazz song\n"
     ]
    },
    {
     "data": {
      "text/html": [
       "\n",
       "        <iframe\n",
       "            width=\"320\"\n",
       "            height=\"80\"\n",
       "            src=\"https://open.spotify.com/embed/track/1BZAlhBa3vudhlVg4t1DH2?frameborder=0&allowtransparency=true&allow=encrypted-media\"\n",
       "            frameborder=\"0\"\n",
       "            allowfullscreen\n",
       "            \n",
       "        ></iframe>\n",
       "        "
      ],
      "text/plain": [
       "<IPython.lib.display.IFrame at 0x7fde5edacc40>"
      ]
     },
     "metadata": {},
     "output_type": "display_data"
    },
    {
     "name": "stdout",
     "output_type": "stream",
     "text": [
      "\n",
      " - Hey Yea Yea Yea Ye by ElRubiusOMG, a nice latino song\n"
     ]
    },
    {
     "data": {
      "text/html": [
       "\n",
       "        <iframe\n",
       "            width=\"320\"\n",
       "            height=\"80\"\n",
       "            src=\"https://open.spotify.com/embed/track/2ds3dcKbUZmX7Z1C4voJcF?frameborder=0&allowtransparency=true&allow=encrypted-media\"\n",
       "            frameborder=\"0\"\n",
       "            allowfullscreen\n",
       "            \n",
       "        ></iframe>\n",
       "        "
      ],
      "text/plain": [
       "<IPython.lib.display.IFrame at 0x7fde5edacee0>"
      ]
     },
     "metadata": {},
     "output_type": "display_data"
    },
    {
     "name": "stdout",
     "output_type": "stream",
     "text": [
      "\n",
      "Do you wanna use the awesome recommender again? Type yes/no: no\n",
      "\n",
      "Ok, thanks for using the awesome recommender!\n"
     ]
    }
   ],
   "source": [
    "recommender()"
   ]
  },
  {
   "cell_type": "code",
   "execution_count": null,
   "id": "a79db6d7",
   "metadata": {},
   "outputs": [],
   "source": []
  }
 ],
 "metadata": {
  "kernelspec": {
   "display_name": "Python 3 (ipykernel)",
   "language": "python",
   "name": "python3"
  },
  "language_info": {
   "codemirror_mode": {
    "name": "ipython",
    "version": 3
   },
   "file_extension": ".py",
   "mimetype": "text/x-python",
   "name": "python",
   "nbconvert_exporter": "python",
   "pygments_lexer": "ipython3",
   "version": "3.9.7"
  },
  "toc": {
   "base_numbering": 1,
   "nav_menu": {},
   "number_sections": true,
   "sideBar": true,
   "skip_h1_title": false,
   "title_cell": "Table of Contents",
   "title_sidebar": "Contents",
   "toc_cell": false,
   "toc_position": {},
   "toc_section_display": true,
   "toc_window_display": false
  }
 },
 "nbformat": 4,
 "nbformat_minor": 5
}
