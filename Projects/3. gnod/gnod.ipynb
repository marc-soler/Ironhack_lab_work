{
 "cells": [
  {
   "cell_type": "code",
   "execution_count": 1,
   "id": "dd885f7a",
   "metadata": {},
   "outputs": [],
   "source": [
    "from fun import *"
   ]
  },
  {
   "cell_type": "code",
   "execution_count": null,
   "id": "513569c1",
   "metadata": {
    "scrolled": false
   },
   "outputs": [
    {
     "name": "stdout",
     "output_type": "stream",
     "text": [
      "client_id?········\n",
      "client_secret?········\n",
      "\n",
      "Getting the data...\n",
      "\n",
      "Tell me a song you really like and I'll tell you some similar ones! You can tell me the title and the artist, or only the title!: whish you were here\n",
      "\n",
      "Okay, I was looking in the Billboard Hot 100 list and I found something!\n",
      "\n",
      "Do you mean High by The Chainsmokers? Type yes/no: no\n",
      "\n",
      "Nice! Your song is not a basic, mainstream one. Let's look if I can find it in Spotify!\n",
      "\n",
      "I got a match! Are you referring to the song Wish You Were Here by Pink Floyd? Type yes/no: yes\n",
      "\n",
      "According to Spotify, your song has the genres: ['album rock', 'art rock', 'classic rock', 'progressive rock', 'psychedelic rock', 'rock', 'symphonic rock']\n",
      "\n",
      "Do you want me to recommend songs from the same genre(s)? Type yes/no: yes\n",
      "\n",
      "If it works, why change it I guess! Here are your fresh recommendations, enjoy :)\n",
      "\n",
      " - The Times They Are A-Changin' by Bob Dylan\n"
     ]
    },
    {
     "data": {
      "text/html": [
       "\n",
       "        <iframe\n",
       "            width=\"320\"\n",
       "            height=\"80\"\n",
       "            src=\"https://open.spotify.com/embed/track/52vA3CYKZqZVdQnzRrdZt6?frameborder=0&allowtransparency=true&allow=encrypted-media\"\n",
       "            frameborder=\"0\"\n",
       "            allowfullscreen\n",
       "            \n",
       "        ></iframe>\n",
       "        "
      ],
      "text/plain": [
       "<IPython.lib.display.IFrame at 0x7fb5400eab50>"
      ]
     },
     "metadata": {},
     "output_type": "display_data"
    },
    {
     "name": "stdout",
     "output_type": "stream",
     "text": [
      "\n",
      " - Fare Thee Well by Stone Temple Pilots\n"
     ]
    },
    {
     "data": {
      "text/html": [
       "\n",
       "        <iframe\n",
       "            width=\"320\"\n",
       "            height=\"80\"\n",
       "            src=\"https://open.spotify.com/embed/track/1fzw0qGcB6xs4IBXhdfAkj?frameborder=0&allowtransparency=true&allow=encrypted-media\"\n",
       "            frameborder=\"0\"\n",
       "            allowfullscreen\n",
       "            \n",
       "        ></iframe>\n",
       "        "
      ],
      "text/plain": [
       "<IPython.lib.display.IFrame at 0x7fb5400eac40>"
      ]
     },
     "metadata": {},
     "output_type": "display_data"
    },
    {
     "name": "stdout",
     "output_type": "stream",
     "text": [
      "\n",
      " - When A Blind Man Cries - Remastered by Deep Purple\n"
     ]
    },
    {
     "data": {
      "text/html": [
       "\n",
       "        <iframe\n",
       "            width=\"320\"\n",
       "            height=\"80\"\n",
       "            src=\"https://open.spotify.com/embed/track/0JtcFIgrkSagrM5JdFakeO?frameborder=0&allowtransparency=true&allow=encrypted-media\"\n",
       "            frameborder=\"0\"\n",
       "            allowfullscreen\n",
       "            \n",
       "        ></iframe>\n",
       "        "
      ],
      "text/plain": [
       "<IPython.lib.display.IFrame at 0x7fb5400eac40>"
      ]
     },
     "metadata": {},
     "output_type": "display_data"
    },
    {
     "name": "stdout",
     "output_type": "stream",
     "text": [
      "\n",
      "Do you wanna use the awesome recommender again? Type yes/no: yes\n",
      "\n",
      "Tell me a song you really like and I'll tell you some similar ones! You can tell me the title and the artist, or only the title!: tame pixies\n",
      "\n",
      "Okay, I was looking in the Billboard Hot 100 list and I found something!\n",
      "\n",
      "Do you mean Surface Pressure by Jessica Darrow? Type yes/no: no\n",
      "\n",
      "Nice! Your song is not a basic, mainstream one. Let's look if I can find it in Spotify!\n",
      "\n",
      "I got a match! Are you referring to the song Tame by Pixies? Type yes/no: yes\n",
      "\n",
      "According to Spotify, your song has the genres: ['alternative rock', 'boston rock', 'modern rock', 'permanent wave', 'rock']\n",
      "\n",
      "Do you want me to recommend songs from the same genre(s)? Type yes/no: no\n",
      "\n",
      "I like people who venture into the unknown like yourself! I'm going to do my best to find some fresh tunes for ya. Enjoy them!\n",
      "\n",
      " - Flashlight - Original Mix by R3HAB, a nice electro song\n"
     ]
    },
    {
     "data": {
      "text/html": [
       "\n",
       "        <iframe\n",
       "            width=\"320\"\n",
       "            height=\"80\"\n",
       "            src=\"https://open.spotify.com/embed/track/0WeF2Avp91o78EiEfxHPrw?frameborder=0&allowtransparency=true&allow=encrypted-media\"\n",
       "            frameborder=\"0\"\n",
       "            allowfullscreen\n",
       "            \n",
       "        ></iframe>\n",
       "        "
      ],
      "text/plain": [
       "<IPython.lib.display.IFrame at 0x7fb5400eabb0>"
      ]
     },
     "metadata": {},
     "output_type": "display_data"
    },
    {
     "name": "stdout",
     "output_type": "stream",
     "text": [
      "\n",
      " - King of Carrot Flowers Pt. 1 by Neutral Milk Hotel, a nice piano song\n"
     ]
    },
    {
     "data": {
      "text/html": [
       "\n",
       "        <iframe\n",
       "            width=\"320\"\n",
       "            height=\"80\"\n",
       "            src=\"https://open.spotify.com/embed/track/5CU1bbfY1wUPm7fU255Dhf?frameborder=0&allowtransparency=true&allow=encrypted-media\"\n",
       "            frameborder=\"0\"\n",
       "            allowfullscreen\n",
       "            \n",
       "        ></iframe>\n",
       "        "
      ],
      "text/plain": [
       "<IPython.lib.display.IFrame at 0x7fb5400eabb0>"
      ]
     },
     "metadata": {},
     "output_type": "display_data"
    },
    {
     "name": "stdout",
     "output_type": "stream",
     "text": [
      "\n",
      " - Bad Mouth by Fugazi, a nice deep-house song\n"
     ]
    },
    {
     "data": {
      "text/html": [
       "\n",
       "        <iframe\n",
       "            width=\"320\"\n",
       "            height=\"80\"\n",
       "            src=\"https://open.spotify.com/embed/track/44qEQsgGIiKEE6oYwOGo2s?frameborder=0&allowtransparency=true&allow=encrypted-media\"\n",
       "            frameborder=\"0\"\n",
       "            allowfullscreen\n",
       "            \n",
       "        ></iframe>\n",
       "        "
      ],
      "text/plain": [
       "<IPython.lib.display.IFrame at 0x7fb5400eabb0>"
      ]
     },
     "metadata": {},
     "output_type": "display_data"
    },
    {
     "name": "stdout",
     "output_type": "stream",
     "text": [
      "\n",
      "Do you wanna use the awesome recommender again? Type yes/no: yes\n",
      "\n",
      "Tell me a song you really like and I'll tell you some similar ones! You can tell me the title and the artist, or only the title!: king bromeliad\n",
      "\n",
      "Okay, I was looking in the Billboard Hot 100 list and I found something!\n",
      "\n",
      "Do you mean Banking On Me by Gunna? Type yes/no: no\n",
      "\n",
      "Nice! Your song is not a basic, mainstream one. Let's look if I can find it in Spotify!\n",
      "\n",
      "I got a match! Are you referring to the song King Bromeliad by Floating Points? Type yes/no: yes\n",
      "\n",
      "According to Spotify, your song has the genres: ['electronica', 'microhouse', 'uk bass']\n",
      "\n",
      "Do you want me to recommend songs from the same genre(s)? Type yes/no: yes\n",
      "\n",
      "If it works, why change it I guess! Here are your fresh recommendations, enjoy :)\n",
      "\n",
      " - Silver by Caribou\n"
     ]
    },
    {
     "data": {
      "text/html": [
       "\n",
       "        <iframe\n",
       "            width=\"320\"\n",
       "            height=\"80\"\n",
       "            src=\"https://open.spotify.com/embed/track/6aIJ5Tc5BtiPSQc6Ago1Y6?frameborder=0&allowtransparency=true&allow=encrypted-media\"\n",
       "            frameborder=\"0\"\n",
       "            allowfullscreen\n",
       "            \n",
       "        ></iframe>\n",
       "        "
      ],
      "text/plain": [
       "<IPython.lib.display.IFrame at 0x7fb5400ea820>"
      ]
     },
     "metadata": {},
     "output_type": "display_data"
    },
    {
     "name": "stdout",
     "output_type": "stream",
     "text": [
      "\n",
      " - Lush by Four Tet\n"
     ]
    },
    {
     "data": {
      "text/html": [
       "\n",
       "        <iframe\n",
       "            width=\"320\"\n",
       "            height=\"80\"\n",
       "            src=\"https://open.spotify.com/embed/track/4KjNEsQ4jkqXwCmsn71a9p?frameborder=0&allowtransparency=true&allow=encrypted-media\"\n",
       "            frameborder=\"0\"\n",
       "            allowfullscreen\n",
       "            \n",
       "        ></iframe>\n",
       "        "
      ],
      "text/plain": [
       "<IPython.lib.display.IFrame at 0x7fb5400ea760>"
      ]
     },
     "metadata": {},
     "output_type": "display_data"
    },
    {
     "name": "stdout",
     "output_type": "stream",
     "text": [
      "\n",
      " - Street Fighter Mas by Kamasi Washington\n"
     ]
    },
    {
     "data": {
      "text/html": [
       "\n",
       "        <iframe\n",
       "            width=\"320\"\n",
       "            height=\"80\"\n",
       "            src=\"https://open.spotify.com/embed/track/42HCaQAAihJZBY12wIZvyR?frameborder=0&allowtransparency=true&allow=encrypted-media\"\n",
       "            frameborder=\"0\"\n",
       "            allowfullscreen\n",
       "            \n",
       "        ></iframe>\n",
       "        "
      ],
      "text/plain": [
       "<IPython.lib.display.IFrame at 0x7fb5400ea760>"
      ]
     },
     "metadata": {},
     "output_type": "display_data"
    }
   ],
   "source": [
    "recommender()"
   ]
  },
  {
   "cell_type": "code",
   "execution_count": null,
   "id": "a79db6d7",
   "metadata": {},
   "outputs": [],
   "source": []
  }
 ],
 "metadata": {
  "kernelspec": {
   "display_name": "Python 3 (ipykernel)",
   "language": "python",
   "name": "python3"
  },
  "language_info": {
   "codemirror_mode": {
    "name": "ipython",
    "version": 3
   },
   "file_extension": ".py",
   "mimetype": "text/x-python",
   "name": "python",
   "nbconvert_exporter": "python",
   "pygments_lexer": "ipython3",
   "version": "3.9.7"
  },
  "toc": {
   "base_numbering": 1,
   "nav_menu": {},
   "number_sections": true,
   "sideBar": true,
   "skip_h1_title": false,
   "title_cell": "Table of Contents",
   "title_sidebar": "Contents",
   "toc_cell": false,
   "toc_position": {},
   "toc_section_display": true,
   "toc_window_display": false
  }
 },
 "nbformat": 4,
 "nbformat_minor": 5
}
