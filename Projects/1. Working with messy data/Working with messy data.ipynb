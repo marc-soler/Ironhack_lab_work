{
 "cells": [
  {
   "cell_type": "code",
   "execution_count": 1,
   "id": "d108bfb7",
   "metadata": {},
   "outputs": [],
   "source": [
    "import numpy as np\n",
    "import pandas as pd\n",
    "import matplotlib.pyplot as plt"
   ]
  },
  {
   "cell_type": "code",
   "execution_count": 2,
   "id": "d4e5673d",
   "metadata": {},
   "outputs": [],
   "source": [
    "df = pd.read_csv('alldata.csv')"
   ]
  },
  {
   "cell_type": "code",
   "execution_count": 3,
   "id": "f483bb4b",
   "metadata": {},
   "outputs": [],
   "source": [
    "new = df[\"location\"].str.split(\", \", n=1,expand = True)\n",
    "df['city'] = new[0]\n",
    "df['state'] = new[1].str.split(\" \",n=1,expand = True)[0]\n",
    "df = df.drop(['location', 'reviews', 'company'], axis=1)\n",
    "df = df.drop_duplicates()\n",
    "df = df.dropna()\n",
    "df.reset_index(drop=True, inplace=True)"
   ]
  },
  {
   "cell_type": "code",
   "execution_count": 4,
   "id": "856b665b",
   "metadata": {},
   "outputs": [
    {
     "data": {
      "text/plain": [
       "5242"
      ]
     },
     "execution_count": 4,
     "metadata": {},
     "output_type": "execute_result"
    }
   ],
   "source": [
    "len(list(df['position'].unique()))"
   ]
  },
  {
   "cell_type": "code",
   "execution_count": 5,
   "id": "e924b9f0",
   "metadata": {},
   "outputs": [
    {
     "name": "stdout",
     "output_type": "stream",
     "text": [
      "<class 'pandas.core.frame.DataFrame'>\n",
      "RangeIndex: 6908 entries, 0 to 6907\n",
      "Data columns (total 4 columns):\n",
      " #   Column       Non-Null Count  Dtype \n",
      "---  ------       --------------  ----- \n",
      " 0   position     6908 non-null   object\n",
      " 1   description  6908 non-null   object\n",
      " 2   city         6908 non-null   object\n",
      " 3   state        6908 non-null   object\n",
      "dtypes: object(4)\n",
      "memory usage: 216.0+ KB\n"
     ]
    }
   ],
   "source": [
    "df.info()"
   ]
  },
  {
   "cell_type": "code",
   "execution_count": null,
   "id": "810f5801",
   "metadata": {},
   "outputs": [],
   "source": []
  },
  {
   "cell_type": "code",
   "execution_count": 6,
   "id": "8ad7aa8d",
   "metadata": {},
   "outputs": [],
   "source": [
    "lower_position = [position.lower() for position in df['position']]\n",
    "category = []\n",
    "for position in lower_position:\n",
    "    if \"data scien\" in position or \"machine learning\" in position or 'scien' in position:\n",
    "        category.append('data scientist')\n",
    "    elif \"anal\" in position:\n",
    "        category.append('analyst')\n",
    "    elif \"engineer\" in position or \"artificial intelligence\" in position or \"ai\" in position:\n",
    "        category.append('engineer')\n",
    "    else:\n",
    "        category.append('other')\n",
    "df['position'] = category"
   ]
  },
  {
   "cell_type": "code",
   "execution_count": 7,
   "id": "9c4b4bc0",
   "metadata": {},
   "outputs": [
    {
     "data": {
      "text/plain": [
       "engineer           972\n",
       "analyst            993\n",
       "other             1702\n",
       "data scientist    3241\n",
       "Name: position, dtype: int64"
      ]
     },
     "execution_count": 7,
     "metadata": {},
     "output_type": "execute_result"
    }
   ],
   "source": [
    "df['position'].value_counts().head(20).sort_values(ascending = True)"
   ]
  },
  {
   "cell_type": "markdown",
   "id": "0ca6f5a5",
   "metadata": {},
   "source": []
  }
 ],
 "metadata": {
  "kernelspec": {
   "display_name": "Python 3 (ipykernel)",
   "language": "python",
   "name": "python3"
  },
  "language_info": {
   "codemirror_mode": {
    "name": "ipython",
    "version": 3
   },
   "file_extension": ".py",
   "mimetype": "text/x-python",
   "name": "python",
   "nbconvert_exporter": "python",
   "pygments_lexer": "ipython3",
   "version": "3.9.7"
  },
  "toc": {
   "base_numbering": 1,
   "nav_menu": {},
   "number_sections": true,
   "sideBar": true,
   "skip_h1_title": false,
   "title_cell": "Table of Contents",
   "title_sidebar": "Contents",
   "toc_cell": false,
   "toc_position": {},
   "toc_section_display": true,
   "toc_window_display": false
  }
 },
 "nbformat": 4,
 "nbformat_minor": 5
}
