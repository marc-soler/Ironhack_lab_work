{
 "cells": [
  {
   "cell_type": "code",
   "execution_count": 16,
   "metadata": {
    "scrolled": true
   },
   "outputs": [],
   "source": [
    "import pandas as pd\n",
    "import matplotlib.pyplot as plt\n",
    "\n",
    "from matplotlib.ticker import PercentFormatter"
   ]
  },
  {
   "cell_type": "code",
   "execution_count": 17,
   "metadata": {
    "scrolled": true
   },
   "outputs": [],
   "source": [
    "df_movie_complaints = pd.read_csv(\"bar_line_chart_homework.csv\")"
   ]
  },
  {
   "cell_type": "code",
   "execution_count": 18,
   "metadata": {},
   "outputs": [
    {
     "data": {
      "text/html": [
       "<div>\n",
       "<style scoped>\n",
       "    .dataframe tbody tr th:only-of-type {\n",
       "        vertical-align: middle;\n",
       "    }\n",
       "\n",
       "    .dataframe tbody tr th {\n",
       "        vertical-align: top;\n",
       "    }\n",
       "\n",
       "    .dataframe thead th {\n",
       "        text-align: right;\n",
       "    }\n",
       "</style>\n",
       "<table border=\"1\" class=\"dataframe\">\n",
       "  <thead>\n",
       "    <tr style=\"text-align: right;\">\n",
       "      <th></th>\n",
       "      <th>Movie Theater Goers Complaints</th>\n",
       "      <th>Number of complaints</th>\n",
       "      <th>frequency</th>\n",
       "    </tr>\n",
       "  </thead>\n",
       "  <tbody>\n",
       "    <tr>\n",
       "      <th>0</th>\n",
       "      <td>Poor Projection Quality</td>\n",
       "      <td>3821</td>\n",
       "      <td>0.727532</td>\n",
       "    </tr>\n",
       "    <tr>\n",
       "      <th>1</th>\n",
       "      <td>Bad Volume</td>\n",
       "      <td>684</td>\n",
       "      <td>0.857768</td>\n",
       "    </tr>\n",
       "    <tr>\n",
       "      <th>2</th>\n",
       "      <td>Screen Size</td>\n",
       "      <td>298</td>\n",
       "      <td>0.914509</td>\n",
       "    </tr>\n",
       "    <tr>\n",
       "      <th>3</th>\n",
       "      <td>Bad Seats</td>\n",
       "      <td>232</td>\n",
       "      <td>0.958682</td>\n",
       "    </tr>\n",
       "    <tr>\n",
       "      <th>4</th>\n",
       "      <td>Queues</td>\n",
       "      <td>217</td>\n",
       "      <td>1.000000</td>\n",
       "    </tr>\n",
       "  </tbody>\n",
       "</table>\n",
       "</div>"
      ],
      "text/plain": [
       "  Movie Theater Goers Complaints  Number of complaints  frequency\n",
       "0        Poor Projection Quality                  3821   0.727532\n",
       "1                     Bad Volume                   684   0.857768\n",
       "2                    Screen Size                   298   0.914509\n",
       "3                      Bad Seats                   232   0.958682\n",
       "4                         Queues                   217   1.000000"
      ]
     },
     "execution_count": 18,
     "metadata": {},
     "output_type": "execute_result"
    }
   ],
   "source": [
    "df_movie_complaints"
   ]
  },
  {
   "cell_type": "code",
   "execution_count": 21,
   "metadata": {},
   "outputs": [
    {
     "data": {
      "image/png": "[encoded data removed]",
      "text/plain": [
       "<Figure size 720x504 with 2 Axes>"
      ]
     },
     "metadata": {
      "needs_background": "light"
     },
     "output_type": "display_data"
    }
   ],
   "source": [
    "# Creating the pareto chart of the movie goers complaints data by creating a figure with two axes. \n",
    "# The top two complaints make up fo around 90% of the overall complaints. \n",
    "# If the theaters address the first two or even the first complaint only for the poor projection quality,\n",
    "# the number of complaints will be reduced drastically.\n",
    "fig, ax = plt.subplots(figsize = (10, 7))\n",
    "\n",
    "ax.bar(df_movie_complaints[\"Movie Theater Goers Complaints\"],\n",
    "       df_movie_complaints[\"Number of complaints\"],\n",
    "       color = \"midnightblue\")\n",
    "ax.set_ylabel(\"Number of Complaints\",\n",
    "              color = \"midnightblue\",\n",
    "              weight = \"bold\")\n",
    "ax.tick_params(axis = \"y\", \n",
    "               width = 2, \n",
    "               labelsize = \"large\",\n",
    "               colors = \"midnightblue\")\n",
    "ax1 = ax.twinx()\n",
    "ax1.set_ylim(0, 1.1) #increase the limit slightly, so the line chart isn't cut\n",
    "ax1.yaxis.set_major_formatter(PercentFormatter(xmax = 1.0))\n",
    "ax1.plot(df_movie_complaints[\"Movie Theater Goers Complaints\"],\n",
    "         df_movie_complaints[\"frequency\"],\n",
    "         color = \"#b60000\", \n",
    "         marker = \"D\")\n",
    "ax1.set_ylabel(\"Frequency\", \n",
    "               color = \"#b60000\", \n",
    "               weight = \"bold\")\n",
    "ax1.tick_params(axis = \"y\", \n",
    "                colors = \"#b60000\", \n",
    "                width = 2, \n",
    "                labelsize = \"large\")\n",
    "ax.set_title(\"Top 5 Movie Goers Complaints Frequency Distribution\", fontsize = \"14\", weight = \"bold\", color = \"midnightblue\")\n",
    "plt.show()"
   ]
  },
  {
   "cell_type": "code",
   "execution_count": null,
   "metadata": {},
   "outputs": [],
   "source": []
  },
  {
   "cell_type": "code",
   "execution_count": null,
   "metadata": {
    "scrolled": true
   },
   "outputs": [],
   "source": []
  }
 ],
 "metadata": {
  "kernelspec": {
   "display_name": "Python 3",
   "language": "python",
   "name": "python3"
  },
  "language_info": {
   "codemirror_mode": {
    "name": "ipython",
    "version": 3
   },
   "file_extension": ".py",
   "mimetype": "text/x-python",
   "name": "python",
   "nbconvert_exporter": "python",
   "pygments_lexer": "ipython3",
   "version": "3.8.8"
  }
 },
 "nbformat": 4,
 "nbformat_minor": 2
}
