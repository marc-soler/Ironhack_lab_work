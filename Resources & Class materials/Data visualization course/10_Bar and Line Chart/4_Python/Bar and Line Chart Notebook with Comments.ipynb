{
 "cells": [
  {
   "cell_type": "code",
   "execution_count": 1,
   "metadata": {
    "scrolled": true
   },
   "outputs": [],
   "source": [
    "import pandas as pd\n",
    "import matplotlib.pyplot as plt\n",
    "\n",
    "from matplotlib.ticker import PercentFormatter #converts values into percentage format"
   ]
  },
  {
   "cell_type": "code",
   "execution_count": 2,
   "metadata": {
    "scrolled": true
   },
   "outputs": [],
   "source": [
    "df_kdnuggets = pd.read_csv(\"../bar_line_chart_data.csv\") #read in the KDnuggets survey data file"
   ]
  },
  {
   "cell_type": "code",
   "execution_count": 3,
   "metadata": {},
   "outputs": [
    {
     "data": {
      "text/html": [
       "<div>\n",
       "<style scoped>\n",
       "    .dataframe tbody tr th:only-of-type {\n",
       "        vertical-align: middle;\n",
       "    }\n",
       "\n",
       "    .dataframe tbody tr th {\n",
       "        vertical-align: top;\n",
       "    }\n",
       "\n",
       "    .dataframe thead th {\n",
       "        text-align: right;\n",
       "    }\n",
       "</style>\n",
       "<table border=\"1\" class=\"dataframe\">\n",
       "  <thead>\n",
       "    <tr style=\"text-align: right;\">\n",
       "      <th></th>\n",
       "      <th>Year</th>\n",
       "      <th>Python Users</th>\n",
       "      <th>Participants</th>\n",
       "    </tr>\n",
       "  </thead>\n",
       "  <tbody>\n",
       "    <tr>\n",
       "      <th>0</th>\n",
       "      <td>2012</td>\n",
       "      <td>0.149</td>\n",
       "      <td>798</td>\n",
       "    </tr>\n",
       "    <tr>\n",
       "      <th>1</th>\n",
       "      <td>2013</td>\n",
       "      <td>0.133</td>\n",
       "      <td>1880</td>\n",
       "    </tr>\n",
       "    <tr>\n",
       "      <th>2</th>\n",
       "      <td>2014</td>\n",
       "      <td>0.195</td>\n",
       "      <td>3285</td>\n",
       "    </tr>\n",
       "    <tr>\n",
       "      <th>3</th>\n",
       "      <td>2015</td>\n",
       "      <td>0.303</td>\n",
       "      <td>2800</td>\n",
       "    </tr>\n",
       "    <tr>\n",
       "      <th>4</th>\n",
       "      <td>2016</td>\n",
       "      <td>0.458</td>\n",
       "      <td>2895</td>\n",
       "    </tr>\n",
       "    <tr>\n",
       "      <th>5</th>\n",
       "      <td>2017</td>\n",
       "      <td>0.526</td>\n",
       "      <td>2900</td>\n",
       "    </tr>\n",
       "    <tr>\n",
       "      <th>6</th>\n",
       "      <td>2018</td>\n",
       "      <td>0.656</td>\n",
       "      <td>2300</td>\n",
       "    </tr>\n",
       "    <tr>\n",
       "      <th>7</th>\n",
       "      <td>2019</td>\n",
       "      <td>0.658</td>\n",
       "      <td>1800</td>\n",
       "    </tr>\n",
       "  </tbody>\n",
       "</table>\n",
       "</div>"
      ],
      "text/plain": [
       "   Year  Python Users  Participants\n",
       "0  2012         0.149           798\n",
       "1  2013         0.133          1880\n",
       "2  2014         0.195          3285\n",
       "3  2015         0.303          2800\n",
       "4  2016         0.458          2895\n",
       "5  2017         0.526          2900\n",
       "6  2018         0.656          2300\n",
       "7  2019         0.658          1800"
      ]
     },
     "execution_count": 3,
     "metadata": {},
     "output_type": "execute_result"
    }
   ],
   "source": [
    "df_kdnuggets #the data frame, which we'll use to create the combo plot. The two charts will share the x-axis which is Year.\n",
    "# The bar chart will have the number of Participants on the primary x-axis(on the lefthandside of the chart)\n",
    "# The line chart will have the Python Users in percentages on a secondary y-axis(on the righthandside of the chart)"
   ]
  },
  {
   "cell_type": "code",
   "execution_count": 4,
   "metadata": {},
   "outputs": [
    {
     "data": {
      "image/png": "[encoded data removed]",
      "text/plain": [
       "<Figure size 720x504 with 2 Axes>"
      ]
     },
     "metadata": {
      "needs_background": "light"
     },
     "output_type": "display_data"
    }
   ],
   "source": [
    "# Creating the combination chart. Here we use a figure with axes. \n",
    "# The first axes or subplot is the bar chart, the second is the line chart. \n",
    "# fig refers to the whole figure (chart) we're creating, and ax to the axis we're plotting (more than one is possible)\n",
    "fig, ax = plt.subplots(figsize = (10, 7)) #The ax doesn't refer to the actual axes of the plot.\n",
    "\n",
    "#creating and styling the bar chart\n",
    "ax.bar(df_kdnuggets[\"Year\"],\n",
    "       df_kdnuggets[\"Participants\"],\n",
    "       color = \"k\")\n",
    "ax.set_ylabel(\"Number of Participants\", \n",
    "              weight = \"bold\")\n",
    "ax.tick_params(axis = \"y\", #formatting the main y-axis.\n",
    "               width = 2, \n",
    "               labelsize = \"large\")\n",
    "ax1 = ax.twinx() #ax1 shares the same x-axis with ax\n",
    "#changing the secondary y-axis to display percentages on a scale from 0% to 100%\n",
    "ax1.set_ylim(0, 1)\n",
    "ax1.yaxis.set_major_formatter(PercentFormatter(xmax = 1.0))\n",
    "#creating and styling the line chart\n",
    "ax1.plot(df_kdnuggets[\"Year\"],\n",
    "         df_kdnuggets[\"Python Users\"], \n",
    "         color = \"#b60000\", \n",
    "         marker = \"D\") #with a diamond shape\n",
    "ax1.set_ylabel(\"Python Users\", \n",
    "               color = \"#b60000\", \n",
    "               weight = \"bold\")\n",
    "ax1.tick_params(axis = \"y\", \n",
    "                colors = \"#b60000\", \n",
    "                width = 2, \n",
    "                labelsize = \"large\")\n",
    "ax.set_title(\"KD Nuggets Survey Python Users (2012 - 2019)\", fontsize = \"14\", weight = \"bold\")\n",
    "plt.savefig('KD Nuggets Survey Python Users (2012-2019)')\n",
    "plt.show()"
   ]
  }
 ],
 "metadata": {
  "kernelspec": {
   "display_name": "Python 3",
   "language": "python",
   "name": "python3"
  },
  "language_info": {
   "codemirror_mode": {
    "name": "ipython",
    "version": 3
   },
   "file_extension": ".py",
   "mimetype": "text/x-python",
   "name": "python",
   "nbconvert_exporter": "python",
   "pygments_lexer": "ipython3",
   "version": "3.8.8"
  }
 },
 "nbformat": 4,
 "nbformat_minor": 2
}
