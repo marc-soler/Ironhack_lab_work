{
 "cells": [
  {
   "cell_type": "markdown",
   "id": "de8e5389",
   "metadata": {
    "toc": true
   },
   "source": [
    "<h1>Index<span class=\"tocSkip\"></span></h1>\n",
    "<div class=\"toc\"><ul class=\"toc-item\"><li><span><a href=\"#Spotify-Developer-Account\" data-toc-modified-id=\"Spotify-Developer-Account-1\"><span class=\"toc-item-num\">1&nbsp;&nbsp;</span>Spotify Developer Account</a></span><ul class=\"toc-item\"><li><span><a href=\"#Log-in-or-your-user-account\" data-toc-modified-id=\"Log-in-or-your-user-account-1.1\"><span class=\"toc-item-num\">1.1&nbsp;&nbsp;</span>Log in or your user account</a></span></li><li><span><a href=\"#Create-an-App\" data-toc-modified-id=\"Create-an-App-1.2\"><span class=\"toc-item-num\">1.2&nbsp;&nbsp;</span>Create an App</a></span></li><li><span><a href=\"#Client-ID-and-Client-Secret\" data-toc-modified-id=\"Client-ID-and-Client-Secret-1.3\"><span class=\"toc-item-num\">1.3&nbsp;&nbsp;</span>Client ID and Client Secret</a></span></li></ul></li><li><span><a href=\"#Connect-with-Jupyter-Notebook\" data-toc-modified-id=\"Connect-with-Jupyter-Notebook-2\"><span class=\"toc-item-num\">2&nbsp;&nbsp;</span>Connect with Jupyter Notebook</a></span><ul class=\"toc-item\"><li><span><a href=\"#Step-1:-Install-Spotipy\" data-toc-modified-id=\"Step-1:-Install-Spotipy-2.1\"><span class=\"toc-item-num\">2.1&nbsp;&nbsp;</span>Step 1: Install Spotipy</a></span></li></ul></li><li><span><a href=\"#Connecting-to-a-playlist\" data-toc-modified-id=\"Connecting-to-a-playlist-3\"><span class=\"toc-item-num\">3&nbsp;&nbsp;</span>Connecting to a playlist</a></span></li><li><span><a href=\"#Getting-50-tracks-from-5-artists\" data-toc-modified-id=\"Getting-50-tracks-from-5-artists-4\"><span class=\"toc-item-num\">4&nbsp;&nbsp;</span>Getting 50 tracks from 5 artists</a></span></li><li><span><a href=\"#Audio-features\" data-toc-modified-id=\"Audio-features-5\"><span class=\"toc-item-num\">5&nbsp;&nbsp;</span>Audio features</a></span></li></ul></div>"
   ]
  },
  {
   "cell_type": "markdown",
   "id": "96de8837",
   "metadata": {},
   "source": [
    "# Connecting Python to Spotify with Spotipy"
   ]
  },
  {
   "cell_type": "markdown",
   "id": "3b6c602c",
   "metadata": {},
   "source": [
    "## Spotify Developer Account"
   ]
  },
  {
   "cell_type": "markdown",
   "id": "deaddd8f",
   "metadata": {},
   "source": [
    "### Log in or your user account"
   ]
  },
  {
   "cell_type": "markdown",
   "id": "1c3c6186",
   "metadata": {},
   "source": [
    "Go to [Spotify for Developers](https://developer.spotify.com/dashboard/) and log in."
   ]
  },
  {
   "cell_type": "markdown",
   "id": "fc8c3b46",
   "metadata": {},
   "source": [
    "<img src=\"developers_log_in_2.png\">"
   ]
  },
  {
   "cell_type": "markdown",
   "id": "8ed0740f",
   "metadata": {},
   "source": [
    "### Create an App"
   ]
  },
  {
   "cell_type": "markdown",
   "id": "cf923cd5",
   "metadata": {},
   "source": [
    "You will need to accept the _Spotify Developer Terms of Service_, sorry. Next you will see **your Dashboard** and it is probably empty so let's create an app."
   ]
  },
  {
   "cell_type": "markdown",
   "id": "3633c789",
   "metadata": {},
   "source": [
    "<img src=\"dashboard_1.png\">"
   ]
  },
  {
   "cell_type": "markdown",
   "id": "54eb9f08",
   "metadata": {},
   "source": [
    "Choose a name for your app (whatever you want). This is just the name of the space for the API to follow your activity for this 'scraping' project. You can create more than one or use always the same."
   ]
  },
  {
   "cell_type": "markdown",
   "id": "91387c1b",
   "metadata": {},
   "source": [
    "<img src=\"dashboard_app.png\">"
   ]
  },
  {
   "cell_type": "markdown",
   "id": "bef353e4",
   "metadata": {},
   "source": [
    "### Client ID and Client Secret"
   ]
  },
  {
   "cell_type": "markdown",
   "id": "2fa288d4",
   "metadata": {},
   "source": [
    "Credentials:\n",
    "- Client ID\n",
    "- Client Secret (click on top to see the 'password', keep it safe)"
   ]
  },
  {
   "cell_type": "markdown",
   "id": "6453793d",
   "metadata": {},
   "source": [
    "<img src=\"dashboard_app_inside.png\">"
   ]
  },
  {
   "cell_type": "markdown",
   "id": "d23b1adc",
   "metadata": {},
   "source": [
    "## Connect with Jupyter Notebook"
   ]
  },
  {
   "cell_type": "markdown",
   "id": "e6b8cbe5",
   "metadata": {},
   "source": [
    "### Step 1: Install Spotipy\n",
    "\n",
    "Run the code below in your terminal or a Jupyter Notebook to install Spotipy.\n",
    "\n",
    "`!pip install spotipy`\n",
    "\n",
    "`conda install -c conda-forge spotipy`"
   ]
  },
  {
   "cell_type": "code",
   "execution_count": 1,
   "id": "7d9208dd",
   "metadata": {},
   "outputs": [],
   "source": [
    "import spotipy # install if needed\n",
    "from spotipy.oauth2 import SpotifyClientCredentials\n",
    "import getpass"
   ]
  },
  {
   "cell_type": "code",
   "execution_count": 2,
   "id": "f00fb3cc",
   "metadata": {},
   "outputs": [
    {
     "name": "stdout",
     "output_type": "stream",
     "text": [
      "client_id?········\n",
      "client_secret?········\n"
     ]
    }
   ],
   "source": [
    "client_id = str(getpass.getpass('client_id?'))\n",
    "client_secret = str(getpass.getpass('client_secret?'))"
   ]
  },
  {
   "cell_type": "code",
   "execution_count": 4,
   "id": "8778c2b3",
   "metadata": {},
   "outputs": [],
   "source": [
    "client_credentials_manager = SpotifyClientCredentials(client_id, client_secret)\n",
    "sp = spotipy.Spotify(client_credentials_manager = client_credentials_manager)"
   ]
  },
  {
   "cell_type": "markdown",
   "id": "1f34e859",
   "metadata": {},
   "source": [
    "## Connecting to a playlist"
   ]
  },
  {
   "cell_type": "code",
   "execution_count": 7,
   "id": "688ae6aa",
   "metadata": {},
   "outputs": [],
   "source": [
    "playlist = sp.user_playlist_tracks('Spotify', '37i9dQZF1DX92T9KVmPAYW?si=795653bebc164593')"
   ]
  },
  {
   "cell_type": "code",
   "execution_count": 10,
   "id": "5a017591",
   "metadata": {},
   "outputs": [
    {
     "data": {
      "text/plain": [
       "dict_keys(['collaborative', 'description', 'external_urls', 'followers', 'href', 'id', 'images', 'name', 'owner', 'primary_color', 'public', 'snapshot_id', 'tracks', 'type', 'uri'])"
      ]
     },
     "execution_count": 10,
     "metadata": {},
     "output_type": "execute_result"
    }
   ],
   "source": [
    "playlist.keys()"
   ]
  },
  {
   "cell_type": "code",
   "execution_count": 40,
   "id": "9aeb2129",
   "metadata": {},
   "outputs": [
    {
     "data": {
      "text/plain": [
       "'ザ・ミラージュ'"
      ]
     },
     "execution_count": 40,
     "metadata": {},
     "output_type": "execute_result"
    }
   ],
   "source": [
    "playlist['tracks']['items'][9]['track']['name']"
   ]
  },
  {
   "cell_type": "markdown",
   "id": "c59522c4",
   "metadata": {},
   "source": [
    "## Getting 50 tracks from 5 artists"
   ]
  },
  {
   "cell_type": "code",
   "execution_count": 41,
   "id": "6da6e53c",
   "metadata": {},
   "outputs": [],
   "source": [
    "# sp search on one artist\n",
    "results_artist = sp.search(q='Led Zeppelin', limit=50)"
   ]
  },
  {
   "cell_type": "code",
   "execution_count": 60,
   "id": "83269a8f",
   "metadata": {},
   "outputs": [
    {
     "data": {
      "text/plain": [
       "82"
      ]
     },
     "execution_count": 60,
     "metadata": {},
     "output_type": "execute_result"
    }
   ],
   "source": [
    "results_artist['tracks']['items'][2]['popularity']"
   ]
  },
  {
   "cell_type": "code",
   "execution_count": 65,
   "id": "e72d2948",
   "metadata": {},
   "outputs": [],
   "source": [
    "# Sorting the results by popularity\n",
    "tracks = results_artist['tracks']['items']\n",
    "sorted_tracks = sorted(tracks, key=lambda d: d['popularity'], reverse=True)"
   ]
  },
  {
   "cell_type": "code",
   "execution_count": 72,
   "id": "25ef06cb",
   "metadata": {
    "collapsed": true
   },
   "outputs": [
    {
     "name": "stdout",
     "output_type": "stream",
     "text": [
      "Stairway to Heaven - Remaster\n",
      "Immigrant Song - Remaster\n",
      "Whole Lotta Love - 1990 Remaster\n",
      "Black Dog - Remaster\n",
      "Kashmir - Remaster\n",
      "Ramble On - 1990 Remaster\n",
      "Rock and Roll - Remaster\n",
      "Going to California - Remaster\n",
      "Good Times Bad Times - 1993 Remaster\n",
      "D'yer Mak'er - Remaster\n",
      "All My Love - Remaster\n",
      "Hey, Hey, What Can I Do - Remaster\n",
      "Fool in the Rain - Remaster\n",
      "Over the Hills and Far Away - Remaster\n",
      "When the Levee Breaks - Remaster\n",
      "Heartbreaker - 1990 Remaster\n",
      "Tangerine - Remaster\n",
      "Babe I'm Gonna Leave You - 1990 Remaster\n",
      "Since I've Been Loving You - Remaster\n",
      "Stairway to Heaven - Remaster\n",
      "Dazed and Confused - 1990 Remaster\n",
      "The Rain Song - Remaster\n",
      "The Ocean - Remaster\n",
      "Ten Years Gone - Remaster\n",
      "No Quarter - Remaster\n",
      "That's the Way - Remaster\n",
      "The Immigrant Song - Alternate Mix\n",
      "Misty Mountain Hop - Remaster\n",
      "What Is and What Should Never Be - 1990 Remaster\n",
      "The Rover - Remaster\n",
      "Bron-Y-Aur Stomp - Remaster\n",
      "Immigrant Song - Remaster\n",
      "Trampled Under Foot - Remaster\n",
      "Thank You - 1990 Remaster\n",
      "In My Time of Dying - Remaster\n",
      "Custard Pie - Remaster\n",
      "Bring It on Home - Remaster\n",
      "Going to California - Remaster\n",
      "The Song Remains the Same - Remaster\n",
      "Communication Breakdown - Remaster\n",
      "I Can't Quit You Baby - 1990 Remaster\n",
      "Houses of the Holy - Remaster\n",
      "Nobody's Fault but Mine - Remaster\n",
      "D'yer Mak'er - Remaster\n",
      "The Battle of Evermore - Remaster\n",
      "How Many More Times - 1993 Remaster\n",
      "Out on the Tiles - Remaster\n",
      "Friends - Remaster\n",
      "Gallows Pole - Remaster\n",
      "In the Evening - Remaster\n"
     ]
    }
   ],
   "source": [
    "for song in sorted_tracks:\n",
    "    print(song['name'])"
   ]
  },
  {
   "cell_type": "code",
   "execution_count": 107,
   "id": "10761009",
   "metadata": {},
   "outputs": [],
   "source": [
    "# same with 5 artists. Some songs are not by that artist. Could get 10 albums, append songs and sort by popularity.\n",
    "def get_top_50_songs(artists):\n",
    "    songs_artists = {}\n",
    "    for artist in artists:\n",
    "        results = sp.search(q=artist, type='track', limit=50)\n",
    "        sorted_results = sorted(results['tracks']['items'], key=lambda d: d['popularity'], reverse=True)\n",
    "        songs = []\n",
    "        for song in sorted_results:\n",
    "            songs.append(song['name'])\n",
    "        songs_artists.update({artist: songs})\n",
    "    return songs_artists"
   ]
  },
  {
   "cell_type": "code",
   "execution_count": 108,
   "id": "80085fdd",
   "metadata": {},
   "outputs": [
    {
     "data": {
      "text/plain": [
       "{'Led Zeppelin': ['Stairway to Heaven - Remaster',\n",
       "  'Immigrant Song - Remaster',\n",
       "  'Whole Lotta Love - 1990 Remaster',\n",
       "  'Black Dog - Remaster',\n",
       "  'Kashmir - Remaster',\n",
       "  'Ramble On - 1990 Remaster',\n",
       "  'Rock and Roll - Remaster',\n",
       "  'Going to California - Remaster',\n",
       "  'Good Times Bad Times - 1993 Remaster',\n",
       "  \"D'yer Mak'er - Remaster\",\n",
       "  'All My Love - Remaster',\n",
       "  'Hey, Hey, What Can I Do - Remaster',\n",
       "  'Fool in the Rain - Remaster',\n",
       "  'Over the Hills and Far Away - Remaster',\n",
       "  'When the Levee Breaks - Remaster',\n",
       "  'Heartbreaker - 1990 Remaster',\n",
       "  'Tangerine - Remaster',\n",
       "  \"Babe I'm Gonna Leave You - 1990 Remaster\",\n",
       "  \"Since I've Been Loving You - Remaster\",\n",
       "  'Stairway to Heaven - Remaster',\n",
       "  'Dazed and Confused - 1990 Remaster',\n",
       "  'The Rain Song - Remaster',\n",
       "  'The Ocean - Remaster',\n",
       "  'Ten Years Gone - Remaster',\n",
       "  'No Quarter - Remaster',\n",
       "  \"That's the Way - Remaster\",\n",
       "  'The Immigrant Song - Alternate Mix',\n",
       "  'Misty Mountain Hop - Remaster',\n",
       "  'What Is and What Should Never Be - 1990 Remaster',\n",
       "  'The Rover - Remaster',\n",
       "  'Bron-Y-Aur Stomp - Remaster',\n",
       "  'Immigrant Song - Remaster',\n",
       "  'Trampled Under Foot - Remaster',\n",
       "  'Thank You - 1990 Remaster',\n",
       "  'In My Time of Dying - Remaster',\n",
       "  'Custard Pie - Remaster',\n",
       "  'Bring It on Home - Remaster',\n",
       "  'Going to California - Remaster',\n",
       "  'The Song Remains the Same - Remaster',\n",
       "  'Communication Breakdown - Remaster',\n",
       "  \"I Can't Quit You Baby - 1990 Remaster\",\n",
       "  'Houses of the Holy - Remaster',\n",
       "  \"Nobody's Fault but Mine - Remaster\",\n",
       "  \"D'yer Mak'er - Remaster\",\n",
       "  'The Battle of Evermore - Remaster',\n",
       "  'How Many More Times - 1993 Remaster',\n",
       "  'Out on the Tiles - Remaster',\n",
       "  'Friends - Remaster',\n",
       "  'Gallows Pole - Remaster',\n",
       "  'In the Evening - Remaster'],\n",
       " 'Floating Points': ['Movement 6',\n",
       "  'Back to Basics (feat. Skepta) (Floating Points Remix)',\n",
       "  'Falaise',\n",
       "  'King Bromeliad',\n",
       "  'Movement 1',\n",
       "  'Bias',\n",
       "  'Movement 3',\n",
       "  'Movement 2',\n",
       "  'Fair Chance - Floating Points Remix',\n",
       "  'Moments In Love',\n",
       "  'Movement 4',\n",
       "  'Movement 5',\n",
       "  'Sais',\n",
       "  'LesAlpx',\n",
       "  'Movement 7',\n",
       "  'Mimoun Marhaba',\n",
       "  'Movement 8',\n",
       "  'Requiem for CS70 and Strings',\n",
       "  'Last Bloom',\n",
       "  'Vacuum Boogie',\n",
       "  'Nuits Sonores',\n",
       "  'Anasickmodular',\n",
       "  'Cinnamon',\n",
       "  'Movement 9',\n",
       "  'Funny Thing',\n",
       "  'ARP3',\n",
       "  'Sea-Watch',\n",
       "  'Ratio - Edit',\n",
       "  'Karakul',\n",
       "  'Disco Baby - Floating Points & Red Greg Edit',\n",
       "  'Myrtle Avenue',\n",
       "  'Birth',\n",
       "  'Environments',\n",
       "  'Anasickmodular',\n",
       "  'Gentle Man',\n",
       "  'Apoptose, Pt. 1',\n",
       "  'A Message Especially from God',\n",
       "  'Gentle Man',\n",
       "  'Floating Points',\n",
       "  'For Marmish',\n",
       "  'Silhouettes (I, II, III)',\n",
       "  'Wings - Floating Points Remix',\n",
       "  'Fair Chance',\n",
       "  'Sister - Floating Points Remix',\n",
       "  'Nespole',\n",
       "  'Argente',\n",
       "  'Silurian Blue',\n",
       "  'Floating Points',\n",
       "  'Ordinary Boy - Floating Points Remix',\n",
       "  'Floating Points'],\n",
       " 'John Coltrane': ['In A Sentimental Mood',\n",
       "  'Blue in Green (feat. John Coltrane & Bill Evans)',\n",
       "  'My Little Brown Book',\n",
       "  'My One And Only Love',\n",
       "  'So What (feat. John Coltrane, Cannonball Adderley & Bill Evans)',\n",
       "  'Lady Day and John Coltrane',\n",
       "  'Naima - Mono',\n",
       "  'Blue Train - Remastered 2003',\n",
       "  'Stella By Starlight (feat. John Coltrane & Bill Evans)',\n",
       "  \"'Round Midnight (feat. John Coltrane, Red Garland, Paul Chambers & Philly Joe Jones)\",\n",
       "  'Say It (Over And Over Again)',\n",
       "  'My One And Only Love',\n",
       "  'Milestones (feat. John Coltrane, Cannonball Adderley, Red Garland, Paul Chambers & Philly Joe Jones)',\n",
       "  'You Are Too Beautiful',\n",
       "  'My Favorite Things',\n",
       "  'Flamenco Sketches (feat. John Coltrane, Cannonball Adderley & Bill Evans)',\n",
       "  'Freddie Freeloader (feat. John Coltrane, Cannonball Adderley, Wynton Kelly & Paul Chambers)',\n",
       "  'A Love Supreme, Pt. I – Acknowledgement',\n",
       "  \"I'm Old Fashioned - Remastered 2003/Rudy Van Gelder Edition\",\n",
       "  'Freddie Freeloader (feat. John Coltrane, Cannonball Adderley, Wynton Kelly & Paul Chambers)',\n",
       "  \"It's Easy To Remember\",\n",
       "  \"They Say It's Wonderful\",\n",
       "  'All Blues (feat. John Coltrane, Cannonball Adderley & Bill Evans)',\n",
       "  'Too Young To Go Steady',\n",
       "  'Dedicated To You',\n",
       "  'So What (feat. John Coltrane, Cannonball Adderley & Bill Evans)',\n",
       "  'Nancy (With The Laughing Face)',\n",
       "  'All of You (feat. John Coltrane, Red Garland, Paul Chambers & Philly Joe Jones)',\n",
       "  'A Love Supreme, Pt. II - Resolution',\n",
       "  'Blue in Green (feat. John Coltrane & Bill Evans)',\n",
       "  'Ruby, My Dear',\n",
       "  'Take The Coltrane',\n",
       "  'All Blues (feat. John Coltrane, Cannonball Adderley & Bill Evans)',\n",
       "  'Flamenco Sketches (feat. John Coltrane, Cannonball Adderley & Bill Evans)',\n",
       "  'Bye Bye Blackbird (feat. John Coltrane, Red Garland, Paul Chambers & Philly Joe Jones)',\n",
       "  'Straight, No Chaser (feat. John Coltrane, Cannonball Adderley, Red Garland, Paul Chambers & Philly Joe Jones)',\n",
       "  'On Green Dolphin Street (feat. John Coltrane, Cannonball Adderley & Bill Evans)',\n",
       "  'Time After Time',\n",
       "  \"You Don't Know What Love Is\",\n",
       "  'Soul Eyes',\n",
       "  \"Lonnie's Lament\",\n",
       "  \"It's Easy To Remember\",\n",
       "  'I Wish I Knew',\n",
       "  'John Coltrane',\n",
       "  'India - Live At The Village Vanguard, New York/1961',\n",
       "  'John Coltrane',\n",
       "  'You Are Too Beautiful',\n",
       "  'My One And Only Love',\n",
       "  'My One And Only Love',\n",
       "  'You Are Too Beautiful'],\n",
       " 'Pixies': ['Where Is My Mind? - Remastered',\n",
       "  'Where Is My Mind?',\n",
       "  'Hey',\n",
       "  'Here Comes Your Man',\n",
       "  'All I Think About Now',\n",
       "  'Debaser',\n",
       "  'Monkey Gone to Heaven',\n",
       "  'Gouge Away',\n",
       "  'Forgive Me Friend (feat. Swedish Jam Factory)',\n",
       "  'Wave of Mutilation - UK Surf',\n",
       "  'Nangilima',\n",
       "  'Gigantic - Remastered',\n",
       "  'Hotel Walls',\n",
       "  'Year of the Young',\n",
       "  'Wave Of Mutilation',\n",
       "  'Is She Weird',\n",
       "  'Mr. Grieves',\n",
       "  'La La Love You',\n",
       "  'Velouria',\n",
       "  'I Bleed',\n",
       "  'Bone Machine - Remastered',\n",
       "  \"Pixie's Parasol\",\n",
       "  'Tame',\n",
       "  'Where Is My Mind? - Live from Disco Rodeo, Raleigh, NC. June 12th, 2005',\n",
       "  'Dead',\n",
       "  'U-Mass',\n",
       "  'Ana',\n",
       "  'Break My Body - Remastered',\n",
       "  'Crackity Jones',\n",
       "  'No 13 Baby',\n",
       "  'The Thing',\n",
       "  'Caribou',\n",
       "  'Gigantic',\n",
       "  'Pixies',\n",
       "  'Pixies',\n",
       "  'Pixies',\n",
       "  'In Heaven (Lady In The Radiator Song) - Live',\n",
       "  'Pixies',\n",
       "  'Pixies',\n",
       "  'Pixies',\n",
       "  'Pixies',\n",
       "  'Pixies',\n",
       "  'Pixies',\n",
       "  'Pixies',\n",
       "  'Pixies',\n",
       "  'Pixies',\n",
       "  'Pixies',\n",
       "  'Pixies',\n",
       "  'Pixies',\n",
       "  'Pixies'],\n",
       " 'Frank Zappa': ['Uncle Remus',\n",
       "  'Bobby Brown Goes Down',\n",
       "  'Watermelon In Easter Hay',\n",
       "  'Peaches En Regalia',\n",
       "  \"Joe's Garage\",\n",
       "  'Willie The Pimp',\n",
       "  'Camarillo Brillo',\n",
       "  \"Don't Eat The Yellow Snow\",\n",
       "  \"Apostrophe'\",\n",
       "  'Muffin Man',\n",
       "  'Willie The Pimp - Live At Fillmore East, June 5, 1971, Show 2',\n",
       "  'Cosmik Debris',\n",
       "  'Willie The Pimp - Live At Fillmore East, June 5, 1971, Show 2',\n",
       "  \"Dancin' Fool\",\n",
       "  'Black Napkins',\n",
       "  'Homemade Radio Spot',\n",
       "  'Nanook Rubs It',\n",
       "  'Zoot Allures',\n",
       "  'Inca Roads',\n",
       "  \"St. Alfonzo's Pancake Breakfast\",\n",
       "  'Montana',\n",
       "  'Why Does It Hurt When I Pee?',\n",
       "  \"I'm The Slime\",\n",
       "  'Broken Hearts Are For Assholes',\n",
       "  'I Have Been In You',\n",
       "  'Bobby Brown Goes Down',\n",
       "  'Dirty Love',\n",
       "  'Catholic Girls',\n",
       "  'Stink-Foot',\n",
       "  \"Father O'Blivion\",\n",
       "  'Son Of Mr. Green Genes',\n",
       "  'Valley Girl',\n",
       "  'Valarie',\n",
       "  'Crew Slut',\n",
       "  'Blessed Relief',\n",
       "  'Flakes',\n",
       "  'Excentrifugal Forz',\n",
       "  'Fembot In A Wet T-Shirt',\n",
       "  'Little Umbrellas',\n",
       "  'Lucille Has Messed My Mind Up',\n",
       "  'Po-Jama People',\n",
       "  'A Token Of My Extreme',\n",
       "  \"San Ber'dino\",\n",
       "  'Dinah-Moe Humm',\n",
       "  'Tribute to Frank Zappa (after F. Zappa): II. Peaches en regalia',\n",
       "  'Fine Girl',\n",
       "  'Dancing Fool',\n",
       "  'The Mud Shark - Live At Fillmore East , June 1971',\n",
       "  'Willie The Pimp, Pt. 1 - Live At Fillmore East / 1971',\n",
       "  'Original Duke Of Prunes']}"
      ]
     },
     "execution_count": 108,
     "metadata": {},
     "output_type": "execute_result"
    }
   ],
   "source": [
    "artists = ['Led Zeppelin', 'Floating Points', 'John Coltrane', 'Pixies', 'Frank Zappa']\n",
    "get_top_50_songs(artists)"
   ]
  },
  {
   "cell_type": "code",
   "execution_count": 98,
   "id": "ae32a573",
   "metadata": {},
   "outputs": [],
   "source": [
    "test = sp.search(q='Led Zeppelin', type='artist', limit=1)"
   ]
  },
  {
   "cell_type": "code",
   "execution_count": 99,
   "id": "3d70070c",
   "metadata": {},
   "outputs": [
    {
     "data": {
      "text/plain": [
       "{'href': 'https://api.spotify.com/v1/search?query=Led+Zeppelin&type=artist&offset=0&limit=1',\n",
       " 'items': [{'external_urls': {'spotify': 'https://open.spotify.com/artist/36QJpDe2go2KgaRleHCDTp'},\n",
       "   'followers': {'href': None, 'total': 11866926},\n",
       "   'genres': ['album rock', 'classic rock', 'hard rock', 'rock'],\n",
       "   'href': 'https://api.spotify.com/v1/artists/36QJpDe2go2KgaRleHCDTp',\n",
       "   'id': '36QJpDe2go2KgaRleHCDTp',\n",
       "   'images': [{'height': 600,\n",
       "     'url': 'https://i.scdn.co/image/207803ce008388d3427a685254f9de6a8f61dc2e',\n",
       "     'width': 600},\n",
       "    {'height': 200,\n",
       "     'url': 'https://i.scdn.co/image/b0248a44865493e6a03832aa89854ada16ff07a8',\n",
       "     'width': 200},\n",
       "    {'height': 64,\n",
       "     'url': 'https://i.scdn.co/image/16eb3cdae0d824b520ac17710e943a99d3ef6602',\n",
       "     'width': 64}],\n",
       "   'name': 'Led Zeppelin',\n",
       "   'popularity': 80,\n",
       "   'type': 'artist',\n",
       "   'uri': 'spotify:artist:36QJpDe2go2KgaRleHCDTp'}],\n",
       " 'limit': 1,\n",
       " 'next': 'https://api.spotify.com/v1/search?query=Led+Zeppelin&type=artist&offset=1&limit=1',\n",
       " 'offset': 0,\n",
       " 'previous': None,\n",
       " 'total': 4}"
      ]
     },
     "execution_count": 99,
     "metadata": {},
     "output_type": "execute_result"
    }
   ],
   "source": [
    "test['artists']"
   ]
  },
  {
   "cell_type": "code",
   "execution_count": 109,
   "id": "53c43718",
   "metadata": {},
   "outputs": [],
   "source": [
    "test1 = sp.search(q='36QJpDe2go2KgaRleHCDTp', type='artist', limit=10)\n",
    "test2 = sp.artist_albums('36QJpDe2go2KgaRleHCDTp')"
   ]
  },
  {
   "cell_type": "code",
   "execution_count": 115,
   "id": "8ca6410a",
   "metadata": {},
   "outputs": [
    {
     "data": {
      "text/plain": [
       "20"
      ]
     },
     "execution_count": 115,
     "metadata": {},
     "output_type": "execute_result"
    }
   ],
   "source": [
    "len(test2['items'])"
   ]
  },
  {
   "cell_type": "markdown",
   "id": "57545281",
   "metadata": {},
   "source": [
    "# Getting artists + ID's from a list of tracks"
   ]
  },
  {
   "cell_type": "code",
   "execution_count": 142,
   "id": "eedfbb53",
   "metadata": {},
   "outputs": [],
   "source": [
    "tracks = ['']\n",
    "def get_artists_from_track(track):\n",
    "    return {sp.search(q=track, type='track', limit=1)['tracks']['items'][0]['album']['artists'][0]['name']: sp.search(q=track, type='track', limit=1)['tracks']['items'][0]['album']['artists'][0]['id']}\n",
    "            \n",
    "            "
   ]
  },
  {
   "cell_type": "code",
   "execution_count": 143,
   "id": "6bf3057c",
   "metadata": {},
   "outputs": [
    {
     "data": {
      "text/plain": [
       "{'Led Zeppelin': '36QJpDe2go2KgaRleHCDTp'}"
      ]
     },
     "execution_count": 143,
     "metadata": {},
     "output_type": "execute_result"
    }
   ],
   "source": [
    "get_artists_from_track('Whole lotta love')"
   ]
  },
  {
   "cell_type": "markdown",
   "id": "558ac8fc",
   "metadata": {},
   "source": [
    "# Playlist"
   ]
  },
  {
   "cell_type": "code",
   "execution_count": 196,
   "id": "e1ac7460",
   "metadata": {},
   "outputs": [],
   "source": [
    "# limited playlist\n",
    "playlist = sp.user_playlist_tracks('Xifre Font', '5AswsY74PeqwuFKT1NRh8X')"
   ]
  },
  {
   "cell_type": "code",
   "execution_count": 197,
   "id": "278f9678",
   "metadata": {},
   "outputs": [
    {
     "data": {
      "text/plain": [
       "81"
      ]
     },
     "execution_count": 197,
     "metadata": {},
     "output_type": "execute_result"
    }
   ],
   "source": [
    "playlist['total'] # if more than 100, while results['next']: results = sp.next(results) and list.extend()"
   ]
  },
  {
   "cell_type": "code",
   "execution_count": 153,
   "id": "7d4bc820",
   "metadata": {},
   "outputs": [
    {
     "data": {
      "text/plain": [
       "'Kordman Return - Swing Mix'"
      ]
     },
     "execution_count": 153,
     "metadata": {},
     "output_type": "execute_result"
    }
   ],
   "source": [
    "playlist['items'][4]['track']['name']"
   ]
  },
  {
   "cell_type": "code",
   "execution_count": 151,
   "id": "244faa57",
   "metadata": {
    "collapsed": true
   },
   "outputs": [
    {
     "name": "stdout",
     "output_type": "stream",
     "text": [
      "Via Sub Mids\n",
      "Soundboy Ext.\n",
      "Flyby Vfr\n",
      "Kozmic Flush\n",
      "Kordman Return - Swing Mix\n",
      "Palo Alto\n",
      "Serum (Session 1)\n",
      "Shred 08\n",
      "Junt\n",
      "Routine\n",
      "Skreet Lvl Dub\n",
      "22: 22\n",
      "Radiant\n",
      "Coiled\n",
      "Deviant\n",
      "Router\n",
      "Ganzfeld\n",
      "Ithaw\n",
      "Window\n",
      "Depicta\n",
      "Jewlea\n",
      "Poppy Seed - Boards Of Canada Remix\n",
      "Gruve\n",
      "The Return\n",
      "Pacific State\n",
      "Pacific (Britmix )\n",
      "The End\n",
      "The Start\n",
      "Deep Love\n",
      "Jupiter Jazz\n",
      "Aqua Viva\n",
      "To Places You've Never Been\n",
      "Artifax\n",
      "Exosphere\n",
      "Birth of Stars\n",
      "Cassiopeia\n",
      "Knights of the Jaguar\n",
      "Andreaen Sand Dunes\n",
      "Seed of Sound\n",
      "PositiveNoise\n",
      "Skidoos\n",
      "Your Wardrobe - S.A.M.'s Downtown Remix\n",
      "UNTITLED A - S.A.M. Reshape\n",
      "Wasser Im Fluss\n",
      "Subtraction\n",
      "Transcended Being\n",
      "Apollo\n",
      "Train Incident\n",
      "Contact\n",
      "Shapes\n",
      "Seel\n",
      "Phylyps Trak\n",
      "Resonance\n",
      "Without You - Original Mix\n",
      "Into the Televerse - Andy Stott Remix\n",
      "Starlight - Echospace Unreleased Mix\n",
      "Fighting the Blind Man\n",
      "To Be Surreal\n",
      "Lights On\n",
      "Dimensional Glide\n",
      "What's a Girl to Do\n",
      "Gathering Dust\n",
      "Lampara\n",
      "Tímbrame\n",
      "Mysterious Love\n",
      "Little Fluffy Clouds\n",
      "Start up Trak (Edit)\n",
      "Lament Subrosa\n",
      "Never Ending\n",
      "Cymetry\n",
      "The Nervous Track - Ballsy Mix\n",
      "Domina - Carl Craig's Mind Mix\n",
      "Cassiopeia\n",
      "Soul Beat Runna\n",
      "Flak\n",
      "Pro: Lov: Ad\n",
      "Eutow\n",
      "Moodswing\n",
      "Velocity\n",
      "Confused\n",
      "Hard to Say\n"
     ]
    }
   ],
   "source": [
    "for i in range(len(playlist['items'])):\n",
    "    print(playlist['items'][i]['track']['name'])"
   ]
  },
  {
   "cell_type": "code",
   "execution_count": 214,
   "id": "040cbbf4",
   "metadata": {},
   "outputs": [],
   "source": [
    "# get songs from any number of results\n",
    "songs = {}\n",
    "for track in playlist['items']:\n",
    "    songs.update( {\n",
    "        track['track']['id']: [\n",
    "        track['track']['name'],\n",
    "        track['track']['artists'][0]['name'],\n",
    "    ]\n",
    "    })\n",
    "    while playlist['next']:\n",
    "        playlist = sp.next(playlist)\n",
    "        songs.update({     \n",
    "        track['track']['id']: [\n",
    "            track['track']['name'],\n",
    "            track['track']['artists'][0]['name']\n",
    "        ]\n",
    "        })"
   ]
  },
  {
   "cell_type": "markdown",
   "id": "12f35e92",
   "metadata": {},
   "source": [
    "## Audio features"
   ]
  },
  {
   "cell_type": "code",
   "execution_count": 220,
   "id": "e1e2da29",
   "metadata": {},
   "outputs": [],
   "source": [
    "import pandas as pd\n",
    "import numpy as np"
   ]
  },
  {
   "cell_type": "code",
   "execution_count": 218,
   "id": "d097b3bb",
   "metadata": {},
   "outputs": [],
   "source": [
    "electro = []\n",
    "for i in playlist['items']:\n",
    "    electro.append(i['track']['id'])"
   ]
  },
  {
   "cell_type": "code",
   "execution_count": 219,
   "id": "40c94982",
   "metadata": {},
   "outputs": [],
   "source": [
    "audio_feat_electro = pd.DataFrame(sp.audio_features(tracks=electro))"
   ]
  },
  {
   "cell_type": "code",
   "execution_count": 221,
   "id": "4595f966",
   "metadata": {},
   "outputs": [],
   "source": [
    "feats = audio_feat_electro.select_dtypes(np.number)"
   ]
  },
  {
   "cell_type": "code",
   "execution_count": 223,
   "id": "342fb06d",
   "metadata": {},
   "outputs": [
    {
     "name": "stderr",
     "output_type": "stream",
     "text": [
      "/var/folders/yw/kfrh__c16y32fwr4ddxqhybm0000gp/T/ipykernel_23097/587351655.py:1: SettingWithCopyWarning: \n",
      "A value is trying to be set on a copy of a slice from a DataFrame.\n",
      "Try using .loc[row_indexer,col_indexer] = value instead\n",
      "\n",
      "See the caveats in the documentation: https://pandas.pydata.org/pandas-docs/stable/user_guide/indexing.html#returning-a-view-versus-a-copy\n",
      "  feats['id'] = audio_feat_electro['id']\n"
     ]
    }
   ],
   "source": [
    "feats['id'] = audio_feat_electro['id']"
   ]
  },
  {
   "cell_type": "code",
   "execution_count": 225,
   "id": "0f58dc4e",
   "metadata": {},
   "outputs": [
    {
     "data": {
      "text/html": [
       "<div>\n",
       "<style scoped>\n",
       "    .dataframe tbody tr th:only-of-type {\n",
       "        vertical-align: middle;\n",
       "    }\n",
       "\n",
       "    .dataframe tbody tr th {\n",
       "        vertical-align: top;\n",
       "    }\n",
       "\n",
       "    .dataframe thead th {\n",
       "        text-align: right;\n",
       "    }\n",
       "</style>\n",
       "<table border=\"1\" class=\"dataframe\">\n",
       "  <thead>\n",
       "    <tr style=\"text-align: right;\">\n",
       "      <th></th>\n",
       "      <th>danceability</th>\n",
       "      <th>energy</th>\n",
       "      <th>key</th>\n",
       "      <th>loudness</th>\n",
       "      <th>mode</th>\n",
       "      <th>speechiness</th>\n",
       "      <th>acousticness</th>\n",
       "      <th>instrumentalness</th>\n",
       "      <th>liveness</th>\n",
       "      <th>valence</th>\n",
       "      <th>tempo</th>\n",
       "      <th>duration_ms</th>\n",
       "      <th>time_signature</th>\n",
       "      <th>id</th>\n",
       "    </tr>\n",
       "  </thead>\n",
       "  <tbody>\n",
       "    <tr>\n",
       "      <th>0</th>\n",
       "      <td>0.701</td>\n",
       "      <td>0.779</td>\n",
       "      <td>7</td>\n",
       "      <td>-12.888</td>\n",
       "      <td>1</td>\n",
       "      <td>0.0573</td>\n",
       "      <td>0.098800</td>\n",
       "      <td>0.844</td>\n",
       "      <td>0.3630</td>\n",
       "      <td>0.3840</td>\n",
       "      <td>147.022</td>\n",
       "      <td>392593</td>\n",
       "      <td>4</td>\n",
       "      <td>45FAMJcFXi54enCDY0zUMy</td>\n",
       "    </tr>\n",
       "    <tr>\n",
       "      <th>1</th>\n",
       "      <td>0.456</td>\n",
       "      <td>0.722</td>\n",
       "      <td>2</td>\n",
       "      <td>-12.615</td>\n",
       "      <td>1</td>\n",
       "      <td>0.0543</td>\n",
       "      <td>0.018900</td>\n",
       "      <td>0.895</td>\n",
       "      <td>0.2970</td>\n",
       "      <td>0.0393</td>\n",
       "      <td>168.011</td>\n",
       "      <td>291029</td>\n",
       "      <td>4</td>\n",
       "      <td>0EMy98IOnpGeGwQ6n1shag</td>\n",
       "    </tr>\n",
       "    <tr>\n",
       "      <th>2</th>\n",
       "      <td>0.636</td>\n",
       "      <td>0.878</td>\n",
       "      <td>4</td>\n",
       "      <td>-9.275</td>\n",
       "      <td>0</td>\n",
       "      <td>0.0917</td>\n",
       "      <td>0.000369</td>\n",
       "      <td>0.873</td>\n",
       "      <td>0.3740</td>\n",
       "      <td>0.2140</td>\n",
       "      <td>136.129</td>\n",
       "      <td>328920</td>\n",
       "      <td>4</td>\n",
       "      <td>4G3G1y9JmUsv4we3v7YapO</td>\n",
       "    </tr>\n",
       "    <tr>\n",
       "      <th>3</th>\n",
       "      <td>0.522</td>\n",
       "      <td>0.934</td>\n",
       "      <td>5</td>\n",
       "      <td>-10.283</td>\n",
       "      <td>1</td>\n",
       "      <td>0.0701</td>\n",
       "      <td>0.001500</td>\n",
       "      <td>0.862</td>\n",
       "      <td>0.3690</td>\n",
       "      <td>0.1760</td>\n",
       "      <td>171.000</td>\n",
       "      <td>322802</td>\n",
       "      <td>4</td>\n",
       "      <td>2s5H9I0L14WEYNxkKrEfKF</td>\n",
       "    </tr>\n",
       "    <tr>\n",
       "      <th>4</th>\n",
       "      <td>0.730</td>\n",
       "      <td>0.851</td>\n",
       "      <td>4</td>\n",
       "      <td>-5.665</td>\n",
       "      <td>0</td>\n",
       "      <td>0.0662</td>\n",
       "      <td>0.026000</td>\n",
       "      <td>0.816</td>\n",
       "      <td>0.0903</td>\n",
       "      <td>0.2710</td>\n",
       "      <td>129.151</td>\n",
       "      <td>313733</td>\n",
       "      <td>4</td>\n",
       "      <td>47j44Md0oTa9UmDkXjvvPF</td>\n",
       "    </tr>\n",
       "  </tbody>\n",
       "</table>\n",
       "</div>"
      ],
      "text/plain": [
       "   danceability  energy  key  loudness  mode  speechiness  acousticness  \\\n",
       "0         0.701   0.779    7   -12.888     1       0.0573      0.098800   \n",
       "1         0.456   0.722    2   -12.615     1       0.0543      0.018900   \n",
       "2         0.636   0.878    4    -9.275     0       0.0917      0.000369   \n",
       "3         0.522   0.934    5   -10.283     1       0.0701      0.001500   \n",
       "4         0.730   0.851    4    -5.665     0       0.0662      0.026000   \n",
       "\n",
       "   instrumentalness  liveness  valence    tempo  duration_ms  time_signature  \\\n",
       "0             0.844    0.3630   0.3840  147.022       392593               4   \n",
       "1             0.895    0.2970   0.0393  168.011       291029               4   \n",
       "2             0.873    0.3740   0.2140  136.129       328920               4   \n",
       "3             0.862    0.3690   0.1760  171.000       322802               4   \n",
       "4             0.816    0.0903   0.2710  129.151       313733               4   \n",
       "\n",
       "                       id  \n",
       "0  45FAMJcFXi54enCDY0zUMy  \n",
       "1  0EMy98IOnpGeGwQ6n1shag  \n",
       "2  4G3G1y9JmUsv4we3v7YapO  \n",
       "3  2s5H9I0L14WEYNxkKrEfKF  \n",
       "4  47j44Md0oTa9UmDkXjvvPF  "
      ]
     },
     "execution_count": 225,
     "metadata": {},
     "output_type": "execute_result"
    }
   ],
   "source": [
    "feats.head()"
   ]
  }
 ],
 "metadata": {
  "kernelspec": {
   "display_name": "Python 3 (ipykernel)",
   "language": "python",
   "name": "python3"
  },
  "language_info": {
   "codemirror_mode": {
    "name": "ipython",
    "version": 3
   },
   "file_extension": ".py",
   "mimetype": "text/x-python",
   "name": "python",
   "nbconvert_exporter": "python",
   "pygments_lexer": "ipython3",
   "version": "3.9.7"
  },
  "toc": {
   "base_numbering": 1,
   "nav_menu": {},
   "number_sections": true,
   "sideBar": false,
   "skip_h1_title": true,
   "title_cell": "Index",
   "title_sidebar": "Contents",
   "toc_cell": true,
   "toc_position": {},
   "toc_section_display": true,
   "toc_window_display": false
  }
 },
 "nbformat": 4,
 "nbformat_minor": 5
}
