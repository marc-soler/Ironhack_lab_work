{
 "cells": [
  {
   "cell_type": "markdown",
   "id": "1bba558d",
   "metadata": {},
   "source": [
    "# Imports"
   ]
  },
  {
   "cell_type": "code",
   "execution_count": 2,
   "id": "6202afd4",
   "metadata": {},
   "outputs": [],
   "source": [
    "from fun import *\n",
    "import pandas as pd\n",
    "import numpy as np\n",
    "import matplotlib.pyplot as plt\n",
    "import plotly\n",
    "import plotly.graph_objs as go\n",
    "from sklearn.cluster import KMeans\n",
    "from sklearn.preprocessing import StandardScaler\n",
    "from sklearn.metrics import silhouette_score"
   ]
  },
  {
   "cell_type": "code",
   "execution_count": 12,
   "id": "2ac58cb1",
   "metadata": {},
   "outputs": [],
   "source": [
    "arrests = pd.read_csv('USArrests.csv')"
   ]
  },
  {
   "cell_type": "code",
   "execution_count": 13,
   "id": "98f7d83c",
   "metadata": {},
   "outputs": [
    {
     "name": "stdout",
     "output_type": "stream",
     "text": [
      "<class 'pandas.core.frame.DataFrame'>\n",
      "RangeIndex: 50 entries, 0 to 49\n",
      "Data columns (total 5 columns):\n",
      " #   Column      Non-Null Count  Dtype  \n",
      "---  ------      --------------  -----  \n",
      " 0   Unnamed: 0  50 non-null     object \n",
      " 1   Murder      50 non-null     float64\n",
      " 2   Assault     50 non-null     int64  \n",
      " 3   UrbanPop    50 non-null     int64  \n",
      " 4   Rape        50 non-null     float64\n",
      "dtypes: float64(2), int64(2), object(1)\n",
      "memory usage: 2.1+ KB\n"
     ]
    }
   ],
   "source": [
    "arrests.info()"
   ]
  },
  {
   "cell_type": "markdown",
   "id": "16213b07",
   "metadata": {},
   "source": [
    "# Reshaping the data\n",
    "- Making the index the name of the state"
   ]
  },
  {
   "cell_type": "code",
   "execution_count": 14,
   "id": "e0f54d19",
   "metadata": {},
   "outputs": [
    {
     "data": {
      "text/html": [
       "<div>\n",
       "<style scoped>\n",
       "    .dataframe tbody tr th:only-of-type {\n",
       "        vertical-align: middle;\n",
       "    }\n",
       "\n",
       "    .dataframe tbody tr th {\n",
       "        vertical-align: top;\n",
       "    }\n",
       "\n",
       "    .dataframe thead th {\n",
       "        text-align: right;\n",
       "    }\n",
       "</style>\n",
       "<table border=\"1\" class=\"dataframe\">\n",
       "  <thead>\n",
       "    <tr style=\"text-align: right;\">\n",
       "      <th></th>\n",
       "      <th>Murder</th>\n",
       "      <th>Assault</th>\n",
       "      <th>UrbanPop</th>\n",
       "      <th>Rape</th>\n",
       "    </tr>\n",
       "  </thead>\n",
       "  <tbody>\n",
       "    <tr>\n",
       "      <th>Alabama</th>\n",
       "      <td>13.2</td>\n",
       "      <td>236</td>\n",
       "      <td>58</td>\n",
       "      <td>21.2</td>\n",
       "    </tr>\n",
       "    <tr>\n",
       "      <th>Alaska</th>\n",
       "      <td>10.0</td>\n",
       "      <td>263</td>\n",
       "      <td>48</td>\n",
       "      <td>44.5</td>\n",
       "    </tr>\n",
       "    <tr>\n",
       "      <th>Arizona</th>\n",
       "      <td>8.1</td>\n",
       "      <td>294</td>\n",
       "      <td>80</td>\n",
       "      <td>31.0</td>\n",
       "    </tr>\n",
       "    <tr>\n",
       "      <th>Arkansas</th>\n",
       "      <td>8.8</td>\n",
       "      <td>190</td>\n",
       "      <td>50</td>\n",
       "      <td>19.5</td>\n",
       "    </tr>\n",
       "    <tr>\n",
       "      <th>California</th>\n",
       "      <td>9.0</td>\n",
       "      <td>276</td>\n",
       "      <td>91</td>\n",
       "      <td>40.6</td>\n",
       "    </tr>\n",
       "  </tbody>\n",
       "</table>\n",
       "</div>"
      ],
      "text/plain": [
       "            Murder  Assault  UrbanPop  Rape\n",
       "Alabama       13.2      236        58  21.2\n",
       "Alaska        10.0      263        48  44.5\n",
       "Arizona        8.1      294        80  31.0\n",
       "Arkansas       8.8      190        50  19.5\n",
       "California     9.0      276        91  40.6"
      ]
     },
     "execution_count": 14,
     "metadata": {},
     "output_type": "execute_result"
    }
   ],
   "source": [
    "# Setting State name as index\n",
    "arrests.index = arrests.iloc[:,0]\n",
    "# Getting rid of State column\n",
    "arrests = arrests.iloc[:, 1:5]\n",
    "# Removing the index title\n",
    "arrests.index.name = None\n",
    "arrests.head()"
   ]
  },
  {
   "cell_type": "code",
   "execution_count": 17,
   "id": "da2531e7",
   "metadata": {},
   "outputs": [
    {
     "data": {
      "image/png": "[encoded data removed]",
      "text/plain": [
       "<Figure size 432x288 with 1 Axes>"
      ]
     },
     "metadata": {
      "needs_background": "light"
     },
     "output_type": "display_data"
    }
   ],
   "source": [
    "plt.scatter(arrests.iloc[:, 0], arrests.iloc[:, 3], arrests.iloc[:, 2], arrests.iloc[:, 1]);"
   ]
  },
  {
   "cell_type": "markdown",
   "id": "eeaec54e",
   "metadata": {},
   "source": [
    "# Apply clustering - scale the data first"
   ]
  },
  {
   "cell_type": "code",
   "execution_count": 18,
   "id": "aef4f3f0",
   "metadata": {},
   "outputs": [],
   "source": [
    "scaler = StandardScaler()"
   ]
  },
  {
   "cell_type": "code",
   "execution_count": 19,
   "id": "207469a9",
   "metadata": {},
   "outputs": [
    {
     "data": {
      "text/plain": [
       "StandardScaler()"
      ]
     },
     "execution_count": 19,
     "metadata": {},
     "output_type": "execute_result"
    }
   ],
   "source": [
    "scaler.fit(arrests)"
   ]
  },
  {
   "cell_type": "markdown",
   "id": "73606d78",
   "metadata": {},
   "source": [
    "- Very important to fit the scaler before transforming, because we'll apply the same scaler to new data we want to categorise."
   ]
  },
  {
   "cell_type": "code",
   "execution_count": 20,
   "id": "18139846",
   "metadata": {},
   "outputs": [
    {
     "data": {
      "text/plain": [
       "array([  7.788, 170.76 ,  65.54 ,  21.232])"
      ]
     },
     "execution_count": 20,
     "metadata": {},
     "output_type": "execute_result"
    }
   ],
   "source": [
    "scaler.mean_"
   ]
  },
  {
   "cell_type": "code",
   "execution_count": 22,
   "id": "dbb7d7cc",
   "metadata": {},
   "outputs": [],
   "source": [
    "arrests_scaled = scaler.transform(arrests)"
   ]
  },
  {
   "cell_type": "code",
   "execution_count": 25,
   "id": "2955f5e2",
   "metadata": {},
   "outputs": [],
   "source": [
    "arrests_scaled_df = pd.DataFrame(arrests_scaled, columns=['murder', 'assault', 'urbanpop', 'rape'])"
   ]
  },
  {
   "cell_type": "code",
   "execution_count": 26,
   "id": "e4c3c417",
   "metadata": {},
   "outputs": [
    {
     "data": {
      "text/html": [
       "<div>\n",
       "<style scoped>\n",
       "    .dataframe tbody tr th:only-of-type {\n",
       "        vertical-align: middle;\n",
       "    }\n",
       "\n",
       "    .dataframe tbody tr th {\n",
       "        vertical-align: top;\n",
       "    }\n",
       "\n",
       "    .dataframe thead th {\n",
       "        text-align: right;\n",
       "    }\n",
       "</style>\n",
       "<table border=\"1\" class=\"dataframe\">\n",
       "  <thead>\n",
       "    <tr style=\"text-align: right;\">\n",
       "      <th></th>\n",
       "      <th>murder</th>\n",
       "      <th>assault</th>\n",
       "      <th>urbanpop</th>\n",
       "      <th>rape</th>\n",
       "    </tr>\n",
       "  </thead>\n",
       "  <tbody>\n",
       "    <tr>\n",
       "      <th>0</th>\n",
       "      <td>1.255179</td>\n",
       "      <td>0.790787</td>\n",
       "      <td>-0.526195</td>\n",
       "      <td>-0.003451</td>\n",
       "    </tr>\n",
       "    <tr>\n",
       "      <th>1</th>\n",
       "      <td>0.513019</td>\n",
       "      <td>1.118060</td>\n",
       "      <td>-1.224067</td>\n",
       "      <td>2.509424</td>\n",
       "    </tr>\n",
       "    <tr>\n",
       "      <th>2</th>\n",
       "      <td>0.072361</td>\n",
       "      <td>1.493817</td>\n",
       "      <td>1.009122</td>\n",
       "      <td>1.053466</td>\n",
       "    </tr>\n",
       "    <tr>\n",
       "      <th>3</th>\n",
       "      <td>0.234708</td>\n",
       "      <td>0.233212</td>\n",
       "      <td>-1.084492</td>\n",
       "      <td>-0.186794</td>\n",
       "    </tr>\n",
       "    <tr>\n",
       "      <th>4</th>\n",
       "      <td>0.281093</td>\n",
       "      <td>1.275635</td>\n",
       "      <td>1.776781</td>\n",
       "      <td>2.088814</td>\n",
       "    </tr>\n",
       "  </tbody>\n",
       "</table>\n",
       "</div>"
      ],
      "text/plain": [
       "     murder   assault  urbanpop      rape\n",
       "0  1.255179  0.790787 -0.526195 -0.003451\n",
       "1  0.513019  1.118060 -1.224067  2.509424\n",
       "2  0.072361  1.493817  1.009122  1.053466\n",
       "3  0.234708  0.233212 -1.084492 -0.186794\n",
       "4  0.281093  1.275635  1.776781  2.088814"
      ]
     },
     "execution_count": 26,
     "metadata": {},
     "output_type": "execute_result"
    }
   ],
   "source": [
    "arrests_scaled_df.head()"
   ]
  },
  {
   "cell_type": "code",
   "execution_count": 29,
   "id": "a798e929",
   "metadata": {},
   "outputs": [
    {
     "data": {
      "image/png": "[encoded data removed]",
      "text/plain": [
       "<Figure size 1080x1080 with 4 Axes>"
      ]
     },
     "metadata": {
      "needs_background": "light"
     },
     "output_type": "display_data"
    }
   ],
   "source": [
    "arrests.hist(bins=15, figsize=(15, 15));"
   ]
  },
  {
   "cell_type": "code",
   "execution_count": 28,
   "id": "2fd04278",
   "metadata": {},
   "outputs": [
    {
     "data": {
      "image/png": "[encoded data removed]",
      "text/plain": [
       "<Figure size 1080x1080 with 4 Axes>"
      ]
     },
     "metadata": {
      "needs_background": "light"
     },
     "output_type": "display_data"
    }
   ],
   "source": [
    "arrests_scaled_df.hist(bins=15, figsize=(15, 15));\n",
    "# checking the shape. no change because of scaling"
   ]
  },
  {
   "cell_type": "markdown",
   "id": "c31265d4",
   "metadata": {},
   "source": [
    "# Clustering"
   ]
  },
  {
   "cell_type": "code",
   "execution_count": 31,
   "id": "12617291",
   "metadata": {},
   "outputs": [],
   "source": [
    "K_Means = KMeans(n_clusters=5, random_state=42)"
   ]
  },
  {
   "cell_type": "code",
   "execution_count": 32,
   "id": "a119b700",
   "metadata": {},
   "outputs": [],
   "source": [
    "cluster_arrests_sc = K_Means.fit(arrests_scaled_df)"
   ]
  },
  {
   "cell_type": "code",
   "execution_count": 33,
   "id": "d4e0f65e",
   "metadata": {},
   "outputs": [
    {
     "data": {
      "text/plain": [
       "array([[-0.63817386, -0.38827513,  0.88223651, -0.27797516],\n",
       "       [ 0.70212683,  1.04999438,  0.72997363,  1.28990383],\n",
       "       [-0.15956455, -0.44557535, -0.39437496, -0.32460067],\n",
       "       [ 1.59644066,  0.97606837, -0.78540457,  0.0489325 ],\n",
       "       [-1.18467401, -1.2201201 , -1.01470522, -1.11321445]])"
      ]
     },
     "execution_count": 33,
     "metadata": {},
     "output_type": "execute_result"
    }
   ],
   "source": [
    "cluster_arrests_sc.cluster_centers_"
   ]
  },
  {
   "cell_type": "code",
   "execution_count": 39,
   "id": "c1c7d999",
   "metadata": {},
   "outputs": [
    {
     "name": "stdout",
     "output_type": "stream",
     "text": [
      "{0: 11, 1: 13, 2: 9, 3: 7, 4: 10}\n"
     ]
    }
   ],
   "source": [
    "# counting uniques in array\n",
    "unique, counts = np.unique(cluster_arrests_sc.labels_, return_counts=True)\n",
    "print(dict(zip(unique, counts)))"
   ]
  },
  {
   "cell_type": "code",
   "execution_count": 45,
   "id": "baa38c55",
   "metadata": {},
   "outputs": [],
   "source": [
    "# adding the labels to the cluster\n",
    "arrests_scaled_df['cluster_no'] = cluster_arrests_sc.labels_"
   ]
  },
  {
   "cell_type": "code",
   "execution_count": 47,
   "id": "093e6187",
   "metadata": {},
   "outputs": [
    {
     "data": {
      "text/plain": [
       "1    13\n",
       "0    11\n",
       "4    10\n",
       "2     9\n",
       "3     7\n",
       "Name: cluster_no, dtype: int64"
      ]
     },
     "execution_count": 47,
     "metadata": {},
     "output_type": "execute_result"
    }
   ],
   "source": [
    "# counting labels as df\n",
    "arrests_scaled_df['cluster_no'].value_counts()"
   ]
  },
  {
   "cell_type": "markdown",
   "id": "3745478d",
   "metadata": {},
   "source": [
    "## Comparing the cluster assignment before and after scaling"
   ]
  },
  {
   "cell_type": "code",
   "execution_count": 51,
   "id": "79f15b2b",
   "metadata": {},
   "outputs": [],
   "source": [
    "cluster_nonscaled = K_Means.fit(arrests)"
   ]
  },
  {
   "cell_type": "code",
   "execution_count": 49,
   "id": "91dd1eb1",
   "metadata": {},
   "outputs": [],
   "source": [
    "arrests_copy = arrests"
   ]
  },
  {
   "cell_type": "code",
   "execution_count": 52,
   "id": "4020659e",
   "metadata": {},
   "outputs": [],
   "source": [
    "arrests_copy['cluster'] = cluster_nonscaled.labels_"
   ]
  },
  {
   "cell_type": "code",
   "execution_count": 53,
   "id": "538349ec",
   "metadata": {},
   "outputs": [
    {
     "data": {
      "text/plain": [
       "3    14\n",
       "0    12\n",
       "1    10\n",
       "2    10\n",
       "4     4\n",
       "Name: cluster, dtype: int64"
      ]
     },
     "execution_count": 53,
     "metadata": {},
     "output_type": "execute_result"
    }
   ],
   "source": [
    "arrests_copy['cluster'].value_counts()"
   ]
  },
  {
   "cell_type": "code",
   "execution_count": 54,
   "id": "67a25ba4",
   "metadata": {
    "scrolled": false
   },
   "outputs": [
    {
     "data": {
      "image/png": "[encoded data removed]",
      "text/plain": [
       "<Figure size 432x288 with 1 Axes>"
      ]
     },
     "metadata": {
      "needs_background": "light"
     },
     "output_type": "display_data"
    }
   ],
   "source": [
    "plt.scatter(arrests.iloc[:, 0], arrests.iloc[:, 1], arrests.iloc[:, 2], arrests.iloc[:, 4]);"
   ]
  },
  {
   "cell_type": "code",
   "execution_count": 60,
   "id": "9f00123a",
   "metadata": {},
   "outputs": [
    {
     "data": {
      "text/html": [
       "<div>\n",
       "<style scoped>\n",
       "    .dataframe tbody tr th:only-of-type {\n",
       "        vertical-align: middle;\n",
       "    }\n",
       "\n",
       "    .dataframe tbody tr th {\n",
       "        vertical-align: top;\n",
       "    }\n",
       "\n",
       "    .dataframe thead th {\n",
       "        text-align: right;\n",
       "    }\n",
       "</style>\n",
       "<table border=\"1\" class=\"dataframe\">\n",
       "  <thead>\n",
       "    <tr style=\"text-align: right;\">\n",
       "      <th></th>\n",
       "      <th>Murder</th>\n",
       "      <th>Assault</th>\n",
       "      <th>UrbanPop</th>\n",
       "      <th>Rape</th>\n",
       "      <th>cluster</th>\n",
       "    </tr>\n",
       "  </thead>\n",
       "  <tbody>\n",
       "    <tr>\n",
       "      <th>Alabama</th>\n",
       "      <td>13.2</td>\n",
       "      <td>236</td>\n",
       "      <td>58</td>\n",
       "      <td>21.2</td>\n",
       "      <td>0</td>\n",
       "    </tr>\n",
       "    <tr>\n",
       "      <th>Alaska</th>\n",
       "      <td>10.0</td>\n",
       "      <td>263</td>\n",
       "      <td>48</td>\n",
       "      <td>44.5</td>\n",
       "      <td>0</td>\n",
       "    </tr>\n",
       "    <tr>\n",
       "      <th>Arizona</th>\n",
       "      <td>8.1</td>\n",
       "      <td>294</td>\n",
       "      <td>80</td>\n",
       "      <td>31.0</td>\n",
       "      <td>4</td>\n",
       "    </tr>\n",
       "    <tr>\n",
       "      <th>Arkansas</th>\n",
       "      <td>8.8</td>\n",
       "      <td>190</td>\n",
       "      <td>50</td>\n",
       "      <td>19.5</td>\n",
       "      <td>3</td>\n",
       "    </tr>\n",
       "    <tr>\n",
       "      <th>California</th>\n",
       "      <td>9.0</td>\n",
       "      <td>276</td>\n",
       "      <td>91</td>\n",
       "      <td>40.6</td>\n",
       "      <td>0</td>\n",
       "    </tr>\n",
       "  </tbody>\n",
       "</table>\n",
       "</div>"
      ],
      "text/plain": [
       "            Murder  Assault  UrbanPop  Rape  cluster\n",
       "Alabama       13.2      236        58  21.2        0\n",
       "Alaska        10.0      263        48  44.5        0\n",
       "Arizona        8.1      294        80  31.0        4\n",
       "Arkansas       8.8      190        50  19.5        3\n",
       "California     9.0      276        91  40.6        0"
      ]
     },
     "execution_count": 60,
     "metadata": {},
     "output_type": "execute_result"
    }
   ],
   "source": [
    "arrests_copy.head()"
   ]
  },
  {
   "cell_type": "markdown",
   "id": "7798ea0c",
   "metadata": {},
   "source": [
    "# 3D plotting"
   ]
  },
  {
   "cell_type": "code",
   "execution_count": 66,
   "id": "836de9d0",
   "metadata": {},
   "outputs": [
    {
     "data": {
      "text/plain": [
       "'5dplot.html'"
      ]
     },
     "execution_count": 66,
     "metadata": {},
     "output_type": "execute_result"
    }
   ],
   "source": [
    "# Plotly: \n",
    "# size\n",
    "markersize = arrests_copy['UrbanPop']\n",
    "# colour = cluster\n",
    "markercolour = arrests_copy['cluster']\n",
    "# fig\n",
    "fig1 = go.Scatter3d(x=arrests_copy['Murder'], \n",
    "                    y=arrests_copy['Rape'], \n",
    "                    z=arrests_copy['Assault'], \n",
    "                    marker=dict(size=markersize, \n",
    "                                color=markercolour, \n",
    "                                opacity=0.9, \n",
    "                                colorscale='Blues'), \n",
    "                    line=dict(width=0.2), \n",
    "                    mode='markers')\n",
    "# layout\n",
    "mylayout = go.Layout(scene=dict(xaxis=dict(title='Murder'),\n",
    "                               yaxis=dict(title='Rape'),\n",
    "                               zaxis=dict(title='Assault')))\n",
    "# html offline plot\n",
    "plotly.offline.plot({\n",
    "    'data': [fig1],\n",
    "    'layout': mylayout,\n",
    "}, auto_open=True, filename=('5dplot.html'))"
   ]
  },
  {
   "cell_type": "markdown",
   "id": "73178150",
   "metadata": {},
   "source": [
    "# Picking the optimum K\n",
    "3 metrics:\n",
    "- inertia\n",
    "- distortion\n",
    "- silhouette score"
   ]
  },
  {
   "cell_type": "code",
   "execution_count": 70,
   "id": "f77a97fd",
   "metadata": {},
   "outputs": [
    {
     "data": {
      "text/plain": [
       "24417.023523809523"
      ]
     },
     "execution_count": 70,
     "metadata": {},
     "output_type": "execute_result"
    }
   ],
   "source": [
    "cluster_arrests_sc.inertia_"
   ]
  },
  {
   "cell_type": "code",
   "execution_count": 78,
   "id": "307b0a0e",
   "metadata": {},
   "outputs": [],
   "source": [
    "test = arrests_scaled_df.drop(['cluster_no'], axis=1)"
   ]
  },
  {
   "cell_type": "code",
   "execution_count": 83,
   "id": "9adb897b",
   "metadata": {},
   "outputs": [],
   "source": [
    "K = range(5, 18)\n",
    "inertia = []\n",
    "for k in K:\n",
    "    kmeans = KMeans(n_clusters=k, random_state=42)\n",
    "    kmeans.fit(test)\n",
    "    inertia.append(kmeans.inertia_)"
   ]
  },
  {
   "cell_type": "code",
   "execution_count": 88,
   "id": "d05feb82",
   "metadata": {},
   "outputs": [
    {
     "data": {
      "image/png": "[encoded data removed]",
      "text/plain": [
       "<Figure size 1152x576 with 1 Axes>"
      ]
     },
     "metadata": {
      "needs_background": "light"
     },
     "output_type": "display_data"
    }
   ],
   "source": [
    "# plotting the inertia elbow\n",
    "plt.figure(figsize=(16,8))\n",
    "plt.plot(K, inertia, 'bx-')\n",
    "plt.xlabel('k=nooclusters')\n",
    "plt.ylabel('inertia')\n",
    "plt.xticks(np.arange(min(K), max(K)+1,1.0))\n",
    "plt.title('elbow method inertia to find optimal K');"
   ]
  },
  {
   "cell_type": "code",
   "execution_count": 85,
   "id": "a7291f33",
   "metadata": {},
   "outputs": [],
   "source": [
    "K = range(5, 18)\n",
    "sil = []\n",
    "for k in K:\n",
    "    kmeans = KMeans(n_clusters=k, random_state=42)\n",
    "    kmeans.fit(test)\n",
    "    sil.append(silhouette_score(test, kmeans.predict(test)))"
   ]
  },
  {
   "cell_type": "markdown",
   "id": "981915c0",
   "metadata": {},
   "source": [
    "Silhouette score goes from -1 (incorrectly assigned) to 1 (perfectly assigned). We're looking for values from 0 to 1, and the closer to 1 the better."
   ]
  },
  {
   "cell_type": "code",
   "execution_count": 90,
   "id": "326aab26",
   "metadata": {},
   "outputs": [
    {
     "data": {
      "image/png": "[encoded data removed]",
      "text/plain": [
       "<Figure size 1152x576 with 1 Axes>"
      ]
     },
     "metadata": {
      "needs_background": "light"
     },
     "output_type": "display_data"
    }
   ],
   "source": [
    "# plotting the solhouette elbow\n",
    "plt.figure(figsize=(16,8))\n",
    "plt.plot(K, sil, 'bx-')\n",
    "plt.xlabel('k=nooclusters')\n",
    "plt.ylabel('silhouette')\n",
    "plt.xticks(np.arange(min(K), max(K)+1,1.0))\n",
    "plt.title('elbow method silhouette to find optimal K');"
   ]
  },
  {
   "cell_type": "markdown",
   "id": "9c3af88b",
   "metadata": {},
   "source": [
    "# We go with k=8. Redo the cluster!"
   ]
  },
  {
   "cell_type": "code",
   "execution_count": 91,
   "id": "ee076a94",
   "metadata": {},
   "outputs": [],
   "source": [
    "kmeans = KMeans(n_clusters=8, random_state=42)"
   ]
  },
  {
   "cell_type": "code",
   "execution_count": 92,
   "id": "3dfa135b",
   "metadata": {},
   "outputs": [],
   "source": [
    "CM = kmeans.fit(test)"
   ]
  },
  {
   "cell_type": "code",
   "execution_count": 93,
   "id": "7e7d0d1d",
   "metadata": {},
   "outputs": [],
   "source": [
    "test['cluster_final'] = CM.labels_"
   ]
  },
  {
   "cell_type": "code",
   "execution_count": 94,
   "id": "d0d274aa",
   "metadata": {},
   "outputs": [
    {
     "data": {
      "text/plain": [
       "7    8\n",
       "2    8\n",
       "3    8\n",
       "5    8\n",
       "1    7\n",
       "0    7\n",
       "4    3\n",
       "6    1\n",
       "Name: cluster_final, dtype: int64"
      ]
     },
     "execution_count": 94,
     "metadata": {},
     "output_type": "execute_result"
    }
   ],
   "source": [
    "test['cluster_final'].value_counts()"
   ]
  },
  {
   "cell_type": "markdown",
   "id": "954e6b39",
   "metadata": {},
   "source": [
    "# Introducing new data"
   ]
  },
  {
   "cell_type": "code",
   "execution_count": 105,
   "id": "c9faa569",
   "metadata": {},
   "outputs": [],
   "source": [
    "new_d = {'Murder': [18], 'Assault': [320], 'UrbanPop': [60], 'Rape': [29]}"
   ]
  },
  {
   "cell_type": "code",
   "execution_count": 106,
   "id": "ffa0de32",
   "metadata": {},
   "outputs": [
    {
     "data": {
      "text/html": [
       "<div>\n",
       "<style scoped>\n",
       "    .dataframe tbody tr th:only-of-type {\n",
       "        vertical-align: middle;\n",
       "    }\n",
       "\n",
       "    .dataframe tbody tr th {\n",
       "        vertical-align: top;\n",
       "    }\n",
       "\n",
       "    .dataframe thead th {\n",
       "        text-align: right;\n",
       "    }\n",
       "</style>\n",
       "<table border=\"1\" class=\"dataframe\">\n",
       "  <thead>\n",
       "    <tr style=\"text-align: right;\">\n",
       "      <th></th>\n",
       "      <th>Murder</th>\n",
       "      <th>Assault</th>\n",
       "      <th>UrbanPop</th>\n",
       "      <th>Rape</th>\n",
       "    </tr>\n",
       "  </thead>\n",
       "  <tbody>\n",
       "    <tr>\n",
       "      <th>0</th>\n",
       "      <td>18</td>\n",
       "      <td>320</td>\n",
       "      <td>60</td>\n",
       "      <td>29</td>\n",
       "    </tr>\n",
       "  </tbody>\n",
       "</table>\n",
       "</div>"
      ],
      "text/plain": [
       "   Murder  Assault  UrbanPop  Rape\n",
       "0      18      320        60    29"
      ]
     },
     "execution_count": 106,
     "metadata": {},
     "output_type": "execute_result"
    }
   ],
   "source": [
    "new_row = pd.DataFrame(data=new_d)\n",
    "new_row"
   ]
  },
  {
   "cell_type": "code",
   "execution_count": 107,
   "id": "0090d193",
   "metadata": {},
   "outputs": [],
   "source": [
    "new_row_scaled = pd.DataFrame(scaler.transform(new_row), columns=['murder', 'assault', 'urbanpop', 'rape'])"
   ]
  },
  {
   "cell_type": "code",
   "execution_count": 129,
   "id": "52b4a119",
   "metadata": {},
   "outputs": [
    {
     "data": {
      "text/plain": [
       "1"
      ]
     },
     "execution_count": 129,
     "metadata": {},
     "output_type": "execute_result"
    }
   ],
   "source": [
    "kmeans.predict(new_row_scaled)[0]"
   ]
  },
  {
   "cell_type": "code",
   "execution_count": 114,
   "id": "7ba67471",
   "metadata": {},
   "outputs": [],
   "source": [
    "new_row_cluster = 1"
   ]
  },
  {
   "cell_type": "code",
   "execution_count": 144,
   "id": "33974b53",
   "metadata": {},
   "outputs": [
    {
     "data": {
      "text/plain": [
       "39"
      ]
     },
     "execution_count": 144,
     "metadata": {},
     "output_type": "execute_result"
    }
   ],
   "source": [
    "test[test.cluster_final == new_row_cluster].sample().index.values[0]"
   ]
  },
  {
   "cell_type": "code",
   "execution_count": 120,
   "id": "9cc1434a",
   "metadata": {},
   "outputs": [
    {
     "data": {
      "text/html": [
       "<div>\n",
       "<style scoped>\n",
       "    .dataframe tbody tr th:only-of-type {\n",
       "        vertical-align: middle;\n",
       "    }\n",
       "\n",
       "    .dataframe tbody tr th {\n",
       "        vertical-align: top;\n",
       "    }\n",
       "\n",
       "    .dataframe thead th {\n",
       "        text-align: right;\n",
       "    }\n",
       "</style>\n",
       "<table border=\"1\" class=\"dataframe\">\n",
       "  <thead>\n",
       "    <tr style=\"text-align: right;\">\n",
       "      <th></th>\n",
       "      <th>Murder</th>\n",
       "      <th>Assault</th>\n",
       "      <th>UrbanPop</th>\n",
       "      <th>Rape</th>\n",
       "      <th>cluster</th>\n",
       "    </tr>\n",
       "  </thead>\n",
       "  <tbody>\n",
       "    <tr>\n",
       "      <th>Louisiana</th>\n",
       "      <td>15.4</td>\n",
       "      <td>249</td>\n",
       "      <td>66</td>\n",
       "      <td>22.2</td>\n",
       "      <td>0</td>\n",
       "    </tr>\n",
       "    <tr>\n",
       "      <th>Tennessee</th>\n",
       "      <td>13.2</td>\n",
       "      <td>188</td>\n",
       "      <td>59</td>\n",
       "      <td>26.9</td>\n",
       "      <td>3</td>\n",
       "    </tr>\n",
       "  </tbody>\n",
       "</table>\n",
       "</div>"
      ],
      "text/plain": [
       "           Murder  Assault  UrbanPop  Rape  cluster\n",
       "Louisiana    15.4      249        66  22.2        0\n",
       "Tennessee    13.2      188        59  26.9        3"
      ]
     },
     "execution_count": 120,
     "metadata": {},
     "output_type": "execute_result"
    }
   ],
   "source": [
    "arrests.iloc[[17, 41]]"
   ]
  }
 ],
 "metadata": {
  "kernelspec": {
   "display_name": "Python 3 (ipykernel)",
   "language": "python",
   "name": "python3"
  },
  "language_info": {
   "codemirror_mode": {
    "name": "ipython",
    "version": 3
   },
   "file_extension": ".py",
   "mimetype": "text/x-python",
   "name": "python",
   "nbconvert_exporter": "python",
   "pygments_lexer": "ipython3",
   "version": "3.9.7"
  },
  "toc": {
   "base_numbering": 1,
   "nav_menu": {},
   "number_sections": true,
   "sideBar": true,
   "skip_h1_title": false,
   "title_cell": "Table of Contents",
   "title_sidebar": "Contents",
   "toc_cell": false,
   "toc_position": {},
   "toc_section_display": true,
   "toc_window_display": false
  }
 },
 "nbformat": 4,
 "nbformat_minor": 5
}
