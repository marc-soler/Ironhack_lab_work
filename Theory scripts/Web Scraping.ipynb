{
 "cells": [
  {
   "cell_type": "code",
   "execution_count": 2,
   "id": "d8909dd2",
   "metadata": {},
   "outputs": [],
   "source": [
    "import requests\n",
    "from bs4 import BeautifulSoup"
   ]
  },
  {
   "cell_type": "code",
   "execution_count": 4,
   "id": "f236be47",
   "metadata": {},
   "outputs": [],
   "source": [
    "html_doc = \"\"\"\n",
    "<!DOCTYPE html>\n",
    "<html><head><title>The Dormouse's story</title></head>\n",
    "<body>\n",
    "<p class=\"title\"><b>The Dormouse's story</b></p>\n",
    "\n",
    "<p class=\"story\">Once upon a time there were three little sisters; and their names were\n",
    "<a href=\"http://example.com/elsie\" class=\"sister\" id=\"link1\">Elsie</a>,\n",
    "<a href=\"http://example.com/lacie\" class=\"sister\" id=\"link2\">Lacie</a> and\n",
    "<a href=\"http://example.com/tillie\" class=\"sister\" id=\"link3\">Tillie</a>;\n",
    "and they lived at the bottom of a well.</p>\n",
    "\n",
    "<p class=\"story\">...</p>\n",
    "</html>\n",
    "\"\"\""
   ]
  },
  {
   "cell_type": "code",
   "execution_count": 6,
   "id": "54b8c706",
   "metadata": {},
   "outputs": [],
   "source": [
    "soup = BeautifulSoup(html_doc, 'html.parser')"
   ]
  },
  {
   "cell_type": "code",
   "execution_count": 7,
   "id": "b80dfcef",
   "metadata": {},
   "outputs": [
    {
     "name": "stdout",
     "output_type": "stream",
     "text": [
      "<!DOCTYPE html>\n",
      "<html>\n",
      " <head>\n",
      "  <title>\n",
      "   The Dormouse's story\n",
      "  </title>\n",
      " </head>\n",
      " <body>\n",
      "  <p class=\"title\">\n",
      "   <b>\n",
      "    The Dormouse's story\n",
      "   </b>\n",
      "  </p>\n",
      "  <p class=\"story\">\n",
      "   Once upon a time there were three little sisters; and their names were\n",
      "   <a class=\"sister\" href=\"http://example.com/elsie\" id=\"link1\">\n",
      "    Elsie\n",
      "   </a>\n",
      "   ,\n",
      "   <a class=\"sister\" href=\"http://example.com/lacie\" id=\"link2\">\n",
      "    Lacie\n",
      "   </a>\n",
      "   and\n",
      "   <a class=\"sister\" href=\"http://example.com/tillie\" id=\"link3\">\n",
      "    Tillie\n",
      "   </a>\n",
      "   ;\n",
      "and they lived at the bottom of a well.\n",
      "  </p>\n",
      "  <p class=\"story\">\n",
      "   ...\n",
      "  </p>\n",
      " </body>\n",
      "</html>\n",
      "\n"
     ]
    }
   ],
   "source": [
    "print(soup.prettify())"
   ]
  },
  {
   "cell_type": "markdown",
   "id": "d01e6a51",
   "metadata": {},
   "source": [
    "# HTML to select elements on the code"
   ]
  },
  {
   "cell_type": "code",
   "execution_count": 8,
   "id": "474677bc",
   "metadata": {},
   "outputs": [
    {
     "data": {
      "text/plain": [
       "<title>The Dormouse's story</title>"
      ]
     },
     "execution_count": 8,
     "metadata": {},
     "output_type": "execute_result"
    }
   ],
   "source": [
    "soup.title"
   ]
  },
  {
   "cell_type": "code",
   "execution_count": 11,
   "id": "10fa4134",
   "metadata": {},
   "outputs": [
    {
     "data": {
      "text/plain": [
       "<body>\n",
       "<p class=\"title\"><b>The Dormouse's story</b></p>\n",
       "<p class=\"story\">Once upon a time there were three little sisters; and their names were\n",
       "<a class=\"sister\" href=\"http://example.com/elsie\" id=\"link1\">Elsie</a>,\n",
       "<a class=\"sister\" href=\"http://example.com/lacie\" id=\"link2\">Lacie</a> and\n",
       "<a class=\"sister\" href=\"http://example.com/tillie\" id=\"link3\">Tillie</a>;\n",
       "and they lived at the bottom of a well.</p>\n",
       "<p class=\"story\">...</p>\n",
       "</body>"
      ]
     },
     "execution_count": 11,
     "metadata": {},
     "output_type": "execute_result"
    }
   ],
   "source": [
    "soup.body"
   ]
  },
  {
   "cell_type": "code",
   "execution_count": 9,
   "id": "7314dc94",
   "metadata": {},
   "outputs": [],
   "source": [
    "p_tags = soup.find_all('p')"
   ]
  },
  {
   "cell_type": "code",
   "execution_count": 10,
   "id": "325cda35",
   "metadata": {},
   "outputs": [
    {
     "data": {
      "text/plain": [
       "[<p class=\"title\"><b>The Dormouse's story</b></p>,\n",
       " <p class=\"story\">Once upon a time there were three little sisters; and their names were\n",
       " <a class=\"sister\" href=\"http://example.com/elsie\" id=\"link1\">Elsie</a>,\n",
       " <a class=\"sister\" href=\"http://example.com/lacie\" id=\"link2\">Lacie</a> and\n",
       " <a class=\"sister\" href=\"http://example.com/tillie\" id=\"link3\">Tillie</a>;\n",
       " and they lived at the bottom of a well.</p>,\n",
       " <p class=\"story\">...</p>]"
      ]
     },
     "execution_count": 10,
     "metadata": {},
     "output_type": "execute_result"
    }
   ],
   "source": [
    "p_tags"
   ]
  },
  {
   "cell_type": "code",
   "execution_count": 12,
   "id": "9ef8d01b",
   "metadata": {},
   "outputs": [
    {
     "name": "stdout",
     "output_type": "stream",
     "text": [
      "The Dormouse's story\n",
      "Once upon a time there were three little sisters; and their names were\n",
      "Elsie,\n",
      "Lacie and\n",
      "Tillie;\n",
      "and they lived at the bottom of a well.\n",
      "...\n"
     ]
    }
   ],
   "source": [
    "for p in p_tags:\n",
    "    print(p.get_text())"
   ]
  },
  {
   "cell_type": "code",
   "execution_count": 15,
   "id": "78cb3f2b",
   "metadata": {},
   "outputs": [],
   "source": [
    "a_tags = soup.find_all('a')"
   ]
  },
  {
   "cell_type": "code",
   "execution_count": 16,
   "id": "7b54c41b",
   "metadata": {},
   "outputs": [
    {
     "name": "stdout",
     "output_type": "stream",
     "text": [
      "Elsie\n",
      "Lacie\n",
      "Tillie\n"
     ]
    }
   ],
   "source": [
    "for a in a_tags:\n",
    "    print(a.get_text())"
   ]
  },
  {
   "cell_type": "code",
   "execution_count": 17,
   "id": "d08f1830",
   "metadata": {},
   "outputs": [
    {
     "name": "stdout",
     "output_type": "stream",
     "text": [
      "http://example.com/elsie\n",
      "http://example.com/lacie\n",
      "http://example.com/tillie\n"
     ]
    }
   ],
   "source": [
    "for a in a_tags:\n",
    "    print(a.get('href'))"
   ]
  },
  {
   "cell_type": "code",
   "execution_count": 20,
   "id": "6533d3d9",
   "metadata": {},
   "outputs": [
    {
     "data": {
      "text/plain": [
       "\"The Dormouse's story\""
      ]
     },
     "execution_count": 20,
     "metadata": {},
     "output_type": "execute_result"
    }
   ],
   "source": [
    "soup.title.parent.string"
   ]
  },
  {
   "cell_type": "code",
   "execution_count": 21,
   "id": "8f1dbc04",
   "metadata": {},
   "outputs": [
    {
     "data": {
      "text/plain": [
       "'head'"
      ]
     },
     "execution_count": 21,
     "metadata": {},
     "output_type": "execute_result"
    }
   ],
   "source": [
    "soup.title.parent.name"
   ]
  },
  {
   "cell_type": "code",
   "execution_count": 25,
   "id": "ce941654",
   "metadata": {},
   "outputs": [
    {
     "data": {
      "text/plain": [
       "'[document]'"
      ]
     },
     "execution_count": 25,
     "metadata": {},
     "output_type": "execute_result"
    }
   ],
   "source": [
    "soup.head.parent.parent.name"
   ]
  },
  {
   "cell_type": "code",
   "execution_count": 27,
   "id": "e0a9feea",
   "metadata": {},
   "outputs": [
    {
     "data": {
      "text/plain": [
       "2"
      ]
     },
     "execution_count": 27,
     "metadata": {},
     "output_type": "execute_result"
    }
   ],
   "source": [
    "soup.text.count('were')"
   ]
  },
  {
   "cell_type": "markdown",
   "id": "82ea5d86",
   "metadata": {},
   "source": [
    "# Simple website query"
   ]
  },
  {
   "cell_type": "code",
   "execution_count": 32,
   "id": "423ff2c5",
   "metadata": {},
   "outputs": [
    {
     "data": {
      "text/plain": [
       "63"
      ]
     },
     "execution_count": 32,
     "metadata": {},
     "output_type": "execute_result"
    }
   ],
   "source": [
    "import re\n",
    "re.findall(r'\\w+', requests.get('https://www.ironhack.com/en').text).count('bootcamp')"
   ]
  },
  {
   "cell_type": "markdown",
   "id": "1b29c075",
   "metadata": {},
   "source": [
    "# CSS method\n",
    "Each argument in the HTML tag has its symbol. Class is '.', id is '#', etc. If we don't pass any symbol, we're searching for tags."
   ]
  },
  {
   "cell_type": "code",
   "execution_count": 35,
   "id": "fc48365e",
   "metadata": {},
   "outputs": [
    {
     "data": {
      "text/plain": [
       "[<a class=\"sister\" href=\"http://example.com/elsie\" id=\"link1\">Elsie</a>,\n",
       " <a class=\"sister\" href=\"http://example.com/lacie\" id=\"link2\">Lacie</a>,\n",
       " <a class=\"sister\" href=\"http://example.com/tillie\" id=\"link3\">Tillie</a>]"
      ]
     },
     "execution_count": 35,
     "metadata": {},
     "output_type": "execute_result"
    }
   ],
   "source": [
    "soup.select('.sister')"
   ]
  },
  {
   "cell_type": "code",
   "execution_count": 36,
   "id": "524204ec",
   "metadata": {},
   "outputs": [
    {
     "data": {
      "text/plain": [
       "[<a class=\"sister\" href=\"http://example.com/elsie\" id=\"link1\">Elsie</a>]"
      ]
     },
     "execution_count": 36,
     "metadata": {},
     "output_type": "execute_result"
    }
   ],
   "source": [
    "soup.select('#link1')"
   ]
  },
  {
   "cell_type": "code",
   "execution_count": 37,
   "id": "4c50d4d0",
   "metadata": {},
   "outputs": [
    {
     "name": "stdout",
     "output_type": "stream",
     "text": [
      "Elsie\n",
      "Lacie\n",
      "Tillie\n"
     ]
    }
   ],
   "source": [
    "for a in soup.select('a'):\n",
    "    print(a.get_text())"
   ]
  },
  {
   "cell_type": "code",
   "execution_count": 42,
   "id": "c4c7e8ec",
   "metadata": {},
   "outputs": [
    {
     "name": "stdout",
     "output_type": "stream",
     "text": [
      "Elsie\n"
     ]
    }
   ],
   "source": [
    "print(soup.select('a')[0].get_text())"
   ]
  },
  {
   "cell_type": "code",
   "execution_count": 46,
   "id": "6e728b7f",
   "metadata": {},
   "outputs": [
    {
     "data": {
      "text/plain": [
       "[<p class=\"story\">Once upon a time there were three little sisters; and their names were\n",
       " <a class=\"sister\" href=\"http://example.com/elsie\" id=\"link1\">Elsie</a>,\n",
       " <a class=\"sister\" href=\"http://example.com/lacie\" id=\"link2\">Lacie</a> and\n",
       " <a class=\"sister\" href=\"http://example.com/tillie\" id=\"link3\">Tillie</a>;\n",
       " and they lived at the bottom of a well.</p>,\n",
       " <p class=\"story\">...</p>]"
      ]
     },
     "execution_count": 46,
     "metadata": {},
     "output_type": "execute_result"
    }
   ],
   "source": [
    "soup.select('p.story')"
   ]
  },
  {
   "cell_type": "code",
   "execution_count": 45,
   "id": "b7dcc49b",
   "metadata": {},
   "outputs": [
    {
     "data": {
      "text/plain": [
       "'Once upon a time there were three little sisters; and their names were\\nElsie,\\nLacie and\\nTillie;\\nand they lived at the bottom of a well.'"
      ]
     },
     "execution_count": 45,
     "metadata": {},
     "output_type": "execute_result"
    }
   ],
   "source": [
    "soup.select('p.story')[0].get_text()"
   ]
  },
  {
   "cell_type": "markdown",
   "id": "3936adf0",
   "metadata": {},
   "source": [
    "# Checking for understanding\n",
    "You are provided with the HTML code below.\n",
    "\n",
    "Write code to print the following contents (not including the HTML tags, only human-readable text):\n",
    "\n",
    "- All the \"fun facts\".\n",
    "- The names of all the places.\n",
    "- The content (name and fact) of all the cities (only cities, not countries!)\n",
    "- The names (not facts!) of all the cities (not countries!)"
   ]
  },
  {
   "cell_type": "code",
   "execution_count": 48,
   "id": "cb7a515b",
   "metadata": {},
   "outputs": [],
   "source": [
    "x = \"\"\"\n",
    "<!DOCTYPE html>\n",
    "<html>\n",
    "  <head>\n",
    "    Geography\n",
    "  </head>\n",
    "  <body>\n",
    "    <div class=\"city\">\n",
    "      <h2>London</h2>\n",
    "      <p>London is the most popular tourist destination in the world.</p>\n",
    "    </div>\n",
    "\n",
    "    <div class=\"city\">\n",
    "      <h2>Paris</h2>\n",
    "      <p>Paris was originally a Roman City called Lutetia.</p>\n",
    "    </div>\n",
    "\n",
    "    <div class=\"country\">\n",
    "      <h2>Spain</h2>\n",
    "      <p>Spain produces 43,8% of all the world's Olive Oil.</p>\n",
    "    </div>\n",
    "  </body>\n",
    "</html>\n",
    "\"\"\""
   ]
  },
  {
   "cell_type": "code",
   "execution_count": 49,
   "id": "dccfd0c4",
   "metadata": {},
   "outputs": [],
   "source": [
    "soup1 = BeautifulSoup(x, 'html.parser')"
   ]
  },
  {
   "cell_type": "code",
   "execution_count": 55,
   "id": "9ce014ad",
   "metadata": {},
   "outputs": [
    {
     "name": "stdout",
     "output_type": "stream",
     "text": [
      "London is the most popular tourist destination in the world.\n",
      "Paris was originally a Roman City called Lutetia.\n",
      "Spain produces 43,8% of all the world's Olive Oil.\n"
     ]
    }
   ],
   "source": [
    "# Getting fun facts\n",
    "fun_facts = soup1.find_all('p')\n",
    "for f in fun_facts:\n",
    "    print(f.text)"
   ]
  },
  {
   "cell_type": "code",
   "execution_count": 58,
   "id": "2c89af98",
   "metadata": {},
   "outputs": [
    {
     "name": "stdout",
     "output_type": "stream",
     "text": [
      "London\n",
      "Paris\n",
      "Spain\n"
     ]
    }
   ],
   "source": [
    "# Names of places\n",
    "places = soup1.find_all('h2')\n",
    "for p in places:\n",
    "    print(p.text)"
   ]
  },
  {
   "cell_type": "code",
   "execution_count": 62,
   "id": "aba7befb",
   "metadata": {},
   "outputs": [
    {
     "name": "stdout",
     "output_type": "stream",
     "text": [
      "\n",
      "London\n",
      "London is the most popular tourist destination in the world.\n",
      "\n",
      "\n",
      "Paris\n",
      "Paris was originally a Roman City called Lutetia.\n",
      "\n"
     ]
    }
   ],
   "source": [
    "# Name & fact of all cities\n",
    "facts_citites = soup1.select('div.city')\n",
    "for fc in facts_citites:\n",
    "    print(fc.text)"
   ]
  },
  {
   "cell_type": "code",
   "execution_count": 90,
   "id": "5dfd5940",
   "metadata": {},
   "outputs": [
    {
     "name": "stdout",
     "output_type": "stream",
     "text": [
      "London\n",
      "Paris\n"
     ]
    }
   ],
   "source": [
    "# Names of the cities\n",
    "for fc in facts_citites:\n",
    "    print(fc.h2.get_text())"
   ]
  },
  {
   "cell_type": "code",
   "execution_count": 91,
   "id": "ef35cb80",
   "metadata": {},
   "outputs": [
    {
     "name": "stdout",
     "output_type": "stream",
     "text": [
      "[<h2>London</h2>]\n",
      "[<h2>Paris</h2>]\n"
     ]
    }
   ],
   "source": [
    "for fc in facts_citites:\n",
    "    print(fc.select('h2'))"
   ]
  },
  {
   "cell_type": "code",
   "execution_count": 92,
   "id": "236e1eb6",
   "metadata": {},
   "outputs": [
    {
     "name": "stdout",
     "output_type": "stream",
     "text": [
      "<h2>London</h2>\n",
      "<h2>Paris</h2>\n"
     ]
    }
   ],
   "source": [
    "for fc in facts_citites:\n",
    "    print(fc.h2)"
   ]
  },
  {
   "cell_type": "markdown",
   "id": "0d417f21",
   "metadata": {},
   "source": [
    "# Scraping IMDb Top 250 Movies"
   ]
  },
  {
   "cell_type": "code",
   "execution_count": 93,
   "id": "3c93669b",
   "metadata": {},
   "outputs": [],
   "source": [
    "import pandas as pd"
   ]
  },
  {
   "cell_type": "code",
   "execution_count": 109,
   "id": "4f20dec9",
   "metadata": {},
   "outputs": [],
   "source": [
    "url = 'https://www.imdb.com/chart/top/'\n",
    "headers = {\"Accept-Language\": \"en-US,en;q=0.5\"}\n",
    "page = requests.get(url, headers=headers)"
   ]
  },
  {
   "cell_type": "code",
   "execution_count": 110,
   "id": "a38ee4fd",
   "metadata": {},
   "outputs": [],
   "source": [
    "soup2 = BeautifulSoup(page.content, 'html.parser')"
   ]
  },
  {
   "cell_type": "code",
   "execution_count": 135,
   "id": "d717a5e0",
   "metadata": {},
   "outputs": [
    {
     "data": {
      "text/plain": [
       "'The Shawshank Redemption'"
      ]
     },
     "execution_count": 135,
     "metadata": {},
     "output_type": "execute_result"
    }
   ],
   "source": [
    "# Getting the first title / relevant content\n",
    "soup2.select('td.titleColumn > a')[0].text"
   ]
  },
  {
   "cell_type": "code",
   "execution_count": 134,
   "id": "b57812f5",
   "metadata": {},
   "outputs": [
    {
     "data": {
      "text/plain": [
       "'Frank Darabont (dir.), Tim Robbins, Morgan Freeman'"
      ]
     },
     "execution_count": 134,
     "metadata": {},
     "output_type": "execute_result"
    }
   ],
   "source": [
    "# Getting the dir stars\n",
    "soup2.select('td.titleColumn > a')[0]['title']"
   ]
  },
  {
   "cell_type": "code",
   "execution_count": 180,
   "id": "851ecb31",
   "metadata": {},
   "outputs": [
    {
     "data": {
      "text/plain": [
       "'99.'"
      ]
     },
     "execution_count": 180,
     "metadata": {},
     "output_type": "execute_result"
    }
   ],
   "source": [
    "# Getting the rank\n",
    "rank = soup2.select('td.titleColumn')[98].text\n",
    "rank1 = re.search(r'(\\d+)\\.', rank).group(0)\n",
    "rank1"
   ]
  },
  {
   "cell_type": "code",
   "execution_count": 137,
   "id": "60f3d244",
   "metadata": {},
   "outputs": [
    {
     "data": {
      "text/plain": [
       "'(1994)'"
      ]
     },
     "execution_count": 137,
     "metadata": {},
     "output_type": "execute_result"
    }
   ],
   "source": [
    "# Getting the year\n",
    "soup2.select('td.titleColumn > span')[0].text"
   ]
  },
  {
   "cell_type": "markdown",
   "id": "7611d6fa",
   "metadata": {},
   "source": [
    "## For loop to get movies"
   ]
  },
  {
   "cell_type": "code",
   "execution_count": 199,
   "id": "6b976d6a",
   "metadata": {},
   "outputs": [],
   "source": [
    "rank = []\n",
    "titles = []\n",
    "year = []\n",
    "dir_actor = []\n",
    "length = len(soup2.select('td.titleColumn'))"
   ]
  },
  {
   "cell_type": "code",
   "execution_count": 200,
   "id": "a10e46c6",
   "metadata": {},
   "outputs": [],
   "source": [
    "for i in range(length):\n",
    "    rank.append(re.search(r'(\\d+)\\.', soup2.select('td.titleColumn')[i].text).group(0))\n",
    "    titles.append(soup2.select('td.titleColumn > a')[i].text)\n",
    "    year.append(soup2.select('td.titleColumn > span')[i].text)\n",
    "    dir_actor.append(soup2.select('td.titleColumn > a')[i]['title'])"
   ]
  },
  {
   "cell_type": "markdown",
   "id": "3aff169a",
   "metadata": {},
   "source": [
    "## Creating a dataframe from movies data"
   ]
  },
  {
   "cell_type": "code",
   "execution_count": 206,
   "id": "0883f042",
   "metadata": {},
   "outputs": [],
   "source": [
    "# cleaning steps - drop () from year, drop . from rank, separate dirs from actors\n",
    "year_cl = [yr.strip(')').strip('(') for yr in year]\n",
    "rank_cl = [rk.replace('.', '') for rk in rank]"
   ]
  },
  {
   "cell_type": "code",
   "execution_count": 209,
   "id": "110e1114",
   "metadata": {},
   "outputs": [],
   "source": [
    "director = []\n",
    "star1 = []\n",
    "star2 = []\n",
    "for movie in dir_actor:\n",
    "    split_list = movie.split(',')\n",
    "    director.append(split_list[0].replace(' (dir.)', ''))\n",
    "    star1.append(split_list[1])\n",
    "    star2.append(split_list[2])"
   ]
  },
  {
   "cell_type": "code",
   "execution_count": 210,
   "id": "83f49834",
   "metadata": {},
   "outputs": [],
   "source": [
    "movies = pd.DataFrame({\n",
    "    'rank': rank_cl,\n",
    "    'movie_title': titles,\n",
    "    'director': director,\n",
    "    'actor1': star1,\n",
    "    'actor2': star2,\n",
    "    'year': year_cl\n",
    "})"
   ]
  },
  {
   "cell_type": "code",
   "execution_count": 211,
   "id": "2759bbd8",
   "metadata": {},
   "outputs": [
    {
     "data": {
      "text/html": [
       "<div>\n",
       "<style scoped>\n",
       "    .dataframe tbody tr th:only-of-type {\n",
       "        vertical-align: middle;\n",
       "    }\n",
       "\n",
       "    .dataframe tbody tr th {\n",
       "        vertical-align: top;\n",
       "    }\n",
       "\n",
       "    .dataframe thead th {\n",
       "        text-align: right;\n",
       "    }\n",
       "</style>\n",
       "<table border=\"1\" class=\"dataframe\">\n",
       "  <thead>\n",
       "    <tr style=\"text-align: right;\">\n",
       "      <th></th>\n",
       "      <th>rank</th>\n",
       "      <th>movie_title</th>\n",
       "      <th>director</th>\n",
       "      <th>actor1</th>\n",
       "      <th>actor2</th>\n",
       "      <th>year</th>\n",
       "    </tr>\n",
       "  </thead>\n",
       "  <tbody>\n",
       "    <tr>\n",
       "      <th>0</th>\n",
       "      <td>1</td>\n",
       "      <td>The Shawshank Redemption</td>\n",
       "      <td>Frank Darabont</td>\n",
       "      <td>Tim Robbins</td>\n",
       "      <td>Morgan Freeman</td>\n",
       "      <td>1994</td>\n",
       "    </tr>\n",
       "    <tr>\n",
       "      <th>1</th>\n",
       "      <td>2</td>\n",
       "      <td>The Godfather</td>\n",
       "      <td>Francis Ford Coppola</td>\n",
       "      <td>Marlon Brando</td>\n",
       "      <td>Al Pacino</td>\n",
       "      <td>1972</td>\n",
       "    </tr>\n",
       "    <tr>\n",
       "      <th>2</th>\n",
       "      <td>3</td>\n",
       "      <td>The Godfather: Part II</td>\n",
       "      <td>Francis Ford Coppola</td>\n",
       "      <td>Al Pacino</td>\n",
       "      <td>Robert De Niro</td>\n",
       "      <td>1974</td>\n",
       "    </tr>\n",
       "    <tr>\n",
       "      <th>3</th>\n",
       "      <td>4</td>\n",
       "      <td>The Dark Knight</td>\n",
       "      <td>Christopher Nolan</td>\n",
       "      <td>Christian Bale</td>\n",
       "      <td>Heath Ledger</td>\n",
       "      <td>2008</td>\n",
       "    </tr>\n",
       "    <tr>\n",
       "      <th>4</th>\n",
       "      <td>5</td>\n",
       "      <td>12 Angry Men</td>\n",
       "      <td>Sidney Lumet</td>\n",
       "      <td>Henry Fonda</td>\n",
       "      <td>Lee J. Cobb</td>\n",
       "      <td>1957</td>\n",
       "    </tr>\n",
       "    <tr>\n",
       "      <th>...</th>\n",
       "      <td>...</td>\n",
       "      <td>...</td>\n",
       "      <td>...</td>\n",
       "      <td>...</td>\n",
       "      <td>...</td>\n",
       "      <td>...</td>\n",
       "    </tr>\n",
       "    <tr>\n",
       "      <th>245</th>\n",
       "      <td>246</td>\n",
       "      <td>Miracle in Cell No. 7</td>\n",
       "      <td>Mehmet Ada Öztekin</td>\n",
       "      <td>Aras Bulut Iynemli</td>\n",
       "      <td>Nisa Sofiya Aksongur</td>\n",
       "      <td>2019</td>\n",
       "    </tr>\n",
       "    <tr>\n",
       "      <th>246</th>\n",
       "      <td>247</td>\n",
       "      <td>Hera Pheri</td>\n",
       "      <td>Priyadarshan</td>\n",
       "      <td>Akshay Kumar</td>\n",
       "      <td>Suniel Shetty</td>\n",
       "      <td>2000</td>\n",
       "    </tr>\n",
       "    <tr>\n",
       "      <th>247</th>\n",
       "      <td>248</td>\n",
       "      <td>Neon Genesis Evangelion: The End of Evangelion</td>\n",
       "      <td>Hideaki Anno</td>\n",
       "      <td>Megumi Ogata</td>\n",
       "      <td>Megumi Hayashibara</td>\n",
       "      <td>1997</td>\n",
       "    </tr>\n",
       "    <tr>\n",
       "      <th>248</th>\n",
       "      <td>249</td>\n",
       "      <td>The Battle of Algiers</td>\n",
       "      <td>Gillo Pontecorvo</td>\n",
       "      <td>Brahim Hadjadj</td>\n",
       "      <td>Jean Martin</td>\n",
       "      <td>1966</td>\n",
       "    </tr>\n",
       "    <tr>\n",
       "      <th>249</th>\n",
       "      <td>250</td>\n",
       "      <td>96</td>\n",
       "      <td>C. Prem Kumar</td>\n",
       "      <td>Vijay Sethupathi</td>\n",
       "      <td>Adithya Bhaskar</td>\n",
       "      <td>2018</td>\n",
       "    </tr>\n",
       "  </tbody>\n",
       "</table>\n",
       "<p>250 rows × 6 columns</p>\n",
       "</div>"
      ],
      "text/plain": [
       "    rank                                     movie_title  \\\n",
       "0      1                        The Shawshank Redemption   \n",
       "1      2                                   The Godfather   \n",
       "2      3                          The Godfather: Part II   \n",
       "3      4                                 The Dark Knight   \n",
       "4      5                                    12 Angry Men   \n",
       "..   ...                                             ...   \n",
       "245  246                           Miracle in Cell No. 7   \n",
       "246  247                                      Hera Pheri   \n",
       "247  248  Neon Genesis Evangelion: The End of Evangelion   \n",
       "248  249                           The Battle of Algiers   \n",
       "249  250                                              96   \n",
       "\n",
       "                 director               actor1                 actor2  year  \n",
       "0          Frank Darabont          Tim Robbins         Morgan Freeman  1994  \n",
       "1    Francis Ford Coppola        Marlon Brando              Al Pacino  1972  \n",
       "2    Francis Ford Coppola            Al Pacino         Robert De Niro  1974  \n",
       "3       Christopher Nolan       Christian Bale           Heath Ledger  2008  \n",
       "4            Sidney Lumet          Henry Fonda            Lee J. Cobb  1957  \n",
       "..                    ...                  ...                    ...   ...  \n",
       "245    Mehmet Ada Öztekin   Aras Bulut Iynemli   Nisa Sofiya Aksongur  2019  \n",
       "246          Priyadarshan         Akshay Kumar          Suniel Shetty  2000  \n",
       "247          Hideaki Anno         Megumi Ogata     Megumi Hayashibara  1997  \n",
       "248      Gillo Pontecorvo       Brahim Hadjadj            Jean Martin  1966  \n",
       "249         C. Prem Kumar     Vijay Sethupathi        Adithya Bhaskar  2018  \n",
       "\n",
       "[250 rows x 6 columns]"
      ]
     },
     "execution_count": 211,
     "metadata": {},
     "output_type": "execute_result"
    }
   ],
   "source": [
    "movies"
   ]
  },
  {
   "cell_type": "code",
   "execution_count": null,
   "id": "a0f1c57a",
   "metadata": {},
   "outputs": [],
   "source": []
  }
 ],
 "metadata": {
  "kernelspec": {
   "display_name": "Python 3 (ipykernel)",
   "language": "python",
   "name": "python3"
  },
  "language_info": {
   "codemirror_mode": {
    "name": "ipython",
    "version": 3
   },
   "file_extension": ".py",
   "mimetype": "text/x-python",
   "name": "python",
   "nbconvert_exporter": "python",
   "pygments_lexer": "ipython3",
   "version": "3.9.7"
  },
  "toc": {
   "base_numbering": 1,
   "nav_menu": {},
   "number_sections": true,
   "sideBar": true,
   "skip_h1_title": false,
   "title_cell": "Table of Contents",
   "title_sidebar": "Contents",
   "toc_cell": false,
   "toc_position": {},
   "toc_section_display": true,
   "toc_window_display": false
  }
 },
 "nbformat": 4,
 "nbformat_minor": 5
}
