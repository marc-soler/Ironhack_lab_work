{
 "cells": [
  {
   "cell_type": "code",
   "execution_count": 2,
   "id": "d8909dd2",
   "metadata": {},
   "outputs": [],
   "source": [
    "import requests\n",
    "from bs4 import BeautifulSoup"
   ]
  },
  {
   "cell_type": "code",
   "execution_count": 4,
   "id": "f236be47",
   "metadata": {},
   "outputs": [],
   "source": [
    "html_doc = \"\"\"\n",
    "<!DOCTYPE html>\n",
    "<html><head><title>The Dormouse's story</title></head>\n",
    "<body>\n",
    "<p class=\"title\"><b>The Dormouse's story</b></p>\n",
    "\n",
    "<p class=\"story\">Once upon a time there were three little sisters; and their names were\n",
    "<a href=\"http://example.com/elsie\" class=\"sister\" id=\"link1\">Elsie</a>,\n",
    "<a href=\"http://example.com/lacie\" class=\"sister\" id=\"link2\">Lacie</a> and\n",
    "<a href=\"http://example.com/tillie\" class=\"sister\" id=\"link3\">Tillie</a>;\n",
    "and they lived at the bottom of a well.</p>\n",
    "\n",
    "<p class=\"story\">...</p>\n",
    "</html>\n",
    "\"\"\""
   ]
  },
  {
   "cell_type": "code",
   "execution_count": 6,
   "id": "54b8c706",
   "metadata": {},
   "outputs": [],
   "source": [
    "soup = BeautifulSoup(html_doc, 'html.parser')"
   ]
  },
  {
   "cell_type": "code",
   "execution_count": 7,
   "id": "b80dfcef",
   "metadata": {},
   "outputs": [
    {
     "name": "stdout",
     "output_type": "stream",
     "text": [
      "<!DOCTYPE html>\n",
      "<html>\n",
      " <head>\n",
      "  <title>\n",
      "   The Dormouse's story\n",
      "  </title>\n",
      " </head>\n",
      " <body>\n",
      "  <p class=\"title\">\n",
      "   <b>\n",
      "    The Dormouse's story\n",
      "   </b>\n",
      "  </p>\n",
      "  <p class=\"story\">\n",
      "   Once upon a time there were three little sisters; and their names were\n",
      "   <a class=\"sister\" href=\"http://example.com/elsie\" id=\"link1\">\n",
      "    Elsie\n",
      "   </a>\n",
      "   ,\n",
      "   <a class=\"sister\" href=\"http://example.com/lacie\" id=\"link2\">\n",
      "    Lacie\n",
      "   </a>\n",
      "   and\n",
      "   <a class=\"sister\" href=\"http://example.com/tillie\" id=\"link3\">\n",
      "    Tillie\n",
      "   </a>\n",
      "   ;\n",
      "and they lived at the bottom of a well.\n",
      "  </p>\n",
      "  <p class=\"story\">\n",
      "   ...\n",
      "  </p>\n",
      " </body>\n",
      "</html>\n",
      "\n"
     ]
    }
   ],
   "source": [
    "print(soup.prettify())"
   ]
  },
  {
   "cell_type": "markdown",
   "id": "d01e6a51",
   "metadata": {},
   "source": [
    "# HTML to select elements on the code"
   ]
  },
  {
   "cell_type": "code",
   "execution_count": 8,
   "id": "474677bc",
   "metadata": {},
   "outputs": [
    {
     "data": {
      "text/plain": [
       "<title>The Dormouse's story</title>"
      ]
     },
     "execution_count": 8,
     "metadata": {},
     "output_type": "execute_result"
    }
   ],
   "source": [
    "soup.title"
   ]
  },
  {
   "cell_type": "code",
   "execution_count": 11,
   "id": "10fa4134",
   "metadata": {},
   "outputs": [
    {
     "data": {
      "text/plain": [
       "<body>\n",
       "<p class=\"title\"><b>The Dormouse's story</b></p>\n",
       "<p class=\"story\">Once upon a time there were three little sisters; and their names were\n",
       "<a class=\"sister\" href=\"http://example.com/elsie\" id=\"link1\">Elsie</a>,\n",
       "<a class=\"sister\" href=\"http://example.com/lacie\" id=\"link2\">Lacie</a> and\n",
       "<a class=\"sister\" href=\"http://example.com/tillie\" id=\"link3\">Tillie</a>;\n",
       "and they lived at the bottom of a well.</p>\n",
       "<p class=\"story\">...</p>\n",
       "</body>"
      ]
     },
     "execution_count": 11,
     "metadata": {},
     "output_type": "execute_result"
    }
   ],
   "source": [
    "soup.body"
   ]
  },
  {
   "cell_type": "code",
   "execution_count": 9,
   "id": "7314dc94",
   "metadata": {},
   "outputs": [],
   "source": [
    "p_tags = soup.find_all('p')"
   ]
  },
  {
   "cell_type": "code",
   "execution_count": 10,
   "id": "325cda35",
   "metadata": {},
   "outputs": [
    {
     "data": {
      "text/plain": [
       "[<p class=\"title\"><b>The Dormouse's story</b></p>,\n",
       " <p class=\"story\">Once upon a time there were three little sisters; and their names were\n",
       " <a class=\"sister\" href=\"http://example.com/elsie\" id=\"link1\">Elsie</a>,\n",
       " <a class=\"sister\" href=\"http://example.com/lacie\" id=\"link2\">Lacie</a> and\n",
       " <a class=\"sister\" href=\"http://example.com/tillie\" id=\"link3\">Tillie</a>;\n",
       " and they lived at the bottom of a well.</p>,\n",
       " <p class=\"story\">...</p>]"
      ]
     },
     "execution_count": 10,
     "metadata": {},
     "output_type": "execute_result"
    }
   ],
   "source": [
    "p_tags"
   ]
  },
  {
   "cell_type": "code",
   "execution_count": 12,
   "id": "9ef8d01b",
   "metadata": {},
   "outputs": [
    {
     "name": "stdout",
     "output_type": "stream",
     "text": [
      "The Dormouse's story\n",
      "Once upon a time there were three little sisters; and their names were\n",
      "Elsie,\n",
      "Lacie and\n",
      "Tillie;\n",
      "and they lived at the bottom of a well.\n",
      "...\n"
     ]
    }
   ],
   "source": [
    "for p in p_tags:\n",
    "    print(p.get_text())"
   ]
  },
  {
   "cell_type": "code",
   "execution_count": 15,
   "id": "78cb3f2b",
   "metadata": {},
   "outputs": [],
   "source": [
    "a_tags = soup.find_all('a')"
   ]
  },
  {
   "cell_type": "code",
   "execution_count": 16,
   "id": "7b54c41b",
   "metadata": {},
   "outputs": [
    {
     "name": "stdout",
     "output_type": "stream",
     "text": [
      "Elsie\n",
      "Lacie\n",
      "Tillie\n"
     ]
    }
   ],
   "source": [
    "for a in a_tags:\n",
    "    print(a.get_text())"
   ]
  },
  {
   "cell_type": "code",
   "execution_count": 17,
   "id": "d08f1830",
   "metadata": {},
   "outputs": [
    {
     "name": "stdout",
     "output_type": "stream",
     "text": [
      "http://example.com/elsie\n",
      "http://example.com/lacie\n",
      "http://example.com/tillie\n"
     ]
    }
   ],
   "source": [
    "for a in a_tags:\n",
    "    print(a.get('href'))"
   ]
  },
  {
   "cell_type": "code",
   "execution_count": 20,
   "id": "6533d3d9",
   "metadata": {},
   "outputs": [
    {
     "data": {
      "text/plain": [
       "\"The Dormouse's story\""
      ]
     },
     "execution_count": 20,
     "metadata": {},
     "output_type": "execute_result"
    }
   ],
   "source": [
    "soup.title.parent.string"
   ]
  },
  {
   "cell_type": "code",
   "execution_count": 21,
   "id": "8f1dbc04",
   "metadata": {},
   "outputs": [
    {
     "data": {
      "text/plain": [
       "'head'"
      ]
     },
     "execution_count": 21,
     "metadata": {},
     "output_type": "execute_result"
    }
   ],
   "source": [
    "soup.title.parent.name"
   ]
  },
  {
   "cell_type": "code",
   "execution_count": 25,
   "id": "ce941654",
   "metadata": {},
   "outputs": [
    {
     "data": {
      "text/plain": [
       "'[document]'"
      ]
     },
     "execution_count": 25,
     "metadata": {},
     "output_type": "execute_result"
    }
   ],
   "source": [
    "soup.head.parent.parent.name"
   ]
  },
  {
   "cell_type": "code",
   "execution_count": 27,
   "id": "e0a9feea",
   "metadata": {},
   "outputs": [
    {
     "data": {
      "text/plain": [
       "2"
      ]
     },
     "execution_count": 27,
     "metadata": {},
     "output_type": "execute_result"
    }
   ],
   "source": [
    "soup.text.count('were')"
   ]
  },
  {
   "cell_type": "markdown",
   "id": "82ea5d86",
   "metadata": {},
   "source": [
    "# Simple website query"
   ]
  },
  {
   "cell_type": "code",
   "execution_count": 32,
   "id": "423ff2c5",
   "metadata": {},
   "outputs": [
    {
     "data": {
      "text/plain": [
       "63"
      ]
     },
     "execution_count": 32,
     "metadata": {},
     "output_type": "execute_result"
    }
   ],
   "source": [
    "import re\n",
    "re.findall(r'\\w+', requests.get('https://www.ironhack.com/en').text).count('bootcamp')"
   ]
  },
  {
   "cell_type": "markdown",
   "id": "1b29c075",
   "metadata": {},
   "source": [
    "# CSS method\n",
    "Each argument in the HTML tag has its symbol. Class is '.', id is '#', etc. If we don't pass any symbol, we're searching for tags."
   ]
  },
  {
   "cell_type": "code",
   "execution_count": 35,
   "id": "fc48365e",
   "metadata": {},
   "outputs": [
    {
     "data": {
      "text/plain": [
       "[<a class=\"sister\" href=\"http://example.com/elsie\" id=\"link1\">Elsie</a>,\n",
       " <a class=\"sister\" href=\"http://example.com/lacie\" id=\"link2\">Lacie</a>,\n",
       " <a class=\"sister\" href=\"http://example.com/tillie\" id=\"link3\">Tillie</a>]"
      ]
     },
     "execution_count": 35,
     "metadata": {},
     "output_type": "execute_result"
    }
   ],
   "source": [
    "soup.select('.sister')"
   ]
  },
  {
   "cell_type": "code",
   "execution_count": 36,
   "id": "524204ec",
   "metadata": {},
   "outputs": [
    {
     "data": {
      "text/plain": [
       "[<a class=\"sister\" href=\"http://example.com/elsie\" id=\"link1\">Elsie</a>]"
      ]
     },
     "execution_count": 36,
     "metadata": {},
     "output_type": "execute_result"
    }
   ],
   "source": [
    "soup.select('#link1')"
   ]
  },
  {
   "cell_type": "code",
   "execution_count": 37,
   "id": "4c50d4d0",
   "metadata": {},
   "outputs": [
    {
     "name": "stdout",
     "output_type": "stream",
     "text": [
      "Elsie\n",
      "Lacie\n",
      "Tillie\n"
     ]
    }
   ],
   "source": [
    "for a in soup.select('a'):\n",
    "    print(a.get_text())"
   ]
  },
  {
   "cell_type": "code",
   "execution_count": 42,
   "id": "c4c7e8ec",
   "metadata": {},
   "outputs": [
    {
     "name": "stdout",
     "output_type": "stream",
     "text": [
      "Elsie\n"
     ]
    }
   ],
   "source": [
    "print(soup.select('a')[0].get_text())"
   ]
  },
  {
   "cell_type": "code",
   "execution_count": 46,
   "id": "6e728b7f",
   "metadata": {},
   "outputs": [
    {
     "data": {
      "text/plain": [
       "[<p class=\"story\">Once upon a time there were three little sisters; and their names were\n",
       " <a class=\"sister\" href=\"http://example.com/elsie\" id=\"link1\">Elsie</a>,\n",
       " <a class=\"sister\" href=\"http://example.com/lacie\" id=\"link2\">Lacie</a> and\n",
       " <a class=\"sister\" href=\"http://example.com/tillie\" id=\"link3\">Tillie</a>;\n",
       " and they lived at the bottom of a well.</p>,\n",
       " <p class=\"story\">...</p>]"
      ]
     },
     "execution_count": 46,
     "metadata": {},
     "output_type": "execute_result"
    }
   ],
   "source": [
    "soup.select('p.story')"
   ]
  },
  {
   "cell_type": "code",
   "execution_count": 45,
   "id": "b7dcc49b",
   "metadata": {},
   "outputs": [
    {
     "data": {
      "text/plain": [
       "'Once upon a time there were three little sisters; and their names were\\nElsie,\\nLacie and\\nTillie;\\nand they lived at the bottom of a well.'"
      ]
     },
     "execution_count": 45,
     "metadata": {},
     "output_type": "execute_result"
    }
   ],
   "source": [
    "soup.select('p.story')[0].get_text()"
   ]
  },
  {
   "cell_type": "markdown",
   "id": "3936adf0",
   "metadata": {},
   "source": [
    "# Checking for understanding\n",
    "You are provided with the HTML code below.\n",
    "\n",
    "Write code to print the following contents (not including the HTML tags, only human-readable text):\n",
    "\n",
    "- All the \"fun facts\".\n",
    "- The names of all the places.\n",
    "- The content (name and fact) of all the cities (only cities, not countries!)\n",
    "- The names (not facts!) of all the cities (not countries!)"
   ]
  },
  {
   "cell_type": "code",
   "execution_count": 48,
   "id": "cb7a515b",
   "metadata": {},
   "outputs": [],
   "source": [
    "x = \"\"\"\n",
    "<!DOCTYPE html>\n",
    "<html>\n",
    "  <head>\n",
    "    Geography\n",
    "  </head>\n",
    "  <body>\n",
    "    <div class=\"city\">\n",
    "      <h2>London</h2>\n",
    "      <p>London is the most popular tourist destination in the world.</p>\n",
    "    </div>\n",
    "\n",
    "    <div class=\"city\">\n",
    "      <h2>Paris</h2>\n",
    "      <p>Paris was originally a Roman City called Lutetia.</p>\n",
    "    </div>\n",
    "\n",
    "    <div class=\"country\">\n",
    "      <h2>Spain</h2>\n",
    "      <p>Spain produces 43,8% of all the world's Olive Oil.</p>\n",
    "    </div>\n",
    "  </body>\n",
    "</html>\n",
    "\"\"\""
   ]
  },
  {
   "cell_type": "code",
   "execution_count": 49,
   "id": "dccfd0c4",
   "metadata": {},
   "outputs": [],
   "source": [
    "soup1 = BeautifulSoup(x, 'html.parser')"
   ]
  },
  {
   "cell_type": "code",
   "execution_count": 55,
   "id": "9ce014ad",
   "metadata": {},
   "outputs": [
    {
     "name": "stdout",
     "output_type": "stream",
     "text": [
      "London is the most popular tourist destination in the world.\n",
      "Paris was originally a Roman City called Lutetia.\n",
      "Spain produces 43,8% of all the world's Olive Oil.\n"
     ]
    }
   ],
   "source": [
    "# Getting fun facts\n",
    "fun_facts = soup1.find_all('p')\n",
    "for f in fun_facts:\n",
    "    print(f.text)"
   ]
  },
  {
   "cell_type": "code",
   "execution_count": 58,
   "id": "2c89af98",
   "metadata": {},
   "outputs": [
    {
     "name": "stdout",
     "output_type": "stream",
     "text": [
      "London\n",
      "Paris\n",
      "Spain\n"
     ]
    }
   ],
   "source": [
    "# Names of places\n",
    "places = soup1.find_all('h2')\n",
    "for p in places:\n",
    "    print(p.text)"
   ]
  },
  {
   "cell_type": "code",
   "execution_count": 62,
   "id": "aba7befb",
   "metadata": {},
   "outputs": [
    {
     "name": "stdout",
     "output_type": "stream",
     "text": [
      "\n",
      "London\n",
      "London is the most popular tourist destination in the world.\n",
      "\n",
      "\n",
      "Paris\n",
      "Paris was originally a Roman City called Lutetia.\n",
      "\n"
     ]
    }
   ],
   "source": [
    "# Name & fact of all cities\n",
    "facts_citites = soup1.select('div.city')\n",
    "for fc in facts_citites:\n",
    "    print(fc.text)"
   ]
  },
  {
   "cell_type": "code",
   "execution_count": 90,
   "id": "5dfd5940",
   "metadata": {},
   "outputs": [
    {
     "name": "stdout",
     "output_type": "stream",
     "text": [
      "London\n",
      "Paris\n"
     ]
    }
   ],
   "source": [
    "# Names of the cities\n",
    "for fc in facts_citites:\n",
    "    print(fc.h2.get_text())"
   ]
  },
  {
   "cell_type": "code",
   "execution_count": 91,
   "id": "ef35cb80",
   "metadata": {},
   "outputs": [
    {
     "name": "stdout",
     "output_type": "stream",
     "text": [
      "[<h2>London</h2>]\n",
      "[<h2>Paris</h2>]\n"
     ]
    }
   ],
   "source": [
    "for fc in facts_citites:\n",
    "    print(fc.select('h2'))"
   ]
  },
  {
   "cell_type": "code",
   "execution_count": 92,
   "id": "236e1eb6",
   "metadata": {},
   "outputs": [
    {
     "name": "stdout",
     "output_type": "stream",
     "text": [
      "<h2>London</h2>\n",
      "<h2>Paris</h2>\n"
     ]
    }
   ],
   "source": [
    "for fc in facts_citites:\n",
    "    print(fc.h2)"
   ]
  },
  {
   "cell_type": "markdown",
   "id": "0d417f21",
   "metadata": {},
   "source": [
    "# Scraping IMDb Top 250 Movies"
   ]
  },
  {
   "cell_type": "code",
   "execution_count": 93,
   "id": "3c93669b",
   "metadata": {},
   "outputs": [],
   "source": [
    "import pandas as pd"
   ]
  },
  {
   "cell_type": "code",
   "execution_count": 109,
   "id": "4f20dec9",
   "metadata": {},
   "outputs": [],
   "source": [
    "url = 'https://www.imdb.com/chart/top/'\n",
    "headers = {\"Accept-Language\": \"en-US,en;q=0.5\"}\n",
    "page = requests.get(url, headers=headers)"
   ]
  },
  {
   "cell_type": "code",
   "execution_count": 110,
   "id": "a38ee4fd",
   "metadata": {},
   "outputs": [],
   "source": [
    "soup2 = BeautifulSoup(page.content, 'html.parser')"
   ]
  },
  {
   "cell_type": "code",
   "execution_count": 135,
   "id": "d717a5e0",
   "metadata": {},
   "outputs": [
    {
     "data": {
      "text/plain": [
       "'The Shawshank Redemption'"
      ]
     },
     "execution_count": 135,
     "metadata": {},
     "output_type": "execute_result"
    }
   ],
   "source": [
    "# Getting the first title / relevant content\n",
    "soup2.select('td.titleColumn > a')[0].text"
   ]
  },
  {
   "cell_type": "code",
   "execution_count": 134,
   "id": "b57812f5",
   "metadata": {},
   "outputs": [
    {
     "data": {
      "text/plain": [
       "'Frank Darabont (dir.), Tim Robbins, Morgan Freeman'"
      ]
     },
     "execution_count": 134,
     "metadata": {},
     "output_type": "execute_result"
    }
   ],
   "source": [
    "# Getting the dir stars\n",
    "soup2.select('td.titleColumn > a')[0]['title']"
   ]
  },
  {
   "cell_type": "code",
   "execution_count": 180,
   "id": "851ecb31",
   "metadata": {},
   "outputs": [
    {
     "data": {
      "text/plain": [
       "'99.'"
      ]
     },
     "execution_count": 180,
     "metadata": {},
     "output_type": "execute_result"
    }
   ],
   "source": [
    "# Getting the rank\n",
    "rank = soup2.select('td.titleColumn')[98].text\n",
    "rank1 = re.search(r'(\\d+)\\.', rank).group(0)\n",
    "rank1"
   ]
  },
  {
   "cell_type": "code",
   "execution_count": 137,
   "id": "60f3d244",
   "metadata": {},
   "outputs": [
    {
     "data": {
      "text/plain": [
       "'(1994)'"
      ]
     },
     "execution_count": 137,
     "metadata": {},
     "output_type": "execute_result"
    }
   ],
   "source": [
    "# Getting the year\n",
    "soup2.select('td.titleColumn > span')[0].text"
   ]
  },
  {
   "cell_type": "markdown",
   "id": "7611d6fa",
   "metadata": {},
   "source": [
    "## For loop to get movies"
   ]
  },
  {
   "cell_type": "code",
   "execution_count": 199,
   "id": "6b976d6a",
   "metadata": {},
   "outputs": [],
   "source": [
    "rank = []\n",
    "titles = []\n",
    "year = []\n",
    "dir_actor = []\n",
    "length = len(soup2.select('td.titleColumn'))"
   ]
  },
  {
   "cell_type": "code",
   "execution_count": 200,
   "id": "a10e46c6",
   "metadata": {},
   "outputs": [],
   "source": [
    "for i in range(length):\n",
    "    rank.append(re.search(r'(\\d+)\\.', soup2.select('td.titleColumn')[i].text).group(0))\n",
    "    titles.append(soup2.select('td.titleColumn > a')[i].text)\n",
    "    year.append(soup2.select('td.titleColumn > span')[i].text)\n",
    "    dir_actor.append(soup2.select('td.titleColumn > a')[i]['title'])"
   ]
  },
  {
   "cell_type": "markdown",
   "id": "3aff169a",
   "metadata": {},
   "source": [
    "## Creating a dataframe from movies data"
   ]
  },
  {
   "cell_type": "code",
   "execution_count": 206,
   "id": "0883f042",
   "metadata": {},
   "outputs": [],
   "source": [
    "# cleaning steps - drop () from year, drop . from rank, separate dirs from actors\n",
    "year_cl = [yr.strip(')').strip('(') for yr in year]\n",
    "rank_cl = [rk.replace('.', '') for rk in rank]"
   ]
  },
  {
   "cell_type": "code",
   "execution_count": 209,
   "id": "110e1114",
   "metadata": {},
   "outputs": [],
   "source": [
    "director = []\n",
    "star1 = []\n",
    "star2 = []\n",
    "for movie in dir_actor:\n",
    "    split_list = movie.split(',')\n",
    "    director.append(split_list[0].replace(' (dir.)', ''))\n",
    "    star1.append(split_list[1])\n",
    "    star2.append(split_list[2])"
   ]
  },
  {
   "cell_type": "code",
   "execution_count": 210,
   "id": "83f49834",
   "metadata": {},
   "outputs": [],
   "source": [
    "movies = pd.DataFrame({\n",
    "    'rank': rank_cl,\n",
    "    'movie_title': titles,\n",
    "    'director': director,\n",
    "    'actor1': star1,\n",
    "    'actor2': star2,\n",
    "    'year': year_cl\n",
    "})"
   ]
  },
  {
   "cell_type": "code",
   "execution_count": 211,
   "id": "2759bbd8",
   "metadata": {},
   "outputs": [
    {
     "data": {
      "text/html": [
       "<div>\n",
       "<style scoped>\n",
       "    .dataframe tbody tr th:only-of-type {\n",
       "        vertical-align: middle;\n",
       "    }\n",
       "\n",
       "    .dataframe tbody tr th {\n",
       "        vertical-align: top;\n",
       "    }\n",
       "\n",
       "    .dataframe thead th {\n",
       "        text-align: right;\n",
       "    }\n",
       "</style>\n",
       "<table border=\"1\" class=\"dataframe\">\n",
       "  <thead>\n",
       "    <tr style=\"text-align: right;\">\n",
       "      <th></th>\n",
       "      <th>rank</th>\n",
       "      <th>movie_title</th>\n",
       "      <th>director</th>\n",
       "      <th>actor1</th>\n",
       "      <th>actor2</th>\n",
       "      <th>year</th>\n",
       "    </tr>\n",
       "  </thead>\n",
       "  <tbody>\n",
       "    <tr>\n",
       "      <th>0</th>\n",
       "      <td>1</td>\n",
       "      <td>The Shawshank Redemption</td>\n",
       "      <td>Frank Darabont</td>\n",
       "      <td>Tim Robbins</td>\n",
       "      <td>Morgan Freeman</td>\n",
       "      <td>1994</td>\n",
       "    </tr>\n",
       "    <tr>\n",
       "      <th>1</th>\n",
       "      <td>2</td>\n",
       "      <td>The Godfather</td>\n",
       "      <td>Francis Ford Coppola</td>\n",
       "      <td>Marlon Brando</td>\n",
       "      <td>Al Pacino</td>\n",
       "      <td>1972</td>\n",
       "    </tr>\n",
       "    <tr>\n",
       "      <th>2</th>\n",
       "      <td>3</td>\n",
       "      <td>The Godfather: Part II</td>\n",
       "      <td>Francis Ford Coppola</td>\n",
       "      <td>Al Pacino</td>\n",
       "      <td>Robert De Niro</td>\n",
       "      <td>1974</td>\n",
       "    </tr>\n",
       "    <tr>\n",
       "      <th>3</th>\n",
       "      <td>4</td>\n",
       "      <td>The Dark Knight</td>\n",
       "      <td>Christopher Nolan</td>\n",
       "      <td>Christian Bale</td>\n",
       "      <td>Heath Ledger</td>\n",
       "      <td>2008</td>\n",
       "    </tr>\n",
       "    <tr>\n",
       "      <th>4</th>\n",
       "      <td>5</td>\n",
       "      <td>12 Angry Men</td>\n",
       "      <td>Sidney Lumet</td>\n",
       "      <td>Henry Fonda</td>\n",
       "      <td>Lee J. Cobb</td>\n",
       "      <td>1957</td>\n",
       "    </tr>\n",
       "    <tr>\n",
       "      <th>...</th>\n",
       "      <td>...</td>\n",
       "      <td>...</td>\n",
       "      <td>...</td>\n",
       "      <td>...</td>\n",
       "      <td>...</td>\n",
       "      <td>...</td>\n",
       "    </tr>\n",
       "    <tr>\n",
       "      <th>245</th>\n",
       "      <td>246</td>\n",
       "      <td>Miracle in Cell No. 7</td>\n",
       "      <td>Mehmet Ada Öztekin</td>\n",
       "      <td>Aras Bulut Iynemli</td>\n",
       "      <td>Nisa Sofiya Aksongur</td>\n",
       "      <td>2019</td>\n",
       "    </tr>\n",
       "    <tr>\n",
       "      <th>246</th>\n",
       "      <td>247</td>\n",
       "      <td>Hera Pheri</td>\n",
       "      <td>Priyadarshan</td>\n",
       "      <td>Akshay Kumar</td>\n",
       "      <td>Suniel Shetty</td>\n",
       "      <td>2000</td>\n",
       "    </tr>\n",
       "    <tr>\n",
       "      <th>247</th>\n",
       "      <td>248</td>\n",
       "      <td>Neon Genesis Evangelion: The End of Evangelion</td>\n",
       "      <td>Hideaki Anno</td>\n",
       "      <td>Megumi Ogata</td>\n",
       "      <td>Megumi Hayashibara</td>\n",
       "      <td>1997</td>\n",
       "    </tr>\n",
       "    <tr>\n",
       "      <th>248</th>\n",
       "      <td>249</td>\n",
       "      <td>The Battle of Algiers</td>\n",
       "      <td>Gillo Pontecorvo</td>\n",
       "      <td>Brahim Hadjadj</td>\n",
       "      <td>Jean Martin</td>\n",
       "      <td>1966</td>\n",
       "    </tr>\n",
       "    <tr>\n",
       "      <th>249</th>\n",
       "      <td>250</td>\n",
       "      <td>96</td>\n",
       "      <td>C. Prem Kumar</td>\n",
       "      <td>Vijay Sethupathi</td>\n",
       "      <td>Adithya Bhaskar</td>\n",
       "      <td>2018</td>\n",
       "    </tr>\n",
       "  </tbody>\n",
       "</table>\n",
       "<p>250 rows × 6 columns</p>\n",
       "</div>"
      ],
      "text/plain": [
       "    rank                                     movie_title  \\\n",
       "0      1                        The Shawshank Redemption   \n",
       "1      2                                   The Godfather   \n",
       "2      3                          The Godfather: Part II   \n",
       "3      4                                 The Dark Knight   \n",
       "4      5                                    12 Angry Men   \n",
       "..   ...                                             ...   \n",
       "245  246                           Miracle in Cell No. 7   \n",
       "246  247                                      Hera Pheri   \n",
       "247  248  Neon Genesis Evangelion: The End of Evangelion   \n",
       "248  249                           The Battle of Algiers   \n",
       "249  250                                              96   \n",
       "\n",
       "                 director               actor1                 actor2  year  \n",
       "0          Frank Darabont          Tim Robbins         Morgan Freeman  1994  \n",
       "1    Francis Ford Coppola        Marlon Brando              Al Pacino  1972  \n",
       "2    Francis Ford Coppola            Al Pacino         Robert De Niro  1974  \n",
       "3       Christopher Nolan       Christian Bale           Heath Ledger  2008  \n",
       "4            Sidney Lumet          Henry Fonda            Lee J. Cobb  1957  \n",
       "..                    ...                  ...                    ...   ...  \n",
       "245    Mehmet Ada Öztekin   Aras Bulut Iynemli   Nisa Sofiya Aksongur  2019  \n",
       "246          Priyadarshan         Akshay Kumar          Suniel Shetty  2000  \n",
       "247          Hideaki Anno         Megumi Ogata     Megumi Hayashibara  1997  \n",
       "248      Gillo Pontecorvo       Brahim Hadjadj            Jean Martin  1966  \n",
       "249         C. Prem Kumar     Vijay Sethupathi        Adithya Bhaskar  2018  \n",
       "\n",
       "[250 rows x 6 columns]"
      ]
     },
     "execution_count": 211,
     "metadata": {},
     "output_type": "execute_result"
    }
   ],
   "source": [
    "movies"
   ]
  },
  {
   "cell_type": "markdown",
   "id": "2a8db62a",
   "metadata": {},
   "source": [
    "# Scraping multiple pages"
   ]
  },
  {
   "cell_type": "code",
   "execution_count": 1,
   "id": "45454318",
   "metadata": {},
   "outputs": [],
   "source": [
    "from bs4 import BeautifulSoup\n",
    "import requests\n",
    "import pandas as pd\n",
    "from tqdm.notebook import tqdm\n",
    "from time import sleep\n",
    "from random import randint"
   ]
  },
  {
   "cell_type": "code",
   "execution_count": 2,
   "id": "7f0e0e48",
   "metadata": {},
   "outputs": [],
   "source": [
    "url = 'https://www.imdb.com/search/title/?title_type=feature&release_date=1990-01-01,1995-12-31&user_rating=7.0,&start=1&ref_=adv_nxt'\n"
   ]
  },
  {
   "cell_type": "code",
   "execution_count": 3,
   "id": "0718ec09",
   "metadata": {},
   "outputs": [
    {
     "data": {
      "text/plain": [
       "200"
      ]
     },
     "execution_count": 3,
     "metadata": {},
     "output_type": "execute_result"
    }
   ],
   "source": [
    "results = requests.get(url)\n",
    "results.status_code"
   ]
  },
  {
   "cell_type": "code",
   "execution_count": 4,
   "id": "42778e08",
   "metadata": {},
   "outputs": [],
   "source": [
    "soup = BeautifulSoup(results.content, 'html.parser') #"
   ]
  },
  {
   "cell_type": "markdown",
   "id": "401dd53c",
   "metadata": {},
   "source": [
    "## Building an iterator"
   ]
  },
  {
   "cell_type": "code",
   "execution_count": 8,
   "id": "199ba9db",
   "metadata": {},
   "outputs": [],
   "source": [
    "iterations = range(1, 2725, 50) # I've got 2725 films and page shows 50"
   ]
  },
  {
   "cell_type": "code",
   "execution_count": 10,
   "id": "93a5e980",
   "metadata": {},
   "outputs": [
    {
     "name": "stdout",
     "output_type": "stream",
     "text": [
      "https://www.imdb.com/search/title/?title_type=feature&release_date=1990-01-01,1995-12-31&user_rating=7.0,&start=1&ref_=adv_nxt\n",
      "https://www.imdb.com/search/title/?title_type=feature&release_date=1990-01-01,1995-12-31&user_rating=7.0,&start=51&ref_=adv_nxt\n",
      "https://www.imdb.com/search/title/?title_type=feature&release_date=1990-01-01,1995-12-31&user_rating=7.0,&start=101&ref_=adv_nxt\n",
      "https://www.imdb.com/search/title/?title_type=feature&release_date=1990-01-01,1995-12-31&user_rating=7.0,&start=151&ref_=adv_nxt\n",
      "https://www.imdb.com/search/title/?title_type=feature&release_date=1990-01-01,1995-12-31&user_rating=7.0,&start=201&ref_=adv_nxt\n",
      "https://www.imdb.com/search/title/?title_type=feature&release_date=1990-01-01,1995-12-31&user_rating=7.0,&start=251&ref_=adv_nxt\n",
      "https://www.imdb.com/search/title/?title_type=feature&release_date=1990-01-01,1995-12-31&user_rating=7.0,&start=301&ref_=adv_nxt\n",
      "https://www.imdb.com/search/title/?title_type=feature&release_date=1990-01-01,1995-12-31&user_rating=7.0,&start=351&ref_=adv_nxt\n",
      "https://www.imdb.com/search/title/?title_type=feature&release_date=1990-01-01,1995-12-31&user_rating=7.0,&start=401&ref_=adv_nxt\n",
      "https://www.imdb.com/search/title/?title_type=feature&release_date=1990-01-01,1995-12-31&user_rating=7.0,&start=451&ref_=adv_nxt\n",
      "https://www.imdb.com/search/title/?title_type=feature&release_date=1990-01-01,1995-12-31&user_rating=7.0,&start=501&ref_=adv_nxt\n",
      "https://www.imdb.com/search/title/?title_type=feature&release_date=1990-01-01,1995-12-31&user_rating=7.0,&start=551&ref_=adv_nxt\n",
      "https://www.imdb.com/search/title/?title_type=feature&release_date=1990-01-01,1995-12-31&user_rating=7.0,&start=601&ref_=adv_nxt\n",
      "https://www.imdb.com/search/title/?title_type=feature&release_date=1990-01-01,1995-12-31&user_rating=7.0,&start=651&ref_=adv_nxt\n",
      "https://www.imdb.com/search/title/?title_type=feature&release_date=1990-01-01,1995-12-31&user_rating=7.0,&start=701&ref_=adv_nxt\n",
      "https://www.imdb.com/search/title/?title_type=feature&release_date=1990-01-01,1995-12-31&user_rating=7.0,&start=751&ref_=adv_nxt\n",
      "https://www.imdb.com/search/title/?title_type=feature&release_date=1990-01-01,1995-12-31&user_rating=7.0,&start=801&ref_=adv_nxt\n",
      "https://www.imdb.com/search/title/?title_type=feature&release_date=1990-01-01,1995-12-31&user_rating=7.0,&start=851&ref_=adv_nxt\n",
      "https://www.imdb.com/search/title/?title_type=feature&release_date=1990-01-01,1995-12-31&user_rating=7.0,&start=901&ref_=adv_nxt\n",
      "https://www.imdb.com/search/title/?title_type=feature&release_date=1990-01-01,1995-12-31&user_rating=7.0,&start=951&ref_=adv_nxt\n",
      "https://www.imdb.com/search/title/?title_type=feature&release_date=1990-01-01,1995-12-31&user_rating=7.0,&start=1001&ref_=adv_nxt\n",
      "https://www.imdb.com/search/title/?title_type=feature&release_date=1990-01-01,1995-12-31&user_rating=7.0,&start=1051&ref_=adv_nxt\n",
      "https://www.imdb.com/search/title/?title_type=feature&release_date=1990-01-01,1995-12-31&user_rating=7.0,&start=1101&ref_=adv_nxt\n",
      "https://www.imdb.com/search/title/?title_type=feature&release_date=1990-01-01,1995-12-31&user_rating=7.0,&start=1151&ref_=adv_nxt\n",
      "https://www.imdb.com/search/title/?title_type=feature&release_date=1990-01-01,1995-12-31&user_rating=7.0,&start=1201&ref_=adv_nxt\n",
      "https://www.imdb.com/search/title/?title_type=feature&release_date=1990-01-01,1995-12-31&user_rating=7.0,&start=1251&ref_=adv_nxt\n",
      "https://www.imdb.com/search/title/?title_type=feature&release_date=1990-01-01,1995-12-31&user_rating=7.0,&start=1301&ref_=adv_nxt\n",
      "https://www.imdb.com/search/title/?title_type=feature&release_date=1990-01-01,1995-12-31&user_rating=7.0,&start=1351&ref_=adv_nxt\n",
      "https://www.imdb.com/search/title/?title_type=feature&release_date=1990-01-01,1995-12-31&user_rating=7.0,&start=1401&ref_=adv_nxt\n",
      "https://www.imdb.com/search/title/?title_type=feature&release_date=1990-01-01,1995-12-31&user_rating=7.0,&start=1451&ref_=adv_nxt\n",
      "https://www.imdb.com/search/title/?title_type=feature&release_date=1990-01-01,1995-12-31&user_rating=7.0,&start=1501&ref_=adv_nxt\n",
      "https://www.imdb.com/search/title/?title_type=feature&release_date=1990-01-01,1995-12-31&user_rating=7.0,&start=1551&ref_=adv_nxt\n",
      "https://www.imdb.com/search/title/?title_type=feature&release_date=1990-01-01,1995-12-31&user_rating=7.0,&start=1601&ref_=adv_nxt\n",
      "https://www.imdb.com/search/title/?title_type=feature&release_date=1990-01-01,1995-12-31&user_rating=7.0,&start=1651&ref_=adv_nxt\n",
      "https://www.imdb.com/search/title/?title_type=feature&release_date=1990-01-01,1995-12-31&user_rating=7.0,&start=1701&ref_=adv_nxt\n",
      "https://www.imdb.com/search/title/?title_type=feature&release_date=1990-01-01,1995-12-31&user_rating=7.0,&start=1751&ref_=adv_nxt\n",
      "https://www.imdb.com/search/title/?title_type=feature&release_date=1990-01-01,1995-12-31&user_rating=7.0,&start=1801&ref_=adv_nxt\n",
      "https://www.imdb.com/search/title/?title_type=feature&release_date=1990-01-01,1995-12-31&user_rating=7.0,&start=1851&ref_=adv_nxt\n",
      "https://www.imdb.com/search/title/?title_type=feature&release_date=1990-01-01,1995-12-31&user_rating=7.0,&start=1901&ref_=adv_nxt\n",
      "https://www.imdb.com/search/title/?title_type=feature&release_date=1990-01-01,1995-12-31&user_rating=7.0,&start=1951&ref_=adv_nxt\n",
      "https://www.imdb.com/search/title/?title_type=feature&release_date=1990-01-01,1995-12-31&user_rating=7.0,&start=2001&ref_=adv_nxt\n",
      "https://www.imdb.com/search/title/?title_type=feature&release_date=1990-01-01,1995-12-31&user_rating=7.0,&start=2051&ref_=adv_nxt\n",
      "https://www.imdb.com/search/title/?title_type=feature&release_date=1990-01-01,1995-12-31&user_rating=7.0,&start=2101&ref_=adv_nxt\n",
      "https://www.imdb.com/search/title/?title_type=feature&release_date=1990-01-01,1995-12-31&user_rating=7.0,&start=2151&ref_=adv_nxt\n",
      "https://www.imdb.com/search/title/?title_type=feature&release_date=1990-01-01,1995-12-31&user_rating=7.0,&start=2201&ref_=adv_nxt\n",
      "https://www.imdb.com/search/title/?title_type=feature&release_date=1990-01-01,1995-12-31&user_rating=7.0,&start=2251&ref_=adv_nxt\n",
      "https://www.imdb.com/search/title/?title_type=feature&release_date=1990-01-01,1995-12-31&user_rating=7.0,&start=2301&ref_=adv_nxt\n",
      "https://www.imdb.com/search/title/?title_type=feature&release_date=1990-01-01,1995-12-31&user_rating=7.0,&start=2351&ref_=adv_nxt\n",
      "https://www.imdb.com/search/title/?title_type=feature&release_date=1990-01-01,1995-12-31&user_rating=7.0,&start=2401&ref_=adv_nxt\n",
      "https://www.imdb.com/search/title/?title_type=feature&release_date=1990-01-01,1995-12-31&user_rating=7.0,&start=2451&ref_=adv_nxt\n",
      "https://www.imdb.com/search/title/?title_type=feature&release_date=1990-01-01,1995-12-31&user_rating=7.0,&start=2501&ref_=adv_nxt\n",
      "https://www.imdb.com/search/title/?title_type=feature&release_date=1990-01-01,1995-12-31&user_rating=7.0,&start=2551&ref_=adv_nxt\n",
      "https://www.imdb.com/search/title/?title_type=feature&release_date=1990-01-01,1995-12-31&user_rating=7.0,&start=2601&ref_=adv_nxt\n",
      "https://www.imdb.com/search/title/?title_type=feature&release_date=1990-01-01,1995-12-31&user_rating=7.0,&start=2651&ref_=adv_nxt\n",
      "https://www.imdb.com/search/title/?title_type=feature&release_date=1990-01-01,1995-12-31&user_rating=7.0,&start=2701&ref_=adv_nxt\n"
     ]
    }
   ],
   "source": [
    "for i in iterations:\n",
    "    start_at = str(i)\n",
    "    url = f'https://www.imdb.com/search/title/?title_type=feature&release_date=1990-01-01,1995-12-31&user_rating=7.0,&start={start_at}&ref_=adv_nxt'\n",
    "    print(url)"
   ]
  },
  {
   "cell_type": "markdown",
   "id": "676e670c",
   "metadata": {},
   "source": [
    "## Respectful scraping - use sleep and radint to separate our scraper pings"
   ]
  },
  {
   "cell_type": "code",
   "execution_count": 12,
   "id": "e4b091d5",
   "metadata": {},
   "outputs": [
    {
     "name": "stdout",
     "output_type": "stream",
     "text": [
      "0\n",
      "1\n",
      "2\n",
      "3\n",
      "4\n"
     ]
    }
   ],
   "source": [
    "# example\n",
    "for i in range(5):\n",
    "    print(i)\n",
    "    wait_time = randint(1,4)\n",
    "    sleep(wait_time)"
   ]
  },
  {
   "cell_type": "markdown",
   "id": "9c09d475",
   "metadata": {},
   "source": [
    "## Assemble the scraper"
   ]
  },
  {
   "cell_type": "code",
   "execution_count": 13,
   "id": "38a3a516",
   "metadata": {},
   "outputs": [],
   "source": [
    "pages = []\n",
    "for i in iterations:\n",
    "    start_at = str(i)\n",
    "    url = f'https://www.imdb.com/search/title/?title_type=feature&release_date=1990-01-01,1995-12-31&user_rating=7.0,&start={start_at}&ref_=adv_nxt'\n",
    "    response = requests.get(url)\n",
    "    pages.append(response)\n",
    "    # sleeping\n",
    "    wait_time = randint(1, 4)\n",
    "    sleep(wait_time)\n",
    "    "
   ]
  },
  {
   "cell_type": "code",
   "execution_count": 15,
   "id": "7234ea03",
   "metadata": {},
   "outputs": [],
   "source": [
    "# soup from one page\n",
    "soup = BeautifulSoup(pages[0].content, 'html.parser')"
   ]
  },
  {
   "cell_type": "code",
   "execution_count": 26,
   "id": "8e645097",
   "metadata": {},
   "outputs": [
    {
     "name": "stdout",
     "output_type": "stream",
     "text": [
      "Dos tontos muy tontos\n",
      "After a woman leaves a briefcase at the airport terminal, a dumb limo driver and his dumber friend set out on a hilarious cross-country road trip to Aspen to return it.\n"
     ]
    }
   ],
   "source": [
    "# Getting name & synopsis from each film\n",
    "title_path = 'h3 > a'\n",
    "synopsis_path = 'p:nth-child(4)'\n",
    "print(soup.select(title_path)[49].get_text(strip=True))\n",
    "print(soup.select(synopsis_path)[49].get_text(strip=True))"
   ]
  },
  {
   "cell_type": "code",
   "execution_count": 28,
   "id": "02a0a75c",
   "metadata": {},
   "outputs": [],
   "source": [
    "# Final iterator\n",
    "title_path = 'h3 > a'\n",
    "synopsis_path = 'p:nth-child(4)'\n",
    "titles = []\n",
    "synopsis = []\n",
    "for page in pages:\n",
    "    soup = BeautifulSoup(page.content, 'html.parser')\n",
    "    for i in range(len(soup.select(title_path))):\n",
    "        titles.append(soup.select(title_path)[i].get_text(strip=True))\n",
    "        synopsis.append(soup.select(synopsis_path)[i].get_text(strip=True))\n",
    "films = pd.DataFrame({\n",
    "    'titles': titles,\n",
    "    'synopsis': synopsis\n",
    "})"
   ]
  },
  {
   "cell_type": "code",
   "execution_count": 31,
   "id": "6b3f5939",
   "metadata": {},
   "outputs": [
    {
     "data": {
      "text/html": [
       "<div>\n",
       "<style scoped>\n",
       "    .dataframe tbody tr th:only-of-type {\n",
       "        vertical-align: middle;\n",
       "    }\n",
       "\n",
       "    .dataframe tbody tr th {\n",
       "        vertical-align: top;\n",
       "    }\n",
       "\n",
       "    .dataframe thead th {\n",
       "        text-align: right;\n",
       "    }\n",
       "</style>\n",
       "<table border=\"1\" class=\"dataframe\">\n",
       "  <thead>\n",
       "    <tr style=\"text-align: right;\">\n",
       "      <th></th>\n",
       "      <th>titles</th>\n",
       "      <th>synopsis</th>\n",
       "    </tr>\n",
       "  </thead>\n",
       "  <tbody>\n",
       "    <tr>\n",
       "      <th>0</th>\n",
       "      <td>Cadena perpetua</td>\n",
       "      <td>Two imprisoned men bond over a number of years...</td>\n",
       "    </tr>\n",
       "    <tr>\n",
       "      <th>1</th>\n",
       "      <td>Pulp Fiction</td>\n",
       "      <td>The lives of two mob hitmen, a boxer, a gangst...</td>\n",
       "    </tr>\n",
       "    <tr>\n",
       "      <th>2</th>\n",
       "      <td>Jurassic Park (Parque Jurásico)</td>\n",
       "      <td>A pragmatic paleontologist touring an almost c...</td>\n",
       "    </tr>\n",
       "    <tr>\n",
       "      <th>3</th>\n",
       "      <td>La lista de Schindler</td>\n",
       "      <td>In German-occupied Poland during World War II,...</td>\n",
       "    </tr>\n",
       "    <tr>\n",
       "      <th>4</th>\n",
       "      <td>Tombstone: La leyenda de Wyatt Earp</td>\n",
       "      <td>A successful lawman's plans to retire anonymou...</td>\n",
       "    </tr>\n",
       "    <tr>\n",
       "      <th>...</th>\n",
       "      <td>...</td>\n",
       "      <td>...</td>\n",
       "    </tr>\n",
       "    <tr>\n",
       "      <th>2720</th>\n",
       "      <td>Mahaprithivi</td>\n",
       "      <td>An elderly lady has three sons and a daughter,...</td>\n",
       "    </tr>\n",
       "    <tr>\n",
       "      <th>2721</th>\n",
       "      <td>Huo yan shan lai de gu shou</td>\n",
       "      <td>A talented young tambourine player joins an en...</td>\n",
       "    </tr>\n",
       "    <tr>\n",
       "      <th>2722</th>\n",
       "      <td>Kapitan Krokus</td>\n",
       "      <td>Add a Plot</td>\n",
       "    </tr>\n",
       "    <tr>\n",
       "      <th>2723</th>\n",
       "      <td>Jai Maa Vaishno Devi</td>\n",
       "      <td>Add a Plot</td>\n",
       "    </tr>\n",
       "    <tr>\n",
       "      <th>2724</th>\n",
       "      <td>Dhadakebaaz</td>\n",
       "      <td>Lakshya finds a bottle, which has Gangaram tra...</td>\n",
       "    </tr>\n",
       "  </tbody>\n",
       "</table>\n",
       "<p>2725 rows × 2 columns</p>\n",
       "</div>"
      ],
      "text/plain": [
       "                                   titles  \\\n",
       "0                         Cadena perpetua   \n",
       "1                            Pulp Fiction   \n",
       "2         Jurassic Park (Parque Jurásico)   \n",
       "3                   La lista de Schindler   \n",
       "4     Tombstone: La leyenda de Wyatt Earp   \n",
       "...                                   ...   \n",
       "2720                         Mahaprithivi   \n",
       "2721          Huo yan shan lai de gu shou   \n",
       "2722                       Kapitan Krokus   \n",
       "2723                 Jai Maa Vaishno Devi   \n",
       "2724                          Dhadakebaaz   \n",
       "\n",
       "                                               synopsis  \n",
       "0     Two imprisoned men bond over a number of years...  \n",
       "1     The lives of two mob hitmen, a boxer, a gangst...  \n",
       "2     A pragmatic paleontologist touring an almost c...  \n",
       "3     In German-occupied Poland during World War II,...  \n",
       "4     A successful lawman's plans to retire anonymou...  \n",
       "...                                                 ...  \n",
       "2720  An elderly lady has three sons and a daughter,...  \n",
       "2721  A talented young tambourine player joins an en...  \n",
       "2722                                         Add a Plot  \n",
       "2723                                         Add a Plot  \n",
       "2724  Lakshya finds a bottle, which has Gangaram tra...  \n",
       "\n",
       "[2725 rows x 2 columns]"
      ]
     },
     "execution_count": 31,
     "metadata": {},
     "output_type": "execute_result"
    }
   ],
   "source": [
    "films"
   ]
  },
  {
   "cell_type": "markdown",
   "id": "fec98a9b",
   "metadata": {},
   "source": [
    "# Scraping pages & subpages"
   ]
  },
  {
   "cell_type": "code",
   "execution_count": 32,
   "id": "14ae772c",
   "metadata": {},
   "outputs": [],
   "source": [
    "# from this url we want to get the names of the presidents for the subpages\n",
    "url = 'https://en.wikipedia.org/wiki/List_of_presidents_of_the_United_States'\n",
    "page = requests.get(url)"
   ]
  },
  {
   "cell_type": "code",
   "execution_count": 33,
   "id": "221941ad",
   "metadata": {},
   "outputs": [],
   "source": [
    "wikisoup = BeautifulSoup(page.content, 'html.parser')"
   ]
  },
  {
   "cell_type": "code",
   "execution_count": 52,
   "id": "859a8e52",
   "metadata": {},
   "outputs": [
    {
     "data": {
      "text/plain": [
       "'/wiki/George_Washington'"
      ]
     },
     "execution_count": 52,
     "metadata": {},
     "output_type": "execute_result"
    }
   ],
   "source": [
    "# getting the href from all presidents\n",
    "name_path = 'td:nth-child(3) > b > a'\n",
    "\n",
    "wikisoup.select(name_path)[0]['href']"
   ]
  },
  {
   "cell_type": "code",
   "execution_count": 59,
   "id": "f159f521",
   "metadata": {},
   "outputs": [
    {
     "name": "stdout",
     "output_type": "stream",
     "text": [
      "200\n",
      "200\n",
      "200\n",
      "200\n",
      "200\n",
      "200\n",
      "200\n",
      "200\n",
      "200\n",
      "200\n",
      "200\n",
      "200\n",
      "200\n",
      "200\n",
      "200\n",
      "200\n",
      "200\n",
      "200\n",
      "200\n",
      "200\n",
      "200\n",
      "200\n",
      "200\n",
      "200\n",
      "200\n",
      "200\n",
      "200\n",
      "200\n",
      "200\n",
      "200\n",
      "200\n",
      "200\n",
      "200\n",
      "200\n",
      "200\n",
      "200\n",
      "200\n",
      "200\n",
      "200\n",
      "200\n",
      "200\n",
      "200\n",
      "200\n",
      "200\n",
      "200\n",
      "200\n"
     ]
    }
   ],
   "source": [
    "presi_soup = []\n",
    "for i in range(len(wikisoup.select(name_path))):\n",
    "    x = wikisoup.select(name_path)[i]['href']\n",
    "    url_sub = f'https://en.wikipedia.org{x}'\n",
    "    response = requests.get(url_sub)\n",
    "    print(response.status_code)\n",
    "    soup = BeautifulSoup(response.content, 'html.parser')\n",
    "    presi_soup.append(soup.find('table', {'class': 'infobox vcard'}))\n",
    "    wait_time = randint(1, 3)\n",
    "    sleep(wait_time)"
   ]
  },
  {
   "cell_type": "markdown",
   "id": "88651155",
   "metadata": {},
   "source": [
    "## getting information from the soup"
   ]
  },
  {
   "cell_type": "code",
   "execution_count": 77,
   "id": "c4de438e",
   "metadata": {},
   "outputs": [
    {
     "data": {
      "text/plain": [
       "'Joe Biden'"
      ]
     },
     "execution_count": 77,
     "metadata": {},
     "output_type": "execute_result"
    }
   ],
   "source": [
    "# name\n",
    "presi_soup[45].find('div', {'class': 'fn'}).get_text()"
   ]
  },
  {
   "cell_type": "code",
   "execution_count": 62,
   "id": "d7d81c72",
   "metadata": {},
   "outputs": [
    {
     "data": {
      "text/plain": [
       "'1942-11-20'"
      ]
     },
     "execution_count": 62,
     "metadata": {},
     "output_type": "execute_result"
    }
   ],
   "source": [
    "# bday\n",
    "presi_soup[45].find('span', {'class', 'bday'}).get_text(strip=True)"
   ]
  },
  {
   "cell_type": "code",
   "execution_count": 67,
   "id": "a329fc7e",
   "metadata": {},
   "outputs": [
    {
     "data": {
      "text/plain": [
       "'Democratic'"
      ]
     },
     "execution_count": 67,
     "metadata": {},
     "output_type": "execute_result"
    }
   ],
   "source": [
    "# political party\n",
    "presi_soup[45].find('th', string='Political party').parent.find('a').get_text(strip=True)"
   ]
  },
  {
   "cell_type": "code",
   "execution_count": 76,
   "id": "207df251",
   "metadata": {},
   "outputs": [
    {
     "data": {
      "text/plain": [
       "4"
      ]
     },
     "execution_count": 76,
     "metadata": {},
     "output_type": "execute_result"
    }
   ],
   "source": [
    "# no of sons / daughters\n",
    "len(presi_soup[45].find('th', string='Children').parent.find_all('li'))"
   ]
  },
  {
   "cell_type": "code",
   "execution_count": 78,
   "id": "3a23b801",
   "metadata": {},
   "outputs": [
    {
     "data": {
      "text/html": [
       "<div>\n",
       "<style scoped>\n",
       "    .dataframe tbody tr th:only-of-type {\n",
       "        vertical-align: middle;\n",
       "    }\n",
       "\n",
       "    .dataframe tbody tr th {\n",
       "        vertical-align: top;\n",
       "    }\n",
       "\n",
       "    .dataframe thead th {\n",
       "        text-align: right;\n",
       "    }\n",
       "</style>\n",
       "<table border=\"1\" class=\"dataframe\">\n",
       "  <thead>\n",
       "    <tr style=\"text-align: right;\">\n",
       "      <th></th>\n",
       "      <th>name</th>\n",
       "      <th>date_of__birth</th>\n",
       "      <th>political_party</th>\n",
       "      <th>number_of_children</th>\n",
       "    </tr>\n",
       "  </thead>\n",
       "  <tbody>\n",
       "    <tr>\n",
       "      <th>0</th>\n",
       "      <td>George Washington</td>\n",
       "      <td>1732-02-22</td>\n",
       "      <td>Independent</td>\n",
       "      <td>0</td>\n",
       "    </tr>\n",
       "    <tr>\n",
       "      <th>1</th>\n",
       "      <td>John Adams</td>\n",
       "      <td>1735-10-30</td>\n",
       "      <td>Pro-Administration</td>\n",
       "      <td>0</td>\n",
       "    </tr>\n",
       "    <tr>\n",
       "      <th>2</th>\n",
       "      <td>Thomas Jefferson</td>\n",
       "      <td>1743-04-13</td>\n",
       "      <td>Democratic-Republican</td>\n",
       "      <td>6</td>\n",
       "    </tr>\n",
       "    <tr>\n",
       "      <th>3</th>\n",
       "      <td>James Madison</td>\n",
       "      <td>1751-03-16</td>\n",
       "      <td>Democratic-Republican</td>\n",
       "      <td>NA</td>\n",
       "    </tr>\n",
       "    <tr>\n",
       "      <th>4</th>\n",
       "      <td>James Monroe</td>\n",
       "      <td>1758-04-28</td>\n",
       "      <td>Democratic-Republican</td>\n",
       "      <td>0</td>\n",
       "    </tr>\n",
       "    <tr>\n",
       "      <th>5</th>\n",
       "      <td>John Quincy Adams</td>\n",
       "      <td>1767-07-11</td>\n",
       "      <td>Whig</td>\n",
       "      <td>4</td>\n",
       "    </tr>\n",
       "    <tr>\n",
       "      <th>6</th>\n",
       "      <td>Andrew Jackson</td>\n",
       "      <td>1767-03-15</td>\n",
       "      <td>Democratic-Republican</td>\n",
       "      <td>3</td>\n",
       "    </tr>\n",
       "    <tr>\n",
       "      <th>7</th>\n",
       "      <td>Martin Van Buren</td>\n",
       "      <td>1782-12-05</td>\n",
       "      <td>Democratic-Republican</td>\n",
       "      <td>0</td>\n",
       "    </tr>\n",
       "    <tr>\n",
       "      <th>8</th>\n",
       "      <td>William Henry Harrison</td>\n",
       "      <td>1773-02-09</td>\n",
       "      <td>Democratic-Republican</td>\n",
       "      <td>0</td>\n",
       "    </tr>\n",
       "    <tr>\n",
       "      <th>9</th>\n",
       "      <td>John Tyler</td>\n",
       "      <td>1790-03-29</td>\n",
       "      <td>Independent</td>\n",
       "      <td>0</td>\n",
       "    </tr>\n",
       "    <tr>\n",
       "      <th>10</th>\n",
       "      <td>James K. Polk</td>\n",
       "      <td>1795-11-02</td>\n",
       "      <td>Democratic</td>\n",
       "      <td>NA</td>\n",
       "    </tr>\n",
       "    <tr>\n",
       "      <th>11</th>\n",
       "      <td>Zachary Taylor</td>\n",
       "      <td>1784-11-24</td>\n",
       "      <td>Whig</td>\n",
       "      <td>0</td>\n",
       "    </tr>\n",
       "    <tr>\n",
       "      <th>12</th>\n",
       "      <td>Millard Fillmore</td>\n",
       "      <td>1800-01-07</td>\n",
       "      <td>Anti-Masonic</td>\n",
       "      <td>2</td>\n",
       "    </tr>\n",
       "    <tr>\n",
       "      <th>13</th>\n",
       "      <td>Franklin Pierce</td>\n",
       "      <td>1804-11-23</td>\n",
       "      <td>Democratic</td>\n",
       "      <td>0</td>\n",
       "    </tr>\n",
       "    <tr>\n",
       "      <th>14</th>\n",
       "      <td>James Buchanan</td>\n",
       "      <td>1791-04-23</td>\n",
       "      <td>Federalist</td>\n",
       "      <td>NA</td>\n",
       "    </tr>\n",
       "    <tr>\n",
       "      <th>15</th>\n",
       "      <td>Abraham Lincoln</td>\n",
       "      <td>1809-02-12</td>\n",
       "      <td>Whig</td>\n",
       "      <td>4</td>\n",
       "    </tr>\n",
       "    <tr>\n",
       "      <th>16</th>\n",
       "      <td>Andrew Johnson</td>\n",
       "      <td>1808-12-29</td>\n",
       "      <td>Democratic</td>\n",
       "      <td>0</td>\n",
       "    </tr>\n",
       "    <tr>\n",
       "      <th>17</th>\n",
       "      <td>Ulysses S. Grant</td>\n",
       "      <td>1822-04-27</td>\n",
       "      <td>Republican</td>\n",
       "      <td>4</td>\n",
       "    </tr>\n",
       "    <tr>\n",
       "      <th>18</th>\n",
       "      <td>Rutherford B. Hayes</td>\n",
       "      <td>1822-10-04</td>\n",
       "      <td>Whig</td>\n",
       "      <td>0</td>\n",
       "    </tr>\n",
       "    <tr>\n",
       "      <th>19</th>\n",
       "      <td>James A. Garfield</td>\n",
       "      <td>1831-11-19</td>\n",
       "      <td>Republican</td>\n",
       "      <td>0</td>\n",
       "    </tr>\n",
       "    <tr>\n",
       "      <th>20</th>\n",
       "      <td>Chester A. Arthur</td>\n",
       "      <td>1829-10-05</td>\n",
       "      <td>Republican</td>\n",
       "      <td>0</td>\n",
       "    </tr>\n",
       "    <tr>\n",
       "      <th>21</th>\n",
       "      <td>Grover Cleveland</td>\n",
       "      <td>1837-03-18</td>\n",
       "      <td>Democratic</td>\n",
       "      <td>0</td>\n",
       "    </tr>\n",
       "    <tr>\n",
       "      <th>22</th>\n",
       "      <td>Benjamin Harrison</td>\n",
       "      <td>1833-08-20</td>\n",
       "      <td>Whig</td>\n",
       "      <td>3</td>\n",
       "    </tr>\n",
       "    <tr>\n",
       "      <th>23</th>\n",
       "      <td>Grover Cleveland</td>\n",
       "      <td>1837-03-18</td>\n",
       "      <td>Democratic</td>\n",
       "      <td>0</td>\n",
       "    </tr>\n",
       "    <tr>\n",
       "      <th>24</th>\n",
       "      <td>William McKinley</td>\n",
       "      <td>1843-01-29</td>\n",
       "      <td>Republican</td>\n",
       "      <td>0</td>\n",
       "    </tr>\n",
       "    <tr>\n",
       "      <th>25</th>\n",
       "      <td>Theodore Roosevelt</td>\n",
       "      <td>1858-10-27</td>\n",
       "      <td>Republican</td>\n",
       "      <td>6</td>\n",
       "    </tr>\n",
       "    <tr>\n",
       "      <th>26</th>\n",
       "      <td>William Howard Taft</td>\n",
       "      <td>1857-09-15</td>\n",
       "      <td>Republican</td>\n",
       "      <td>3</td>\n",
       "    </tr>\n",
       "    <tr>\n",
       "      <th>27</th>\n",
       "      <td>Woodrow Wilson</td>\n",
       "      <td>1856-12-28</td>\n",
       "      <td>Democratic</td>\n",
       "      <td>3</td>\n",
       "    </tr>\n",
       "    <tr>\n",
       "      <th>28</th>\n",
       "      <td>Warren G. Harding</td>\n",
       "      <td>1865-11-02</td>\n",
       "      <td>Republican</td>\n",
       "      <td>0</td>\n",
       "    </tr>\n",
       "    <tr>\n",
       "      <th>29</th>\n",
       "      <td>Calvin Coolidge</td>\n",
       "      <td>1872-07-04</td>\n",
       "      <td>Republican</td>\n",
       "      <td>2</td>\n",
       "    </tr>\n",
       "    <tr>\n",
       "      <th>30</th>\n",
       "      <td>Herbert Hoover</td>\n",
       "      <td>1874-08-10</td>\n",
       "      <td>Republican</td>\n",
       "      <td>2</td>\n",
       "    </tr>\n",
       "    <tr>\n",
       "      <th>31</th>\n",
       "      <td>Franklin D. Roosevelt</td>\n",
       "      <td>1882-01-30</td>\n",
       "      <td>Democratic</td>\n",
       "      <td>0</td>\n",
       "    </tr>\n",
       "    <tr>\n",
       "      <th>32</th>\n",
       "      <td>Harry S. Truman</td>\n",
       "      <td>1884-05-08</td>\n",
       "      <td>Democratic</td>\n",
       "      <td>0</td>\n",
       "    </tr>\n",
       "    <tr>\n",
       "      <th>33</th>\n",
       "      <td>Dwight D. Eisenhower</td>\n",
       "      <td>1890-10-14</td>\n",
       "      <td>Republican</td>\n",
       "      <td>2</td>\n",
       "    </tr>\n",
       "    <tr>\n",
       "      <th>34</th>\n",
       "      <td>John F. Kennedy</td>\n",
       "      <td>1917-05-29</td>\n",
       "      <td>Democratic</td>\n",
       "      <td>4</td>\n",
       "    </tr>\n",
       "    <tr>\n",
       "      <th>35</th>\n",
       "      <td>Lyndon B. Johnson</td>\n",
       "      <td>1908-08-27</td>\n",
       "      <td>Democratic</td>\n",
       "      <td>2</td>\n",
       "    </tr>\n",
       "    <tr>\n",
       "      <th>36</th>\n",
       "      <td>Richard Nixon</td>\n",
       "      <td>1913-01-09</td>\n",
       "      <td>Republican</td>\n",
       "      <td>2</td>\n",
       "    </tr>\n",
       "    <tr>\n",
       "      <th>37</th>\n",
       "      <td>Gerald Ford</td>\n",
       "      <td>1913-07-14</td>\n",
       "      <td>Republican</td>\n",
       "      <td>4</td>\n",
       "    </tr>\n",
       "    <tr>\n",
       "      <th>38</th>\n",
       "      <td>Jimmy Carter</td>\n",
       "      <td>1924-10-01</td>\n",
       "      <td>Democratic</td>\n",
       "      <td>4</td>\n",
       "    </tr>\n",
       "    <tr>\n",
       "      <th>39</th>\n",
       "      <td>Ronald Reagan</td>\n",
       "      <td>1911-02-06</td>\n",
       "      <td>Republican</td>\n",
       "      <td>5</td>\n",
       "    </tr>\n",
       "    <tr>\n",
       "      <th>40</th>\n",
       "      <td>George H. W. Bush</td>\n",
       "      <td>1924-06-12</td>\n",
       "      <td>Republican</td>\n",
       "      <td>6</td>\n",
       "    </tr>\n",
       "    <tr>\n",
       "      <th>41</th>\n",
       "      <td>Bill Clinton</td>\n",
       "      <td>1946-08-19</td>\n",
       "      <td>Democratic</td>\n",
       "      <td>0</td>\n",
       "    </tr>\n",
       "    <tr>\n",
       "      <th>42</th>\n",
       "      <td>George W. Bush</td>\n",
       "      <td>1946-07-06</td>\n",
       "      <td>Republican</td>\n",
       "      <td>2</td>\n",
       "    </tr>\n",
       "    <tr>\n",
       "      <th>43</th>\n",
       "      <td>Barack Obama</td>\n",
       "      <td>1961-08-04</td>\n",
       "      <td>Democratic</td>\n",
       "      <td>2</td>\n",
       "    </tr>\n",
       "    <tr>\n",
       "      <th>44</th>\n",
       "      <td>Donald Trump</td>\n",
       "      <td>1946-06-14</td>\n",
       "      <td>Republican</td>\n",
       "      <td>5</td>\n",
       "    </tr>\n",
       "    <tr>\n",
       "      <th>45</th>\n",
       "      <td>Joe Biden</td>\n",
       "      <td>1942-11-20</td>\n",
       "      <td>Democratic</td>\n",
       "      <td>4</td>\n",
       "    </tr>\n",
       "  </tbody>\n",
       "</table>\n",
       "</div>"
      ],
      "text/plain": [
       "                      name date_of__birth        political_party  \\\n",
       "0        George Washington     1732-02-22            Independent   \n",
       "1               John Adams     1735-10-30     Pro-Administration   \n",
       "2         Thomas Jefferson     1743-04-13  Democratic-Republican   \n",
       "3            James Madison     1751-03-16  Democratic-Republican   \n",
       "4             James Monroe     1758-04-28  Democratic-Republican   \n",
       "5        John Quincy Adams     1767-07-11                   Whig   \n",
       "6           Andrew Jackson     1767-03-15  Democratic-Republican   \n",
       "7         Martin Van Buren     1782-12-05  Democratic-Republican   \n",
       "8   William Henry Harrison     1773-02-09  Democratic-Republican   \n",
       "9               John Tyler     1790-03-29            Independent   \n",
       "10           James K. Polk     1795-11-02             Democratic   \n",
       "11          Zachary Taylor     1784-11-24                   Whig   \n",
       "12        Millard Fillmore     1800-01-07           Anti-Masonic   \n",
       "13         Franklin Pierce     1804-11-23             Democratic   \n",
       "14          James Buchanan     1791-04-23             Federalist   \n",
       "15         Abraham Lincoln     1809-02-12                   Whig   \n",
       "16          Andrew Johnson     1808-12-29             Democratic   \n",
       "17        Ulysses S. Grant     1822-04-27             Republican   \n",
       "18     Rutherford B. Hayes     1822-10-04                   Whig   \n",
       "19       James A. Garfield     1831-11-19             Republican   \n",
       "20       Chester A. Arthur     1829-10-05             Republican   \n",
       "21        Grover Cleveland     1837-03-18             Democratic   \n",
       "22       Benjamin Harrison     1833-08-20                   Whig   \n",
       "23        Grover Cleveland     1837-03-18             Democratic   \n",
       "24        William McKinley     1843-01-29             Republican   \n",
       "25      Theodore Roosevelt     1858-10-27             Republican   \n",
       "26     William Howard Taft     1857-09-15             Republican   \n",
       "27          Woodrow Wilson     1856-12-28             Democratic   \n",
       "28       Warren G. Harding     1865-11-02             Republican   \n",
       "29         Calvin Coolidge     1872-07-04             Republican   \n",
       "30          Herbert Hoover     1874-08-10             Republican   \n",
       "31   Franklin D. Roosevelt     1882-01-30             Democratic   \n",
       "32         Harry S. Truman     1884-05-08             Democratic   \n",
       "33    Dwight D. Eisenhower     1890-10-14             Republican   \n",
       "34         John F. Kennedy     1917-05-29             Democratic   \n",
       "35       Lyndon B. Johnson     1908-08-27             Democratic   \n",
       "36           Richard Nixon     1913-01-09             Republican   \n",
       "37             Gerald Ford     1913-07-14             Republican   \n",
       "38            Jimmy Carter     1924-10-01             Democratic   \n",
       "39           Ronald Reagan     1911-02-06             Republican   \n",
       "40       George H. W. Bush     1924-06-12             Republican   \n",
       "41            Bill Clinton     1946-08-19             Democratic   \n",
       "42          George W. Bush     1946-07-06             Republican   \n",
       "43            Barack Obama     1961-08-04             Democratic   \n",
       "44            Donald Trump     1946-06-14             Republican   \n",
       "45               Joe Biden     1942-11-20             Democratic   \n",
       "\n",
       "   number_of_children  \n",
       "0                   0  \n",
       "1                   0  \n",
       "2                   6  \n",
       "3                  NA  \n",
       "4                   0  \n",
       "5                   4  \n",
       "6                   3  \n",
       "7                   0  \n",
       "8                   0  \n",
       "9                   0  \n",
       "10                 NA  \n",
       "11                  0  \n",
       "12                  2  \n",
       "13                  0  \n",
       "14                 NA  \n",
       "15                  4  \n",
       "16                  0  \n",
       "17                  4  \n",
       "18                  0  \n",
       "19                  0  \n",
       "20                  0  \n",
       "21                  0  \n",
       "22                  3  \n",
       "23                  0  \n",
       "24                  0  \n",
       "25                  6  \n",
       "26                  3  \n",
       "27                  3  \n",
       "28                  0  \n",
       "29                  2  \n",
       "30                  2  \n",
       "31                  0  \n",
       "32                  0  \n",
       "33                  2  \n",
       "34                  4  \n",
       "35                  2  \n",
       "36                  2  \n",
       "37                  4  \n",
       "38                  4  \n",
       "39                  5  \n",
       "40                  6  \n",
       "41                  0  \n",
       "42                  2  \n",
       "43                  2  \n",
       "44                  5  \n",
       "45                  4  "
      ]
     },
     "execution_count": 78,
     "metadata": {},
     "output_type": "execute_result"
    }
   ],
   "source": [
    "name = []\n",
    "bdate = []\n",
    "party = []\n",
    "no_children = []\n",
    "for i in range(len(presi_soup)):\n",
    "    name.append(presi_soup[i].find('div', {'class': 'fn'}).get_text())\n",
    "    bdate.append(presi_soup[i].find('span', {'class', 'bday'}).get_text(strip=True))\n",
    "    party.append(presi_soup[i].find('th', string='Political party').parent.find('a').get_text(strip=True))\n",
    "    try:\n",
    "        no_children.append(len(presi_soup[i].find('th', string='Children').parent.find_all('li')))\n",
    "    except:\n",
    "        no_children.append('NA')\n",
    "\n",
    "presis = pd.DataFrame({\n",
    "    'name': name,\n",
    "    'date_of__birth': bdate,\n",
    "    'political_party': party,\n",
    "    'number_of_children': no_children\n",
    "})\n",
    "presis"
   ]
  }
 ],
 "metadata": {
  "kernelspec": {
   "display_name": "Python 3 (ipykernel)",
   "language": "python",
   "name": "python3"
  },
  "language_info": {
   "codemirror_mode": {
    "name": "ipython",
    "version": 3
   },
   "file_extension": ".py",
   "mimetype": "text/x-python",
   "name": "python",
   "nbconvert_exporter": "python",
   "pygments_lexer": "ipython3",
   "version": "3.9.7"
  },
  "toc": {
   "base_numbering": 1,
   "nav_menu": {},
   "number_sections": true,
   "sideBar": true,
   "skip_h1_title": false,
   "title_cell": "Table of Contents",
   "title_sidebar": "Contents",
   "toc_cell": false,
   "toc_position": {},
   "toc_section_display": true,
   "toc_window_display": false
  }
 },
 "nbformat": 4,
 "nbformat_minor": 5
}
