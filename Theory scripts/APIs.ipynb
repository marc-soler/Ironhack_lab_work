{
 "cells": [
  {
   "cell_type": "code",
   "execution_count": 1,
   "id": "80bd383b",
   "metadata": {},
   "outputs": [],
   "source": [
    "import requests"
   ]
  },
  {
   "cell_type": "code",
   "execution_count": 8,
   "id": "857e7637",
   "metadata": {},
   "outputs": [
    {
     "name": "stdout",
     "output_type": "stream",
     "text": [
      "{\"get\":null,\"parameters\":[],\"errors\":{\"time\":\"2022-03-01T11:23:01+00:00\",\"bug\":\"The url or the parameters are wrong, please refer to the documentation\"},\"results\":0,\"response\":[]}\n"
     ]
    }
   ],
   "source": [
    "# f1 API\n",
    "password = '39a55be7cc740611b244e95056d08e01'\n",
    "url = \"https://v1.formula-1.api-sports.io/{drivers}\"\n",
    "\n",
    "payload={\n",
    "    \"get\": \"drivers\",\n",
    "    \"parameters\": {\n",
    "        \"id\": \"20\"\n",
    "    },\n",
    "    \"errors\": [ ],\n",
    "    \"results\": 1,\n",
    "}\n",
    "headers = {\n",
    "  'x-rapidapi-key': password,\n",
    "  'x-rapidapi-host': 'v1.formula-1.api-sports.io'\n",
    "}\n",
    "\n",
    "response = requests.request('GET', url, headers=headers, data=payload)\n",
    "\n",
    "print(response.text)"
   ]
  },
  {
   "cell_type": "code",
   "execution_count": 10,
   "id": "4ee84448",
   "metadata": {},
   "outputs": [
    {
     "data": {
      "text/plain": [
       "{'message': 'success',\n",
       " 'request': {'altitude': 100,\n",
       "  'datetime': 1646134104,\n",
       "  'latitude': 42.371207646421865,\n",
       "  'longitude': 1.8449999645189634,\n",
       "  'passes': 20},\n",
       " 'response': [{'duration': 538, 'risetime': 1646180743},\n",
       "  {'duration': 656, 'risetime': 1646186463},\n",
       "  {'duration': 616, 'risetime': 1646192311},\n",
       "  {'duration': 593, 'risetime': 1646198182},\n",
       "  {'duration': 640, 'risetime': 1646204007},\n",
       "  {'duration': 631, 'risetime': 1646209817},\n",
       "  {'duration': 285, 'risetime': 1646215745},\n",
       "  {'duration': 440, 'risetime': 1646264329},\n",
       "  {'duration': 650, 'risetime': 1646269990},\n",
       "  {'duration': 630, 'risetime': 1646275816},\n",
       "  {'duration': 590, 'risetime': 1646281690},\n",
       "  {'duration': 627, 'risetime': 1646287527},\n",
       "  {'duration': 649, 'risetime': 1646293334},\n",
       "  {'duration': 453, 'risetime': 1646299200},\n",
       "  {'duration': 256, 'risetime': 1646347960},\n",
       "  {'duration': 631, 'risetime': 1646353525},\n",
       "  {'duration': 644, 'risetime': 1646359323},\n",
       "  {'duration': 594, 'risetime': 1646365195},\n",
       "  {'duration': 613, 'risetime': 1646371044},\n",
       "  {'duration': 654, 'risetime': 1646376854}]}"
      ]
     },
     "execution_count": 10,
     "metadata": {},
     "output_type": "execute_result"
    }
   ],
   "source": [
    "# ISS API\n",
    "coordinates = {'lat': 42.371207646421865, 'lon': 1.8449999645189634, 'n': 20}\n",
    "response = requests.get(\"http://api.open-notify.org/iss-pass.json\", params = coordinates)\n",
    "response.json()"
   ]
  },
  {
   "cell_type": "code",
   "execution_count": 14,
   "id": "fca7764e",
   "metadata": {},
   "outputs": [
    {
     "data": {
      "text/plain": [
       "datetime.datetime(2022, 3, 2, 1, 25, 43)"
      ]
     },
     "execution_count": 14,
     "metadata": {},
     "output_type": "execute_result"
    }
   ],
   "source": [
    "from datetime import datetime\n",
    "datetime.fromtimestamp(1646180743)"
   ]
  },
  {
   "cell_type": "code",
   "execution_count": 32,
   "id": "5caf8b62",
   "metadata": {},
   "outputs": [
    {
     "data": {
      "text/plain": [
       "b'{\"name\":\"Segismundo\",\"age\":56,\"count\":75}'"
      ]
     },
     "execution_count": 32,
     "metadata": {},
     "output_type": "execute_result"
    }
   ],
   "source": [
    "response = requests.get(\"https://api.agify.io?name=Segismundo\")\n",
    "response.content"
   ]
  },
  {
   "cell_type": "code",
   "execution_count": 42,
   "id": "f97c352e",
   "metadata": {},
   "outputs": [
    {
     "data": {
      "text/plain": [
       "b'{\"name\":\"Sean\",\"country\":[{\"country_id\":\"IE\",\"probability\":0.14419440726541716},{\"country_id\":\"GI\",\"probability\":0.11830284725399334},{\"country_id\":\"US\",\"probability\":0.10648560526702887}]}'"
      ]
     },
     "execution_count": 42,
     "metadata": {},
     "output_type": "execute_result"
    }
   ],
   "source": [
    "response = requests.get(\"https://api.nationalize.io?name=Sean\")\n",
    "response.content"
   ]
  }
 ],
 "metadata": {
  "kernelspec": {
   "display_name": "Python 3 (ipykernel)",
   "language": "python",
   "name": "python3"
  },
  "language_info": {
   "codemirror_mode": {
    "name": "ipython",
    "version": 3
   },
   "file_extension": ".py",
   "mimetype": "text/x-python",
   "name": "python",
   "nbconvert_exporter": "python",
   "pygments_lexer": "ipython3",
   "version": "3.9.7"
  },
  "toc": {
   "base_numbering": 1,
   "nav_menu": {},
   "number_sections": true,
   "sideBar": true,
   "skip_h1_title": false,
   "title_cell": "Table of Contents",
   "title_sidebar": "Contents",
   "toc_cell": false,
   "toc_position": {},
   "toc_section_display": true,
   "toc_window_display": false
  }
 },
 "nbformat": 4,
 "nbformat_minor": 5
}
