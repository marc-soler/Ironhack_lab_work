{
 "cells": [
  {
   "cell_type": "code",
   "execution_count": 1,
   "id": "07e1972c",
   "metadata": {},
   "outputs": [],
   "source": [
    "# Data manipulation & vizualisation tools\n",
    "import numpy as np\n",
    "import pandas as pd\n",
    "import matplotlib.pyplot as plt\n",
    "%matplotlib inline\n",
    "import seaborn as sns"
   ]
  },
  {
   "cell_type": "code",
   "execution_count": 10,
   "id": "c247b75a",
   "metadata": {},
   "outputs": [],
   "source": [
    "cat = pd.read_csv('data/categorical.csv')\n",
    "num = pd.read_csv('data/numerical.csv')\n",
    "target = pd.read_csv('data/target.csv')"
   ]
  },
  {
   "cell_type": "code",
   "execution_count": 33,
   "id": "ef5bb75d",
   "metadata": {},
   "outputs": [],
   "source": [
    "data = pd.concat([cat, num, target], axis=1)"
   ]
  },
  {
   "cell_type": "code",
   "execution_count": 34,
   "id": "c18158b9",
   "metadata": {},
   "outputs": [
    {
     "name": "stdout",
     "output_type": "stream",
     "text": [
      "<class 'pandas.core.frame.DataFrame'>\n",
      "RangeIndex: 95412 entries, 0 to 95411\n",
      "Data columns (total 7 columns):\n",
      " #   Column    Non-Null Count  Dtype \n",
      "---  ------    --------------  ----- \n",
      " 0   STATE     95412 non-null  object\n",
      " 1   HOMEOWNR  95412 non-null  object\n",
      " 2   GENDER    95412 non-null  object\n",
      " 3   RFA_2R    95412 non-null  object\n",
      " 4   RFA_2A    95412 non-null  object\n",
      " 5   GEOCODE2  95412 non-null  object\n",
      " 6   DOMAIN_A  95412 non-null  object\n",
      "dtypes: object(7)\n",
      "memory usage: 5.1+ MB\n"
     ]
    }
   ],
   "source": [
    "data.select_dtypes(object).info()"
   ]
  },
  {
   "cell_type": "code",
   "execution_count": 35,
   "id": "4155dd53",
   "metadata": {},
   "outputs": [
    {
     "data": {
      "text/plain": [
       "0    90569\n",
       "1     4843\n",
       "Name: TARGET_B, dtype: int64"
      ]
     },
     "execution_count": 35,
     "metadata": {},
     "output_type": "execute_result"
    }
   ],
   "source": [
    "data['TARGET_B'].value_counts()"
   ]
  },
  {
   "cell_type": "markdown",
   "id": "fbb03644",
   "metadata": {},
   "source": [
    "# Imbalance management - Downsampling"
   ]
  },
  {
   "cell_type": "code",
   "execution_count": 36,
   "id": "1b1cfe34",
   "metadata": {},
   "outputs": [],
   "source": [
    "category_0 = data[data['TARGET_B'] == 0].sample(len(data[data['TARGET_B'] == 1]))"
   ]
  },
  {
   "cell_type": "code",
   "execution_count": 37,
   "id": "8f3b4403",
   "metadata": {},
   "outputs": [],
   "source": [
    "category_1 = data[data['TARGET_B'] == 1]"
   ]
  },
  {
   "cell_type": "code",
   "execution_count": 40,
   "id": "7567b058",
   "metadata": {},
   "outputs": [],
   "source": [
    "data = pd.concat([category_0, category_1], axis=0).reset_index(drop=True)"
   ]
  },
  {
   "cell_type": "code",
   "execution_count": 42,
   "id": "4162d6b7",
   "metadata": {},
   "outputs": [
    {
     "data": {
      "text/plain": [
       "0    4843\n",
       "1    4843\n",
       "Name: TARGET_B, dtype: int64"
      ]
     },
     "execution_count": 42,
     "metadata": {},
     "output_type": "execute_result"
    }
   ],
   "source": [
    "data['TARGET_B'].value_counts()"
   ]
  },
  {
   "cell_type": "code",
   "execution_count": 43,
   "id": "25287d6f",
   "metadata": {},
   "outputs": [],
   "source": [
    "# set dependent variable\n",
    "y = data['TARGET_B']\n",
    "X = data.drop(['TARGET_B'], axis=1)"
   ]
  },
  {
   "cell_type": "code",
   "execution_count": 45,
   "id": "007423f3",
   "metadata": {},
   "outputs": [],
   "source": [
    "# split\n",
    "X_num = X.select_dtypes(np.number)\n",
    "X_cat = X.select_dtypes(object)"
   ]
  },
  {
   "cell_type": "code",
   "execution_count": 46,
   "id": "d603a367",
   "metadata": {},
   "outputs": [
    {
     "name": "stdout",
     "output_type": "stream",
     "text": [
      "<class 'pandas.core.frame.DataFrame'>\n",
      "RangeIndex: 9686 entries, 0 to 9685\n",
      "Data columns (total 7 columns):\n",
      " #   Column    Non-Null Count  Dtype \n",
      "---  ------    --------------  ----- \n",
      " 0   STATE     9686 non-null   object\n",
      " 1   HOMEOWNR  9686 non-null   object\n",
      " 2   GENDER    9686 non-null   object\n",
      " 3   RFA_2R    9686 non-null   object\n",
      " 4   RFA_2A    9686 non-null   object\n",
      " 5   GEOCODE2  9686 non-null   object\n",
      " 6   DOMAIN_A  9686 non-null   object\n",
      "dtypes: object(7)\n",
      "memory usage: 529.8+ KB\n"
     ]
    }
   ],
   "source": [
    "X_cat.info()"
   ]
  },
  {
   "cell_type": "code",
   "execution_count": 47,
   "id": "c902b71b",
   "metadata": {},
   "outputs": [],
   "source": [
    "from sklearn.preprocessing import OneHotEncoder"
   ]
  },
  {
   "cell_type": "code",
   "execution_count": 66,
   "id": "e20f0468",
   "metadata": {},
   "outputs": [],
   "source": [
    "encoder = OneHotEncoder(drop='first').fit(X_cat)\n",
    "X_cat_encoded = encoder.transform(X_cat).toarray()"
   ]
  },
  {
   "cell_type": "code",
   "execution_count": 65,
   "id": "b7005973",
   "metadata": {},
   "outputs": [
    {
     "data": {
      "text/html": [
       "<div>\n",
       "<style scoped>\n",
       "    .dataframe tbody tr th:only-of-type {\n",
       "        vertical-align: middle;\n",
       "    }\n",
       "\n",
       "    .dataframe tbody tr th {\n",
       "        vertical-align: top;\n",
       "    }\n",
       "\n",
       "    .dataframe thead th {\n",
       "        text-align: right;\n",
       "    }\n",
       "</style>\n",
       "<table border=\"1\" class=\"dataframe\">\n",
       "  <thead>\n",
       "    <tr style=\"text-align: right;\">\n",
       "      <th></th>\n",
       "      <th>0</th>\n",
       "      <th>1</th>\n",
       "      <th>2</th>\n",
       "      <th>3</th>\n",
       "      <th>4</th>\n",
       "      <th>5</th>\n",
       "      <th>6</th>\n",
       "      <th>7</th>\n",
       "      <th>8</th>\n",
       "      <th>9</th>\n",
       "      <th>...</th>\n",
       "      <th>14</th>\n",
       "      <th>15</th>\n",
       "      <th>16</th>\n",
       "      <th>17</th>\n",
       "      <th>18</th>\n",
       "      <th>19</th>\n",
       "      <th>20</th>\n",
       "      <th>21</th>\n",
       "      <th>22</th>\n",
       "      <th>23</th>\n",
       "    </tr>\n",
       "  </thead>\n",
       "  <tbody>\n",
       "    <tr>\n",
       "      <th>0</th>\n",
       "      <td>0.0</td>\n",
       "      <td>0.0</td>\n",
       "      <td>0.0</td>\n",
       "      <td>1.0</td>\n",
       "      <td>0.0</td>\n",
       "      <td>0.0</td>\n",
       "      <td>0.0</td>\n",
       "      <td>0.0</td>\n",
       "      <td>0.0</td>\n",
       "      <td>0.0</td>\n",
       "      <td>...</td>\n",
       "      <td>0.0</td>\n",
       "      <td>1.0</td>\n",
       "      <td>0.0</td>\n",
       "      <td>0.0</td>\n",
       "      <td>0.0</td>\n",
       "      <td>1.0</td>\n",
       "      <td>1.0</td>\n",
       "      <td>0.0</td>\n",
       "      <td>0.0</td>\n",
       "      <td>0.0</td>\n",
       "    </tr>\n",
       "    <tr>\n",
       "      <th>1</th>\n",
       "      <td>1.0</td>\n",
       "      <td>0.0</td>\n",
       "      <td>0.0</td>\n",
       "      <td>0.0</td>\n",
       "      <td>0.0</td>\n",
       "      <td>0.0</td>\n",
       "      <td>0.0</td>\n",
       "      <td>0.0</td>\n",
       "      <td>0.0</td>\n",
       "      <td>0.0</td>\n",
       "      <td>...</td>\n",
       "      <td>1.0</td>\n",
       "      <td>0.0</td>\n",
       "      <td>0.0</td>\n",
       "      <td>1.0</td>\n",
       "      <td>0.0</td>\n",
       "      <td>0.0</td>\n",
       "      <td>0.0</td>\n",
       "      <td>0.0</td>\n",
       "      <td>0.0</td>\n",
       "      <td>0.0</td>\n",
       "    </tr>\n",
       "    <tr>\n",
       "      <th>2</th>\n",
       "      <td>1.0</td>\n",
       "      <td>0.0</td>\n",
       "      <td>0.0</td>\n",
       "      <td>0.0</td>\n",
       "      <td>0.0</td>\n",
       "      <td>0.0</td>\n",
       "      <td>0.0</td>\n",
       "      <td>0.0</td>\n",
       "      <td>0.0</td>\n",
       "      <td>0.0</td>\n",
       "      <td>...</td>\n",
       "      <td>0.0</td>\n",
       "      <td>0.0</td>\n",
       "      <td>1.0</td>\n",
       "      <td>0.0</td>\n",
       "      <td>0.0</td>\n",
       "      <td>0.0</td>\n",
       "      <td>0.0</td>\n",
       "      <td>0.0</td>\n",
       "      <td>0.0</td>\n",
       "      <td>1.0</td>\n",
       "    </tr>\n",
       "    <tr>\n",
       "      <th>3</th>\n",
       "      <td>0.0</td>\n",
       "      <td>0.0</td>\n",
       "      <td>1.0</td>\n",
       "      <td>0.0</td>\n",
       "      <td>0.0</td>\n",
       "      <td>0.0</td>\n",
       "      <td>0.0</td>\n",
       "      <td>0.0</td>\n",
       "      <td>0.0</td>\n",
       "      <td>0.0</td>\n",
       "      <td>...</td>\n",
       "      <td>0.0</td>\n",
       "      <td>0.0</td>\n",
       "      <td>1.0</td>\n",
       "      <td>1.0</td>\n",
       "      <td>0.0</td>\n",
       "      <td>0.0</td>\n",
       "      <td>1.0</td>\n",
       "      <td>0.0</td>\n",
       "      <td>0.0</td>\n",
       "      <td>0.0</td>\n",
       "    </tr>\n",
       "    <tr>\n",
       "      <th>4</th>\n",
       "      <td>1.0</td>\n",
       "      <td>0.0</td>\n",
       "      <td>0.0</td>\n",
       "      <td>0.0</td>\n",
       "      <td>0.0</td>\n",
       "      <td>0.0</td>\n",
       "      <td>0.0</td>\n",
       "      <td>0.0</td>\n",
       "      <td>0.0</td>\n",
       "      <td>0.0</td>\n",
       "      <td>...</td>\n",
       "      <td>0.0</td>\n",
       "      <td>1.0</td>\n",
       "      <td>0.0</td>\n",
       "      <td>1.0</td>\n",
       "      <td>0.0</td>\n",
       "      <td>0.0</td>\n",
       "      <td>0.0</td>\n",
       "      <td>0.0</td>\n",
       "      <td>0.0</td>\n",
       "      <td>0.0</td>\n",
       "    </tr>\n",
       "  </tbody>\n",
       "</table>\n",
       "<p>5 rows × 24 columns</p>\n",
       "</div>"
      ],
      "text/plain": [
       "    0    1    2    3    4    5    6    7    8    9   ...   14   15   16   17  \\\n",
       "0  0.0  0.0  0.0  1.0  0.0  0.0  0.0  0.0  0.0  0.0  ...  0.0  1.0  0.0  0.0   \n",
       "1  1.0  0.0  0.0  0.0  0.0  0.0  0.0  0.0  0.0  0.0  ...  1.0  0.0  0.0  1.0   \n",
       "2  1.0  0.0  0.0  0.0  0.0  0.0  0.0  0.0  0.0  0.0  ...  0.0  0.0  1.0  0.0   \n",
       "3  0.0  0.0  1.0  0.0  0.0  0.0  0.0  0.0  0.0  0.0  ...  0.0  0.0  1.0  1.0   \n",
       "4  1.0  0.0  0.0  0.0  0.0  0.0  0.0  0.0  0.0  0.0  ...  0.0  1.0  0.0  1.0   \n",
       "\n",
       "    18   19   20   21   22   23  \n",
       "0  0.0  1.0  1.0  0.0  0.0  0.0  \n",
       "1  0.0  0.0  0.0  0.0  0.0  0.0  \n",
       "2  0.0  0.0  0.0  0.0  0.0  1.0  \n",
       "3  0.0  0.0  1.0  0.0  0.0  0.0  \n",
       "4  0.0  0.0  0.0  0.0  0.0  0.0  \n",
       "\n",
       "[5 rows x 24 columns]"
      ]
     },
     "execution_count": 65,
     "metadata": {},
     "output_type": "execute_result"
    }
   ],
   "source": [
    "X_cat_en_df.head() # lost categorical feature names"
   ]
  },
  {
   "cell_type": "code",
   "execution_count": 67,
   "id": "078ff3e6",
   "metadata": {},
   "outputs": [],
   "source": [
    "X_cat_encoded_cols = encoder.get_feature_names_out(X_cat.columns) # recovering names"
   ]
  },
  {
   "cell_type": "code",
   "execution_count": 68,
   "id": "05ec56ec",
   "metadata": {},
   "outputs": [],
   "source": [
    "X_cat_en_df = pd.DataFrame(X_cat_encoded, columns=X_cat_encoded_cols)"
   ]
  },
  {
   "cell_type": "code",
   "execution_count": 70,
   "id": "a7ffa147",
   "metadata": {},
   "outputs": [],
   "source": [
    "X_full = pd.concat([X_num, X_cat_en_df], axis=1)"
   ]
  },
  {
   "cell_type": "code",
   "execution_count": 71,
   "id": "530f230b",
   "metadata": {},
   "outputs": [],
   "source": [
    "from sklearn.model_selection import train_test_split\n",
    "X_train,X_test,y_train,y_test = train_test_split(X_full, y, test_size=0.3, random_state=42)"
   ]
  },
  {
   "cell_type": "code",
   "execution_count": 72,
   "id": "453f3630",
   "metadata": {},
   "outputs": [],
   "source": [
    "from sklearn.ensemble import RandomForestClassifier"
   ]
  },
  {
   "cell_type": "code",
   "execution_count": 73,
   "id": "7be8aa44",
   "metadata": {},
   "outputs": [
    {
     "name": "stdout",
     "output_type": "stream",
     "text": [
      "0.9817618719889883\n"
     ]
    }
   ],
   "source": [
    "clf = RandomForestClassifier(random_state=42, max_depth=2, n_estimators=200)\n",
    "clf.fit(X_train, y_train)\n",
    "print(clf.score(X_test, y_test))"
   ]
  },
  {
   "cell_type": "code",
   "execution_count": 74,
   "id": "ebafe74e",
   "metadata": {},
   "outputs": [
    {
     "data": {
      "text/plain": [
       "(9686, 355)"
      ]
     },
     "execution_count": 74,
     "metadata": {},
     "output_type": "execute_result"
    }
   ],
   "source": [
    "X_full.shape"
   ]
  },
  {
   "cell_type": "markdown",
   "id": "e59702ba",
   "metadata": {},
   "source": [
    "# With ensemble you should use more than one scoring metric"
   ]
  },
  {
   "cell_type": "code",
   "execution_count": 75,
   "id": "916c0418",
   "metadata": {},
   "outputs": [],
   "source": [
    "from sklearn.model_selection import cross_val_score"
   ]
  },
  {
   "cell_type": "code",
   "execution_count": 76,
   "id": "85314a7f",
   "metadata": {},
   "outputs": [],
   "source": [
    "cross_val_scores = cross_val_score(clf, X_train, y_train)"
   ]
  },
  {
   "cell_type": "code",
   "execution_count": 77,
   "id": "e37b06a2",
   "metadata": {},
   "outputs": [
    {
     "data": {
      "text/plain": [
       "array([0.98451327, 0.9719764 , 0.97345133, 0.97492625, 0.98893805])"
      ]
     },
     "execution_count": 77,
     "metadata": {},
     "output_type": "execute_result"
    }
   ],
   "source": [
    "cross_val_scores\n",
    "# The closer this values are together, the more accurate and stable is"
   ]
  },
  {
   "cell_type": "markdown",
   "id": "0c2b7818",
   "metadata": {},
   "source": [
    "## Feature selection / scoring with RF"
   ]
  },
  {
   "cell_type": "code",
   "execution_count": 79,
   "id": "0868247e",
   "metadata": {},
   "outputs": [],
   "source": [
    "feature_importances = clf.feature_importances_"
   ]
  },
  {
   "cell_type": "code",
   "execution_count": 80,
   "id": "2c7dc0a5",
   "metadata": {},
   "outputs": [],
   "source": [
    "feature_names = X_full.columns"
   ]
  },
  {
   "cell_type": "code",
   "execution_count": 81,
   "id": "8477aa55",
   "metadata": {},
   "outputs": [],
   "source": [
    "forest_importances = pd.Series(feature_importances, index=feature_names)"
   ]
  },
  {
   "cell_type": "code",
   "execution_count": 86,
   "id": "a6b7db45",
   "metadata": {},
   "outputs": [
    {
     "data": {
      "text/plain": [
       "TARGET_D        0.164242\n",
       "RFA_2F          0.074248\n",
       "AVGGIFT         0.060382\n",
       "MAXRAMNT        0.060336\n",
       "CARDGIFT        0.046050\n",
       "LASTGIFT        0.035944\n",
       "MINRAMNT        0.033707\n",
       "LASTDATE_YR     0.032809\n",
       "NGIFTALL        0.030828\n",
       "RFA_2A_E        0.029035\n",
       "CONTROLN        0.018004\n",
       "MAXRDATE_YR     0.017184\n",
       "RFA_2A_G        0.015751\n",
       "LASTDATE_MM     0.015032\n",
       "ODATEW_YR       0.014653\n",
       "RAMNTALL        0.013997\n",
       "CARDPROM        0.013918\n",
       "HVP6            0.010990\n",
       "CARDPM12        0.010465\n",
       "FIRSTDATE_YR    0.010020\n",
       "dtype: float64"
      ]
     },
     "execution_count": 86,
     "metadata": {},
     "output_type": "execute_result"
    }
   ],
   "source": [
    "forest_importances.sort_values(ascending=False).head(20)"
   ]
  },
  {
   "cell_type": "code",
   "execution_count": null,
   "id": "4656e69c",
   "metadata": {},
   "outputs": [],
   "source": []
  }
 ],
 "metadata": {
  "kernelspec": {
   "display_name": "Python 3 (ipykernel)",
   "language": "python",
   "name": "python3"
  },
  "language_info": {
   "codemirror_mode": {
    "name": "ipython",
    "version": 3
   },
   "file_extension": ".py",
   "mimetype": "text/x-python",
   "name": "python",
   "nbconvert_exporter": "python",
   "pygments_lexer": "ipython3",
   "version": "3.9.7"
  },
  "toc": {
   "base_numbering": 1,
   "nav_menu": {},
   "number_sections": true,
   "sideBar": true,
   "skip_h1_title": false,
   "title_cell": "Table of Contents",
   "title_sidebar": "Contents",
   "toc_cell": false,
   "toc_position": {},
   "toc_section_display": true,
   "toc_window_display": false
  }
 },
 "nbformat": 4,
 "nbformat_minor": 5
}
