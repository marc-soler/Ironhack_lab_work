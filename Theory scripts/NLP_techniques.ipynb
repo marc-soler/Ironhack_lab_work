{
 "cells": [
  {
   "cell_type": "code",
   "execution_count": 2,
   "id": "55673919",
   "metadata": {},
   "outputs": [
    {
     "ename": "ModuleNotFoundError",
     "evalue": "No module named 'textblob'",
     "output_type": "error",
     "traceback": [
      "\u001b[0;31m---------------------------------------------------------------------------\u001b[0m",
      "\u001b[0;31mModuleNotFoundError\u001b[0m                       Traceback (most recent call last)",
      "Input \u001b[0;32mIn [2]\u001b[0m, in \u001b[0;36m<cell line: 6>\u001b[0;34m()\u001b[0m\n\u001b[1;32m      4\u001b[0m \u001b[38;5;28;01mfrom\u001b[39;00m \u001b[38;5;21;01mnltk\u001b[39;00m\u001b[38;5;21;01m.\u001b[39;00m\u001b[38;5;21;01mtokenize\u001b[39;00m \u001b[38;5;28;01mimport\u001b[39;00m word_tokenize\n\u001b[1;32m      5\u001b[0m \u001b[38;5;28;01mimport\u001b[39;00m \u001b[38;5;21;01mdocx2txt\u001b[39;00m\n\u001b[0;32m----> 6\u001b[0m \u001b[38;5;28;01mfrom\u001b[39;00m \u001b[38;5;21;01mtextblob\u001b[39;00m \u001b[38;5;28;01mimport\u001b[39;00m TextBlob\n\u001b[1;32m      7\u001b[0m \u001b[38;5;28;01mimport\u001b[39;00m \u001b[38;5;21;01mmatplotlib\u001b[39;00m\u001b[38;5;21;01m.\u001b[39;00m\u001b[38;5;21;01mpyplot\u001b[39;00m \u001b[38;5;28;01mas\u001b[39;00m \u001b[38;5;21;01mplt\u001b[39;00m\n",
      "\u001b[0;31mModuleNotFoundError\u001b[0m: No module named 'textblob'"
     ]
    }
   ],
   "source": [
    "import pandas as pd\n",
    "import numpy as np\n",
    "import nltk\n",
    "from nltk.tokenize import word_tokenize\n",
    "import docx2txt\n",
    "from textblob import TextBlob\n",
    "import matplotlib.pyplot as plt"
   ]
  },
  {
   "cell_type": "markdown",
   "id": "ed5e8183",
   "metadata": {},
   "source": [
    "# Activity 1 - summarise a news article\n",
    "- Get our text document"
   ]
  },
  {
   "cell_type": "code",
   "execution_count": 3,
   "id": "99682611",
   "metadata": {},
   "outputs": [],
   "source": [
    "file = docx2txt.process('data/horseracing.docx')"
   ]
  },
  {
   "cell_type": "code",
   "execution_count": 12,
   "id": "206b3200",
   "metadata": {},
   "outputs": [],
   "source": [
    "tokens = word_tokenize(file)"
   ]
  },
  {
   "cell_type": "code",
   "execution_count": 13,
   "id": "f2dddc4e",
   "metadata": {},
   "outputs": [],
   "source": [
    "tokens_lower = [token.lower() for token in tokens]"
   ]
  },
  {
   "cell_type": "code",
   "execution_count": 14,
   "id": "037f90f4",
   "metadata": {},
   "outputs": [
    {
     "name": "stdout",
     "output_type": "stream",
     "text": [
      "showing info https://raw.githubusercontent.com/nltk/nltk_data/gh-pages/index.xml\n"
     ]
    },
    {
     "data": {
      "text/plain": [
       "True"
      ]
     },
     "execution_count": 14,
     "metadata": {},
     "output_type": "execute_result"
    }
   ],
   "source": [
    "nltk.download()"
   ]
  },
  {
   "cell_type": "code",
   "execution_count": 15,
   "id": "8a0564ac",
   "metadata": {},
   "outputs": [
    {
     "data": {
      "text/plain": [
       "1155"
      ]
     },
     "execution_count": 15,
     "metadata": {},
     "output_type": "execute_result"
    }
   ],
   "source": [
    "len(tokens_lower)"
   ]
  },
  {
   "cell_type": "code",
   "execution_count": 29,
   "id": "34e6fbdc",
   "metadata": {},
   "outputs": [],
   "source": [
    "# removing punctuation\n",
    "clean_tokens_lower = [word for word in tokens_lower if word.isalpha()]"
   ]
  },
  {
   "cell_type": "code",
   "execution_count": 30,
   "id": "93a7127b",
   "metadata": {},
   "outputs": [],
   "source": [
    "# remove stopwords\n",
    "from nltk.corpus import stopwords\n",
    "stop_words = stopwords.words('english')\n",
    "very_clean_tokens = [word for word in clean_tokens_lower if word not in stop_words]"
   ]
  },
  {
   "cell_type": "code",
   "execution_count": 35,
   "id": "97494f79",
   "metadata": {},
   "outputs": [
    {
     "data": {
      "text/plain": [
       "513"
      ]
     },
     "execution_count": 35,
     "metadata": {},
     "output_type": "execute_result"
    }
   ],
   "source": [
    "len(very_clean_tokens)"
   ]
  },
  {
   "cell_type": "code",
   "execution_count": 31,
   "id": "c0c311a6",
   "metadata": {},
   "outputs": [],
   "source": [
    "freqdist = nltk.FreqDist(very_clean_tokens)"
   ]
  },
  {
   "cell_type": "code",
   "execution_count": 32,
   "id": "3ac02158",
   "metadata": {},
   "outputs": [],
   "source": [
    "word_freq = dict((word, freq) for word, freq in freqdist.items() if not word.isdigit())"
   ]
  },
  {
   "cell_type": "code",
   "execution_count": 33,
   "id": "a12b8271",
   "metadata": {},
   "outputs": [],
   "source": [
    "sorted_word_freq = sorted(word_freq.items(), key=lambda x:x[1], reverse=True)"
   ]
  },
  {
   "cell_type": "code",
   "execution_count": 34,
   "id": "2c63bbcf",
   "metadata": {},
   "outputs": [
    {
     "data": {
      "text/plain": [
       "[('said', 18),\n",
       " ('horses', 14),\n",
       " ('racing', 13),\n",
       " ('horse', 11),\n",
       " ('ireland', 8),\n",
       " ('animal', 8),\n",
       " ('footage', 8),\n",
       " ('panorama', 6),\n",
       " ('animals', 6),\n",
       " ('aid', 6),\n",
       " ('abattoir', 5),\n",
       " ('cameras', 5),\n",
       " ('regulations', 5),\n",
       " ('elliott', 5),\n",
       " ('killed', 5),\n",
       " ('racehorses', 4),\n",
       " ('sent', 4),\n",
       " ('bbc', 4),\n",
       " ('trained', 4),\n",
       " ('also', 4),\n",
       " ('one', 4),\n",
       " ('welfare', 4),\n",
       " ('going', 4),\n",
       " ('slaughtered', 3),\n",
       " ('covert', 3),\n",
       " ('rules', 3),\n",
       " ('death', 3),\n",
       " ('told', 3),\n",
       " ('three', 3),\n",
       " ('industry', 3),\n",
       " ('recorded', 3),\n",
       " ('shot', 3),\n",
       " ('care', 3),\n",
       " ('euthanised', 3),\n",
       " ('prof', 3),\n",
       " ('mills', 3),\n",
       " ('got', 3),\n",
       " ('thousands', 2),\n",
       " ('slaughterhouses', 2),\n",
       " ('britain', 2),\n",
       " ('biggest', 2),\n",
       " ('showed', 2),\n",
       " ('designed', 2),\n",
       " ('protect', 2),\n",
       " ('appear', 2),\n",
       " ('abattoirs', 2),\n",
       " ('accept', 2),\n",
       " ('form', 2),\n",
       " ('abuse', 2),\n",
       " ('expert', 2),\n",
       " ('clear', 2),\n",
       " ('breaches', 2),\n",
       " ('gordon', 2),\n",
       " ('fate', 2),\n",
       " ('former', 2),\n",
       " ('end', 2),\n",
       " ('set', 2),\n",
       " ('drury', 2),\n",
       " ('sons', 2),\n",
       " ('young', 2),\n",
       " ('dene', 2),\n",
       " ('stansall', 2),\n",
       " ('four', 2),\n",
       " ('days', 2),\n",
       " ('captured', 2),\n",
       " ('majority', 2),\n",
       " ('injury', 2),\n",
       " ('rehomed', 2),\n",
       " ('humanely', 2),\n",
       " ('line', 2),\n",
       " ('another', 2),\n",
       " ('number', 2),\n",
       " ('unnecessary', 2),\n",
       " ('say', 2),\n",
       " ('filming', 2),\n",
       " ('veterinary', 2),\n",
       " ('occasions', 2),\n",
       " ('distance', 2),\n",
       " ('head', 2),\n",
       " ('take', 2),\n",
       " ('great', 2),\n",
       " ('high', 2),\n",
       " ('issues', 2),\n",
       " ('travelling', 2),\n",
       " ('miles', 2),\n",
       " ('carrying', 2),\n",
       " ('dr', 2),\n",
       " ('donovan', 2),\n",
       " ('people', 2),\n",
       " ('would', 2),\n",
       " ('attracted', 2),\n",
       " ('investigation', 1),\n",
       " ('found', 1),\n",
       " ('owned', 1),\n",
       " ('names', 1),\n",
       " ('recording', 1),\n",
       " ('cruel', 1),\n",
       " ('regularly', 1),\n",
       " ('ignored', 1),\n",
       " ('uk', 1),\n",
       " ('described', 1),\n",
       " ('installed', 1),\n",
       " ('campaign', 1),\n",
       " ('group', 1),\n",
       " ('evidence', 1),\n",
       " ('last', 1),\n",
       " ('february', 1),\n",
       " ('picture', 1),\n",
       " ('top', 1),\n",
       " ('trainer', 1),\n",
       " ('sitting', 1),\n",
       " ('dead', 1),\n",
       " ('shockwaves', 1),\n",
       " ('world', 1),\n",
       " ('beyond', 1),\n",
       " ('winners', 1),\n",
       " ('grand', 1),\n",
       " ('national', 1),\n",
       " ('roundly', 1),\n",
       " ('condemned', 1),\n",
       " ('suspended', 1),\n",
       " ('sport', 1),\n",
       " ('september', 1),\n",
       " ('year', 1),\n",
       " ('incident', 1),\n",
       " ('caused', 1),\n",
       " ('uproar', 1),\n",
       " ('highlighted', 1),\n",
       " ('many', 1),\n",
       " ('die', 1),\n",
       " ('training', 1),\n",
       " ('freedom', 1),\n",
       " ('information', 1),\n",
       " ('requests', 1),\n",
       " ('revealed', 1),\n",
       " ('since', 1),\n",
       " ('beginning', 1),\n",
       " ('long', 1),\n",
       " ('campaigned', 1),\n",
       " ('england', 1),\n",
       " ('licence', 1),\n",
       " ('kill', 1),\n",
       " ('looked', 1),\n",
       " ('absolutely', 1),\n",
       " ('astounded', 1),\n",
       " ('sheer', 1),\n",
       " ('volume', 1),\n",
       " ('thoroughbreds', 1),\n",
       " ('spokesman', 1),\n",
       " ('start', 1),\n",
       " ('dozens', 1),\n",
       " ('previous', 1),\n",
       " ('illustrious', 1),\n",
       " ('careers', 1),\n",
       " ('winning', 1),\n",
       " ('pounds', 1),\n",
       " ('stables', 1),\n",
       " ('county', 1),\n",
       " ('meath', 1),\n",
       " ('none', 1),\n",
       " ('retired', 1),\n",
       " ('due', 1),\n",
       " ('two', 1),\n",
       " ('dealer', 1),\n",
       " ('possible', 1),\n",
       " ('gave', 1),\n",
       " ('third', 1),\n",
       " ('rider', 1),\n",
       " ('requested', 1),\n",
       " ('owner', 1),\n",
       " ('first', 1),\n",
       " ('time', 1),\n",
       " ('learned', 1),\n",
       " ('contacted', 1),\n",
       " ('ensured', 1),\n",
       " ('appropriate', 1),\n",
       " ('proper', 1),\n",
       " ('treatment', 1),\n",
       " ('possession', 1),\n",
       " ('substantial', 1),\n",
       " ('cruelty', 1),\n",
       " ('sight', 1),\n",
       " ('together', 1),\n",
       " ('times', 1),\n",
       " ('daniel', 1),\n",
       " ('behavioural', 1),\n",
       " ('specialist', 1),\n",
       " ('university', 1),\n",
       " ('lincoln', 1),\n",
       " ('seen', 1),\n",
       " ('gunshot', 1),\n",
       " ('startling', 1),\n",
       " ('seeing', 1),\n",
       " ('suddenly', 1),\n",
       " ('drop', 1),\n",
       " ('distressing', 1),\n",
       " ('situation', 1),\n",
       " ('breach', 1),\n",
       " ('every', 1),\n",
       " ('effort', 1),\n",
       " ('made', 1),\n",
       " ('ensure', 1),\n",
       " ('rapid', 1),\n",
       " ('sometimes', 1),\n",
       " ('far', 1),\n",
       " ('instant', 1),\n",
       " ('slaughterman', 1),\n",
       " ('shooting', 1),\n",
       " ('close', 1),\n",
       " ('reviewing', 1),\n",
       " ('killing', 1),\n",
       " ('look', 1),\n",
       " ('like', 1),\n",
       " ('even', 1),\n",
       " ('stunned', 1),\n",
       " ('see', 1),\n",
       " ('turning', 1),\n",
       " ('seems', 1),\n",
       " ('control', 1),\n",
       " ('actually', 1),\n",
       " ('neck', 1),\n",
       " ('taking', 1),\n",
       " ('completely', 1),\n",
       " ('order', 1),\n",
       " ('euthanise', 1),\n",
       " ('get', 1),\n",
       " ('bullet', 1),\n",
       " ('right', 1),\n",
       " ('place', 1),\n",
       " ('representative', 1),\n",
       " ('really', 1),\n",
       " ('serious', 1),\n",
       " ('problem', 1),\n",
       " ('maintain', 1),\n",
       " ('conditions', 1),\n",
       " ('destroyed', 1),\n",
       " ('occur', 1),\n",
       " ('swift', 1),\n",
       " ('action', 1),\n",
       " ('review', 1),\n",
       " ('rectify', 1),\n",
       " ('transported', 1),\n",
       " ('road', 1),\n",
       " ('sea', 1),\n",
       " ('injuries', 1),\n",
       " ('hannah', 1),\n",
       " ('reviewed', 1),\n",
       " ('potentially', 1),\n",
       " ('humane', 1),\n",
       " ('process', 1),\n",
       " ('suffering', 1),\n",
       " ('bottom', 1),\n",
       " ('could', 1),\n",
       " ('home', 1),\n",
       " ('simple', 1),\n",
       " ('authorities', 1),\n",
       " ('guidelines', 1),\n",
       " ('clearly', 1),\n",
       " ('happen', 1),\n",
       " ('career', 1),\n",
       " ('ends', 1),\n",
       " ('recommend', 1),\n",
       " ('make', 1),\n",
       " ('provision', 1),\n",
       " ('responsible', 1),\n",
       " ('governing', 1),\n",
       " ('body', 1),\n",
       " ('placed', 1),\n",
       " ('importance', 1),\n",
       " ('british', 1),\n",
       " ('horseracing', 1),\n",
       " ('authority', 1),\n",
       " ('demonstrated', 1),\n",
       " ('commitment', 1),\n",
       " ('improving', 1),\n",
       " ('already', 1),\n",
       " ('standards', 1),\n",
       " ('consider', 1),\n",
       " ('carefully', 1),\n",
       " ('raised', 1),\n",
       " ('programme', 1),\n",
       " ('understand', 1),\n",
       " ('poor', 1),\n",
       " ('record', 1),\n",
       " ('dying', 1),\n",
       " ('longer', 1),\n",
       " ('support', 1),\n",
       " ('think', 1),\n",
       " ('lot', 1),\n",
       " ('public', 1),\n",
       " ('feel', 1),\n",
       " ('way', 1),\n",
       " ('dark', 1),\n",
       " ('side', 1),\n",
       " ('monday', 1),\n",
       " ('bst', 1),\n",
       " ('watch', 1),\n",
       " ('later', 1),\n",
       " ('iplayer', 1)]"
      ]
     },
     "execution_count": 34,
     "metadata": {},
     "output_type": "execute_result"
    }
   ],
   "source": [
    "sorted_word_freq"
   ]
  },
  {
   "cell_type": "markdown",
   "id": "7c1b61cf",
   "metadata": {},
   "source": [
    "# Convert the list into an nltk text object"
   ]
  },
  {
   "cell_type": "code",
   "execution_count": 37,
   "id": "71b19a18",
   "metadata": {},
   "outputs": [],
   "source": [
    "from nltk import Text\n",
    "nlkttext = Text(very_clean_tokens)"
   ]
  },
  {
   "cell_type": "code",
   "execution_count": 39,
   "id": "e8435064",
   "metadata": {},
   "outputs": [
    {
     "data": {
      "text/plain": [
       "nltk.text.Text"
      ]
     },
     "execution_count": 39,
     "metadata": {},
     "output_type": "execute_result"
    }
   ],
   "source": [
    "type(nlkttext)"
   ]
  },
  {
   "cell_type": "markdown",
   "id": "5ac31496",
   "metadata": {},
   "source": [
    "# Advanced techniques"
   ]
  },
  {
   "cell_type": "code",
   "execution_count": 40,
   "id": "bebbcb86",
   "metadata": {},
   "outputs": [
    {
     "name": "stdout",
     "output_type": "stream",
     "text": [
      "animal aid; accept form; dene stansall; designed protect; drury sons;\n",
      "four days; travelling miles; rules designed; former racehorses; gordon\n",
      "elliott; prof mills; animal abuse; britain ireland; form animal;\n",
      "racehorses slaughtered; told panorama; footage recorded; aid cameras;\n",
      "horses industry; horses shot\n"
     ]
    }
   ],
   "source": [
    "# collocations - words that appear next to eachother frequently\n",
    "nlkttext.collocations()"
   ]
  },
  {
   "cell_type": "code",
   "execution_count": 43,
   "id": "dcdf817c",
   "metadata": {},
   "outputs": [
    {
     "name": "stdout",
     "output_type": "stream",
     "text": [
      "Displaying 13 of 13 matches:\n",
      "animals owned trained biggest names racing covert recording also showed rules \n",
      "ng dead horse sent shockwaves world racing beyond elliott trained three winner\n",
      "ghted fate many horses industry die racing training abattoirs freedom informat\n",
      "nimal aid long campaigned end horse racing set covert cameras drury sons abatt\n",
      " shot abattoir previous illustrious racing careers winning thousands pounds th\n",
      "nimals sent abattoir horses retired racing due injury said care killed elliott\n",
      "hanised home simple prof mills said racing authorities guidelines clearly set \n",
      "uidelines clearly set happen horses racing career ends industry regulations re\n",
      "sion animals responsible said horse racing ireland governing body racing irela\n",
      "horse racing ireland governing body racing ireland said placed great importanc\n",
      "proving already high standards care racing said would consider carefully issue\n",
      "id said understand people attracted racing attracted poor welfare record numbe\n",
      "d feel way panorama dark side horse racing bbc one monday bst watch later bbc \n"
     ]
    }
   ],
   "source": [
    "# concordance - fragments containing key words - indexed - text around that word\n",
    "nlkttext.concordance('racing')"
   ]
  },
  {
   "cell_type": "code",
   "execution_count": 44,
   "id": "1800ef7d",
   "metadata": {},
   "outputs": [
    {
     "data": {
      "image/png": "[encoded data removed]",
      "text/plain": [
       "<Figure size 432x288 with 1 Axes>"
      ]
     },
     "metadata": {
      "needs_background": "light"
     },
     "output_type": "display_data"
    }
   ],
   "source": [
    "nlkttext.dispersion_plot(['horse', 'racing', 'racehorses', 'elliott', 'trainer'])"
   ]
  },
  {
   "cell_type": "markdown",
   "id": "fa1bc6ab",
   "metadata": {},
   "source": [
    "# Activity 2 - customer reviews & sentiment analysis"
   ]
  },
  {
   "cell_type": "code",
   "execution_count": 47,
   "id": "78e4af56",
   "metadata": {},
   "outputs": [],
   "source": [
    "clothingdf = pd.read_csv('data/women_ecommerce.csv')"
   ]
  },
  {
   "cell_type": "code",
   "execution_count": 51,
   "id": "8a5eedc3",
   "metadata": {},
   "outputs": [],
   "source": [
    "pd.set_option('display.max_colwidth', None) # seeing full text"
   ]
  },
  {
   "cell_type": "code",
   "execution_count": 52,
   "id": "9de6f003",
   "metadata": {},
   "outputs": [
    {
     "data": {
      "text/plain": [
       "0                                                                                                                                                                                                                                                                                                                                                                                                                                                                       Absolutely wonderful - silky and sexy and comfortable\n",
       "1                                                                                                                                                                                                             Love this dress!  it's sooo pretty.  i happened to find it in a store, and i'm glad i did bc i never would have ordered it online bc it's petite.  i bought a petite and am 5'8\".  i love the length on me- hits just a little below the knee.  would definitely be a true midi on someone who is truly petite.\n",
       "2        I had such high hopes for this dress and really wanted it to work for me. i initially ordered the petite small (my usual size) but i found this to be outrageously small. so small in fact that i could not zip it up! i reordered it in petite medium, which was just ok. overall, the top half was comfortable and fit nicely, but the bottom half had a very tight under layer and several somewhat cheap (net) over layers. imo, a major design flaw was the net over layer sewn directly into the zipper - it c\n",
       "3                                                                                                                                                                                                                                                                                                                                                                                                I love, love, love this jumpsuit. it's fun, flirty, and fabulous! every time i wear it, i get nothing but great compliments!\n",
       "4                                                                                                                                                                                                                                                                                                                            This shirt is very flattering to all due to the adjustable front tie. it is the perfect length to wear with leggings and it is sleeveless so it pairs well with any cardigan. love this shirt!!!\n",
       "                                                                                                                                                                                                                                                                 ...                                                                                                                                                                                                                                                         \n",
       "23481                                                                                                                                                                                                                                                                                                                                                                                     I was very happy to snag this dress at such a great price! it's very easy to slip on and has a very flattering cut and color combo.\n",
       "23482                                                                                                                                                                                                                                                                                        It reminds me of maternity clothes. soft, stretchy, shiny material. cut is flattering and drapes nicely. i only found one button to close front... looked awkward. nice long sleeves.\\nnot for me but maybe for others. just ok.\n",
       "23483                                                                                                                                                                                                                                                                                                        This fit well, but the top was very see through. this never would have worked for me. i'm glad i was able to try it on in the store and didn't order it online. with different fabric, it would have been great.\n",
       "23484                                                                             I bought this dress for a wedding i have this summer, and it's so cute. unfortunately the fit isn't perfect. the medium fits my waist perfectly, but was way too long and too big in the bust and shoulders. if i wanted to spend the money, i could get it tailored, but i just felt like it might not be worth it. side note - this dress was delivered to me with a nordstrom tag on it and i found it much cheaper there after looking!\n",
       "23485                                                                                                                                                                                                                                                                                                                                                                                                          This dress in a lovely platinum is feminine and fits perfectly, easy to wear and comfy, too! highly recommend!\n",
       "Name: Review Text, Length: 23486, dtype: object"
      ]
     },
     "execution_count": 52,
     "metadata": {},
     "output_type": "execute_result"
    }
   ],
   "source": [
    "clothingdf['Review Text']"
   ]
  },
  {
   "cell_type": "code",
   "execution_count": 58,
   "id": "3afc0f55",
   "metadata": {},
   "outputs": [
    {
     "name": "stdout",
     "output_type": "stream",
     "text": [
      "<class 'pandas.core.frame.DataFrame'>\n",
      "RangeIndex: 23486 entries, 0 to 23485\n",
      "Data columns (total 11 columns):\n",
      " #   Column                   Non-Null Count  Dtype \n",
      "---  ------                   --------------  ----- \n",
      " 0   Unnamed: 0               23486 non-null  int64 \n",
      " 1   Clothing ID              23486 non-null  int64 \n",
      " 2   Age                      23486 non-null  int64 \n",
      " 3   Title                    19676 non-null  object\n",
      " 4   Review Text              22641 non-null  object\n",
      " 5   Rating                   23486 non-null  int64 \n",
      " 6   Recommended IND          23486 non-null  int64 \n",
      " 7   Positive Feedback Count  23486 non-null  int64 \n",
      " 8   Division Name            23472 non-null  object\n",
      " 9   Department Name          23472 non-null  object\n",
      " 10  Class Name               23472 non-null  object\n",
      "dtypes: int64(6), object(5)\n",
      "memory usage: 2.0+ MB\n"
     ]
    }
   ],
   "source": [
    "clothingdf.info()"
   ]
  },
  {
   "cell_type": "code",
   "execution_count": 60,
   "id": "6c0d73a4",
   "metadata": {},
   "outputs": [
    {
     "data": {
      "text/plain": [
       "5    13131\n",
       "4     5077\n",
       "3     2871\n",
       "2     1565\n",
       "1      842\n",
       "Name: Rating, dtype: int64"
      ]
     },
     "execution_count": 60,
     "metadata": {},
     "output_type": "execute_result"
    }
   ],
   "source": [
    "clothingdf['Rating'].value_counts()"
   ]
  },
  {
   "cell_type": "code",
   "execution_count": 62,
   "id": "3ed25a03",
   "metadata": {},
   "outputs": [
    {
     "data": {
      "text/plain": [
       "Sentiment(polarity=0.28333333333333327, subjectivity=0.41452991452991456)"
      ]
     },
     "execution_count": 62,
     "metadata": {},
     "output_type": "execute_result"
    }
   ],
   "source": [
    "TextBlob('regular experience, not bad, could be better').sentiment"
   ]
  },
  {
   "cell_type": "code",
   "execution_count": 66,
   "id": "7d36fa59",
   "metadata": {},
   "outputs": [
    {
     "data": {
      "text/plain": [
       "Sentiment(polarity=0.6000000000000001, subjectivity=0.9)"
      ]
     },
     "execution_count": 66,
     "metadata": {},
     "output_type": "execute_result"
    }
   ],
   "source": [
    "TextBlob('amazing').sentiment"
   ]
  },
  {
   "cell_type": "markdown",
   "id": "4904a576",
   "metadata": {},
   "source": [
    "## Cleaning our data for department, review analysis"
   ]
  },
  {
   "cell_type": "code",
   "execution_count": 68,
   "id": "8a8bca74",
   "metadata": {},
   "outputs": [
    {
     "data": {
      "text/plain": [
       "array(['Intimate', 'Dresses', 'Bottoms', 'Tops', 'Jackets', 'Trend', nan],\n",
       "      dtype=object)"
      ]
     },
     "execution_count": 68,
     "metadata": {},
     "output_type": "execute_result"
    }
   ],
   "source": [
    "# remove nulls from departments, review text\n",
    "clothingdf['Department Name'].unique()"
   ]
  },
  {
   "cell_type": "code",
   "execution_count": 69,
   "id": "3aec200d",
   "metadata": {},
   "outputs": [],
   "source": [
    "clothingdf.dropna(subset=['Review Text', 'Department Name'], inplace=True)"
   ]
  },
  {
   "cell_type": "code",
   "execution_count": 70,
   "id": "6f1b54da",
   "metadata": {},
   "outputs": [
    {
     "name": "stdout",
     "output_type": "stream",
     "text": [
      "<class 'pandas.core.frame.DataFrame'>\n",
      "Int64Index: 22628 entries, 0 to 23485\n",
      "Data columns (total 11 columns):\n",
      " #   Column                   Non-Null Count  Dtype \n",
      "---  ------                   --------------  ----- \n",
      " 0   Unnamed: 0               22628 non-null  int64 \n",
      " 1   Clothing ID              22628 non-null  int64 \n",
      " 2   Age                      22628 non-null  int64 \n",
      " 3   Title                    19662 non-null  object\n",
      " 4   Review Text              22628 non-null  object\n",
      " 5   Rating                   22628 non-null  int64 \n",
      " 6   Recommended IND          22628 non-null  int64 \n",
      " 7   Positive Feedback Count  22628 non-null  int64 \n",
      " 8   Division Name            22628 non-null  object\n",
      " 9   Department Name          22628 non-null  object\n",
      " 10  Class Name               22628 non-null  object\n",
      "dtypes: int64(6), object(5)\n",
      "memory usage: 2.1+ MB\n"
     ]
    }
   ],
   "source": [
    "clothingdf.info()"
   ]
  },
  {
   "cell_type": "code",
   "execution_count": 67,
   "id": "2e7e7b59",
   "metadata": {},
   "outputs": [],
   "source": [
    "from nltk.stem import WordNetLemmatizer"
   ]
  },
  {
   "cell_type": "code",
   "execution_count": 73,
   "id": "fcf80f5f",
   "metadata": {},
   "outputs": [],
   "source": [
    "# define a cleaning function\n",
    "def cleaning(data):\n",
    "    #1. Tokenize\n",
    "    text_tokens = word_tokenize(data.replace(\"'\", \"\").lower())\n",
    "    #2. Remove Puncs\n",
    "    tokens_without_punc = [w for w in text_tokens if w.isalpha()]\n",
    "    #3. Removing Stopwords\n",
    "    tokens_without_sw = [t for t in tokens_without_punc if t not in stop_words]\n",
    "    #4. lemma\n",
    "    text_cleaned = [WordNetLemmatizer().lemmatize(t) for t in tokens_without_sw]\n",
    "    #joining\n",
    "    return \" \".join(text_cleaned)"
   ]
  },
  {
   "cell_type": "code",
   "execution_count": 74,
   "id": "34adf88f",
   "metadata": {},
   "outputs": [
    {
     "data": {
      "text/plain": [
       "0                                                                                                                                                                                                                                                                   absolutely wonderful silky sexy comfortable\n",
       "1                                                                                                                          love dress sooo pretty happened find store im glad bc never would ordered online bc petite bought petite love length hit little knee would definitely true midi someone truly petite\n",
       "2    high hope dress really wanted work initially ordered petite small usual size found outrageously small small fact could zip reordered petite medium overall top half comfortable fit nicely bottom half tight layer several somewhat cheap net layer imo major design flaw net layer sewn directly zipper c\n",
       "3                                                                                                                                                                                                                      love love love jumpsuit fun flirty fabulous every time wear get nothing great compliment\n",
       "4                                                                                                                                                                                                shirt flattering due adjustable front tie perfect length wear legging sleeveless pair well cardigan love shirt\n",
       "Name: Review Text, dtype: object"
      ]
     },
     "execution_count": 74,
     "metadata": {},
     "output_type": "execute_result"
    }
   ],
   "source": [
    "# apply cleaning\n",
    "clothingdf['Review Text'] = clothingdf['Review Text'].apply(cleaning)\n",
    "clothingdf['Review Text'].head()"
   ]
  },
  {
   "cell_type": "code",
   "execution_count": 75,
   "id": "e0f97040",
   "metadata": {},
   "outputs": [],
   "source": [
    "# sentiment analysis\n",
    "clothingdf['sentiment_score'] = clothingdf['Review Text'].apply(lambda x:TextBlob(x).sentiment.polarity)\n",
    "clothingdf['subjectivity_score'] = clothingdf['Review Text'].apply(lambda x:TextBlob(x).sentiment.subjectivity)"
   ]
  },
  {
   "cell_type": "code",
   "execution_count": 76,
   "id": "b91b2183",
   "metadata": {},
   "outputs": [
    {
     "data": {
      "text/html": [
       "<div>\n",
       "<style scoped>\n",
       "    .dataframe tbody tr th:only-of-type {\n",
       "        vertical-align: middle;\n",
       "    }\n",
       "\n",
       "    .dataframe tbody tr th {\n",
       "        vertical-align: top;\n",
       "    }\n",
       "\n",
       "    .dataframe thead th {\n",
       "        text-align: right;\n",
       "    }\n",
       "</style>\n",
       "<table border=\"1\" class=\"dataframe\">\n",
       "  <thead>\n",
       "    <tr style=\"text-align: right;\">\n",
       "      <th></th>\n",
       "      <th>Unnamed: 0</th>\n",
       "      <th>Clothing ID</th>\n",
       "      <th>Age</th>\n",
       "      <th>Title</th>\n",
       "      <th>Review Text</th>\n",
       "      <th>Rating</th>\n",
       "      <th>Recommended IND</th>\n",
       "      <th>Positive Feedback Count</th>\n",
       "      <th>Division Name</th>\n",
       "      <th>Department Name</th>\n",
       "      <th>Class Name</th>\n",
       "      <th>sentiment_score</th>\n",
       "      <th>subjectivity_score</th>\n",
       "    </tr>\n",
       "  </thead>\n",
       "  <tbody>\n",
       "    <tr>\n",
       "      <th>0</th>\n",
       "      <td>0</td>\n",
       "      <td>767</td>\n",
       "      <td>33</td>\n",
       "      <td>NaN</td>\n",
       "      <td>absolutely wonderful silky sexy comfortable</td>\n",
       "      <td>4</td>\n",
       "      <td>1</td>\n",
       "      <td>0</td>\n",
       "      <td>Initmates</td>\n",
       "      <td>Intimate</td>\n",
       "      <td>Intimates</td>\n",
       "      <td>0.633333</td>\n",
       "      <td>0.933333</td>\n",
       "    </tr>\n",
       "    <tr>\n",
       "      <th>1</th>\n",
       "      <td>1</td>\n",
       "      <td>1080</td>\n",
       "      <td>34</td>\n",
       "      <td>NaN</td>\n",
       "      <td>love dress sooo pretty happened find store im glad bc never would ordered online bc petite bought petite love length hit little knee would definitely true midi someone truly petite</td>\n",
       "      <td>5</td>\n",
       "      <td>1</td>\n",
       "      <td>4</td>\n",
       "      <td>General</td>\n",
       "      <td>Dresses</td>\n",
       "      <td>Dresses</td>\n",
       "      <td>0.318750</td>\n",
       "      <td>0.725000</td>\n",
       "    </tr>\n",
       "    <tr>\n",
       "      <th>2</th>\n",
       "      <td>2</td>\n",
       "      <td>1077</td>\n",
       "      <td>60</td>\n",
       "      <td>Some major design flaws</td>\n",
       "      <td>high hope dress really wanted work initially ordered petite small usual size found outrageously small small fact could zip reordered petite medium overall top half comfortable fit nicely bottom half tight layer several somewhat cheap net layer imo major design flaw net layer sewn directly zipper c</td>\n",
       "      <td>3</td>\n",
       "      <td>0</td>\n",
       "      <td>0</td>\n",
       "      <td>General</td>\n",
       "      <td>Dresses</td>\n",
       "      <td>Dresses</td>\n",
       "      <td>0.062409</td>\n",
       "      <td>0.338526</td>\n",
       "    </tr>\n",
       "    <tr>\n",
       "      <th>3</th>\n",
       "      <td>3</td>\n",
       "      <td>1049</td>\n",
       "      <td>50</td>\n",
       "      <td>My favorite buy!</td>\n",
       "      <td>love love love jumpsuit fun flirty fabulous every time wear get nothing great compliment</td>\n",
       "      <td>5</td>\n",
       "      <td>1</td>\n",
       "      <td>0</td>\n",
       "      <td>General Petite</td>\n",
       "      <td>Bottoms</td>\n",
       "      <td>Pants</td>\n",
       "      <td>0.500000</td>\n",
       "      <td>0.625000</td>\n",
       "    </tr>\n",
       "    <tr>\n",
       "      <th>4</th>\n",
       "      <td>4</td>\n",
       "      <td>847</td>\n",
       "      <td>47</td>\n",
       "      <td>Flattering shirt</td>\n",
       "      <td>shirt flattering due adjustable front tie perfect length wear legging sleeveless pair well cardigan love shirt</td>\n",
       "      <td>5</td>\n",
       "      <td>1</td>\n",
       "      <td>6</td>\n",
       "      <td>General</td>\n",
       "      <td>Tops</td>\n",
       "      <td>Blouses</td>\n",
       "      <td>0.458333</td>\n",
       "      <td>0.658333</td>\n",
       "    </tr>\n",
       "  </tbody>\n",
       "</table>\n",
       "</div>"
      ],
      "text/plain": [
       "   Unnamed: 0  Clothing ID  Age                    Title  \\\n",
       "0           0          767   33                      NaN   \n",
       "1           1         1080   34                      NaN   \n",
       "2           2         1077   60  Some major design flaws   \n",
       "3           3         1049   50         My favorite buy!   \n",
       "4           4          847   47         Flattering shirt   \n",
       "\n",
       "                                                                                                                                                                                                                                                                                                  Review Text  \\\n",
       "0                                                                                                                                                                                                                                                                 absolutely wonderful silky sexy comfortable   \n",
       "1                                                                                                                        love dress sooo pretty happened find store im glad bc never would ordered online bc petite bought petite love length hit little knee would definitely true midi someone truly petite   \n",
       "2  high hope dress really wanted work initially ordered petite small usual size found outrageously small small fact could zip reordered petite medium overall top half comfortable fit nicely bottom half tight layer several somewhat cheap net layer imo major design flaw net layer sewn directly zipper c   \n",
       "3                                                                                                                                                                                                                    love love love jumpsuit fun flirty fabulous every time wear get nothing great compliment   \n",
       "4                                                                                                                                                                                              shirt flattering due adjustable front tie perfect length wear legging sleeveless pair well cardigan love shirt   \n",
       "\n",
       "   Rating  Recommended IND  Positive Feedback Count   Division Name  \\\n",
       "0       4                1                        0       Initmates   \n",
       "1       5                1                        4         General   \n",
       "2       3                0                        0         General   \n",
       "3       5                1                        0  General Petite   \n",
       "4       5                1                        6         General   \n",
       "\n",
       "  Department Name Class Name  sentiment_score  subjectivity_score  \n",
       "0        Intimate  Intimates         0.633333            0.933333  \n",
       "1         Dresses    Dresses         0.318750            0.725000  \n",
       "2         Dresses    Dresses         0.062409            0.338526  \n",
       "3         Bottoms      Pants         0.500000            0.625000  \n",
       "4            Tops    Blouses         0.458333            0.658333  "
      ]
     },
     "execution_count": 76,
     "metadata": {},
     "output_type": "execute_result"
    }
   ],
   "source": [
    "clothingdf.head()"
   ]
  },
  {
   "cell_type": "code",
   "execution_count": 77,
   "id": "a2137037",
   "metadata": {},
   "outputs": [
    {
     "data": {
      "text/html": [
       "<div>\n",
       "<style scoped>\n",
       "    .dataframe tbody tr th:only-of-type {\n",
       "        vertical-align: middle;\n",
       "    }\n",
       "\n",
       "    .dataframe tbody tr th {\n",
       "        vertical-align: top;\n",
       "    }\n",
       "\n",
       "    .dataframe thead th {\n",
       "        text-align: right;\n",
       "    }\n",
       "</style>\n",
       "<table border=\"1\" class=\"dataframe\">\n",
       "  <thead>\n",
       "    <tr style=\"text-align: right;\">\n",
       "      <th></th>\n",
       "      <th>Unnamed: 0</th>\n",
       "      <th>Clothing ID</th>\n",
       "      <th>Age</th>\n",
       "      <th>Rating</th>\n",
       "      <th>Recommended IND</th>\n",
       "      <th>Positive Feedback Count</th>\n",
       "      <th>sentiment_score</th>\n",
       "      <th>subjectivity_score</th>\n",
       "    </tr>\n",
       "  </thead>\n",
       "  <tbody>\n",
       "    <tr>\n",
       "      <th>count</th>\n",
       "      <td>22628.000000</td>\n",
       "      <td>22628.000000</td>\n",
       "      <td>22628.000000</td>\n",
       "      <td>22628.000000</td>\n",
       "      <td>22628.000000</td>\n",
       "      <td>22628.000000</td>\n",
       "      <td>22628.000000</td>\n",
       "      <td>22628.000000</td>\n",
       "    </tr>\n",
       "    <tr>\n",
       "      <th>mean</th>\n",
       "      <td>11737.272097</td>\n",
       "      <td>919.695908</td>\n",
       "      <td>43.282880</td>\n",
       "      <td>4.183092</td>\n",
       "      <td>0.818764</td>\n",
       "      <td>2.631784</td>\n",
       "      <td>0.254708</td>\n",
       "      <td>0.562496</td>\n",
       "    </tr>\n",
       "    <tr>\n",
       "      <th>std</th>\n",
       "      <td>6781.574232</td>\n",
       "      <td>201.683804</td>\n",
       "      <td>12.328176</td>\n",
       "      <td>1.115911</td>\n",
       "      <td>0.385222</td>\n",
       "      <td>5.787520</td>\n",
       "      <td>0.173078</td>\n",
       "      <td>0.129355</td>\n",
       "    </tr>\n",
       "    <tr>\n",
       "      <th>min</th>\n",
       "      <td>0.000000</td>\n",
       "      <td>1.000000</td>\n",
       "      <td>18.000000</td>\n",
       "      <td>1.000000</td>\n",
       "      <td>0.000000</td>\n",
       "      <td>0.000000</td>\n",
       "      <td>-0.800000</td>\n",
       "      <td>0.000000</td>\n",
       "    </tr>\n",
       "    <tr>\n",
       "      <th>25%</th>\n",
       "      <td>5868.750000</td>\n",
       "      <td>861.000000</td>\n",
       "      <td>34.000000</td>\n",
       "      <td>4.000000</td>\n",
       "      <td>1.000000</td>\n",
       "      <td>0.000000</td>\n",
       "      <td>0.145566</td>\n",
       "      <td>0.482060</td>\n",
       "    </tr>\n",
       "    <tr>\n",
       "      <th>50%</th>\n",
       "      <td>11727.500000</td>\n",
       "      <td>936.000000</td>\n",
       "      <td>41.000000</td>\n",
       "      <td>5.000000</td>\n",
       "      <td>1.000000</td>\n",
       "      <td>1.000000</td>\n",
       "      <td>0.250000</td>\n",
       "      <td>0.558333</td>\n",
       "    </tr>\n",
       "    <tr>\n",
       "      <th>75%</th>\n",
       "      <td>17617.250000</td>\n",
       "      <td>1078.000000</td>\n",
       "      <td>52.000000</td>\n",
       "      <td>5.000000</td>\n",
       "      <td>1.000000</td>\n",
       "      <td>3.000000</td>\n",
       "      <td>0.358333</td>\n",
       "      <td>0.637500</td>\n",
       "    </tr>\n",
       "    <tr>\n",
       "      <th>max</th>\n",
       "      <td>23485.000000</td>\n",
       "      <td>1205.000000</td>\n",
       "      <td>99.000000</td>\n",
       "      <td>5.000000</td>\n",
       "      <td>1.000000</td>\n",
       "      <td>122.000000</td>\n",
       "      <td>1.000000</td>\n",
       "      <td>1.000000</td>\n",
       "    </tr>\n",
       "  </tbody>\n",
       "</table>\n",
       "</div>"
      ],
      "text/plain": [
       "         Unnamed: 0   Clothing ID           Age        Rating  \\\n",
       "count  22628.000000  22628.000000  22628.000000  22628.000000   \n",
       "mean   11737.272097    919.695908     43.282880      4.183092   \n",
       "std     6781.574232    201.683804     12.328176      1.115911   \n",
       "min        0.000000      1.000000     18.000000      1.000000   \n",
       "25%     5868.750000    861.000000     34.000000      4.000000   \n",
       "50%    11727.500000    936.000000     41.000000      5.000000   \n",
       "75%    17617.250000   1078.000000     52.000000      5.000000   \n",
       "max    23485.000000   1205.000000     99.000000      5.000000   \n",
       "\n",
       "       Recommended IND  Positive Feedback Count  sentiment_score  \\\n",
       "count     22628.000000             22628.000000     22628.000000   \n",
       "mean          0.818764                 2.631784         0.254708   \n",
       "std           0.385222                 5.787520         0.173078   \n",
       "min           0.000000                 0.000000        -0.800000   \n",
       "25%           1.000000                 0.000000         0.145566   \n",
       "50%           1.000000                 1.000000         0.250000   \n",
       "75%           1.000000                 3.000000         0.358333   \n",
       "max           1.000000               122.000000         1.000000   \n",
       "\n",
       "       subjectivity_score  \n",
       "count        22628.000000  \n",
       "mean             0.562496  \n",
       "std              0.129355  \n",
       "min              0.000000  \n",
       "25%              0.482060  \n",
       "50%              0.558333  \n",
       "75%              0.637500  \n",
       "max              1.000000  "
      ]
     },
     "execution_count": 77,
     "metadata": {},
     "output_type": "execute_result"
    }
   ],
   "source": [
    "clothingdf.describe()"
   ]
  },
  {
   "cell_type": "code",
   "execution_count": 81,
   "id": "82943477",
   "metadata": {},
   "outputs": [],
   "source": [
    "dep_groupby = clothingdf.groupby(['Department Name']).agg({'sentiment_score': 'mean'})"
   ]
  },
  {
   "cell_type": "code",
   "execution_count": 82,
   "id": "a4f2f226",
   "metadata": {},
   "outputs": [
    {
     "data": {
      "text/html": [
       "<div>\n",
       "<style scoped>\n",
       "    .dataframe tbody tr th:only-of-type {\n",
       "        vertical-align: middle;\n",
       "    }\n",
       "\n",
       "    .dataframe tbody tr th {\n",
       "        vertical-align: top;\n",
       "    }\n",
       "\n",
       "    .dataframe thead th {\n",
       "        text-align: right;\n",
       "    }\n",
       "</style>\n",
       "<table border=\"1\" class=\"dataframe\">\n",
       "  <thead>\n",
       "    <tr style=\"text-align: right;\">\n",
       "      <th></th>\n",
       "      <th>sentiment_score</th>\n",
       "    </tr>\n",
       "    <tr>\n",
       "      <th>Department Name</th>\n",
       "      <th></th>\n",
       "    </tr>\n",
       "  </thead>\n",
       "  <tbody>\n",
       "    <tr>\n",
       "      <th>Bottoms</th>\n",
       "      <td>0.254660</td>\n",
       "    </tr>\n",
       "    <tr>\n",
       "      <th>Dresses</th>\n",
       "      <td>0.256695</td>\n",
       "    </tr>\n",
       "    <tr>\n",
       "      <th>Intimate</th>\n",
       "      <td>0.253195</td>\n",
       "    </tr>\n",
       "    <tr>\n",
       "      <th>Jackets</th>\n",
       "      <td>0.241503</td>\n",
       "    </tr>\n",
       "    <tr>\n",
       "      <th>Tops</th>\n",
       "      <td>0.255577</td>\n",
       "    </tr>\n",
       "    <tr>\n",
       "      <th>Trend</th>\n",
       "      <td>0.211939</td>\n",
       "    </tr>\n",
       "  </tbody>\n",
       "</table>\n",
       "</div>"
      ],
      "text/plain": [
       "                 sentiment_score\n",
       "Department Name                 \n",
       "Bottoms                 0.254660\n",
       "Dresses                 0.256695\n",
       "Intimate                0.253195\n",
       "Jackets                 0.241503\n",
       "Tops                    0.255577\n",
       "Trend                   0.211939"
      ]
     },
     "execution_count": 82,
     "metadata": {},
     "output_type": "execute_result"
    }
   ],
   "source": [
    "dep_groupby"
   ]
  },
  {
   "cell_type": "markdown",
   "id": "73bc754f",
   "metadata": {},
   "source": [
    "# Activity 3 - Spacy"
   ]
  },
  {
   "cell_type": "code",
   "execution_count": 84,
   "id": "98756e0d",
   "metadata": {},
   "outputs": [],
   "source": [
    "import spacy"
   ]
  },
  {
   "cell_type": "code",
   "execution_count": 85,
   "id": "115e7ae1",
   "metadata": {},
   "outputs": [
    {
     "ename": "OSError",
     "evalue": "[E050] Can't find model 'en_core_web_trf'. It doesn't seem to be a Python package or a valid path to a data directory.",
     "output_type": "error",
     "traceback": [
      "\u001b[0;31m---------------------------------------------------------------------------\u001b[0m",
      "\u001b[0;31mOSError\u001b[0m                                   Traceback (most recent call last)",
      "\u001b[0;32m/var/folders/yw/kfrh__c16y32fwr4ddxqhybm0000gp/T/ipykernel_1995/2889524360.py\u001b[0m in \u001b[0;36m<module>\u001b[0;34m\u001b[0m\n\u001b[0;32m----> 1\u001b[0;31m \u001b[0mnlp\u001b[0m \u001b[0;34m=\u001b[0m \u001b[0mspacy\u001b[0m\u001b[0;34m.\u001b[0m\u001b[0mload\u001b[0m\u001b[0;34m(\u001b[0m\u001b[0;34m'en_core_web_trf'\u001b[0m\u001b[0;34m)\u001b[0m\u001b[0;34m\u001b[0m\u001b[0;34m\u001b[0m\u001b[0m\n\u001b[0m",
      "\u001b[0;32m/Applications/anaconda3/envs/bootcamp/lib/python3.9/site-packages/spacy/__init__.py\u001b[0m in \u001b[0;36mload\u001b[0;34m(name, vocab, disable, exclude, config)\u001b[0m\n\u001b[1;32m     49\u001b[0m     \u001b[0mRETURNS\u001b[0m \u001b[0;34m(\u001b[0m\u001b[0mLanguage\u001b[0m\u001b[0;34m)\u001b[0m\u001b[0;34m:\u001b[0m \u001b[0mThe\u001b[0m \u001b[0mloaded\u001b[0m \u001b[0mnlp\u001b[0m \u001b[0mobject\u001b[0m\u001b[0;34m.\u001b[0m\u001b[0;34m\u001b[0m\u001b[0;34m\u001b[0m\u001b[0m\n\u001b[1;32m     50\u001b[0m     \"\"\"\n\u001b[0;32m---> 51\u001b[0;31m     return util.load_model(\n\u001b[0m\u001b[1;32m     52\u001b[0m         \u001b[0mname\u001b[0m\u001b[0;34m,\u001b[0m \u001b[0mvocab\u001b[0m\u001b[0;34m=\u001b[0m\u001b[0mvocab\u001b[0m\u001b[0;34m,\u001b[0m \u001b[0mdisable\u001b[0m\u001b[0;34m=\u001b[0m\u001b[0mdisable\u001b[0m\u001b[0;34m,\u001b[0m \u001b[0mexclude\u001b[0m\u001b[0;34m=\u001b[0m\u001b[0mexclude\u001b[0m\u001b[0;34m,\u001b[0m \u001b[0mconfig\u001b[0m\u001b[0;34m=\u001b[0m\u001b[0mconfig\u001b[0m\u001b[0;34m\u001b[0m\u001b[0;34m\u001b[0m\u001b[0m\n\u001b[1;32m     53\u001b[0m     )\n",
      "\u001b[0;32m/Applications/anaconda3/envs/bootcamp/lib/python3.9/site-packages/spacy/util.py\u001b[0m in \u001b[0;36mload_model\u001b[0;34m(name, vocab, disable, exclude, config)\u001b[0m\n\u001b[1;32m    425\u001b[0m     \u001b[0;32mif\u001b[0m \u001b[0mname\u001b[0m \u001b[0;32min\u001b[0m \u001b[0mOLD_MODEL_SHORTCUTS\u001b[0m\u001b[0;34m:\u001b[0m\u001b[0;34m\u001b[0m\u001b[0;34m\u001b[0m\u001b[0m\n\u001b[1;32m    426\u001b[0m         \u001b[0;32mraise\u001b[0m \u001b[0mIOError\u001b[0m\u001b[0;34m(\u001b[0m\u001b[0mErrors\u001b[0m\u001b[0;34m.\u001b[0m\u001b[0mE941\u001b[0m\u001b[0;34m.\u001b[0m\u001b[0mformat\u001b[0m\u001b[0;34m(\u001b[0m\u001b[0mname\u001b[0m\u001b[0;34m=\u001b[0m\u001b[0mname\u001b[0m\u001b[0;34m,\u001b[0m \u001b[0mfull\u001b[0m\u001b[0;34m=\u001b[0m\u001b[0mOLD_MODEL_SHORTCUTS\u001b[0m\u001b[0;34m[\u001b[0m\u001b[0mname\u001b[0m\u001b[0;34m]\u001b[0m\u001b[0;34m)\u001b[0m\u001b[0;34m)\u001b[0m  \u001b[0;31m# type: ignore[index]\u001b[0m\u001b[0;34m\u001b[0m\u001b[0;34m\u001b[0m\u001b[0m\n\u001b[0;32m--> 427\u001b[0;31m     \u001b[0;32mraise\u001b[0m \u001b[0mIOError\u001b[0m\u001b[0;34m(\u001b[0m\u001b[0mErrors\u001b[0m\u001b[0;34m.\u001b[0m\u001b[0mE050\u001b[0m\u001b[0;34m.\u001b[0m\u001b[0mformat\u001b[0m\u001b[0;34m(\u001b[0m\u001b[0mname\u001b[0m\u001b[0;34m=\u001b[0m\u001b[0mname\u001b[0m\u001b[0;34m)\u001b[0m\u001b[0;34m)\u001b[0m\u001b[0;34m\u001b[0m\u001b[0;34m\u001b[0m\u001b[0m\n\u001b[0m\u001b[1;32m    428\u001b[0m \u001b[0;34m\u001b[0m\u001b[0m\n\u001b[1;32m    429\u001b[0m \u001b[0;34m\u001b[0m\u001b[0m\n",
      "\u001b[0;31mOSError\u001b[0m: [E050] Can't find model 'en_core_web_trf'. It doesn't seem to be a Python package or a valid path to a data directory."
     ]
    }
   ],
   "source": [
    "nlp = spacy.load('en_core_web_trf')"
   ]
  },
  {
   "cell_type": "code",
   "execution_count": null,
   "id": "a5b45335",
   "metadata": {},
   "outputs": [],
   "source": [
    "tweets = pd.read_csv('data/ever_trump.csv')"
   ]
  },
  {
   "cell_type": "code",
   "execution_count": null,
   "id": "a9904f46",
   "metadata": {},
   "outputs": [],
   "source": [
    "tokens = nlp."
   ]
  },
  {
   "cell_type": "code",
   "execution_count": null,
   "id": "02017466",
   "metadata": {},
   "outputs": [],
   "source": [
    "len(tokens)"
   ]
  }
 ],
 "metadata": {
  "kernelspec": {
   "display_name": "Python 3 (ipykernel)",
   "language": "python",
   "name": "python3"
  },
  "language_info": {
   "codemirror_mode": {
    "name": "ipython",
    "version": 3
   },
   "file_extension": ".py",
   "mimetype": "text/x-python",
   "name": "python",
   "nbconvert_exporter": "python",
   "pygments_lexer": "ipython3",
   "version": "3.9.12"
  },
  "toc": {
   "base_numbering": 1,
   "nav_menu": {},
   "number_sections": true,
   "sideBar": true,
   "skip_h1_title": false,
   "title_cell": "Table of Contents",
   "title_sidebar": "Contents",
   "toc_cell": false,
   "toc_position": {},
   "toc_section_display": true,
   "toc_window_display": false
  }
 },
 "nbformat": 4,
 "nbformat_minor": 5
}
