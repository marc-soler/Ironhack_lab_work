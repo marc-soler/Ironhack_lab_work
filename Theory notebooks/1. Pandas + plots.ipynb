{
 "cells": [
  {
   "cell_type": "code",
   "execution_count": null,
   "id": "f137570b",
   "metadata": {},
   "outputs": [],
   "source": [
    "import pandas as pd\n",
    "import numpy as np"
   ]
  },
  {
   "cell_type": "code",
   "execution_count": null,
   "id": "faf19a63",
   "metadata": {},
   "outputs": [],
   "source": [
    "file1 = pd.read_csv('/Users/marcsoler/Documents/GitHub/Ironhack_lab_work/Case Studies/Week 1/H4A/data/file1.csv')\n",
    "file2 = pd.read_csv('/Users/marcsoler/Documents/GitHub/Ironhack_lab_work/Case Studies/Week 1/H4A/data/file2.txt', sep='\\t')\n",
    "file3 = pd.read_excel('/Users/marcsoler/Documents/GitHub/Ironhack_lab_work/Case Studies/Week 1/H4A/data/file3.xlsx')\n",
    "file4 = pd.read_excel('/Users/marcsoler/Documents/GitHub/Ironhack_lab_work/Case Studies/Week 1/H4A/data/file4.xlsx')"
   ]
  },
  {
   "cell_type": "markdown",
   "id": "eee58e5c",
   "metadata": {},
   "source": [
    "# File description"
   ]
  },
  {
   "cell_type": "code",
   "execution_count": null,
   "id": "f1180a0a",
   "metadata": {
    "scrolled": true
   },
   "outputs": [],
   "source": [
    "file1.describe()"
   ]
  },
  {
   "cell_type": "code",
   "execution_count": null,
   "id": "9da2eb87",
   "metadata": {},
   "outputs": [],
   "source": [
    "file1.tail(10)\n",
    "#check for fitness of index number at the end."
   ]
  },
  {
   "cell_type": "code",
   "execution_count": null,
   "id": "24e2d3ed",
   "metadata": {
    "scrolled": true
   },
   "outputs": [],
   "source": [
    "file2.tail(10)"
   ]
  },
  {
   "cell_type": "code",
   "execution_count": null,
   "id": "920c0576",
   "metadata": {},
   "outputs": [],
   "source": [
    "file2['GENDER'].unique()"
   ]
  },
  {
   "cell_type": "code",
   "execution_count": null,
   "id": "8f256727",
   "metadata": {
    "scrolled": true
   },
   "outputs": [],
   "source": [
    "file1.info()"
   ]
  },
  {
   "cell_type": "code",
   "execution_count": null,
   "id": "4dec1c2a",
   "metadata": {
    "scrolled": true
   },
   "outputs": [],
   "source": [
    "file2.info()"
   ]
  },
  {
   "cell_type": "code",
   "execution_count": null,
   "id": "ded71edc",
   "metadata": {},
   "outputs": [],
   "source": [
    "file3.info()"
   ]
  },
  {
   "cell_type": "code",
   "execution_count": null,
   "id": "1d3e0e4d",
   "metadata": {},
   "outputs": [],
   "source": [
    "file4.info()"
   ]
  },
  {
   "cell_type": "markdown",
   "id": "3ab685e4",
   "metadata": {},
   "source": [
    "## notes to return to later\n",
    "- missing a lot of gender values\n",
    "- lots of zeroes showing in columns\n",
    "- dtypes discrepancies, especially in CONTROLN\n",
    "- occsasional missing values"
   ]
  },
  {
   "cell_type": "markdown",
   "id": "11eb6792",
   "metadata": {},
   "source": [
    "# Merging the dataframes with concat()"
   ]
  },
  {
   "cell_type": "code",
   "execution_count": null,
   "id": "d2178255",
   "metadata": {},
   "outputs": [],
   "source": [
    "data = pd.concat([file1, file2, file3, file4], axis=0, ignore_index=True)\n",
    "#after doing concat or removing rows we need to reset the index. In this case, we did it in the concat function.\n",
    "#the above is the same as .reset_index()"
   ]
  },
  {
   "cell_type": "code",
   "execution_count": null,
   "id": "e115d8a8",
   "metadata": {},
   "outputs": [],
   "source": [
    "data"
   ]
  },
  {
   "cell_type": "code",
   "execution_count": null,
   "id": "adbb2554",
   "metadata": {},
   "outputs": [],
   "source": [
    "data.info()"
   ]
  },
  {
   "cell_type": "markdown",
   "id": "fcb2dac2",
   "metadata": {},
   "source": [
    "# Basic cleaning of the dataframe"
   ]
  },
  {
   "cell_type": "markdown",
   "id": "faa7aab1",
   "metadata": {},
   "source": [
    "## Changing the headers into lower case"
   ]
  },
  {
   "cell_type": "code",
   "execution_count": null,
   "id": "51c7f0a6",
   "metadata": {},
   "outputs": [],
   "source": [
    "cols = []\n",
    "for i in range(len(data.columns)):\n",
    "    cols.append(data.columns[i].lower())\n",
    "data.columns = cols\n",
    "data.columns"
   ]
  },
  {
   "cell_type": "markdown",
   "id": "c2a21196",
   "metadata": {},
   "source": [
    "## Drop useless columns"
   ]
  },
  {
   "cell_type": "code",
   "execution_count": null,
   "id": "27d789e8",
   "metadata": {},
   "outputs": [],
   "source": [
    "datanew = data.drop(['controln', 'pobc2'], axis = 1)"
   ]
  },
  {
   "cell_type": "code",
   "execution_count": null,
   "id": "8723055d",
   "metadata": {},
   "outputs": [],
   "source": [
    "datanew.info()"
   ]
  },
  {
   "cell_type": "markdown",
   "id": "707b7aec",
   "metadata": {},
   "source": [
    "## Renaming columns to be more meaninful"
   ]
  },
  {
   "cell_type": "code",
   "execution_count": null,
   "id": "f1e183e1",
   "metadata": {},
   "outputs": [],
   "source": [
    "new_names = {\n",
    "    'hv1': 'medianhv',\n",
    "    'ic5': 'percapita',\n",
    "}\n",
    "data.rename(columns=new_names, inplace=True)\n",
    "data.head()"
   ]
  },
  {
   "cell_type": "markdown",
   "id": "9419b8aa",
   "metadata": {},
   "source": [
    "## Looking into datatypes\n",
    "- controln should be object\n",
    "- hv1 should be float\n",
    "- ic5 should be float\n",
    "- dob should be date"
   ]
  },
  {
   "cell_type": "code",
   "execution_count": null,
   "id": "264eaa1e",
   "metadata": {
    "scrolled": false
   },
   "outputs": [],
   "source": [
    "data.dtypes"
   ]
  },
  {
   "cell_type": "code",
   "execution_count": null,
   "id": "0f8d9235",
   "metadata": {},
   "outputs": [],
   "source": [
    "data['medianhv'] = pd.to_numeric(data['medianhv'], errors='coerce')\n",
    "data['percapita'] = pd.to_numeric(data['percapita'], errors='coerce')"
   ]
  },
  {
   "cell_type": "code",
   "execution_count": null,
   "id": "bc843c59",
   "metadata": {},
   "outputs": [],
   "source": [
    "data.info()"
   ]
  },
  {
   "cell_type": "markdown",
   "id": "2c525a0e",
   "metadata": {},
   "source": [
    "## Searching for and eliminating duplicates"
   ]
  },
  {
   "cell_type": "code",
   "execution_count": null,
   "id": "081aa599",
   "metadata": {},
   "outputs": [],
   "source": [
    "data = data.drop_duplicates()\n",
    "# without any arguments, it drops full duplicated rows."
   ]
  },
  {
   "cell_type": "markdown",
   "id": "c5d61891",
   "metadata": {},
   "source": [
    "# Filter and query data in a dataframe"
   ]
  },
  {
   "cell_type": "code",
   "execution_count": null,
   "id": "be7f0e5b",
   "metadata": {},
   "outputs": [],
   "source": [
    "# Method 1: query\n",
    "data.query('gender == \"F\" & state==\"CA\"')"
   ]
  },
  {
   "cell_type": "code",
   "execution_count": null,
   "id": "257d47b9",
   "metadata": {},
   "outputs": [],
   "source": [
    "# Method 2: using tilde symbol ~ to do inverse filtering\n",
    "female_genders = ['F', 'f', 'FEMALE','female', 'feamale']\n",
    "data[~data.gender.isin(female_genders)]"
   ]
  },
  {
   "cell_type": "code",
   "execution_count": null,
   "id": "cac6fbff",
   "metadata": {},
   "outputs": [],
   "source": [
    "# Method 3: iloc (by index)\n",
    "data.iloc[4:6] #plus rows, columns, lists as parameters"
   ]
  },
  {
   "cell_type": "code",
   "execution_count": null,
   "id": "bdf1256e",
   "metadata": {},
   "outputs": [],
   "source": [
    "# Method 4: loc (by name)\n",
    "data.loc[data['gender'] == 'F']"
   ]
  },
  {
   "cell_type": "code",
   "execution_count": null,
   "id": "9e74b498",
   "metadata": {
    "scrolled": true
   },
   "outputs": [],
   "source": [
    "# Method 5: using brackets and criteria (allows to mix string and number filters)\n",
    "data[(data['state']=='FL')&(data['gender']=='M')&(data['ic1']>300)]"
   ]
  },
  {
   "cell_type": "code",
   "execution_count": null,
   "id": "b756afac",
   "metadata": {
    "scrolled": true
   },
   "outputs": [],
   "source": [
    "# Method 6: .filter()\n",
    "data.filter(items=['state', 'gender'], axis=1)"
   ]
  },
  {
   "cell_type": "markdown",
   "id": "fd9750f5",
   "metadata": {},
   "source": [
    "# Dealing with NULLS"
   ]
  },
  {
   "cell_type": "code",
   "execution_count": null,
   "id": "c26bffa0",
   "metadata": {},
   "outputs": [],
   "source": [
    "#snapshot table for handling nulls\n",
    "nulls_df = pd.DataFrame(round(data.isna().sum()/len(data), 4) * 100)\n",
    "nulls_df = nulls_df.rename(columns={'index':'header', 0: 'prop_nulls'})\n",
    "nulls_df.index.name = 'header'\n",
    "nulls_df"
   ]
  },
  {
   "cell_type": "markdown",
   "id": "73dde2f3",
   "metadata": {},
   "source": [
    "## Filling the gender column with 'unknown'"
   ]
  },
  {
   "cell_type": "code",
   "execution_count": null,
   "id": "19ee5152",
   "metadata": {},
   "outputs": [],
   "source": [
    "data['gender'] = data['gender'].fillna('Unknown')\n",
    "# check it has worked: data[data['gender'].isna()==True]"
   ]
  },
  {
   "cell_type": "code",
   "execution_count": null,
   "id": "9fc75d43",
   "metadata": {},
   "outputs": [],
   "source": [
    "data['gender'].value_counts()"
   ]
  },
  {
   "cell_type": "markdown",
   "id": "ffae5b87",
   "metadata": {},
   "source": [
    "## Filling the medianhv with the column's median"
   ]
  },
  {
   "cell_type": "code",
   "execution_count": null,
   "id": "7d2ff4f1",
   "metadata": {},
   "outputs": [],
   "source": [
    "# First we compute the median of the column and set is as a variable\n",
    "med_hv1 = data['medianhv'].median()\n",
    "# Then, we fill the nulls with the computed median\n",
    "data['medianhv'] = data['medianhv'].fillna(med_hv1)"
   ]
  },
  {
   "cell_type": "code",
   "execution_count": null,
   "id": "ad503185",
   "metadata": {},
   "outputs": [],
   "source": [
    "data.info()"
   ]
  },
  {
   "cell_type": "markdown",
   "id": "c0c8cb2d",
   "metadata": {},
   "source": [
    "## Dropping the rest of NULL values"
   ]
  },
  {
   "cell_type": "code",
   "execution_count": null,
   "id": "47ed427e",
   "metadata": {},
   "outputs": [],
   "source": [
    "# data = data.dropna(subset=['percapita'])\n",
    "data = data.dropna()\n",
    "# After dropping nulls, always reset index\n",
    "data.reset_index(drop=True, inplace=True)"
   ]
  },
  {
   "cell_type": "code",
   "execution_count": null,
   "id": "f114ac11",
   "metadata": {},
   "outputs": [],
   "source": [
    "data.info()"
   ]
  },
  {
   "cell_type": "markdown",
   "id": "c74cbe3a",
   "metadata": {},
   "source": [
    "# Data quality issues - standardise the values in..."
   ]
  },
  {
   "cell_type": "code",
   "execution_count": null,
   "id": "a5ac14de",
   "metadata": {},
   "outputs": [],
   "source": [
    "# gender\n",
    "data['gender'] = data['gender'].str.title() #we eliminate some of the options by standardising the capitalisation.\n",
    "data['gender'].value_counts()"
   ]
  },
  {
   "cell_type": "code",
   "execution_count": null,
   "id": "23ab2bc1",
   "metadata": {},
   "outputs": [],
   "source": [
    "# It can be done with a dictionary or a logical approach (if statements)\n",
    "def clean_gender(x):\n",
    "    if x in ['M', 'Male']:\n",
    "        return 'Male'\n",
    "    elif x in ['F', 'Female', 'Feamale']:\n",
    "        return 'Female'\n",
    "    else:\n",
    "        return 'Unknown'"
   ]
  },
  {
   "cell_type": "code",
   "execution_count": null,
   "id": "d3ed0956",
   "metadata": {},
   "outputs": [],
   "source": [
    "# list + map\n",
    "data['gender'] = list(map(clean_gender, data['gender']))"
   ]
  },
  {
   "cell_type": "code",
   "execution_count": null,
   "id": "5e2b23aa",
   "metadata": {},
   "outputs": [],
   "source": [
    "data['gender'].value_counts()"
   ]
  },
  {
   "cell_type": "markdown",
   "id": "dce7d0cc",
   "metadata": {},
   "source": [
    "# Lambda + list(map)"
   ]
  },
  {
   "cell_type": "code",
   "execution_count": null,
   "id": "d0083705",
   "metadata": {},
   "outputs": [],
   "source": [
    "# Lambda is an anonymous function (no name). It's quick, but don't use if complex\n",
    "y = lambda x: x+2\n",
    "y(100)"
   ]
  },
  {
   "cell_type": "code",
   "execution_count": null,
   "id": "0d5c534a",
   "metadata": {},
   "outputs": [],
   "source": [
    "# Using lambda to upper case a column\n",
    "map(lambda x: x.upper(), data['gender'])\n",
    "# The same could be done with string, a function, a for loop or a list comprehension"
   ]
  },
  {
   "cell_type": "code",
   "execution_count": null,
   "id": "730e6961",
   "metadata": {},
   "outputs": [],
   "source": [
    "# square lambda to these numbers\n",
    "num = [1, 2, 3, 4, 5, 6]\n",
    "sq = lambda x: x**2\n",
    "map(sq, num)\n",
    "\n",
    "# list comprehension\n",
    "sq_num = [x**2 for x in num]"
   ]
  },
  {
   "cell_type": "markdown",
   "id": "4fb40bcc",
   "metadata": {},
   "source": [
    "# Date and time"
   ]
  },
  {
   "cell_type": "code",
   "execution_count": null,
   "id": "24fb33fa",
   "metadata": {},
   "outputs": [],
   "source": [
    "import time\n",
    "from datetime import date\n",
    "datae = pd.read_csv('/Users/marcsoler/Documents/GitHub/BCNDATA0122/ClassMaterials/Week1/Day3pandas/air_quality_no2_long.csv')\n"
   ]
  },
  {
   "cell_type": "code",
   "execution_count": null,
   "id": "3db3ef0e",
   "metadata": {},
   "outputs": [],
   "source": [
    "datae.head()"
   ]
  },
  {
   "cell_type": "code",
   "execution_count": null,
   "id": "51beb06b",
   "metadata": {},
   "outputs": [],
   "source": [
    "# Parse date.utc field into DATE TYPE\n",
    "datae['date.utc'] = pd.to_datetime(datae['date.utc'], errors='coerce') #to_date if we don't have time info.\n",
    "datae.info()"
   ]
  },
  {
   "cell_type": "code",
   "execution_count": null,
   "id": "a98b8800",
   "metadata": {},
   "outputs": [],
   "source": [
    "# Isolate parts of the date - pull out the day, month, hour...\n",
    "datae['weekday'] = pd.DatetimeIndex(datae['date.utc']).weekday\n",
    "datae.head(10)"
   ]
  },
  {
   "cell_type": "code",
   "execution_count": null,
   "id": "0802bdcb",
   "metadata": {},
   "outputs": [],
   "source": [
    "datae['weekday'] = datae['date.utc'].dt.strftime('%a')\n",
    "datae.head()"
   ]
  },
  {
   "cell_type": "code",
   "execution_count": null,
   "id": "672be615",
   "metadata": {},
   "outputs": [],
   "source": [
    "# Creating a new column for date only and another for the hour\n",
    "datae['date'] = datae['date.utc'].dt.strftime('%d/%m/%Y')\n",
    "datae['hour'] = datae['date.utc'].dt.strftime('%H')"
   ]
  },
  {
   "cell_type": "code",
   "execution_count": null,
   "id": "70aba429",
   "metadata": {},
   "outputs": [],
   "source": [
    "datae.head()"
   ]
  },
  {
   "cell_type": "code",
   "execution_count": null,
   "id": "065a0d5a",
   "metadata": {},
   "outputs": [],
   "source": [
    "date.today()"
   ]
  },
  {
   "cell_type": "code",
   "execution_count": null,
   "id": "b4f7610d",
   "metadata": {},
   "outputs": [],
   "source": [
    "time.localtime()"
   ]
  },
  {
   "cell_type": "markdown",
   "id": "6684cef1",
   "metadata": {},
   "source": [
    "# Exploring and describing data\n",
    "- Understanding the data in terms of the spread, variation, noisiness  \n",
    "- Mean, median, mode: what they mean in each column  \n",
    "- Understanding the frequency of values  \n",
    "- Bucketing"
   ]
  },
  {
   "cell_type": "markdown",
   "id": "2287e20d",
   "metadata": {},
   "source": [
    "**Useful functions:**\n",
    "describe()  \n",
    "info()  \n",
    "shape  \n",
    "unique()  \n",
    "value_counts()  \n",
    "tail()  \n",
    "head()  \n",
    "nunique()  \n",
    "nsmallest() nlargest()  \n",
    "groupby().agg()  "
   ]
  },
  {
   "cell_type": "code",
   "execution_count": null,
   "id": "87abcb8a",
   "metadata": {},
   "outputs": [],
   "source": [
    "datae.describe(include=[object]) # Includes the object data type."
   ]
  },
  {
   "cell_type": "code",
   "execution_count": null,
   "id": "d1505eab",
   "metadata": {},
   "outputs": [],
   "source": [
    "# groupby pivot fields () and a value column [literally value here] and then we can apply some calculations.\n",
    "city_summary = datae.groupby('city')['value'].mean().sort_values()\n",
    "city_summary"
   ]
  },
  {
   "cell_type": "code",
   "execution_count": null,
   "id": "39507c6c",
   "metadata": {},
   "outputs": [],
   "source": [
    "hour_summary = datae.groupby('hour')['value'].mean().sort_values()\n",
    "hour_summary"
   ]
  },
  {
   "cell_type": "code",
   "execution_count": null,
   "id": "6d074a9a",
   "metadata": {},
   "outputs": [],
   "source": [
    "type(hour_summary)"
   ]
  },
  {
   "cell_type": "code",
   "execution_count": null,
   "id": "522cbed7",
   "metadata": {},
   "outputs": [],
   "source": [
    "city_hour_summary = datae.groupby(['city','hour']).agg('mean').sort_values(by=['city', 'value'])\n",
    "city_hour_summary.tail(30)"
   ]
  },
  {
   "cell_type": "code",
   "execution_count": null,
   "id": "cd392127",
   "metadata": {},
   "outputs": [],
   "source": [
    "type(city_hour_summary)"
   ]
  },
  {
   "cell_type": "markdown",
   "id": "5c16c816",
   "metadata": {},
   "source": [
    "# Visual descriptive analysis (Exploratory Descriptive Analysis)"
   ]
  },
  {
   "cell_type": "code",
   "execution_count": null,
   "id": "7662def7",
   "metadata": {},
   "outputs": [],
   "source": [
    "import seaborn as sns\n",
    "import matplotlib.pyplot as plt\n",
    "%matplotlib inline \n",
    "# or plt.show() to make vizez appear embedded in the notebook"
   ]
  },
  {
   "cell_type": "code",
   "execution_count": null,
   "id": "aad363da",
   "metadata": {},
   "outputs": [],
   "source": [
    "# default python plotting\n",
    "datae['city'].value_counts().plot(kind='bar', color='purple')"
   ]
  },
  {
   "cell_type": "code",
   "execution_count": null,
   "id": "493cef6a",
   "metadata": {},
   "outputs": [],
   "source": [
    "datae['hour'].value_counts().plot(kind='bar', color='red')"
   ]
  },
  {
   "cell_type": "code",
   "execution_count": null,
   "id": "6901c465",
   "metadata": {},
   "outputs": [],
   "source": [
    "plt.scatter(x=datae['hour'], y=datae['value'])"
   ]
  },
  {
   "cell_type": "code",
   "execution_count": null,
   "id": "778c2cb1",
   "metadata": {},
   "outputs": [],
   "source": [
    "sns.catplot(data=datae, x='hour', y='value', hue='city', palette='dark')"
   ]
  },
  {
   "cell_type": "code",
   "execution_count": null,
   "id": "258da7e7",
   "metadata": {},
   "outputs": [],
   "source": [
    "paris = datae.query('city==\"Paris\"')"
   ]
  },
  {
   "cell_type": "code",
   "execution_count": null,
   "id": "07369569",
   "metadata": {},
   "outputs": [],
   "source": [
    "plt.figure(figsize=(12,8))\n",
    "plt.plot(paris['date'], paris['value'])\n",
    "plt.title('Air pollution in Paris over time')\n",
    "plt.xlabel('date')\n",
    "plt.ylabel('no2 level')"
   ]
  },
  {
   "cell_type": "code",
   "execution_count": null,
   "id": "a74ac197",
   "metadata": {},
   "outputs": [],
   "source": []
  }
 ],
 "metadata": {
  "kernelspec": {
   "display_name": "Python 3 (ipykernel)",
   "language": "python",
   "name": "python3"
  },
  "language_info": {
   "codemirror_mode": {
    "name": "ipython",
    "version": 3
   },
   "file_extension": ".py",
   "mimetype": "text/x-python",
   "name": "python",
   "nbconvert_exporter": "python",
   "pygments_lexer": "ipython3",
   "version": "3.9.7"
  },
  "toc": {
   "base_numbering": 1,
   "nav_menu": {},
   "number_sections": true,
   "sideBar": true,
   "skip_h1_title": false,
   "title_cell": "Table of Contents",
   "title_sidebar": "Contents",
   "toc_cell": false,
   "toc_position": {
    "height": "calc(100% - 180px)",
    "left": "10px",
    "top": "150px",
    "width": "256px"
   },
   "toc_section_display": true,
   "toc_window_display": true
  }
 },
 "nbformat": 4,
 "nbformat_minor": 5
}
